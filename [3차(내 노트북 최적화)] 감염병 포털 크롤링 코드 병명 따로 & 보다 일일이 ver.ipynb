{
 "cells": [
  {
   "cell_type": "markdown",
   "id": "89023319",
   "metadata": {},
   "source": [
    "# 에볼라 강동 2011-10-01 부터 시작"
   ]
  },
  {
   "cell_type": "code",
   "execution_count": 1,
   "id": "1b2b4425",
   "metadata": {},
   "outputs": [],
   "source": [
    "# 열린 크롬창 내에 csv 버튼까지 보이게끔 해둬야 코드가 실행됨.\n",
    "\n",
    "# 밑에 다운로드 한 이력이 있으면 안돌아감.\n",
    "\n",
    "# 화면 크기 100%에서 줄이지 말기..."
   ]
  },
  {
   "cell_type": "markdown",
   "id": "bf0ffca0",
   "metadata": {},
   "source": [
    "# 크롤링을 하려면 selenium, chromedriver, urllib이 필수적으로 필요하다.\n",
    "\n",
    "chromedriver의 경우 Only local connections are allowed. 라는 이슈가 있기에, 서버에서는 사용 불가능하다. <br>\n",
    "그리고 일반 크롬과 버전이 맞아야 사용 가능하므로, 사용전에 버전 확인을 하는 것이 좋다. <br>\n",
    "따로 버전 확인을 하지 않더라도 에러가 다 알려주니 크게 신경쓰지 않아도 됨. <br>\n",
    "\n",
    "[chromedriver.exe 다운받는 경로](https://chromedriver.chromium.org/downloads) <br>\n",
    "\n",
    "(현재 주피터를 실행하는 경로에) 현재 내 pc의 chrome과 버전이 동일한 chromedriver.exe가 깔려만 있으면 잘 실행됨."
   ]
  },
  {
   "cell_type": "code",
   "execution_count": 1,
   "id": "2a290b2f",
   "metadata": {},
   "outputs": [],
   "source": [
    "import sys, os\n",
    "import requests #(네이버) api 이용할 때 쓰는 패키지\n",
    "import selenium #크롤링 패키지\n",
    "\n",
    "# selenium의 webdriver를 사용하기 위한 import\n",
    "from selenium import webdriver\n",
    "\n",
    "# selenium으로 무엇인가 입력하기 위한 import\n",
    "from selenium.webdriver.common.keys import Keys\n",
    "#\n",
    "\n",
    "from pandas import DataFrame\n",
    "from bs4 import BeautifulSoup #크롤링 패키지\n",
    "import re #정규식 표현 모듈\n",
    "from datetime import datetime\n",
    "import pickle, progressbar, json, glob, time #pickle: 객체를 파일로 저장해주는 모듈, progressbar: 진행표시 바, json: 네이버 api, glob: 파일들 리스트 뽑을 때 사용\n",
    "# https://wikidocs.net/83\n",
    "from tqdm import tqdm #진행표시바\n",
    "#\n",
    "\n",
    "from selenium.webdriver.support import expected_conditions as EC\n",
    "from selenium.webdriver.common.by import By\n",
    "from selenium.webdriver.support.ui import WebDriverWait\n",
    "from selenium.webdriver.common.action_chains import ActionChains\n",
    "\n",
    "import numpy as np\n",
    "\n",
    "import urllib.request #파싱을 위한 모듈\n",
    "\n",
    "from IPython.core.interactiveshell import InteractiveShell\n",
    "InteractiveShell.ast_node_interactivity = \"all\""
   ]
  },
  {
   "cell_type": "markdown",
   "id": "70b7d978",
   "metadata": {},
   "source": [
    "# 크롬창 열기"
   ]
  },
  {
   "cell_type": "code",
   "execution_count": 2,
   "id": "ffeedd6f",
   "metadata": {},
   "outputs": [
    {
     "name": "stdout",
     "output_type": "stream",
     "text": [
      "브라우저를 실행시킵니다(자동 제어)\n",
      "\n"
     ]
    }
   ],
   "source": [
    "print('브라우저를 실행시킵니다(자동 제어)\\n')\n",
    "browser = webdriver.Chrome('chromedriver') #크롬창열기 # (현재 주피터를 실행하는 경로에) 현재 내 크롬 버전과 동일한 chromedriver.exe가 있으면 실행됨.\n",
    "# https://beomi.github.io/2017/09/28/HowToMakeWebCrawler-Headless-Chrome/\n",
    "\n",
    "news_url = 'https://www.kdca.go.kr/npt/biz/npp/ist/bass/bassSexdstnAgeStatsMain.do'\n",
    "\n",
    "browser.get(news_url) #url 오픈\n",
    "time.sleep(2)\n",
    "\n",
    "# version issue\n",
    "# SessionNotCreatedException: Message: session not created: This version of ChromeDriver only supports Chrome version 87\n",
    "# Current browser version is 103.0.5060.114 with binary path C:\\Program Files (x86)\\Google\\Chrome\\Application\\chrome.exe\n",
    "\n",
    "# solution\n",
    "# https://codechacha.com/ko/selenium-chromedriver-version-error/"
   ]
  },
  {
   "cell_type": "markdown",
   "id": "f1cacf85",
   "metadata": {},
   "source": [
    "# labeling을 위한 작업"
   ]
  },
  {
   "cell_type": "markdown",
   "id": "c7579f98",
   "metadata": {},
   "source": [
    "## 시도lst"
   ]
  },
  {
   "cell_type": "code",
   "execution_count": 3,
   "id": "c5779475",
   "metadata": {},
   "outputs": [
    {
     "data": {
      "text/plain": [
       "17"
      ]
     },
     "execution_count": 3,
     "metadata": {},
     "output_type": "execute_result"
    }
   ],
   "source": [
    "시도lst = ['서울', '부산', '대구', '인천',\n",
    "      '광주', '대전', '울산', '경기', '강원', \n",
    "      '충북', '충남', '전북', '전남', '경북',\n",
    "      '경남', '제주', '세종']\n",
    "len(시도lst) # 17"
   ]
  },
  {
   "cell_type": "markdown",
   "id": "e2d118b9",
   "metadata": {},
   "source": [
    "## name2병id (len 63)"
   ]
  },
  {
   "cell_type": "code",
   "execution_count": 4,
   "id": "126cb006",
   "metadata": {},
   "outputs": [
    {
     "data": {
      "text/plain": [
       "63"
      ]
     },
     "execution_count": 4,
     "metadata": {},
     "output_type": "execute_result"
    }
   ],
   "source": [
    "병id_lst = list(range(3, 19)) + list(range(20, 42)) + list(range(43, 68))\n",
    "len(병id_lst)"
   ]
  },
  {
   "cell_type": "code",
   "execution_count": 5,
   "id": "4a3b8b99",
   "metadata": {},
   "outputs": [
    {
     "data": {
      "text/plain": [
       "63"
      ]
     },
     "execution_count": 5,
     "metadata": {},
     "output_type": "execute_result"
    }
   ],
   "source": [
    "급1병_lst = ['에볼라바이러스병', '마버그열', '라싸열', '크리미안콩고출혈열', '남아메리카출혈열', '리프트밸리열', '두창', '페스트',\n",
    "            '탄저', '보툴리눔독소증', '야토병', '중증급성호흡기증후군(SARS)', '중동호흡기증후군(MERS)', '동물인플루엔자 인체감염증',\n",
    "            '신종인플루엔자', '디프테리아']\n",
    "\n",
    "급2병_lst = ['수두', '홍역', '콜레라', '장티푸스', '파라티푸스', '세균성이질', '장출혈성대장균감염증', 'A형간염', '백일해',\n",
    "            '유행성이하선염', '풍진(2018년이전)', '풍진(선천성)', '풍진(후천성)', '폴리오', '수막구균 감염증',\n",
    "            'b형헤모필루스인플루엔자', '폐렴구균 감염증', '한센병', '성홍열', '반코마이신내성황색포도알균(VRSA) 감염증',\n",
    "            '카바페넴내성장내세균속균종(CRE) 감염증', 'E형간염']\n",
    "\n",
    "급3병_lst = ['파상풍', 'B형간염', '일본뇌염', 'C형간염', '말라리아', '레지오넬라증', '비브리오패혈증', '발진티푸스', '발진열',\n",
    "             '쯔쯔가무시증', '렙토스피라증', '브루셀라증', '공수병', '신증후군출혈열',\n",
    "             '크로이츠펠트-야콥병(CDJ) 및 변종크로이츠펠트-야콥병(vCJD)', '황열', '뎅기열', '큐열', '웨스트나일열', '라임병',\n",
    "             '진드기매개뇌염', '유비저', '치쿤구니야열', '중증열성혈소판감소증후군(SFTS)', '지카바이러스감염증']\n",
    "\n",
    "병name_lst = 급1병_lst + 급2병_lst + 급3병_lst\n",
    "len(병name_lst)"
   ]
  },
  {
   "cell_type": "code",
   "execution_count": 6,
   "id": "4d364a34",
   "metadata": {},
   "outputs": [
    {
     "data": {
      "text/plain": [
       "63"
      ]
     },
     "execution_count": 6,
     "metadata": {},
     "output_type": "execute_result"
    }
   ],
   "source": [
    "name2병id = {병name_lst[i] : 병id_lst[i] for i in range(len(병id_lst))}\n",
    "len(name2병id)"
   ]
  },
  {
   "cell_type": "markdown",
   "id": "46dff595",
   "metadata": {},
   "source": [
    "## 지역 (len 272)"
   ]
  },
  {
   "cell_type": "code",
   "execution_count": 7,
   "id": "80ca50b6",
   "metadata": {},
   "outputs": [],
   "source": [
    "군구서울 = ['강남구', '강동구', '강북구', '강서구', '관악구', '광진구', '구로구', '금천구', '노원구', '도봉구', '동대문구', '동작구', '마포구', '서대문구', '서초구', '성동구', '성북구', '송파구', '양천구', '영등포구', '용산구', '은평구',\n",
    "           '종로구', '중구', '중랑구']\n",
    "\n",
    "군구부산 = ['강서구', '금정구', '기장군', '남구', '동구', '동래구', '부산진구', '북구', '사상구', '사하구', '서구', '수영구', '연제구', '영도구', '중구', '해운대구']\n",
    "\n",
    "군구대구 = ['남구', '달서구', '달성군', '동구', '북구', '서구', '수성구', '중구']\n",
    "\n",
    "군구인천 = ['강화군', '계양구', '미추홀구', '남동구', '동구', '부평구', '서구', '연수구', '옹진군', '중구']\n",
    "\n",
    "군구광주 = ['광산구', '남구', '동구', '북구', '서구']\n",
    "\n",
    "군구대전 = ['대덕구', '동구', '서구', '유성구', '중구']\n",
    "\n",
    "군구울산 = ['남구', '동구', '북구', '울주군', '중구']\n",
    "\n",
    "군구경기 = ['가평군', '고양시 덕양구', '고양시 일산동구', '고양시 일산서구', '과천시', '광명시', '광주시', '구리시', '군포시', '김포시', '남양주시', '동두천시', '부천시 소사구', '부천시 오정구', '부천시 원미구', '성남시 분당구', '성남시 수정구',\n",
    "           '성남시 중원구', '수원시 권선구', '수원시 영통구', '수원시 장안구', '수원시 팔달구', '시흥시', '안산시 단원구', '안산시 상록구', '안성시', '안양시 동안구', '안양시 만안구', '양주시', '양평군', '여주시', '연천군', '오산시', '용인시 기흥구', '용인시 수지구',\n",
    "           '용인시 처인구', '의왕시', '의정부시', '이천시', '파주시', '평택시', '포천시', '하남시', '화성시', '양주군', '고양시 일산구', '포천군', '용인시', '남양주', '고양시 일산동', '안산시', '부천시']\n",
    "\n",
    "군구강원 = ['강릉시', '고성군', '동해시', '삼척시', '속초시', '양구군', '양양군', '영월군', '원주시', '인제군', '정선군', '철원군', '춘천시', '태백시', '평창군', '홍천군', '화천군', '횡성군']\n",
    "\n",
    "군구충북 = ['괴산군', '단양군', '보은군', '영동군', '옥천군', '음성군', '제천시',' 증평군', '진천군', '청원군', '(구)청주시 상당구', '(구)청주시 흥덕구', '충주시', '청주시 상당구', '청주시 흥덕구', '청주시 서원구', '청주시 청원구']\n",
    "\n",
    "군구충남 = ['계룡시', '공주시', '금산군', '논산시', '당진시', '보령시', '부여군', '서산시', '서천군', '아산시', '연기군', '예산군', '천안시', '청양군', '태안군', '홍성군', '천안시 동남구', '천안시 서북구']\n",
    "\n",
    "군구전북 = ['고창군', '군산시' ,'김제시', '남원시', '무주군', '부안군', '순창군', '완주군', '익산시', '임실군', '장수군', '전주시 덕진구', '전주시 완산구', '정읍시', '진안군', '전주시']\n",
    "\n",
    "군구전남 = ['강진군', '고흥군', '곡성군', '광양시', '구례군', '나주시', '담양군', '목포시', '무안군', '보성군', '순천시', '신안군', '여수시', '영광군', '영암군', '완도군', '장성군', '장흥군', '진도군', '함평군', '해남군', '화순군']\n",
    "\n",
    "군구경북 = ['경산시', '경주시', '고령군', '구미시', '군위군', '김천시', '문경시', '봉화군', '상주시', '성주군', '안동시', '영덕군', '영양군', '영주시', '영천시', '예천군', '울릉군', '울진군', '의성군', '청도군', '청송군', '칠곡군',\n",
    "           '포항시 남구', '포항시 북구', '포항시']\n",
    "\n",
    "군구경남 = ['거제시', '거창군', '고성군', '김해시', '남해군', '마산시', '밀양시', '사천시', '산청군', '양산시', '의령군', '진주시', '진해시', '창녕군', '창원시', '통영시', '하동군', '함안군', '함양군', '합천군', '창원시 마산합포구', '창원시 마산회원구',\n",
    "           '창원시 성산구', '창원시 의창구', '창원시 진해구']\n",
    "\n",
    "군구제주 = ['서귀포시', '제주시', '남제주군', '북제주군']\n",
    "\n",
    "군구세종 = ['세종시']"
   ]
  },
  {
   "cell_type": "markdown",
   "id": "d7101808",
   "metadata": {},
   "source": [
    "### 각 시도별 군구 길이"
   ]
  },
  {
   "cell_type": "code",
   "execution_count": 8,
   "id": "57aca153",
   "metadata": {},
   "outputs": [
    {
     "data": {
      "text/plain": [
       "('서울', 25)"
      ]
     },
     "execution_count": 8,
     "metadata": {},
     "output_type": "execute_result"
    },
    {
     "data": {
      "text/plain": [
       "('부산', 16)"
      ]
     },
     "execution_count": 8,
     "metadata": {},
     "output_type": "execute_result"
    },
    {
     "data": {
      "text/plain": [
       "('대구', 8)"
      ]
     },
     "execution_count": 8,
     "metadata": {},
     "output_type": "execute_result"
    },
    {
     "data": {
      "text/plain": [
       "('인천', 10)"
      ]
     },
     "execution_count": 8,
     "metadata": {},
     "output_type": "execute_result"
    },
    {
     "data": {
      "text/plain": [
       "('광주', 5)"
      ]
     },
     "execution_count": 8,
     "metadata": {},
     "output_type": "execute_result"
    },
    {
     "data": {
      "text/plain": [
       "('대전', 5)"
      ]
     },
     "execution_count": 8,
     "metadata": {},
     "output_type": "execute_result"
    },
    {
     "data": {
      "text/plain": [
       "('울산', 5)"
      ]
     },
     "execution_count": 8,
     "metadata": {},
     "output_type": "execute_result"
    },
    {
     "data": {
      "text/plain": [
       "('경기', 52)"
      ]
     },
     "execution_count": 8,
     "metadata": {},
     "output_type": "execute_result"
    },
    {
     "data": {
      "text/plain": [
       "('강원', 18)"
      ]
     },
     "execution_count": 8,
     "metadata": {},
     "output_type": "execute_result"
    },
    {
     "data": {
      "text/plain": [
       "('충북', 17)"
      ]
     },
     "execution_count": 8,
     "metadata": {},
     "output_type": "execute_result"
    },
    {
     "data": {
      "text/plain": [
       "('충남', 18)"
      ]
     },
     "execution_count": 8,
     "metadata": {},
     "output_type": "execute_result"
    },
    {
     "data": {
      "text/plain": [
       "('전북', 16)"
      ]
     },
     "execution_count": 8,
     "metadata": {},
     "output_type": "execute_result"
    },
    {
     "data": {
      "text/plain": [
       "('전남', 22)"
      ]
     },
     "execution_count": 8,
     "metadata": {},
     "output_type": "execute_result"
    },
    {
     "data": {
      "text/plain": [
       "('경북', 25)"
      ]
     },
     "execution_count": 8,
     "metadata": {},
     "output_type": "execute_result"
    },
    {
     "data": {
      "text/plain": [
       "('경남', 25)"
      ]
     },
     "execution_count": 8,
     "metadata": {},
     "output_type": "execute_result"
    },
    {
     "data": {
      "text/plain": [
       "('제주', 4)"
      ]
     },
     "execution_count": 8,
     "metadata": {},
     "output_type": "execute_result"
    },
    {
     "data": {
      "text/plain": [
       "('세종', 1)"
      ]
     },
     "execution_count": 8,
     "metadata": {},
     "output_type": "execute_result"
    }
   ],
   "source": [
    "for i in 시도lst:\n",
    "    i, len(globals()[f'군구{i}'])"
   ]
  },
  {
   "cell_type": "markdown",
   "id": "f9b6bb58",
   "metadata": {},
   "source": [
    "### 모든 시도의 모든 군구의 수"
   ]
  },
  {
   "cell_type": "code",
   "execution_count": 9,
   "id": "6ece46a1",
   "metadata": {},
   "outputs": [
    {
     "data": {
      "text/plain": [
       "272"
      ]
     },
     "execution_count": 9,
     "metadata": {},
     "output_type": "execute_result"
    }
   ],
   "source": [
    "군구all = 군구서울 + 군구부산 + 군구대구 + 군구인천 + 군구광주 + 군구대전 + 군구울산 + 군구경기 + 군구강원 + 군구충북 + 군구충남 + 군구전북 + 군구전남 + 군구경북 + 군구경남 + 군구제주 + 군구세종\n",
    "len(군구all)"
   ]
  },
  {
   "cell_type": "markdown",
   "id": "7720203d",
   "metadata": {},
   "source": [
    "# 날짜list 생성 및 초기화 함수"
   ]
  },
  {
   "cell_type": "code",
   "execution_count": 38,
   "id": "b628fc9d",
   "metadata": {},
   "outputs": [],
   "source": [
    "def 날짜list():\n",
    "    # 윤년list (4년에 한 번씩)\n",
    "    윤년list = [2020 - i*4 for i in range(5)]\n",
    "\n",
    "\n",
    "    # 날짜list\n",
    "    시작lst_ = []\n",
    "    끝lst_ = []\n",
    "    for 연도 in range(2001, 2022):\n",
    "        for 월 in range(1, 13):\n",
    "            if 월//10 < 1:\n",
    "                월 = f'0{월}'\n",
    "            시작lst_.append(f'{연도}-{월}-0{1}')\n",
    "\n",
    "            if 월 in ['01', '03', '05', '07', '08', 10, 12]:\n",
    "                끝lst_.append(f'{연도}-{월}-{31}')\n",
    "\n",
    "            elif 월 in ['04', '06', '09', 11]:\n",
    "                끝lst_.append(f'{연도}-{월}-{30}')\n",
    "\n",
    "            elif 월 == '02':\n",
    "                if 연도 not in 윤년list:\n",
    "                    끝lst_.append(f'{연도}-{월}-{28}')\n",
    "                else:\n",
    "                    끝lst_.append(f'{연도}-{월}-{29}')\n",
    "\n",
    "\n",
    "\n",
    "    ## 머리가 아프니, 2022년은 따로 만들어서 붙이도록 한다.\n",
    "    for 월 in range(1, 7):\n",
    "        if 월//10 < 1:\n",
    "            월 = f'0{월}'\n",
    "        시작lst_.append(f'{2022}-{월}-0{1}')\n",
    "        if 월 in ['01', '03', '05', '07', '08', 10, 12]:\n",
    "            끝lst_.append(f'{2022}-{월}-{31}')\n",
    "\n",
    "        elif 월 in ['04', '06', '09', 11]:\n",
    "            끝lst_.append(f'{2022}-{월}-{30}')\n",
    "\n",
    "        elif 월 == '02':\n",
    "            if 2022 not in 윤년list:\n",
    "                끝lst_.append(f'{2022}-{월}-{28}')\n",
    "            else:\n",
    "                끝lst_.append(f'{2022}-{월}-{29}')\n",
    "    return 시작lst_, 끝lst_"
   ]
  },
  {
   "cell_type": "code",
   "execution_count": 53,
   "id": "2434ab13",
   "metadata": {},
   "outputs": [
    {
     "data": {
      "text/plain": [
       "['2001-01-01', '2001-02-01', '2001-03-01', '2001-04-01', '2001-05-01']"
      ]
     },
     "execution_count": 53,
     "metadata": {},
     "output_type": "execute_result"
    },
    {
     "data": {
      "text/plain": [
       "['2001-01-31', '2001-02-28', '2001-03-31', '2001-04-30', '2001-05-31']"
      ]
     },
     "execution_count": 53,
     "metadata": {},
     "output_type": "execute_result"
    },
    {
     "data": {
      "text/plain": [
       "258"
      ]
     },
     "execution_count": 53,
     "metadata": {},
     "output_type": "execute_result"
    },
    {
     "data": {
      "text/plain": [
       "258"
      ]
     },
     "execution_count": 53,
     "metadata": {},
     "output_type": "execute_result"
    }
   ],
   "source": [
    "시작lst, 끝lst = 날짜list()\n",
    "시작lst[:5]\n",
    "끝lst[:5]\n",
    "\n",
    "len(시작lst)\n",
    "len(끝lst)\n",
    "## 258개여야함. (12*21 + 6)"
   ]
  },
  {
   "cell_type": "markdown",
   "id": "e98840ba",
   "metadata": {},
   "source": [
    "# 옵션버튼 클릭"
   ]
  },
  {
   "cell_type": "code",
   "execution_count": 156,
   "id": "04bbd49d",
   "metadata": {},
   "outputs": [],
   "source": [
    "def delete(input_box):\n",
    "        input_box.send_keys(Keys.BACK_SPACE)\n",
    "        input_box.send_keys(Keys.BACK_SPACE)\n",
    "        input_box.send_keys(Keys.BACK_SPACE)\n",
    "        input_box.send_keys(Keys.BACK_SPACE)\n",
    "        input_box.send_keys(Keys.BACK_SPACE)\n",
    "        input_box.send_keys(Keys.BACK_SPACE)\n",
    "        input_box.send_keys(Keys.BACK_SPACE)\n",
    "        input_box.send_keys(Keys.BACK_SPACE)\n",
    "        input_box.send_keys(Keys.BACK_SPACE)\n",
    "        input_box.send_keys(Keys.BACK_SPACE)\n",
    "\n",
    "# 통계작성_다운로드, 매 loop마다 쓰이므로 함수로 작성해서 집어넣도록 하겠습니다.\n",
    "def 통계작성_다운로드():\n",
    "    ## 통계작성버튼 클릭\n",
    "    browser.find_element_by_xpath('//*[@id=\"sexdstnAgeAgeSexdstnFrm\"]/input[2]').click()\n",
    "    time.sleep(0.5)\n",
    "    browser.find_element_by_xpath('//*[@id=\"sexdstnAgeAgeSexdstnFrm\"]/input[2]').click()\n",
    "#     browser.implicitly_wait(2)\n",
    "    time.sleep(5) # 여기 시간 늘린게 가장 큰 성공 요인인 것 같음.\n",
    "\n",
    "    ## csv 다운로드 클릭 //*[@id=\"csvDownBtn\"] //*[@id=\"csvDownBtn\"]/img\n",
    "    browser.find_element_by_xpath('//*[@id=\"csvDownBtn\"]').click()\n",
    "#     browser.implicitly_wait(3)\n",
    "    time.sleep(5)\n",
    "\n",
    "# 객체.implicitly_wait(시간)은 작동? 완료 되면 그냥 무시되는 코드\n",
    "\n",
    "\n",
    "\n",
    "\n",
    "def 공통(병명_):\n",
    "    ## 연령별 성별 탭 클릭\n",
    "    search_opt_box = browser.find_element_by_xpath('//*[@id=\"ui-id-3\"]')\n",
    "    search_opt_box.click() #버튼 클릭\n",
    "    browser.implicitly_wait(0.02)\n",
    "\n",
    "#####------------------------------------------------------------------------------------------------------------------- 수정\n",
    "    # 병 리셋\n",
    "    browser.find_element_by_xpath('//*[@id=\"sexdstnAgeAgeSexdstnFrm\"]/div/ul[2]/li[2]/div[2]/div/button/div').click()\n",
    "    time.sleep(0.5)\n",
    "    browser.find_element_by_xpath('//*[@id=\"sexdstnAgeAgeSexdstnFrm\"]/div/ul[2]/li[2]/div[2]/div/div/ul/li[1]/label/input').click() # 전체\n",
    "    time.sleep(1)\n",
    "    browser.find_element_by_xpath('//*[@id=\"sexdstnAgeAgeSexdstnFrm\"]/div/ul[2]/li[2]/div[2]/div/div/ul/li[1]/label/input').click() # 전체 (병 선택하기 전에 두 번 클릭해서 체크박스 리셋)\n",
    "    browser.implicitly_wait(0.02)\n",
    "    time.sleep(1)\n",
    "\n",
    "    # 병 선택\n",
    "    browser.find_element_by_xpath(f'//*[@id=\"sexdstnAgeAgeSexdstnFrm\"]/div/ul[2]/li[2]/div[2]/div/div/ul/li[{병명_}]/label/input').click() # 에볼라\n",
    "\n",
    "    ## 끝에는 닫아주기까지 해야함.\n",
    "    browser.find_element_by_xpath('//*[@id=\"sexdstnAgeAgeSexdstnFrm\"]/div/ul[2]/li[2]/div[2]/div/button/div').click()\n",
    "#     browser.find_element_by_xpath('//*[@id=\"tabs-3\"]').click() # 빈 화면 클릭하기. tnex에서 실행시 필요, 집에선 끄기\n",
    "#####-------------------------------------------------------------------------------------------------------------------\n",
    "    \n",
    "    # 연령 선택\n",
    "    browser.find_element_by_xpath('//*[@id=\"sexdstnAgeAgeSexdstnFrm_ageType2\"]').click()\n",
    "    \n",
    "\n",
    "## 창 새로 열기 전에 하던 시도군구부터 다시 시작해야하므로\n",
    "def 시도군구(시도_, 군구_):\n",
    "    ## 시도\n",
    "    browser.find_element_by_xpath('//*[@id=\"sexdstnAgeAgeSexdstnFrmAreaCtprvnCd\"]').click()\n",
    "    browser.find_element_by_xpath(f'//*[@id=\"sexdstnAgeAgeSexdstnFrmAreaCtprvnCd\"]/option[{시도_+2}]').click()\n",
    "    ## 군구\n",
    "    browser.find_element_by_xpath(f'//*[@id=\"sexdstnAgeAgeSexdstnFrmAreaSignguCd\"]/option[{군구_+2}]').click()\n",
    "\n",
    "\n",
    "\n",
    "    \n",
    "# 기간 선택, 함수로 만들어서 한 줄로 실행하는 코드를 집어넣도록 하겠습니다.\n",
    "def 기간선택(시도_, 군구_, 병명_):\n",
    "    for idx in range(len(시작lst)):\n",
    "        print(f'시작 날짜입니다. {시작lst[idx]}')\n",
    "        \n",
    "        # 8개월이 지나면 창 다시 실행.\n",
    "        if idx != 0 and idx%12 == 0: # 이것도 에러 잡은 성공 요인.\n",
    "#             다시실행()\n",
    "            browser.refresh()\n",
    "            time.sleep(1)\n",
    "            공통(병명_)\n",
    "            time.sleep(0.5)\n",
    "            시도군구(시도_,군구_)\n",
    "            \n",
    "\n",
    "        ## 시작 날짜\n",
    "        search_box = browser.find_element_by_xpath('//*[@id=\"sexdstnAgeAgeSexdstnFrmStartDt\"]')\n",
    "        delete(search_box)\n",
    "        browser.implicitly_wait(0.1)\n",
    "        search_box.send_keys(시작lst[idx])\n",
    "        search_box.send_keys(Keys.RETURN)\n",
    "        browser.implicitly_wait(0.1)\n",
    "\n",
    "        ## 끝 날짜\n",
    "        search_box = browser.find_element_by_xpath('//*[@id=\"sexdstnAgeAgeSexdstnFrmEndDt\"]')\n",
    "        delete(search_box)\n",
    "        browser.implicitly_wait(0.1)\n",
    "        search_box.send_keys(끝lst[idx])\n",
    "        search_box.send_keys(Keys.RETURN)\n",
    "        browser.implicitly_wait(0.1)\n",
    "        \n",
    "#         ## 닫아주기\n",
    "#         browser.find_element_by_xpath('//*[@id=\"sexdstnAgeAgeSexdstnFrm\"]/div/ul[1]/li[2]/img[2]').click()\n",
    "        \n",
    "#         browser.find_element_by_xpath('//*[@id=\"tabs-3\"]').click() # 빈 화면 클릭하기. tnex에서 실행시 필요, 집에선 끄기\n",
    "#         browser.find_element_by_xpath('//*[@id=\"tabs-3\"]').click() # 빈 화면 클릭하기. tnex에서 실행시 필요, 집에선 끄기\n",
    "        time.sleep(0.3)\n",
    "\n",
    "        # 8개월되기 전(7개월째)의 정보 저장\n",
    "        if idx%11 == 0:\n",
    "            시도 = 시도_\n",
    "            군구 = 군구_\n",
    "        \n",
    "        ## 닫아주기\n",
    "#         browser.find_element_by_xpath('//*[@id=\"sexdstnAgeAgeSexdstnFrm\"]/div/ul[1]/li[2]/img[2]').click()\n",
    "        \n",
    "        통계작성_다운로드()"
   ]
  },
  {
   "cell_type": "markdown",
   "id": "098dcbc6",
   "metadata": {},
   "source": [
    "```\n",
    "browser.find_element_by_xpath('//*[@id=\"sexdstnAgeAgeSexdstnFrm\"]/div/ul[2]/li[2]/div[2]/div/div/ul/li[1]/label/input') # 전체 (병 선택하기 전에 두 번 클릭해서 체크박스 리셋)\n",
    "browser.find_element_by_xpath('//*[@id=\"sexdstnAgeAgeSexdstnFrm\"]/div/ul[2]/li[2]/div[2]/div/div/ul/li[2]/label/input') # 1급\n",
    "browser.find_element_by_xpath('//*[@id=\"sexdstnAgeAgeSexdstnFrm\"]/div/ul[2]/li[2]/div[2]/div/div/ul/li[3]/label/input').click() # 에볼라\n",
    "browser.find_element_by_xpath('//*[@id=\"sexdstnAgeAgeSexdstnFrm\"]/div/ul[2]/li[2]/div[2]/div/div/ul/li[4]/label/input') # 마버그\n",
    "browser.find_element_by_xpath('//*[@id=\"sexdstnAgeAgeSexdstnFrm\"]/div/ul[2]/li[2]/div[2]/div/div/ul/li[19]/label/input') # 2급\n",
    "browser.find_element_by_xpath('//*[@id=\"sexdstnAgeAgeSexdstnFrm\"]/div/ul[2]/li[2]/div[2]/div/div/ul/li[20]/label/input') # 수두\n",
    "browser.find_element_by_xpath('//*[@id=\"sexdstnAgeAgeSexdstnFrm\"]/div/ul[2]/li[2]/div[2]/div/div/ul/li[42]/label/input') # 3급\n",
    "browser.find_element_by_xpath('//*[@id=\"sexdstnAgeAgeSexdstnFrm\"]/div/ul[2]/li[2]/div[2]/div/div/ul/li[67]/label/input') # 마지막 병\n",
    "```"
   ]
  },
  {
   "cell_type": "markdown",
   "id": "daf0bb21",
   "metadata": {},
   "source": [
    "# 다시 작성\n",
    "어차피 자동화 안될거 그냥 하나하나 하기로...\n",
    "### 구 싹 돌고난 다음에야 그 다음 병으로 넘어가는 식으로..."
   ]
  },
  {
   "cell_type": "code",
   "execution_count": 45,
   "id": "aa2fa719",
   "metadata": {},
   "outputs": [
    {
     "data": {
      "text/plain": [
       "['서울',\n",
       " '부산',\n",
       " '대구',\n",
       " '인천',\n",
       " '광주',\n",
       " '대전',\n",
       " '울산',\n",
       " '경기',\n",
       " '강원',\n",
       " '충북',\n",
       " '충남',\n",
       " '전북',\n",
       " '전남',\n",
       " '경북',\n",
       " '경남',\n",
       " '제주',\n",
       " '세종']"
      ]
     },
     "execution_count": 45,
     "metadata": {},
     "output_type": "execute_result"
    }
   ],
   "source": [
    "시도lst"
   ]
  },
  {
   "cell_type": "code",
   "execution_count": 157,
   "id": "a0df2ec9",
   "metadata": {},
   "outputs": [],
   "source": [
    "browser.refresh() # 새로고침"
   ]
  },
  {
   "cell_type": "code",
   "execution_count": 117,
   "id": "860cace1",
   "metadata": {},
   "outputs": [
    {
     "data": {
      "text/plain": [
       "'마버그열'"
      ]
     },
     "execution_count": 117,
     "metadata": {},
     "output_type": "execute_result"
    }
   ],
   "source": [
    "병name_lst[1]"
   ]
  },
  {
   "cell_type": "code",
   "execution_count": 158,
   "id": "54229e50",
   "metadata": {
    "scrolled": false
   },
   "outputs": [
    {
     "name": "stdout",
     "output_type": "stream",
     "text": [
      "강동구\n",
      "서울를(을) 돌리고 있습니다.\n",
      "서울의 군구 1를(을) 돌리고 있습니다. 00:16:40\n",
      "시작 날짜입니다. 2009-02-01\n",
      "시작 날짜입니다. 2009-03-01\n",
      "시작 날짜입니다. 2009-04-01\n",
      "시작 날짜입니다. 2009-05-01\n",
      "시작 날짜입니다. 2009-06-01\n",
      "시작 날짜입니다. 2009-07-01\n",
      "시작 날짜입니다. 2009-08-01\n",
      "시작 날짜입니다. 2009-09-01\n",
      "시작 날짜입니다. 2009-10-01\n",
      "시작 날짜입니다. 2009-11-01\n",
      "시작 날짜입니다. 2009-12-01\n",
      "시작 날짜입니다. 2010-01-01\n",
      "시작 날짜입니다. 2010-02-01\n",
      "시작 날짜입니다. 2010-03-01\n",
      "시작 날짜입니다. 2010-04-01\n",
      "시작 날짜입니다. 2010-05-01\n",
      "시작 날짜입니다. 2010-06-01\n",
      "시작 날짜입니다. 2010-07-01\n",
      "시작 날짜입니다. 2010-08-01\n",
      "시작 날짜입니다. 2010-09-01\n",
      "시작 날짜입니다. 2010-10-01\n",
      "시작 날짜입니다. 2010-11-01\n",
      "시작 날짜입니다. 2010-12-01\n",
      "시작 날짜입니다. 2011-01-01\n",
      "시작 날짜입니다. 2011-02-01\n",
      "시작 날짜입니다. 2011-03-01\n",
      "시작 날짜입니다. 2011-04-01\n",
      "시작 날짜입니다. 2011-05-01\n",
      "시작 날짜입니다. 2011-06-01\n",
      "시작 날짜입니다. 2011-07-01\n",
      "시작 날짜입니다. 2011-08-01\n",
      "시작 날짜입니다. 2011-09-01\n",
      "시작 날짜입니다. 2011-10-01\n"
     ]
    },
    {
     "ename": "ElementClickInterceptedException",
     "evalue": "Message: element click intercepted: Element <input type=\"button\" value=\"통계작성\" class=\"btn-select bassSexdstnAgeStatsBtn\"> is not clickable at point (631, 402). Other element would receive the click: <div class=\"blockUI blockOverlay\" style=\"z-index: 1000; border: none; margin: 0px; padding: 0px; width: 100%; height: 100%; top: 0px; left: 0px; background-color: rgb(0, 0, 0); opacity: 5.11204e-05; cursor: default; position: fixed;\"></div>\n  (Session info: chrome=103.0.5060.114)\n",
     "output_type": "error",
     "traceback": [
      "\u001b[1;31m---------------------------------------------------------------------------\u001b[0m",
      "\u001b[1;31mElementClickInterceptedException\u001b[0m          Traceback (most recent call last)",
      "\u001b[1;32m<ipython-input-158-35cdb145cbd3>\u001b[0m in \u001b[0;36m<module>\u001b[1;34m\u001b[0m\n\u001b[0;32m     21\u001b[0m \u001b[0mprint\u001b[0m\u001b[1;33m(\u001b[0m\u001b[1;34mf'{시도lst[시도]}의 군구 {군구}를(을) 돌리고 있습니다.'\u001b[0m\u001b[1;33m,\u001b[0m \u001b[0mdatetime\u001b[0m\u001b[1;33m.\u001b[0m\u001b[0mtoday\u001b[0m\u001b[1;33m(\u001b[0m\u001b[1;33m)\u001b[0m\u001b[1;33m.\u001b[0m\u001b[0mtime\u001b[0m\u001b[1;33m(\u001b[0m\u001b[1;33m)\u001b[0m\u001b[1;33m.\u001b[0m\u001b[0mstrftime\u001b[0m\u001b[1;33m(\u001b[0m\u001b[1;34m'%H:%M:%S'\u001b[0m\u001b[1;33m)\u001b[0m\u001b[1;33m)\u001b[0m\u001b[1;33m\u001b[0m\u001b[1;33m\u001b[0m\u001b[0m\n\u001b[0;32m     22\u001b[0m \u001b[0mbrowser\u001b[0m\u001b[1;33m.\u001b[0m\u001b[0mfind_element_by_xpath\u001b[0m\u001b[1;33m(\u001b[0m\u001b[1;34mf'//*[@id=\"sexdstnAgeAgeSexdstnFrmAreaSignguCd\"]/option[{군구+2}]'\u001b[0m\u001b[1;33m)\u001b[0m\u001b[1;33m.\u001b[0m\u001b[0mclick\u001b[0m\u001b[1;33m(\u001b[0m\u001b[1;33m)\u001b[0m\u001b[1;33m\u001b[0m\u001b[1;33m\u001b[0m\u001b[0m\n\u001b[1;32m---> 23\u001b[1;33m \u001b[0m기간선택\u001b[0m\u001b[1;33m(\u001b[0m\u001b[0m시도\u001b[0m\u001b[1;33m,\u001b[0m \u001b[0m군구\u001b[0m\u001b[1;33m,\u001b[0m \u001b[0m병명\u001b[0m\u001b[1;33m)\u001b[0m\u001b[1;33m\u001b[0m\u001b[1;33m\u001b[0m\u001b[0m\n\u001b[0m",
      "\u001b[1;32m<ipython-input-156-fe1f64d31fdc>\u001b[0m in \u001b[0;36m기간선택\u001b[1;34m(시도_, 군구_, 병명_)\u001b[0m\n\u001b[0;32m    115\u001b[0m \u001b[1;31m#         browser.find_element_by_xpath('//*[@id=\"sexdstnAgeAgeSexdstnFrm\"]/div/ul[1]/li[2]/img[2]').click()\u001b[0m\u001b[1;33m\u001b[0m\u001b[1;33m\u001b[0m\u001b[1;33m\u001b[0m\u001b[0m\n\u001b[0;32m    116\u001b[0m \u001b[1;33m\u001b[0m\u001b[0m\n\u001b[1;32m--> 117\u001b[1;33m         \u001b[0m통계작성_다운로드\u001b[0m\u001b[1;33m(\u001b[0m\u001b[1;33m)\u001b[0m\u001b[1;33m\u001b[0m\u001b[1;33m\u001b[0m\u001b[0m\n\u001b[0m",
      "\u001b[1;32m<ipython-input-156-fe1f64d31fdc>\u001b[0m in \u001b[0;36m통계작성_다운로드\u001b[1;34m()\u001b[0m\n\u001b[0;32m     16\u001b[0m     \u001b[0mbrowser\u001b[0m\u001b[1;33m.\u001b[0m\u001b[0mfind_element_by_xpath\u001b[0m\u001b[1;33m(\u001b[0m\u001b[1;34m'//*[@id=\"sexdstnAgeAgeSexdstnFrm\"]/input[2]'\u001b[0m\u001b[1;33m)\u001b[0m\u001b[1;33m.\u001b[0m\u001b[0mclick\u001b[0m\u001b[1;33m(\u001b[0m\u001b[1;33m)\u001b[0m\u001b[1;33m\u001b[0m\u001b[1;33m\u001b[0m\u001b[0m\n\u001b[0;32m     17\u001b[0m     \u001b[0mtime\u001b[0m\u001b[1;33m.\u001b[0m\u001b[0msleep\u001b[0m\u001b[1;33m(\u001b[0m\u001b[1;36m0.5\u001b[0m\u001b[1;33m)\u001b[0m\u001b[1;33m\u001b[0m\u001b[1;33m\u001b[0m\u001b[0m\n\u001b[1;32m---> 18\u001b[1;33m     \u001b[0mbrowser\u001b[0m\u001b[1;33m.\u001b[0m\u001b[0mfind_element_by_xpath\u001b[0m\u001b[1;33m(\u001b[0m\u001b[1;34m'//*[@id=\"sexdstnAgeAgeSexdstnFrm\"]/input[2]'\u001b[0m\u001b[1;33m)\u001b[0m\u001b[1;33m.\u001b[0m\u001b[0mclick\u001b[0m\u001b[1;33m(\u001b[0m\u001b[1;33m)\u001b[0m\u001b[1;33m\u001b[0m\u001b[1;33m\u001b[0m\u001b[0m\n\u001b[0m\u001b[0;32m     19\u001b[0m \u001b[1;31m#     browser.implicitly_wait(2)\u001b[0m\u001b[1;33m\u001b[0m\u001b[1;33m\u001b[0m\u001b[1;33m\u001b[0m\u001b[0m\n\u001b[0;32m     20\u001b[0m     \u001b[0mtime\u001b[0m\u001b[1;33m.\u001b[0m\u001b[0msleep\u001b[0m\u001b[1;33m(\u001b[0m\u001b[1;36m5\u001b[0m\u001b[1;33m)\u001b[0m \u001b[1;31m# 여기 시간 늘린게 가장 큰 성공 요인인 것 같음.\u001b[0m\u001b[1;33m\u001b[0m\u001b[1;33m\u001b[0m\u001b[0m\n",
      "\u001b[1;32m~\\anaconda3\\lib\\site-packages\\selenium\\webdriver\\remote\\webelement.py\u001b[0m in \u001b[0;36mclick\u001b[1;34m(self)\u001b[0m\n\u001b[0;32m     78\u001b[0m     \u001b[1;32mdef\u001b[0m \u001b[0mclick\u001b[0m\u001b[1;33m(\u001b[0m\u001b[0mself\u001b[0m\u001b[1;33m)\u001b[0m\u001b[1;33m:\u001b[0m\u001b[1;33m\u001b[0m\u001b[1;33m\u001b[0m\u001b[0m\n\u001b[0;32m     79\u001b[0m         \u001b[1;34m\"\"\"Clicks the element.\"\"\"\u001b[0m\u001b[1;33m\u001b[0m\u001b[1;33m\u001b[0m\u001b[0m\n\u001b[1;32m---> 80\u001b[1;33m         \u001b[0mself\u001b[0m\u001b[1;33m.\u001b[0m\u001b[0m_execute\u001b[0m\u001b[1;33m(\u001b[0m\u001b[0mCommand\u001b[0m\u001b[1;33m.\u001b[0m\u001b[0mCLICK_ELEMENT\u001b[0m\u001b[1;33m)\u001b[0m\u001b[1;33m\u001b[0m\u001b[1;33m\u001b[0m\u001b[0m\n\u001b[0m\u001b[0;32m     81\u001b[0m \u001b[1;33m\u001b[0m\u001b[0m\n\u001b[0;32m     82\u001b[0m     \u001b[1;32mdef\u001b[0m \u001b[0msubmit\u001b[0m\u001b[1;33m(\u001b[0m\u001b[0mself\u001b[0m\u001b[1;33m)\u001b[0m\u001b[1;33m:\u001b[0m\u001b[1;33m\u001b[0m\u001b[1;33m\u001b[0m\u001b[0m\n",
      "\u001b[1;32m~\\anaconda3\\lib\\site-packages\\selenium\\webdriver\\remote\\webelement.py\u001b[0m in \u001b[0;36m_execute\u001b[1;34m(self, command, params)\u001b[0m\n\u001b[0;32m    631\u001b[0m             \u001b[0mparams\u001b[0m \u001b[1;33m=\u001b[0m \u001b[1;33m{\u001b[0m\u001b[1;33m}\u001b[0m\u001b[1;33m\u001b[0m\u001b[1;33m\u001b[0m\u001b[0m\n\u001b[0;32m    632\u001b[0m         \u001b[0mparams\u001b[0m\u001b[1;33m[\u001b[0m\u001b[1;34m'id'\u001b[0m\u001b[1;33m]\u001b[0m \u001b[1;33m=\u001b[0m \u001b[0mself\u001b[0m\u001b[1;33m.\u001b[0m\u001b[0m_id\u001b[0m\u001b[1;33m\u001b[0m\u001b[1;33m\u001b[0m\u001b[0m\n\u001b[1;32m--> 633\u001b[1;33m         \u001b[1;32mreturn\u001b[0m \u001b[0mself\u001b[0m\u001b[1;33m.\u001b[0m\u001b[0m_parent\u001b[0m\u001b[1;33m.\u001b[0m\u001b[0mexecute\u001b[0m\u001b[1;33m(\u001b[0m\u001b[0mcommand\u001b[0m\u001b[1;33m,\u001b[0m \u001b[0mparams\u001b[0m\u001b[1;33m)\u001b[0m\u001b[1;33m\u001b[0m\u001b[1;33m\u001b[0m\u001b[0m\n\u001b[0m\u001b[0;32m    634\u001b[0m \u001b[1;33m\u001b[0m\u001b[0m\n\u001b[0;32m    635\u001b[0m     \u001b[1;32mdef\u001b[0m \u001b[0mfind_element\u001b[0m\u001b[1;33m(\u001b[0m\u001b[0mself\u001b[0m\u001b[1;33m,\u001b[0m \u001b[0mby\u001b[0m\u001b[1;33m=\u001b[0m\u001b[0mBy\u001b[0m\u001b[1;33m.\u001b[0m\u001b[0mID\u001b[0m\u001b[1;33m,\u001b[0m \u001b[0mvalue\u001b[0m\u001b[1;33m=\u001b[0m\u001b[1;32mNone\u001b[0m\u001b[1;33m)\u001b[0m\u001b[1;33m:\u001b[0m\u001b[1;33m\u001b[0m\u001b[1;33m\u001b[0m\u001b[0m\n",
      "\u001b[1;32m~\\anaconda3\\lib\\site-packages\\selenium\\webdriver\\remote\\webdriver.py\u001b[0m in \u001b[0;36mexecute\u001b[1;34m(self, driver_command, params)\u001b[0m\n\u001b[0;32m    319\u001b[0m         \u001b[0mresponse\u001b[0m \u001b[1;33m=\u001b[0m \u001b[0mself\u001b[0m\u001b[1;33m.\u001b[0m\u001b[0mcommand_executor\u001b[0m\u001b[1;33m.\u001b[0m\u001b[0mexecute\u001b[0m\u001b[1;33m(\u001b[0m\u001b[0mdriver_command\u001b[0m\u001b[1;33m,\u001b[0m \u001b[0mparams\u001b[0m\u001b[1;33m)\u001b[0m\u001b[1;33m\u001b[0m\u001b[1;33m\u001b[0m\u001b[0m\n\u001b[0;32m    320\u001b[0m         \u001b[1;32mif\u001b[0m \u001b[0mresponse\u001b[0m\u001b[1;33m:\u001b[0m\u001b[1;33m\u001b[0m\u001b[1;33m\u001b[0m\u001b[0m\n\u001b[1;32m--> 321\u001b[1;33m             \u001b[0mself\u001b[0m\u001b[1;33m.\u001b[0m\u001b[0merror_handler\u001b[0m\u001b[1;33m.\u001b[0m\u001b[0mcheck_response\u001b[0m\u001b[1;33m(\u001b[0m\u001b[0mresponse\u001b[0m\u001b[1;33m)\u001b[0m\u001b[1;33m\u001b[0m\u001b[1;33m\u001b[0m\u001b[0m\n\u001b[0m\u001b[0;32m    322\u001b[0m             response['value'] = self._unwrap_value(\n\u001b[0;32m    323\u001b[0m                 response.get('value', None))\n",
      "\u001b[1;32m~\\anaconda3\\lib\\site-packages\\selenium\\webdriver\\remote\\errorhandler.py\u001b[0m in \u001b[0;36mcheck_response\u001b[1;34m(self, response)\u001b[0m\n\u001b[0;32m    240\u001b[0m                 \u001b[0malert_text\u001b[0m \u001b[1;33m=\u001b[0m \u001b[0mvalue\u001b[0m\u001b[1;33m[\u001b[0m\u001b[1;34m'alert'\u001b[0m\u001b[1;33m]\u001b[0m\u001b[1;33m.\u001b[0m\u001b[0mget\u001b[0m\u001b[1;33m(\u001b[0m\u001b[1;34m'text'\u001b[0m\u001b[1;33m)\u001b[0m\u001b[1;33m\u001b[0m\u001b[1;33m\u001b[0m\u001b[0m\n\u001b[0;32m    241\u001b[0m             \u001b[1;32mraise\u001b[0m \u001b[0mexception_class\u001b[0m\u001b[1;33m(\u001b[0m\u001b[0mmessage\u001b[0m\u001b[1;33m,\u001b[0m \u001b[0mscreen\u001b[0m\u001b[1;33m,\u001b[0m \u001b[0mstacktrace\u001b[0m\u001b[1;33m,\u001b[0m \u001b[0malert_text\u001b[0m\u001b[1;33m)\u001b[0m\u001b[1;33m\u001b[0m\u001b[1;33m\u001b[0m\u001b[0m\n\u001b[1;32m--> 242\u001b[1;33m         \u001b[1;32mraise\u001b[0m \u001b[0mexception_class\u001b[0m\u001b[1;33m(\u001b[0m\u001b[0mmessage\u001b[0m\u001b[1;33m,\u001b[0m \u001b[0mscreen\u001b[0m\u001b[1;33m,\u001b[0m \u001b[0mstacktrace\u001b[0m\u001b[1;33m)\u001b[0m\u001b[1;33m\u001b[0m\u001b[1;33m\u001b[0m\u001b[0m\n\u001b[0m\u001b[0;32m    243\u001b[0m \u001b[1;33m\u001b[0m\u001b[0m\n\u001b[0;32m    244\u001b[0m     \u001b[1;32mdef\u001b[0m \u001b[0m_value_or_default\u001b[0m\u001b[1;33m(\u001b[0m\u001b[0mself\u001b[0m\u001b[1;33m,\u001b[0m \u001b[0mobj\u001b[0m\u001b[1;33m,\u001b[0m \u001b[0mkey\u001b[0m\u001b[1;33m,\u001b[0m \u001b[0mdefault\u001b[0m\u001b[1;33m)\u001b[0m\u001b[1;33m:\u001b[0m\u001b[1;33m\u001b[0m\u001b[1;33m\u001b[0m\u001b[0m\n",
      "\u001b[1;31mElementClickInterceptedException\u001b[0m: Message: element click intercepted: Element <input type=\"button\" value=\"통계작성\" class=\"btn-select bassSexdstnAgeStatsBtn\"> is not clickable at point (631, 402). Other element would receive the click: <div class=\"blockUI blockOverlay\" style=\"z-index: 1000; border: none; margin: 0px; padding: 0px; width: 100%; height: 100%; top: 0px; left: 0px; background-color: rgb(0, 0, 0); opacity: 5.11204e-05; cursor: default; position: fixed;\"></div>\n  (Session info: chrome=103.0.5060.114)\n"
     ]
    }
   ],
   "source": [
    "### 바꿔줘야 합니다. 잘 짜여졌습니다. 병 각각, 군구 각각\n",
    "# browser.find_element_by_xpath('//*[@id=\"tabs-3\"]').click() # 빈 화면 클릭하기. tnex에서 실행시 필요, 집에선 끄기\n",
    "병명 = name2병id['에볼라바이러스병'] # 에볼라 병\n",
    "시도 = 시도lst.index('서울') # 서울\n",
    "군구 = 1\n",
    "print(군구서울[군구])\n",
    "\n",
    "\n",
    "\n",
    "\n",
    "\n",
    "공통(병명)\n",
    "\n",
    "\n",
    "## 시도\n",
    "print(f'{시도lst[시도]}를(을) 돌리고 있습니다.')\n",
    "browser.find_element_by_xpath('//*[@id=\"sexdstnAgeAgeSexdstnFrmAreaCtprvnCd\"]').click()\n",
    "browser.find_element_by_xpath(f'//*[@id=\"sexdstnAgeAgeSexdstnFrmAreaCtprvnCd\"]/option[{시도+2}]').click()\n",
    "\n",
    "## 군구\n",
    "print(f'{시도lst[시도]}의 군구 {군구}를(을) 돌리고 있습니다.', datetime.today().time().strftime('%H:%M:%S'))\n",
    "browser.find_element_by_xpath(f'//*[@id=\"sexdstnAgeAgeSexdstnFrmAreaSignguCd\"]/option[{군구+2}]').click()\n",
    "기간선택(시도, 군구, 병명)"
   ]
  },
  {
   "cell_type": "code",
   "execution_count": null,
   "id": "dd85ce4b",
   "metadata": {},
   "outputs": [],
   "source": []
  },
  {
   "cell_type": "markdown",
   "id": "7476c173",
   "metadata": {},
   "source": [
    "# 멈춘 부분 부터 다시 시작\n",
    "(옵션버튼 함수 다시 실행 안해줘도 됨.)"
   ]
  },
  {
   "cell_type": "markdown",
   "id": "c85f91a2",
   "metadata": {},
   "source": [
    "## 날짜 멈춘 부분"
   ]
  },
  {
   "cell_type": "code",
   "execution_count": 159,
   "id": "08d4bd5f",
   "metadata": {},
   "outputs": [],
   "source": [
    "멈춘부분 = 시작lst.index('2011-10-01')\n",
    "시작lst = 시작lst[멈춘부분:]\n",
    "끝lst = 끝lst[멈춘부분:]"
   ]
  },
  {
   "cell_type": "code",
   "execution_count": 160,
   "id": "d6862ad2",
   "metadata": {},
   "outputs": [
    {
     "data": {
      "text/plain": [
       "'2011-10-01'"
      ]
     },
     "execution_count": 160,
     "metadata": {},
     "output_type": "execute_result"
    },
    {
     "data": {
      "text/plain": [
       "'2022-06-01'"
      ]
     },
     "execution_count": 160,
     "metadata": {},
     "output_type": "execute_result"
    }
   ],
   "source": [
    "시작lst[0]\n",
    "시작lst[-1]"
   ]
  },
  {
   "cell_type": "markdown",
   "id": "a04469e5",
   "metadata": {},
   "source": [
    "## 크롬창 다시 열 때 멀리 안가기 위해 가져왔습니다."
   ]
  },
  {
   "cell_type": "code",
   "execution_count": null,
   "id": "cd48704d",
   "metadata": {},
   "outputs": [],
   "source": [
    "print('브라우저를 실행시킵니다(자동 제어)\\n')\n",
    "browser = webdriver.Chrome('chromedriver') #크롬창열기\n",
    "\n",
    "news_url = 'https://www.kdca.go.kr/npt/biz/npp/ist/bass/bassSexdstnAgeStatsMain.do'\n",
    "\n",
    "browser.get(news_url) #url 오픈\n",
    "time.sleep(2)"
   ]
  },
  {
   "cell_type": "markdown",
   "id": "e8b3fef6",
   "metadata": {},
   "source": [
    "## 날짜 초기화"
   ]
  },
  {
   "cell_type": "code",
   "execution_count": 114,
   "id": "347d6649",
   "metadata": {},
   "outputs": [
    {
     "data": {
      "text/plain": [
       "['2001-01-01', '2001-02-01', '2001-03-01', '2001-04-01', '2001-05-01']"
      ]
     },
     "execution_count": 114,
     "metadata": {},
     "output_type": "execute_result"
    },
    {
     "data": {
      "text/plain": [
       "['2001-01-31', '2001-02-28', '2001-03-31', '2001-04-30', '2001-05-31']"
      ]
     },
     "execution_count": 114,
     "metadata": {},
     "output_type": "execute_result"
    },
    {
     "data": {
      "text/plain": [
       "258"
      ]
     },
     "execution_count": 114,
     "metadata": {},
     "output_type": "execute_result"
    },
    {
     "data": {
      "text/plain": [
       "258"
      ]
     },
     "execution_count": 114,
     "metadata": {},
     "output_type": "execute_result"
    }
   ],
   "source": [
    "시작lst, 끝lst = 날짜list()\n",
    "시작lst[:5]\n",
    "끝lst[:5]\n",
    "\n",
    "len(시작lst)\n",
    "len(끝lst)\n",
    "## 258개여야함. (12*21 + 6)"
   ]
  },
  {
   "cell_type": "code",
   "execution_count": null,
   "id": "e52794f5",
   "metadata": {},
   "outputs": [],
   "source": []
  },
  {
   "cell_type": "code",
   "execution_count": 5,
   "id": "c6f24bf8",
   "metadata": {},
   "outputs": [
    {
     "data": {
      "text/plain": [
       "146"
      ]
     },
     "execution_count": 5,
     "metadata": {},
     "output_type": "execute_result"
    }
   ],
   "source": [
    "len(시작lst[:시작lst.index('2013-03-01')]) # 내가 해냄,,,"
   ]
  },
  {
   "cell_type": "code",
   "execution_count": 6,
   "id": "3e6bbaa1",
   "metadata": {},
   "outputs": [
    {
     "data": {
      "text/plain": [
       "258"
      ]
     },
     "execution_count": 6,
     "metadata": {},
     "output_type": "execute_result"
    }
   ],
   "source": [
    "len(시작lst)"
   ]
  }
 ],
 "metadata": {
  "kernelspec": {
   "display_name": "Python 3.10.3 64-bit",
   "language": "python",
   "name": "python3"
  },
  "language_info": {
   "codemirror_mode": {
    "name": "ipython",
    "version": 3
   },
   "file_extension": ".py",
   "mimetype": "text/x-python",
   "name": "python",
   "nbconvert_exporter": "python",
   "pygments_lexer": "ipython3",
   "version": "3.10.3"
  },
  "toc": {
   "base_numbering": 1,
   "nav_menu": {},
   "number_sections": true,
   "sideBar": true,
   "skip_h1_title": false,
   "title_cell": "Table of Contents",
   "title_sidebar": "Contents",
   "toc_cell": false,
   "toc_position": {},
   "toc_section_display": true,
   "toc_window_display": false
  },
  "vscode": {
   "interpreter": {
    "hash": "6de9cc75f9ee67ec1b5b535deb0e285a51ecb5d2bba828a4a3451b05a2c1454b"
   }
  }
 },
 "nbformat": 4,
 "nbformat_minor": 5
}
