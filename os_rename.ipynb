{
 "cells": [
  {
   "cell_type": "markdown",
   "id": "9af13176",
   "metadata": {},
   "source": [
    "# 제일 처음에 받은 파일명 뒤에 (0) 붙여줬습니까????\n",
    "두 번째 test에서는 잘 바뀜;;;"
   ]
  },
  {
   "cell_type": "code",
   "execution_count": 11,
   "id": "2662ef7b",
   "metadata": {},
   "outputs": [],
   "source": [
    "from glob import glob\n",
    "from IPython.core.interactiveshell import InteractiveShell\n",
    "InteractiveShell.ast_node_interactivity = \"all\""
   ]
  },
  {
   "cell_type": "code",
   "execution_count": 107,
   "id": "1d628e14",
   "metadata": {},
   "outputs": [],
   "source": [
    "file_list = glob('기본통계_성별_연령별*.csv')"
   ]
  },
  {
   "cell_type": "code",
   "execution_count": 108,
   "id": "ce72511f",
   "metadata": {},
   "outputs": [
    {
     "data": {
      "text/plain": [
       "['기본통계_성별_연령별 (0).csv',\n",
       " '기본통계_성별_연령별 (1).csv',\n",
       " '기본통계_성별_연령별 (10).csv',\n",
       " '기본통계_성별_연령별 (11).csv',\n",
       " '기본통계_성별_연령별 (12).csv',\n",
       " '기본통계_성별_연령별 (13).csv',\n",
       " '기본통계_성별_연령별 (14).csv',\n",
       " '기본통계_성별_연령별 (15).csv',\n",
       " '기본통계_성별_연령별 (16).csv',\n",
       " '기본통계_성별_연령별 (17).csv',\n",
       " '기본통계_성별_연령별 (18).csv',\n",
       " '기본통계_성별_연령별 (19).csv',\n",
       " '기본통계_성별_연령별 (2).csv',\n",
       " '기본통계_성별_연령별 (20).csv',\n",
       " '기본통계_성별_연령별 (21).csv',\n",
       " '기본통계_성별_연령별 (22).csv',\n",
       " '기본통계_성별_연령별 (23).csv',\n",
       " '기본통계_성별_연령별 (24).csv',\n",
       " '기본통계_성별_연령별 (3).csv',\n",
       " '기본통계_성별_연령별 (4).csv',\n",
       " '기본통계_성별_연령별 (5).csv',\n",
       " '기본통계_성별_연령별 (6).csv',\n",
       " '기본통계_성별_연령별 (7).csv',\n",
       " '기본통계_성별_연령별 (8).csv',\n",
       " '기본통계_성별_연령별 (9).csv']"
      ]
     },
     "execution_count": 108,
     "metadata": {},
     "output_type": "execute_result"
    }
   ],
   "source": [
    "file_list"
   ]
  },
  {
   "cell_type": "code",
   "execution_count": 109,
   "id": "75c46e1a",
   "metadata": {},
   "outputs": [
    {
     "data": {
      "text/plain": [
       "[2, 1]"
      ]
     },
     "execution_count": 109,
     "metadata": {},
     "output_type": "execute_result"
    }
   ],
   "source": [
    "## test\n",
    "new = []\n",
    "new.insert(0, 1)\n",
    "new.insert(0, 2)\n",
    "new"
   ]
  },
  {
   "cell_type": "code",
   "execution_count": 110,
   "id": "1fea48f7",
   "metadata": {},
   "outputs": [
    {
     "name": "stdout",
     "output_type": "stream",
     "text": [
      "n\n"
     ]
    }
   ],
   "source": [
    "## test\n",
    "new=[]\n",
    "if new:\n",
    "    print('y')\n",
    "else:\n",
    "    print('n')"
   ]
  },
  {
   "cell_type": "code",
   "execution_count": 111,
   "id": "01cb0e3b",
   "metadata": {},
   "outputs": [
    {
     "data": {
      "text/plain": [
       "'본통계_성별_연령'"
      ]
     },
     "execution_count": 111,
     "metadata": {},
     "output_type": "execute_result"
    },
    {
     "data": {
      "text/plain": [
       "[]"
      ]
     },
     "execution_count": 111,
     "metadata": {},
     "output_type": "execute_result"
    }
   ],
   "source": [
    "pick[0][1:-1]\n",
    "pick[1:-1]"
   ]
  },
  {
   "cell_type": "code",
   "execution_count": 112,
   "id": "673ff1f0",
   "metadata": {},
   "outputs": [
    {
     "data": {
      "text/plain": [
       "['기본통계_성별_연령별 (000).csv',\n",
       " '기본통계_성별_연령별 (001).csv',\n",
       " '기본통계_성별_연령별 (010).csv',\n",
       " '기본통계_성별_연령별 (011).csv',\n",
       " '기본통계_성별_연령별 (012).csv',\n",
       " '기본통계_성별_연령별 (013).csv',\n",
       " '기본통계_성별_연령별 (014).csv',\n",
       " '기본통계_성별_연령별 (015).csv',\n",
       " '기본통계_성별_연령별 (016).csv',\n",
       " '기본통계_성별_연령별 (017).csv',\n",
       " '기본통계_성별_연령별 (018).csv',\n",
       " '기본통계_성별_연령별 (019).csv',\n",
       " '기본통계_성별_연령별 (002).csv',\n",
       " '기본통계_성별_연령별 (020).csv',\n",
       " '기본통계_성별_연령별 (021).csv',\n",
       " '기본통계_성별_연령별 (022).csv',\n",
       " '기본통계_성별_연령별 (023).csv',\n",
       " '기본통계_성별_연령별 (024).csv',\n",
       " '기본통계_성별_연령별 (003).csv',\n",
       " '기본통계_성별_연령별 (004).csv',\n",
       " '기본통계_성별_연령별 (005).csv',\n",
       " '기본통계_성별_연령별 (006).csv',\n",
       " '기본통계_성별_연령별 (007).csv',\n",
       " '기본통계_성별_연령별 (008).csv',\n",
       " '기본통계_성별_연령별 (009).csv']"
      ]
     },
     "execution_count": 112,
     "metadata": {},
     "output_type": "execute_result"
    }
   ],
   "source": [
    "new = []\n",
    "for enu, i in enumerate(file_list):\n",
    "    pick = i.split(' ')[-1].split('.')[:-1] # blank로 split 했을 때 제일 뒤의 값에 대해 .으로 split해서 제일 뒤의 값 전까지\n",
    "                                            # 왜냐면 100개 넘을 때부터 파일명에 .이 2개 생겨서 곤란해지므로...\n",
    "\n",
    "    if pick[0][0] == '(': # 괄호로 시작하면 그 사이 값만 꺼내 주세요.\n",
    "        # pick[0][1:-1] # 괄호의 사이에 있는 숫자 확인\n",
    "        if len(pick[0][1:-1]) < 3:\n",
    "            new_pick = f\"{'0'*(3-len(pick[0][1:-1]))}{pick[0][1:-1]}\"\n",
    "            # new_pick\n",
    "            new.append(f\"{i.split(' ')[0]} ({new_pick}).csv\")\n",
    "    else:\n",
    "        new.append(f\"{i.split(' ')[0]} ({enu}).csv\")\n",
    "#     break\n",
    "new # 기존 파일 nm 순서대로 받았음.\n",
    "\n",
    "\n",
    "## else부분 추가 설명\n",
    "## 괄호숫자부분만 문제지 나머지(100개 넘을 때부터)는 받아온 시간 순으로 정렬돼서 나옴. 이름만 간결하게 바꾼 것 뿐임."
   ]
  },
  {
   "cell_type": "code",
   "execution_count": 113,
   "id": "c3631464",
   "metadata": {},
   "outputs": [
    {
     "data": {
      "text/plain": [
       "'00'"
      ]
     },
     "execution_count": 113,
     "metadata": {},
     "output_type": "execute_result"
    },
    {
     "data": {
      "text/plain": [
       "'009'"
      ]
     },
     "execution_count": 113,
     "metadata": {},
     "output_type": "execute_result"
    }
   ],
   "source": [
    "## test\n",
    "'0'*(3-len(pick[0][1:-1]))\n",
    "f\"{'0'*(3-len(pick[0][1:-1]))}{pick[0][1:-1]}\""
   ]
  },
  {
   "cell_type": "code",
   "execution_count": 114,
   "id": "3ef2ad64",
   "metadata": {},
   "outputs": [],
   "source": [
    "import os\n",
    "path = os.getcwd()"
   ]
  },
  {
   "cell_type": "markdown",
   "id": "620684d4",
   "metadata": {},
   "source": [
    "# rename"
   ]
  },
  {
   "cell_type": "code",
   "execution_count": 116,
   "id": "df166ed7",
   "metadata": {},
   "outputs": [],
   "source": [
    "for i in range(len(file_list)):\n",
    "#     file_list[i], new[i]\n",
    "#     break\n",
    "    ## file_list의 i번째를 new의 i번째로 rename\n",
    "    os.rename(file_list[i], os.path.join(path, new[i])) # rename의 뒤에는 꼭 path를 포함한 file의 이름이 (즉, 경로) 와야 함."
   ]
  },
  {
   "cell_type": "code",
   "execution_count": 101,
   "id": "fe6f271d",
   "metadata": {},
   "outputs": [
    {
     "data": {
      "text/plain": [
       "'기본통계_성별_연령별 (000).csv'"
      ]
     },
     "execution_count": 101,
     "metadata": {},
     "output_type": "execute_result"
    }
   ],
   "source": [
    "new[0]"
   ]
  },
  {
   "cell_type": "code",
   "execution_count": null,
   "id": "1f63766e",
   "metadata": {},
   "outputs": [],
   "source": []
  },
  {
   "cell_type": "code",
   "execution_count": 69,
   "id": "f7de2d06",
   "metadata": {},
   "outputs": [
    {
     "data": {
      "text/plain": [
       "('/', 'User')"
      ]
     },
     "execution_count": 69,
     "metadata": {},
     "output_type": "execute_result"
    }
   ],
   "source": [
    "# glob으로 이름바꾸기 # https://ponyozzang.tistory.com/541\n",
    "\n",
    "\n",
    "# os.path는 그냥 인자로 받는 애들 조작하는 모듈인 것.\n",
    "# https://docs.python.org/ko/3/library/os.path.html\n",
    "os.path.split('/User')\n",
    "\n",
    "\n",
    "# os.path.join\n",
    "# 경로와 피일명을 결합하거나 분할된 경로를 하나로 정리하거나하는 것이 가능\n",
    "# 출처: https://engineer-mole.tistory.com/188 [매일 꾸준히, 더 깊이:티스토리]\n",
    "\n",
    "### *은 애스터리스크라고 부름.\n",
    "# join()의 인수로 리스트를 전달하는 것도 가능하다.\n",
    "# 다만, 주의점은 리스트를 전개해서 넘겨야한다는 것이다.\n",
    "# 샘플 코드에서는 join()의 인수로써 전달된 list_path의 앞에 *(애스터리스크)를 붙여 리스트를 전개하고 있다.\n",
    "# 출처: https://engineer-mole.tistory.com/188 [매일 꾸준히, 더 깊이:티스토리]"
   ]
  },
  {
   "cell_type": "code",
   "execution_count": 89,
   "id": "447747db",
   "metadata": {},
   "outputs": [
    {
     "data": {
      "text/plain": [
       "'C:\\\\Users\\\\Admin\\\\바탕 화면\\\\다운로드'"
      ]
     },
     "execution_count": 89,
     "metadata": {},
     "output_type": "execute_result"
    }
   ],
   "source": [
    "# pwd\n",
    "os.getcwd()"
   ]
  },
  {
   "cell_type": "code",
   "execution_count": 91,
   "id": "070e48f5",
   "metadata": {},
   "outputs": [],
   "source": [
    "## os.rename test\n",
    "\n",
    "import os\n",
    "path = os.getcwd()\n",
    "file = glob('testfile*')\n",
    "os.rename(file[0], os.path.join(path, 'ttnew_'+os.path.basename(file[0])))\n",
    "## rename 해도 파일명 안바뀜"
   ]
  },
  {
   "cell_type": "code",
   "execution_count": 74,
   "id": "b717ff8f",
   "metadata": {},
   "outputs": [
    {
     "data": {
      "text/plain": [
       "'ttnew_testfile.txt'"
      ]
     },
     "execution_count": 74,
     "metadata": {},
     "output_type": "execute_result"
    }
   ],
   "source": [
    "os.path.join('ttnew_'+os.path.basename(file[0]))"
   ]
  }
 ],
 "metadata": {
  "kernelspec": {
   "display_name": "Python 3 (ipykernel)",
   "language": "python",
   "name": "python3"
  },
  "language_info": {
   "codemirror_mode": {
    "name": "ipython",
    "version": 3
   },
   "file_extension": ".py",
   "mimetype": "text/x-python",
   "name": "python",
   "nbconvert_exporter": "python",
   "pygments_lexer": "ipython3",
   "version": "3.10.5"
  },
  "latex_envs": {
   "LaTeX_envs_menu_present": true,
   "autoclose": false,
   "autocomplete": true,
   "bibliofile": "biblio.bib",
   "cite_by": "apalike",
   "current_citInitial": 1,
   "eqLabelWithNumbers": true,
   "eqNumInitial": 1,
   "hotkeys": {
    "equation": "Ctrl-E",
    "itemize": "Ctrl-I"
   },
   "labels_anchors": false,
   "latex_user_defs": false,
   "report_style_numbering": false,
   "user_envs_cfg": false
  },
  "toc": {
   "base_numbering": 1,
   "nav_menu": {},
   "number_sections": true,
   "sideBar": true,
   "skip_h1_title": false,
   "title_cell": "Table of Contents",
   "title_sidebar": "Contents",
   "toc_cell": false,
   "toc_position": {},
   "toc_section_display": true,
   "toc_window_display": false
  }
 },
 "nbformat": 4,
 "nbformat_minor": 5
}
