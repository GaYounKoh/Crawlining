{
 "cells": [
  {
   "cell_type": "code",
   "execution_count": 1,
   "id": "1b2b4425",
   "metadata": {},
   "outputs": [],
   "source": [
    "# 열린 크롬창 내에 csv 버튼까지 보이게끔 해둬야 코드가 실행됨.\n",
    "\n",
    "# 밑에 다운로드 한 이력이 있으면 안돌아감."
   ]
  },
  {
   "cell_type": "markdown",
   "id": "bf0ffca0",
   "metadata": {},
   "source": [
    "# 크롤링을 하려면 selenium, chromedriver, urllib이 필수적으로 필요하다.\n",
    "\n",
    "chromedriver의 경우 Only local connections are allowed. 라는 이슈가 있기에, 서버에서는 사용 불가능하다. <br>\n",
    "그리고 일반 크롬과 버전이 맞아야 사용 가능하므로, 사용전에 버전 확인을 하는 것이 좋다. <br>\n",
    "따로 버전 확인을 하지 않더라도 에러가 다 알려주니 크게 신경쓰지 않아도 됨. <br>\n",
    "\n",
    "[chromedriver.exe 다운받는 경로](https://chromedriver.chromium.org/downloads) <br>\n",
    "\n",
    "(현재 주피터를 실행하는 경로에) 현재 내 pc의 chrome과 버전이 동일한 chromedriver.exe가 깔려만 있으면 잘 실행됨."
   ]
  },
  {
   "cell_type": "code",
   "execution_count": 2,
   "id": "469d368d",
   "metadata": {},
   "outputs": [],
   "source": [
    "# pip install --upgrade [selenium]"
   ]
  },
  {
   "cell_type": "code",
   "execution_count": null,
   "id": "c3146c4f",
   "metadata": {},
   "outputs": [],
   "source": []
  },
  {
   "cell_type": "code",
   "execution_count": 3,
   "id": "2a290b2f",
   "metadata": {},
   "outputs": [],
   "source": [
    "import sys, os\n",
    "import requests #(네이버) api 이용할 때 쓰는 패키지\n",
    "import selenium #크롤링 패키지\n",
    "\n",
    "# selenium의 webdriver를 사용하기 위한 import\n",
    "from selenium import webdriver\n",
    "\n",
    "# selenium으로 무엇인가 입력하기 위한 import\n",
    "from selenium.webdriver.common.keys import Keys\n",
    "#\n",
    "\n",
    "from pandas import DataFrame\n",
    "from bs4 import BeautifulSoup #크롤링 패키지\n",
    "import re #정규식 표현 모듈\n",
    "from datetime import datetime\n",
    "import pickle, progressbar, json, glob, time #pickle: 객체를 파일로 저장해주는 모듈, progressbar: 진행표시 바, json: 네이버 api, glob: 파일들 리스트 뽑을 때 사용\n",
    "# https://wikidocs.net/83\n",
    "from tqdm import tqdm #진행표시바\n",
    "#\n",
    "\n",
    "from selenium.webdriver.support import expected_conditions as EC\n",
    "from selenium.webdriver.common.by import By\n",
    "from selenium.webdriver.support.ui import WebDriverWait\n",
    "from selenium.webdriver.common.action_chains import ActionChains\n",
    "\n",
    "import numpy as np\n",
    "\n",
    "import urllib.request #파싱을 위한 모듈\n",
    "\n",
    "from IPython.core.interactiveshell import InteractiveShell\n",
    "InteractiveShell.ast_node_interactivity = \"all\""
   ]
  },
  {
   "cell_type": "markdown",
   "id": "70b7d978",
   "metadata": {},
   "source": [
    "# 크롬창 열기"
   ]
  },
  {
   "cell_type": "code",
   "execution_count": 94,
   "id": "ffeedd6f",
   "metadata": {},
   "outputs": [
    {
     "name": "stdout",
     "output_type": "stream",
     "text": [
      "브라우저를 실행시킵니다(자동 제어)\n",
      "\n"
     ]
    }
   ],
   "source": [
    "print('브라우저를 실행시킵니다(자동 제어)\\n')\n",
    "browser = webdriver.Chrome('chromedriver') #크롬창열기 # (현재 주피터를 실행하는 경로에) 현재 내 크롬 버전과 동일한 chromedriver.exe가 있으면 실행됨.\n",
    "# https://beomi.github.io/2017/09/28/HowToMakeWebCrawler-Headless-Chrome/\n",
    "\n",
    "news_url = 'https://www.kdca.go.kr/npt/biz/npp/ist/bass/bassSexdstnAgeStatsMain.do'\n",
    "\n",
    "browser.get(news_url) #url 오픈\n",
    "time.sleep(2)\n",
    "\n",
    "# version issue\n",
    "# SessionNotCreatedException: Message: session not created: This version of ChromeDriver only supports Chrome version 87\n",
    "# Current browser version is 103.0.5060.114 with binary path C:\\Program Files (x86)\\Google\\Chrome\\Application\\chrome.exe\n",
    "\n",
    "# solution\n",
    "# https://codechacha.com/ko/selenium-chromedriver-version-error/"
   ]
  },
  {
   "cell_type": "code",
   "execution_count": 5,
   "id": "c5779475",
   "metadata": {},
   "outputs": [
    {
     "data": {
      "text/plain": [
       "17"
      ]
     },
     "execution_count": 5,
     "metadata": {},
     "output_type": "execute_result"
    }
   ],
   "source": [
    "시도lst = ['서울', '부산', '대구', '인천',\n",
    "      '광주', '대전', '울산', '경기', '강원', \n",
    "      '충북', '충남', '전북', '전남', '경북',\n",
    "      '경남', '제주', '세종']\n",
    "len(시도lst) # 17"
   ]
  },
  {
   "cell_type": "code",
   "execution_count": 117,
   "id": "b628fc9d",
   "metadata": {},
   "outputs": [],
   "source": [
    "# 윤년list (4년에 한 번씩)\n",
    "윤년list = [2020 - i*4 for i in range(5)]\n",
    "\n",
    "\n",
    "# 날짜list\n",
    "시작lst = []\n",
    "끝lst = []\n",
    "for 연도 in range(2001, 2022):\n",
    "    for 월 in range(1, 13):\n",
    "        if 월//10 < 1:\n",
    "            월 = f'0{월}'\n",
    "        시작lst.append(f'{연도}-{월}-0{1}')\n",
    "        \n",
    "        if 월 in ['01', '03', '05', '07', '08', 10, 12]:\n",
    "            끝lst.append(f'{연도}-{월}-{31}')\n",
    "            \n",
    "        elif 월 in ['04', '06', '09', 11]:\n",
    "            끝lst.append(f'{연도}-{월}-{30}')\n",
    "                \n",
    "        elif 월 == '02':\n",
    "            if 연도 not in 윤년list:\n",
    "                끝lst.append(f'{연도}-{월}-{28}')\n",
    "            else:\n",
    "                끝lst.append(f'{연도}-{월}-{29}')\n",
    "\n",
    "\n",
    "\n",
    "## 머리가 아프니, 2022년은 따로 만들어서 붙이도록 한다.\n",
    "for 월 in range(1, 7):\n",
    "    if 월//10 < 1:\n",
    "        월 = f'0{월}'\n",
    "    시작lst.append(f'{2022}-{월}-0{1}')\n",
    "    if 월 in ['01', '03', '05', '07', '08', 10, 12]:\n",
    "        끝lst.append(f'{2022}-{월}-{31}')\n",
    "\n",
    "    elif 월 in ['04', '06', '09', 11]:\n",
    "        끝lst.append(f'{2022}-{월}-{30}')\n",
    "\n",
    "    elif 월 == '02':\n",
    "        if 2022 not in 윤년list:\n",
    "            끝lst.append(f'{2022}-{월}-{28}')\n",
    "        else:\n",
    "            끝lst.append(f'{2022}-{월}-{29}')"
   ]
  },
  {
   "cell_type": "code",
   "execution_count": 118,
   "id": "2434ab13",
   "metadata": {},
   "outputs": [
    {
     "data": {
      "text/plain": [
       "['2001-01-01', '2001-02-01', '2001-03-01', '2001-04-01', '2001-05-01']"
      ]
     },
     "execution_count": 118,
     "metadata": {},
     "output_type": "execute_result"
    },
    {
     "data": {
      "text/plain": [
       "['2001-01-31', '2001-02-28', '2001-03-31', '2001-04-30', '2001-05-31']"
      ]
     },
     "execution_count": 118,
     "metadata": {},
     "output_type": "execute_result"
    },
    {
     "data": {
      "text/plain": [
       "258"
      ]
     },
     "execution_count": 118,
     "metadata": {},
     "output_type": "execute_result"
    },
    {
     "data": {
      "text/plain": [
       "258"
      ]
     },
     "execution_count": 118,
     "metadata": {},
     "output_type": "execute_result"
    }
   ],
   "source": [
    "시작lst[:5]\n",
    "끝lst[:5]\n",
    "\n",
    "len(시작lst)\n",
    "len(끝lst)\n",
    "## 258개여야함. (12*21 + 6)"
   ]
  },
  {
   "cell_type": "markdown",
   "id": "bb8cb951",
   "metadata": {},
   "source": [
    "# 멈춘 부분에서 다시 시작\n",
    "- 마지막으로 적혀있는 시작날짜부터 시작하면 됨. <br>\n",
    "- 2022-07-15, 12:42분 현재, (58)까지 저장됨. <br>\n",
    "    2005-12-01 부터 다시 시작 <br>\n",
    "    \n",
    "- 12:57분 현재, (97)까지 저장됨. <br>\n",
    "    2009-03-01부터 다시 시작 <br>\n",
    "\n",
    "- 01:05분 현재, (... 이름이 시간 형태로 달라짐)까지 저장됨. <br>\n",
    "    2011-02-01 부터 다시 시작 <br>\n",
    "\n",
    "- 01:13분 현재, (... 이름이 시간 형태로 달라짐)까지 저장됨. <br>\n",
    "    2013-01-01 부터 다시 시작 <br>\n",
    "   \n",
    "- 01:21분 현재, <br>\n",
    "    2014-12-01 부터 다시 시작 <br>\n",
    "- 01:33분 현재, <br>\n",
    "    2018-10-01 부터 다시 시작 <br>\n",
    "\n",
    "- 01:37분 현재, <br>\n",
    "    2019-08-01 부터 다시 시작 해야함. <br>\n",
    "\n",
    "- 01:45분 현재, <br>\n",
    "    강남 끝남, 강동 시작해야함. <br>\n",
    "    다시 처음날짜부터 시작해야하는데 마지막으로 멈춘부분부터 시작해버리는 이슈 발생, 다행히 파일저장까진 안함. <br>\n",
    "    \n",
    "----------------\n",
    "    \n",
    "- 01:57분 현재, <br>\n",
    "    강동 2004-09-01부터 다시 시작 <br>\n",
    "    \n",
    "- 02:08분 현재, <br>\n",
    "    강동 2008-09-01부터 다시 시작 <br>\n",
    "    \n",
    "- 02:12분 현재, <br>\n",
    "    강동 2009-07-01부터 다시 시작 <br>\n",
    "    \n",
    "- 02:17분 현재, <br>\n",
    "    강동 2011-07-01부터 다시 시작 <br>\n",
    "\n",
    "- 02:20분 현재, <br>\n",
    "    강동 2012-03-01부터 다시 시작 <br>\n",
    "\n",
    "- 02:26분 현재, <br>\n",
    "    강동 2013-03-01부터 다시 시작해야함. <br>\n",
    "\n",
    "\n",
    "- 11:12분 현재, <br>\n",
    "    강동 2015-12-01부터 다시 시작 <br>\n",
    "\n",
    "- 11:25분 현재, <br>\n",
    "    강동 2018-06-01부터 다시 시작 <br>\n",
    "    \n",
    "- 11:30분 현재, <br>\n",
    "    강동 2019-03-01부터 다시 시작 <br>\n",
    "\n",
    "- 11:33분 현재, <br>\n",
    "    강동 2019-10-01부터 다시 시작 <br>\n",
    "\n",
    "- 11:38분 현재, <br>\n",
    "    강동 2020-06-01부터 다시 시작 <br>\n",
    "\n",
    "- 11:42분 현재, <br>\n",
    "    강동 2021-01-01부터 다시 시작 <br>\n",
    "    에러 빈도수가 (8개월로) 잦아짐. 일단 강동은 끝내고 그 다음부터는 더 빨리 새로고침 하기로...\n",
    "\n",
    "- 11:46분 현재, <br>\n",
    "    강동 2021-09-01부터 다시 시작 <br>\n",
    "\n",
    "- 11:48분 현재, <br>\n",
    "    강동 2022-03-01부터 다시 시작 <br>\n",
    "    \n",
    "------------------\n",
    "\n",
    "- 11:53분 현재, <br>\n",
    "    강북 2001-07-01부터 다시 시작 해야함.\n",
    "\n",
    "- 13:42분 현재, <br>\n",
    "    강북 2004-02-01부터 다시 시작 해야함.\n",
    "\n",
    "- 14:22분 현재, <br>\n",
    "    강북 2018-09-01부터 다시 시작 해야함.\n",
    "    \n",
    "- 14:26분 현재, <br>\n",
    "    강북 2019-04-01부터 다시 시작\n",
    "\n",
    "- 14:26 현재, <br>\n",
    "    강북 2019-11-01부터 다시 시작\n",
    "\n",
    "- 14:32 현재, <br>\n",
    "    강북 2020-06-01부터 다시 시작\n",
    "    \n",
    "- 14:36 현재, <br>\n",
    "    강북 2021-01-01부터 다시 시작\n",
    "\n",
    "- 14:41 현재, <br>\n",
    "    강북 끝!\n",
    "------------------\n",
    "\n",
    "- 14:49 현재, <br>\n",
    "    강서 2002-11-01 부터 다시 시작\n",
    "\n",
    "- 14:52 <br>\n",
    "    강서 2003-06-01부터\n",
    "    \n",
    "- 15:05 <br>\n",
    "    강서 2007-04-01부터\n",
    "\n",
    "- 15:13 <br>\n",
    "    강서 2010-07-01부터\n",
    "\n",
    "- 15:19 <br>\n",
    "    강서 2012-05-01부터\n",
    "\n",
    "- 15:44 <br>\n",
    "    강서 2022-04-01부터\n",
    "\n",
    "- 15:46 <br>\n",
    "    강서 끝!\n",
    "----------------------------\n",
    "관악구 중"
   ]
  },
  {
   "cell_type": "code",
   "execution_count": 110,
   "id": "08d4bd5f",
   "metadata": {},
   "outputs": [],
   "source": [
    "멈춘부분 = 시작lst.index('')\n",
    "시작lst = 시작lst[멈춘부분:]\n",
    "끝lst = 끝lst[멈춘부분:]"
   ]
  },
  {
   "cell_type": "code",
   "execution_count": 111,
   "id": "d6862ad2",
   "metadata": {},
   "outputs": [
    {
     "data": {
      "text/plain": [
       "'2022-04-01'"
      ]
     },
     "execution_count": 111,
     "metadata": {},
     "output_type": "execute_result"
    },
    {
     "data": {
      "text/plain": [
       "'2022-06-01'"
      ]
     },
     "execution_count": 111,
     "metadata": {},
     "output_type": "execute_result"
    }
   ],
   "source": [
    "시작lst[0]\n",
    "시작lst[-1]"
   ]
  },
  {
   "cell_type": "markdown",
   "id": "e98840ba",
   "metadata": {},
   "source": [
    "# 옵션버튼 클릭"
   ]
  },
  {
   "cell_type": "code",
   "execution_count": 112,
   "id": "04bbd49d",
   "metadata": {},
   "outputs": [],
   "source": [
    "def delete(input_box):\n",
    "        input_box.send_keys(Keys.BACK_SPACE)\n",
    "        input_box.send_keys(Keys.BACK_SPACE)\n",
    "        input_box.send_keys(Keys.BACK_SPACE)\n",
    "        input_box.send_keys(Keys.BACK_SPACE)\n",
    "        input_box.send_keys(Keys.BACK_SPACE)\n",
    "        input_box.send_keys(Keys.BACK_SPACE)\n",
    "        input_box.send_keys(Keys.BACK_SPACE)\n",
    "        input_box.send_keys(Keys.BACK_SPACE)\n",
    "        input_box.send_keys(Keys.BACK_SPACE)\n",
    "        input_box.send_keys(Keys.BACK_SPACE)\n",
    "\n",
    "# 통계작성_다운로드, 매 loop마다 쓰이므로 함수로 작성해서 집어넣도록 하겠습니다.\n",
    "def 통계작성_다운로드():\n",
    "    ## 통계작성버튼 클릭\n",
    "    browser.find_element_by_xpath('//*[@id=\"sexdstnAgeAgeSexdstnFrm\"]/input[2]').click()\n",
    "#     browser.implicitly_wait(2)\n",
    "    time.sleep(5) # 여기 시간 늘린게 가장 큰 성공 요인인 것 같음.\n",
    "\n",
    "    ## csv 다운로드 클릭 //*[@id=\"csvDownBtn\"] //*[@id=\"csvDownBtn\"]/img\n",
    "    browser.find_element_by_xpath('//*[@id=\"csvDownBtn\"]').click()\n",
    "#     browser.implicitly_wait(3)\n",
    "    time.sleep(5)\n",
    "\n",
    "# 객체.implicitly_wait(시간)은 작동? 완료 되면 그냥 무시되는 코드"
   ]
  },
  {
   "cell_type": "code",
   "execution_count": 113,
   "id": "9df7e920",
   "metadata": {},
   "outputs": [],
   "source": [
    "# browser.refresh()로 해결\n",
    "# def 다시실행():\n",
    "#     browser = webdriver.Chrome('chromedriver') #크롬창열기 # (현재 주피터를 실행하는 경로에) 현재 내 크롬 버전과 동일한 chromedriver.exe가 있으면 실행됨. # 반드시 같이 있어야 함.\n",
    "#     browser.get(news_url) #url 오픈\n",
    "#     time.sleep(2)\n",
    "    "
   ]
  },
  {
   "cell_type": "code",
   "execution_count": 114,
   "id": "faa0ab74",
   "metadata": {},
   "outputs": [],
   "source": [
    "def 공통():\n",
    "    ## 연령별 성별 탭 클릭\n",
    "    search_opt_box = browser.find_element_by_xpath('//*[@id=\"ui-id-3\"]')\n",
    "    search_opt_box.click() #버튼 클릭\n",
    "    browser.implicitly_wait(0.02)\n",
    "\n",
    "    ## 공통\n",
    "    # 감염병 명 선택\n",
    "    browser.find_element_by_xpath('//*[@id=\"sexdstnAgeAgeSexdstnFrm\"]/div/ul[2]/li[2]/div[1]/div/button/div').click()\n",
    "    browser.find_element_by_xpath('//*[@id=\"sexdstnAgeAgeSexdstnFrm\"]/div/ul[2]/li[2]/div[1]/div/div/ul/li[1]/label/input').click()\n",
    "    browser.find_element_by_xpath('//*[@id=\"sexdstnAgeAgeSexdstnFrm\"]/div/ul[2]/li[2]/div[2]/div/button/div').click()\n",
    "    browser.find_element_by_xpath('//*[@id=\"sexdstnAgeAgeSexdstnFrm\"]/div/ul[2]/li[2]/div[2]/div/div/ul/li[1]/label/input').click()\n",
    "    browser.implicitly_wait(0.02)\n",
    "\n",
    "    ## 끝에는 닫아주기까지 해야함.\n",
    "    browser.find_element_by_xpath('//*[@id=\"sexdstnAgeAgeSexdstnFrm\"]/div/ul[2]/li[2]/div[2]/div/button/div').click()\n",
    "\n",
    "    # 연령 선택\n",
    "    browser.find_element_by_xpath('//*[@id=\"sexdstnAgeAgeSexdstnFrm_ageType2\"]').click()\n",
    "    \n",
    "\n",
    "## 창 새로 열기 전에 하던 시도군구부터 다시 시작해야하므로\n",
    "def 시도군구(시도_, 군구_):\n",
    "    ## 시도\n",
    "    browser.find_element_by_xpath('//*[@id=\"sexdstnAgeAgeSexdstnFrmAreaCtprvnCd\"]').click()\n",
    "    browser.find_element_by_xpath(f'//*[@id=\"sexdstnAgeAgeSexdstnFrmAreaCtprvnCd\"]/option[{시도_+2}]').click()\n",
    "    ## 군구\n",
    "    browser.find_element_by_xpath(f'//*[@id=\"sexdstnAgeAgeSexdstnFrmAreaSignguCd\"]/option[{군구_+2}]').click()"
   ]
  },
  {
   "cell_type": "code",
   "execution_count": 115,
   "id": "67c22256",
   "metadata": {},
   "outputs": [],
   "source": [
    "# 기간 선택, 함수로 만들어서 한 줄로 실행하는 코드를 집어넣도록 하겠습니다.\n",
    "def 기간선택(시도_, 군구_):\n",
    "    for idx in range(len(시작lst)):\n",
    "        print(f'시작 날짜입니다. {시작lst[idx]}')\n",
    "        \n",
    "        # 8개월이 지나면 창 다시 실행.\n",
    "        if idx != 0 and idx%8 == 0: # 이것도 에러 잡은 성공 요인.\n",
    "#             다시실행()\n",
    "            browser.refresh()\n",
    "            공통()\n",
    "            시도군구(시도_,군구_)\n",
    "            \n",
    "\n",
    "        ## 시작 날짜\n",
    "        search_box = browser.find_element_by_xpath('//*[@id=\"sexdstnAgeAgeSexdstnFrmStartDt\"]')\n",
    "        delete(search_box)\n",
    "        browser.implicitly_wait(0.1)\n",
    "        search_box.send_keys(시작lst[idx])\n",
    "        search_box.send_keys(Keys.RETURN)\n",
    "        browser.implicitly_wait(0.1)\n",
    "\n",
    "        ## 끝 날짜\n",
    "        search_box = browser.find_element_by_xpath('//*[@id=\"sexdstnAgeAgeSexdstnFrmEndDt\"]')\n",
    "        delete(search_box)\n",
    "        browser.implicitly_wait(0.1)\n",
    "        search_box.send_keys(끝lst[idx])\n",
    "        search_box.send_keys(Keys.RETURN)\n",
    "        browser.implicitly_wait(0.1)\n",
    "        browser.find_element_by_xpath('//*[@id=\"tabs-3\"]').click() # 빈 화면 클릭하기.\n",
    "        time.sleep(0.3)\n",
    "\n",
    "        # 8개월되기 전(7개월째)의 정보 저장\n",
    "        if idx%7 == 0:\n",
    "            시도 = 시도_\n",
    "            군구 = 군구_\n",
    "        \n",
    "        ## 닫아주기\n",
    "#         browser.find_element_by_xpath('//*[@id=\"sexdstnAgeAgeSexdstnFrm\"]/div/ul[1]/li[2]/img[2]').click()\n",
    "        \n",
    "        통계작성_다운로드()"
   ]
  },
  {
   "cell_type": "code",
   "execution_count": 116,
   "id": "ff8d19aa",
   "metadata": {
    "scrolled": true
   },
   "outputs": [
    {
     "name": "stdout",
     "output_type": "stream",
     "text": [
      "서울를(을) 돌리고 있습니다.\n",
      "시작 날짜입니다. 2022-04-01\n",
      "시작 날짜입니다. 2022-05-01\n",
      "시작 날짜입니다. 2022-06-01\n"
     ]
    },
    {
     "ename": "KeyboardInterrupt",
     "evalue": "",
     "output_type": "error",
     "traceback": [
      "\u001b[1;31m---------------------------------------------------------------------------\u001b[0m",
      "\u001b[1;31mKeyboardInterrupt\u001b[0m                         Traceback (most recent call last)",
      "\u001b[1;32m<ipython-input-116-aff076b616d4>\u001b[0m in \u001b[0;36m<module>\u001b[1;34m\u001b[0m\n\u001b[0;32m     19\u001b[0m         \u001b[1;32mfor\u001b[0m \u001b[0m군구\u001b[0m \u001b[1;32min\u001b[0m \u001b[0mrange\u001b[0m\u001b[1;33m(\u001b[0m\u001b[1;36m3\u001b[0m\u001b[1;33m,\u001b[0m \u001b[1;36m25\u001b[0m\u001b[1;33m)\u001b[0m\u001b[1;33m:\u001b[0m \u001b[1;31m# 25 # 강남, 강동, 강북 끝나서 그 다음부터!!\u001b[0m\u001b[1;33m\u001b[0m\u001b[1;33m\u001b[0m\u001b[0m\n\u001b[0;32m     20\u001b[0m             \u001b[0mbrowser\u001b[0m\u001b[1;33m.\u001b[0m\u001b[0mfind_element_by_xpath\u001b[0m\u001b[1;33m(\u001b[0m\u001b[1;34mf'//*[@id=\"sexdstnAgeAgeSexdstnFrmAreaSignguCd\"]/option[{군구+2}]'\u001b[0m\u001b[1;33m)\u001b[0m\u001b[1;33m.\u001b[0m\u001b[0mclick\u001b[0m\u001b[1;33m(\u001b[0m\u001b[1;33m)\u001b[0m\u001b[1;33m\u001b[0m\u001b[1;33m\u001b[0m\u001b[0m\n\u001b[1;32m---> 21\u001b[1;33m             \u001b[0m기간선택\u001b[0m\u001b[1;33m(\u001b[0m\u001b[0m시도\u001b[0m\u001b[1;33m,\u001b[0m \u001b[0m군구\u001b[0m\u001b[1;33m)\u001b[0m\u001b[1;33m\u001b[0m\u001b[1;33m\u001b[0m\u001b[0m\n\u001b[0m\u001b[0;32m     22\u001b[0m \u001b[1;31m#             break\u001b[0m\u001b[1;33m\u001b[0m\u001b[1;33m\u001b[0m\u001b[1;33m\u001b[0m\u001b[0m\n\u001b[0;32m     23\u001b[0m \u001b[1;31m#         break\u001b[0m\u001b[1;33m\u001b[0m\u001b[1;33m\u001b[0m\u001b[1;33m\u001b[0m\u001b[0m\n",
      "\u001b[1;32m<ipython-input-115-783f77564825>\u001b[0m in \u001b[0;36m기간선택\u001b[1;34m(시도_, 군구_)\u001b[0m\n\u001b[0;32m     38\u001b[0m \u001b[1;31m#         browser.find_element_by_xpath('//*[@id=\"sexdstnAgeAgeSexdstnFrm\"]/div/ul[1]/li[2]/img[2]').click()\u001b[0m\u001b[1;33m\u001b[0m\u001b[1;33m\u001b[0m\u001b[1;33m\u001b[0m\u001b[0m\n\u001b[0;32m     39\u001b[0m \u001b[1;33m\u001b[0m\u001b[0m\n\u001b[1;32m---> 40\u001b[1;33m         \u001b[0m통계작성_다운로드\u001b[0m\u001b[1;33m(\u001b[0m\u001b[1;33m)\u001b[0m\u001b[1;33m\u001b[0m\u001b[1;33m\u001b[0m\u001b[0m\n\u001b[0m",
      "\u001b[1;32m<ipython-input-112-c08e16b19b19>\u001b[0m in \u001b[0;36m통계작성_다운로드\u001b[1;34m()\u001b[0m\n\u001b[0;32m     21\u001b[0m     \u001b[0mbrowser\u001b[0m\u001b[1;33m.\u001b[0m\u001b[0mfind_element_by_xpath\u001b[0m\u001b[1;33m(\u001b[0m\u001b[1;34m'//*[@id=\"csvDownBtn\"]'\u001b[0m\u001b[1;33m)\u001b[0m\u001b[1;33m.\u001b[0m\u001b[0mclick\u001b[0m\u001b[1;33m(\u001b[0m\u001b[1;33m)\u001b[0m\u001b[1;33m\u001b[0m\u001b[1;33m\u001b[0m\u001b[0m\n\u001b[0;32m     22\u001b[0m \u001b[1;31m#     browser.implicitly_wait(3)\u001b[0m\u001b[1;33m\u001b[0m\u001b[1;33m\u001b[0m\u001b[1;33m\u001b[0m\u001b[0m\n\u001b[1;32m---> 23\u001b[1;33m     \u001b[0mtime\u001b[0m\u001b[1;33m.\u001b[0m\u001b[0msleep\u001b[0m\u001b[1;33m(\u001b[0m\u001b[1;36m5\u001b[0m\u001b[1;33m)\u001b[0m\u001b[1;33m\u001b[0m\u001b[1;33m\u001b[0m\u001b[0m\n\u001b[0m\u001b[0;32m     24\u001b[0m \u001b[1;33m\u001b[0m\u001b[0m\n\u001b[0;32m     25\u001b[0m \u001b[1;31m# 객체.implicitly_wait(시간)은 작동? 완료 되면 그냥 무시되는 코드\u001b[0m\u001b[1;33m\u001b[0m\u001b[1;33m\u001b[0m\u001b[1;33m\u001b[0m\u001b[0m\n",
      "\u001b[1;31mKeyboardInterrupt\u001b[0m: "
     ]
    }
   ],
   "source": [
    "공통()\n",
    "\n",
    "\n",
    "# 지역 설정, 하나하나 클릭해야 하므로 Xpath의 패턴을 찾아서 for loop을 돌릴 수 있도록 한다.\n",
    "## 시도\n",
    "for 시도 in range(18):\n",
    "    print(f'{시도lst[시도]}를(을) 돌리고 있습니다.')\n",
    "    browser.find_element_by_xpath('//*[@id=\"sexdstnAgeAgeSexdstnFrmAreaCtprvnCd\"]').click()\n",
    "    browser.find_element_by_xpath(f'//*[@id=\"sexdstnAgeAgeSexdstnFrmAreaCtprvnCd\"]/option[{시도+2}]').click()\n",
    "        \n",
    "    ## 군구\n",
    "    if 시도lst[시도] == '경기':\n",
    "        for 군구 in range(52): # 52\n",
    "            browser.find_element_by_xpath(f'//*[@id=\"sexdstnAgeAgeSexdstnFrmAreaSignguCd\"]/option[{군구+2}]').click()\n",
    "            기간선택(시도, 군구)\n",
    "\n",
    "\n",
    "    elif 시도lst[시도] == '서울' or 시도lst[시도] == '경북' or 시도lst[시도] == '경남':\n",
    "        for 군구 in range(4, 25): # 25 # 강남, 강동, 강북, 강서 끝나서 그 다음부터!!\n",
    "            browser.find_element_by_xpath(f'//*[@id=\"sexdstnAgeAgeSexdstnFrmAreaSignguCd\"]/option[{군구+2}]').click()\n",
    "            기간선택(시도, 군구)\n",
    "#             break\n",
    "#         break\n",
    "#     break\n",
    "\n",
    "\n",
    "    elif 시도lst[시도] == '전남':\n",
    "        for 군구 in range(22): # 22\n",
    "            browser.find_element_by_xpath(f'//*[@id=\"sexdstnAgeAgeSexdstnFrmAreaSignguCd\"]/option[{군구+2}]').click()\n",
    "            기간선택(시도, 군구)\n",
    "\n",
    "\n",
    "    elif 시도lst[시도] == '강원' or 시도lst[시도] == '충남':\n",
    "        for 군구 in range(18): # 18\n",
    "            browser.find_element_by_xpath(f'//*[@id=\"sexdstnAgeAgeSexdstnFrmAreaSignguCd\"]/option[{군구+2}]').click()\n",
    "            기간선택(시도, 군구)\n",
    "            \n",
    "\n",
    "    elif 시도lst[시도] == '충북':\n",
    "        for 군구 in range(17): # 17\n",
    "            browser.find_element_by_xpath(f'//*[@id=\"sexdstnAgeAgeSexdstnFrmAreaSignguCd\"]/option[{군구+2}]').click()\n",
    "            기간선택(시도, 군구)\n",
    "            \n",
    "\n",
    "    elif 시도lst[시도] == '부산' or 시도lst[시도] == '전북':\n",
    "        for 군구 in range(16): # 16\n",
    "            browser.find_element_by_xpath(f'//*[@id=\"sexdstnAgeAgeSexdstnFrmAreaSignguCd\"]/option[{군구+2}]').click()\n",
    "            기간선택(시도, 군구)\n",
    "\n",
    "\n",
    "    elif 시도lst[시도] == '인천':\n",
    "        for 군구 in range(10): # 10\n",
    "            browser.find_element_by_xpath(f'//*[@id=\"sexdstnAgeAgeSexdstnFrmAreaSignguCd\"]/option[{군구+2}]').click()\n",
    "            기간선택(시도, 군구)\n",
    "\n",
    "\n",
    "    elif 시도lst[시도] == '대구':\n",
    "        for 군구 in range(8): # 8\n",
    "            browser.find_element_by_xpath(f'//*[@id=\"sexdstnAgeAgeSexdstnFrmAreaSignguCd\"]/option[{군구+2}]').click()\n",
    "            기간선택(시도, 군구)\n",
    "\n",
    "\n",
    "    elif 시도lst[시도] == '광주' or 시도lst[시도] == '대전' or 시도lst[시도] == '울산':\n",
    "        for 군구 in range(5): # 5\n",
    "            browser.find_element_by_xpath(f'//*[@id=\"sexdstnAgeAgeSexdstnFrmAreaSignguCd\"]/option[{군구+2}]').click()\n",
    "            기간선택(시도, 군구)\n",
    "\n",
    "\n",
    "    elif 시도lst[시도] == '제주':\n",
    "        for 군구 in range(4): # 4\n",
    "            browser.find_element_by_xpath(f'//*[@id=\"sexdstnAgeAgeSexdstnFrmAreaSignguCd\"]/option[{군구+2}]').click()\n",
    "            기간선택(시도, 군구)\n",
    "\n",
    "\n",
    "    elif 시도lst[시도] == '세종':\n",
    "        for 군구 in range(1): # 1\n",
    "            browser.find_element_by_xpath(f'//*[@id=\"sexdstnAgeAgeSexdstnFrmAreaSignguCd\"]/option[{군구+2}]').click()\n",
    "            기간선택(시도, 군구)\n",
    "            \n",
    "    time.sleep(0.4)"
   ]
  },
  {
   "cell_type": "markdown",
   "id": "2e1dfc64",
   "metadata": {},
   "source": [
    "# Message: element click intercepted\n",
    "이 문제는 새로고침으로 해결.... 도랏맨..... 진짜 미쳤나봐 <br>\n",
    "또는 창을 최대화하고, 그 눌려야하는 버튼이 창에 보이게끔 화면 축소를 하거나.... <br>\n",
    "또는 다운 받은 내역이 뜬 창을 닫거나 <br>\n",
    "\n",
    "또 다른 에러가 뜨면 코드를 재실행 하면 문제 없음.ㅎ_ㅎ <br>\n",
    "\n",
    "일단 한 번 돌리면 최대 5년 그냥 돌아감. 아싸. 난 우영우 보러 가야지 ^^ <br>\n",
    "\n",
    "(2년으로 줄어듦...) <br>\n",
    "\n",
    "no search element 라는 에러도 걍 무시하고 다시 실행해주면 됨...^^...."
   ]
  },
  {
   "cell_type": "code",
   "execution_count": null,
   "id": "150b19dd",
   "metadata": {},
   "outputs": [],
   "source": []
  },
  {
   "cell_type": "code",
   "execution_count": null,
   "id": "126cb006",
   "metadata": {},
   "outputs": [],
   "source": []
  },
  {
   "cell_type": "code",
   "execution_count": null,
   "id": "aae1abaa",
   "metadata": {},
   "outputs": [],
   "source": [
    "53-2+1"
   ]
  },
  {
   "cell_type": "markdown",
   "id": "be6b71e1",
   "metadata": {},
   "source": [
    "<각 지역 군구>\n",
    "~~서울 : 1~25 ==> 25~~\n",
    "~~부산 : 26~41 ==> 16~~\n",
    "~~대구 : 42~49 ==> 8~~\n",
    "~~인천 : 50~59 ==> 10~~\n",
    "\n",
    "광주 : 60~64 ==> 5\n",
    "대전 : 65~69 ==> 5\n",
    "울산 : 70~74 ==> 5\n",
    "\n",
    "//*[@id=\"sexdstnAgeAgeSexdstnFrmAreaSignguCd\"]/option[2]\n",
    "//*[@id=\"sexdstnAgeAgeSexdstnFrmAreaSignguCd\"]/option[47]\n",
    "//*[@id=\"sexdstnAgeAgeSexdstnFrmAreaSignguCd\"]/option[48]\n",
    "//*[@id=\"sexdstnAgeAgeSexdstnFrmAreaSignguCd\"]/option[53]\n",
    "~~경기 : 75~120, 120(이게 2개임) 122, 123, 124, 125, 130 ==> 52 (2로 시작, 53으로 끝)~~\n",
    "\n",
    "//*[@id=\"sexdstnAgeAgeSexdstnFrmAreaSignguCd\"]/option[2]\n",
    "//*[@id=\"sexdstnAgeAgeSexdstnFrmAreaSignguCd\"]/option[19]\n",
    "~~강원 : 360~377 ==> 18 (2로 시작, 19로 끝)~~\n",
    "\n",
    "~~충북 : 400~416 ==> 17~~\n",
    "\n",
    "//*[@id=\"sexdstnAgeAgeSexdstnFrmAreaSignguCd\"]/option[2]\n",
    "//*[@id=\"sexdstnAgeAgeSexdstnFrmAreaSignguCd\"]/option[19]\n",
    "~~충남 : 420~435 + 704, 705 ==> 18~~\n",
    "\n",
    "//*[@id=\"sexdstnAgeAgeSexdstnFrmAreaSignguCd\"]/option[2]\n",
    "//*[@id=\"sexdstnAgeAgeSexdstnFrmAreaSignguCd\"]/option[17]\n",
    "~~전북 : 550~565 ==> 16~~\n",
    "\n",
    "~~전남 : 570~591 ==> 22~~\n",
    "\n",
    "//*[@id=\"sexdstnAgeAgeSexdstnFrmAreaSignguCd\"]/option[26]\n",
    "~~경북 : 600~624 ==> 25~~\n",
    "\n",
    "//*[@id=\"sexdstnAgeAgeSexdstnFrmAreaSignguCd\"]/option[26]\n",
    "~~경남 : 650~669, 706~710 ==>25~~\n",
    "\n",
    "~~제주 : 700~703 ==> 4~~\n",
    "~~세종 : 711 ==> 1~~"
   ]
  },
  {
   "cell_type": "code",
   "execution_count": null,
   "id": "3b567247",
   "metadata": {},
   "outputs": [],
   "source": [
    "for 군구 in range(1): # 1\n",
    "    print(군구)"
   ]
  },
  {
   "cell_type": "code",
   "execution_count": null,
   "id": "fad99436",
   "metadata": {},
   "outputs": [],
   "source": []
  },
  {
   "cell_type": "code",
   "execution_count": null,
   "id": "7ed0e2a6",
   "metadata": {},
   "outputs": [],
   "source": []
  },
  {
   "cell_type": "code",
   "execution_count": null,
   "id": "f24001ff",
   "metadata": {},
   "outputs": [],
   "source": []
  },
  {
   "cell_type": "code",
   "execution_count": 5,
   "id": "c6f24bf8",
   "metadata": {},
   "outputs": [
    {
     "data": {
      "text/plain": [
       "146"
      ]
     },
     "execution_count": 5,
     "metadata": {},
     "output_type": "execute_result"
    }
   ],
   "source": [
    "len(시작lst[:시작lst.index('2013-03-01')]) # 내가 해냄,,,"
   ]
  },
  {
   "cell_type": "code",
   "execution_count": 6,
   "id": "3e6bbaa1",
   "metadata": {},
   "outputs": [
    {
     "data": {
      "text/plain": [
       "258"
      ]
     },
     "execution_count": 6,
     "metadata": {},
     "output_type": "execute_result"
    }
   ],
   "source": [
    "len(시작lst)"
   ]
  },
  {
   "cell_type": "code",
   "execution_count": null,
   "id": "45e3163d",
   "metadata": {},
   "outputs": [],
   "source": []
  },
  {
   "cell_type": "code",
   "execution_count": null,
   "id": "12cc4ba0",
   "metadata": {},
   "outputs": [],
   "source": []
  },
  {
   "cell_type": "code",
   "execution_count": null,
   "id": "2fb4ad48",
   "metadata": {},
   "outputs": [],
   "source": []
  },
  {
   "cell_type": "code",
   "execution_count": null,
   "id": "3c313278",
   "metadata": {},
   "outputs": [],
   "source": []
  },
  {
   "cell_type": "code",
   "execution_count": null,
   "id": "6692ee1d",
   "metadata": {},
   "outputs": [],
   "source": []
  },
  {
   "cell_type": "code",
   "execution_count": null,
   "id": "92cb9605",
   "metadata": {},
   "outputs": [],
   "source": []
  },
  {
   "cell_type": "code",
   "execution_count": null,
   "id": "f45118f7",
   "metadata": {},
   "outputs": [],
   "source": []
  },
  {
   "cell_type": "code",
   "execution_count": null,
   "id": "dd547703",
   "metadata": {},
   "outputs": [],
   "source": []
  }
 ],
 "metadata": {
  "kernelspec": {
   "display_name": "Python 3.7.8 64-bit",
   "language": "python",
   "name": "python3"
  },
  "language_info": {
   "codemirror_mode": {
    "name": "ipython",
    "version": 3
   },
   "file_extension": ".py",
   "mimetype": "text/x-python",
   "name": "python",
   "nbconvert_exporter": "python",
   "pygments_lexer": "ipython3",
   "version": "3.7.8"
  },
  "toc": {
   "base_numbering": 1,
   "nav_menu": {},
   "number_sections": true,
   "sideBar": true,
   "skip_h1_title": false,
   "title_cell": "Table of Contents",
   "title_sidebar": "Contents",
   "toc_cell": false,
   "toc_position": {},
   "toc_section_display": true,
   "toc_window_display": false
  },
  "vscode": {
   "interpreter": {
    "hash": "0a54084e6b208ee8d1ce3989ffc20924477a5f55f5a43e22e699a6741623861e"
   }
  }
 },
 "nbformat": 4,
 "nbformat_minor": 5
}
