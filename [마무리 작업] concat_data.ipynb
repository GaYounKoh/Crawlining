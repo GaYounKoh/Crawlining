{
 "cells": [
  {
   "cell_type": "code",
   "execution_count": 1,
   "id": "ae9f0d1b",
   "metadata": {},
   "outputs": [],
   "source": [
    "import pandas as pd\n",
    "from glob import glob\n",
    "import os\n",
    "import time\n",
    "from tqdm import tqdm\n",
    "\n",
    "from IPython.core.interactiveshell import InteractiveShell\n",
    "InteractiveShell.ast_node_interactivity = \"all\""
   ]
  },
  {
   "cell_type": "code",
   "execution_count": 2,
   "id": "2983dc3a",
   "metadata": {},
   "outputs": [],
   "source": [
    "main_path = 'C:/Users/Admin/바탕 화면/다운로드/정형철교수님/'\n",
    "\n",
    "발생 = '지역별_질병별_월별_감염병전체전체_지역전체전체(2001.01-2022.06)/'\n",
    "사망 = '지역별_사망_월별_감염병전체전체_지역(2001-2021)/'\n",
    "성별 = '지역별_질병별_연도별_성별_연령별_발생/'"
   ]
  },
  {
   "cell_type": "markdown",
   "id": "9f50d269",
   "metadata": {},
   "source": [
    "# labeling을 위한 작업"
   ]
  },
  {
   "cell_type": "code",
   "execution_count": 21,
   "id": "15d8f19a",
   "metadata": {},
   "outputs": [
    {
     "data": {
      "text/plain": [
       "17"
      ]
     },
     "execution_count": 21,
     "metadata": {},
     "output_type": "execute_result"
    },
    {
     "data": {
      "text/plain": [
       "63"
      ]
     },
     "execution_count": 21,
     "metadata": {},
     "output_type": "execute_result"
    },
    {
     "data": {
      "text/plain": [
       "63"
      ]
     },
     "execution_count": 21,
     "metadata": {},
     "output_type": "execute_result"
    },
    {
     "data": {
      "text/plain": [
       "272"
      ]
     },
     "execution_count": 21,
     "metadata": {},
     "output_type": "execute_result"
    }
   ],
   "source": [
    "## 시도lst\n",
    "\n",
    "시도lst = ['서울', '부산', '대구', '인천',\n",
    "      '광주', '대전', '울산', '경기', '강원', \n",
    "      '충북', '충남', '전북', '전남', '경북',\n",
    "      '경남', '제주', '세종']\n",
    "len(시도lst) # 17\n",
    "\n",
    "## name2병id (len 63)\n",
    "\n",
    "급1병_lst = ['에볼라바이러스병', '마버그열', '라싸열', '크리미안콩고출혈열', '남아메리카출혈열', '리프트밸리열', '두창', '페스트',\n",
    "            '탄저', '보툴리눔독소증', '야토병', '중증급성호흡기증후군(SARS)', '중동호흡기증후군(MERS)', '동물인플루엔자 인체감염증',\n",
    "            '신종인플루엔자', '디프테리아']\n",
    "\n",
    "급2병_lst = ['수두', '홍역', '콜레라', '장티푸스', '파라티푸스', '세균성이질', '장출혈성대장균감염증', 'A형간염', '백일해',\n",
    "            '유행성이하선염', '풍진(2018년이전)', '풍진(선천성)', '풍진(후천성)', '폴리오', '수막구균 감염증',\n",
    "            'b형헤모필루스인플루엔자', '폐렴구균 감염증', '한센병', '성홍열', '반코마이신내성황색포도알균(VRSA) 감염증',\n",
    "            '카바페넴내성장내세균속균종(CRE) 감염증', 'E형간염']\n",
    "\n",
    "급3병_lst = ['파상풍', 'B형간염', '일본뇌염', 'C형간염', '말라리아', '레지오넬라증', '비브리오패혈증', '발진티푸스', '발진열',\n",
    "             '쯔쯔가무시증', '렙토스피라증', '브루셀라증', '공수병', '신증후군출혈열',\n",
    "             '크로이츠펠트-야콥병(CDJ) 및 변종크로이츠펠트-야콥병(vCJD)', '황열', '뎅기열', '큐열', '웨스트나일열', '라임병',\n",
    "             '진드기매개뇌염', '유비저', '치쿤구니야열', '중증열성혈소판감소증후군(SFTS)', '지카바이러스감염증']\n",
    "\n",
    "병name_lst = 급1병_lst + 급2병_lst + 급3병_lst\n",
    "len(병name_lst) # 63\n",
    "\n",
    "병id_lst = [i for i in range(len(급1병_lst))] + [i for i in range(len(급2병_lst))] + [i for i in range(len(급3병_lst))]\n",
    "\n",
    "name2병id = {병name_lst[i] : 병id_lst[i] for i in range(len(병id_lst))}\n",
    "len(name2병id) # 63\n",
    "\n",
    "급id_match_lst = [1]*len(급1병_lst) + [2]*len(급2병_lst) + [3]*len(급3병_lst)\n",
    "\n",
    "\n",
    "## 지역 (len 272)\n",
    "군구서울 = ['강남구', '강동구', '강북구', '강서구', '관악구', '광진구', '구로구', '금천구', '노원구', '도봉구', '동대문구', '동작구', '마포구', '서대문구', '서초구', '성동구', '성북구', '송파구', '양천구', '영등포구', '용산구', '은평구',\n",
    "           '종로구', '중구', '중랑구']\n",
    "\n",
    "군구부산 = ['강서구', '금정구', '기장군', '남구', '동구', '동래구', '부산진구', '북구', '사상구', '사하구', '서구', '수영구', '연제구', '영도구', '중구', '해운대구']\n",
    "\n",
    "군구대구 = ['남구', '달서구', '달성군', '동구', '북구', '서구', '수성구', '중구']\n",
    "\n",
    "군구인천 = ['강화군', '계양구', '미추홀구', '남동구', '동구', '부평구', '서구', '연수구', '옹진군', '중구']\n",
    "\n",
    "군구광주 = ['광산구', '남구', '동구', '북구', '서구']\n",
    "\n",
    "군구대전 = ['대덕구', '동구', '서구', '유성구', '중구']\n",
    "\n",
    "군구울산 = ['남구', '동구', '북구', '울주군', '중구']\n",
    "\n",
    "군구경기 = ['가평군', '고양시 덕양구', '고양시 일산동구', '고양시 일산서구', '과천시', '광명시', '광주시', '구리시', '군포시', '김포시', '남양주시', '동두천시', '부천시 소사구', '부천시 오정구', '부천시 원미구', '성남시 분당구', '성남시 수정구',\n",
    "           '성남시 중원구', '수원시 권선구', '수원시 영통구', '수원시 장안구', '수원시 팔달구', '시흥시', '안산시 단원구', '안산시 상록구', '안성시', '안양시 동안구', '안양시 만안구', '양주시', '양평군', '여주시', '연천군', '오산시', '용인시 기흥구', '용인시 수지구',\n",
    "           '용인시 처인구', '의왕시', '의정부시', '이천시', '파주시', '평택시', '포천시', '하남시', '화성시', '양주군', '고양시 일산구', '포천군', '용인시', '남양주', '고양시 일산동', '안산시', '부천시']\n",
    "\n",
    "군구강원 = ['강릉시', '고성군', '동해시', '삼척시', '속초시', '양구군', '양양군', '영월군', '원주시', '인제군', '정선군', '철원군', '춘천시', '태백시', '평창군', '홍천군', '화천군', '횡성군']\n",
    "\n",
    "군구충북 = ['괴산군', '단양군', '보은군', '영동군', '옥천군', '음성군', '제천시',' 증평군', '진천군', '청원군', '(구)청주시 상당구', '(구)청주시 흥덕구', '충주시', '청주시 상당구', '청주시 흥덕구', '청주시 서원구', '청주시 청원구']\n",
    "\n",
    "군구충남 = ['계룡시', '공주시', '금산군', '논산시', '당진시', '보령시', '부여군', '서산시', '서천군', '아산시', '연기군', '예산군', '천안시', '청양군', '태안군', '홍성군', '천안시 동남구', '천안시 서북구']\n",
    "\n",
    "군구전북 = ['고창군', '군산시' ,'김제시', '남원시', '무주군', '부안군', '순창군', '완주군', '익산시', '임실군', '장수군', '전주시 덕진구', '전주시 완산구', '정읍시', '진안군', '전주시']\n",
    "\n",
    "군구전남 = ['강진군', '고흥군', '곡성군', '광양시', '구례군', '나주시', '담양군', '목포시', '무안군', '보성군', '순천시', '신안군', '여수시', '영광군', '영암군', '완도군', '장성군', '장흥군', '진도군', '함평군', '해남군', '화순군']\n",
    "\n",
    "군구경북 = ['경산시', '경주시', '고령군', '구미시', '군위군', '김천시', '문경시', '봉화군', '상주시', '성주군', '안동시', '영덕군', '영양군', '영주시', '영천시', '예천군', '울릉군', '울진군', '의성군', '청도군', '청송군', '칠곡군',\n",
    "           '포항시 남구', '포항시 북구', '포항시']\n",
    "\n",
    "군구경남 = ['거제시', '거창군', '고성군', '김해시', '남해군', '마산시', '밀양시', '사천시', '산청군', '양산시', '의령군', '진주시', '진해시', '창녕군', '창원시', '통영시', '하동군', '함안군', '함양군', '합천군', '창원시 마산합포구', '창원시 마산회원구',\n",
    "           '창원시 성산구', '창원시 의창구', '창원시 진해구']\n",
    "\n",
    "군구제주 = ['서귀포시', '제주시', '남제주군', '북제주군']\n",
    "\n",
    "군구세종 = ['세종시']\n",
    "\n",
    "\n",
    "\n",
    "### 각 시도별 군구 길이\n",
    "# for i in 시도lst:\n",
    "#     i, len(globals()[f'군구{i}'])\n",
    "\n",
    "\n",
    "### 모든 시도의 모든 군구의 수\n",
    "군구all = 군구서울 + 군구부산 + 군구대구 + 군구인천 + 군구광주 + 군구대전 + 군구울산 + 군구경기 + 군구강원 + 군구충북 + 군구충남 + 군구전북 + 군구전남 + 군구경북 + 군구경남 + 군구제주 + 군구세종\n",
    "len(군구all) # 272"
   ]
  },
  {
   "cell_type": "code",
   "execution_count": 8,
   "id": "0a852dd4",
   "metadata": {},
   "outputs": [
    {
     "data": {
      "text/plain": [
       "357"
      ]
     },
     "execution_count": 8,
     "metadata": {},
     "output_type": "execute_result"
    }
   ],
   "source": [
    "17*21 # 사망 폴더 내 파일 개수 = 17개 시도 * 21년 = 357"
   ]
  },
  {
   "cell_type": "markdown",
   "id": "7112f105",
   "metadata": {},
   "source": [
    "# 발생, 사망, 성별"
   ]
  },
  {
   "cell_type": "markdown",
   "id": "37ddb670",
   "metadata": {},
   "source": [
    "## 발생"
   ]
  },
  {
   "cell_type": "code",
   "execution_count": 74,
   "id": "836ddcbf",
   "metadata": {},
   "outputs": [
    {
     "data": {
      "text/plain": [
       "258"
      ]
     },
     "execution_count": 74,
     "metadata": {},
     "output_type": "execute_result"
    },
    {
     "data": {
      "text/html": [
       "<div>\n",
       "<style scoped>\n",
       "    .dataframe tbody tr th:only-of-type {\n",
       "        vertical-align: middle;\n",
       "    }\n",
       "\n",
       "    .dataframe tbody tr th {\n",
       "        vertical-align: top;\n",
       "    }\n",
       "\n",
       "    .dataframe thead th {\n",
       "        text-align: right;\n",
       "    }\n",
       "</style>\n",
       "<table border=\"1\" class=\"dataframe\">\n",
       "  <thead>\n",
       "    <tr style=\"text-align: right;\">\n",
       "      <th></th>\n",
       "      <th>시도</th>\n",
       "      <th>군구</th>\n",
       "      <th>에볼라바이러스병</th>\n",
       "      <th>마버그열</th>\n",
       "      <th>라싸열</th>\n",
       "      <th>크리미안콩고출혈열</th>\n",
       "      <th>남아메리카출혈열</th>\n",
       "      <th>리프트밸리열</th>\n",
       "      <th>두창</th>\n",
       "      <th>페스트</th>\n",
       "      <th>...</th>\n",
       "      <th>큐열</th>\n",
       "      <th>웨스트나일열</th>\n",
       "      <th>라임병</th>\n",
       "      <th>진드기매개뇌염</th>\n",
       "      <th>유비저</th>\n",
       "      <th>치쿤구니야열</th>\n",
       "      <th>중증열성혈소판감소증후군(SFTS)</th>\n",
       "      <th>지카바이러스감염증</th>\n",
       "      <th>연도</th>\n",
       "      <th>월</th>\n",
       "    </tr>\n",
       "  </thead>\n",
       "  <tbody>\n",
       "  </tbody>\n",
       "</table>\n",
       "<p>0 rows × 67 columns</p>\n",
       "</div>"
      ],
      "text/plain": [
       "Empty DataFrame\n",
       "Columns: [시도, 군구, 에볼라바이러스병, 마버그열, 라싸열, 크리미안콩고출혈열, 남아메리카출혈열, 리프트밸리열, 두창, 페스트, 탄저, 보툴리눔독소증, 야토병, 중증급성호흡기증후군(SARS), 중동호흡기증후군(MERS), 동물인플루엔자 인체감염증, 신종인플루엔자, 디프테리아, 수두, 홍역, 콜레라, 장티푸스, 파라티푸스, 세균성이질, 장출혈성대장균감염증, A형간염, 백일해, 유행성이하선염, 풍진(2018년이전), 풍진(선천성), 풍진(후천성), 폴리오, 수막구균 감염증, b형헤모필루스인플루엔자, 폐렴구균 감염증, 한센병, 성홍열, 반코마이신내성황색포도알균(VRSA) 감염증, 카바페넴내성장내세균속균종(CRE) 감염증, E형간염, 파상풍, B형간염, 일본뇌염, C형간염, 말라리아, 레지오넬라증, 비브리오패혈증, 발진티푸스, 발진열, 쯔쯔가무시증, 렙토스피라증, 브루셀라증, 공수병, 신증후군출혈열, 크로이츠펠트-야콥병(CDJ) 및 변종크로이츠펠트-야콥병(vCJD), 황열, 뎅기열, 큐열, 웨스트나일열, 라임병, 진드기매개뇌염, 유비저, 치쿤구니야열, 중증열성혈소판감소증후군(SFTS), 지카바이러스감염증, 연도, 월]\n",
       "Index: []\n",
       "\n",
       "[0 rows x 67 columns]"
      ]
     },
     "execution_count": 74,
     "metadata": {},
     "output_type": "execute_result"
    }
   ],
   "source": [
    "## 공통\n",
    "file_list = glob(main_path+발생+'*')\n",
    "len(file_list) # 258\n",
    "file_list = sorted(file_list) # default가 오름차순 정렬이긴 하지만...\n",
    "\n",
    "\n",
    "########################################################################## 바뀜\n",
    "## 발생 columns\n",
    "발생cols = ['시도', '군구'] + 병name_lst + ['연도', '월']\n",
    "\n",
    "## df 틀\n",
    "fin_dat = pd.DataFrame(columns = 발생cols)\n",
    "fin_dat"
   ]
  },
  {
   "cell_type": "code",
   "execution_count": 75,
   "id": "df5da2c3",
   "metadata": {},
   "outputs": [
    {
     "name": "stderr",
     "output_type": "stream",
     "text": [
      "100%|████████████████████████████████████████████████████████████████████████████████| 258/258 [00:03<00:00, 78.54it/s]\n"
     ]
    }
   ],
   "source": [
    "for i in tqdm(file_list):\n",
    "    \n",
    "    ## Data Load\n",
    "    tmp_dat = pd.read_csv(i, encoding = 'cp949', header = None)\n",
    "    \n",
    "    ########################################################################## 바뀜\n",
    "    ## drop 계, NaN - 시도==군구인 식으로 합계 정보 나타나있었음.\n",
    "    tmp_dat.drop(tmp_dat[tmp_dat.iloc[:, 0]==tmp_dat.iloc[:, 1]].index, inplace =  True)\n",
    "    tmp_dat = tmp_dat.iloc[:, :-1]\n",
    "    \n",
    "    ########################################################################## 바뀜\n",
    "    ## 식별열\n",
    "    YY = i.split('_')[-1].split('-')[0]\n",
    "    MM = i.split('_')[-1].split('-')[-1].split('.')[0]\n",
    "#     YY, MM\n",
    "    tmp_dat['연도'] = YY\n",
    "    tmp_dat['월'] = MM\n",
    "    \n",
    "    ########################################################################## 바뀜\n",
    "    ## col name chng\n",
    "    tmp_dat.columns = 발생cols\n",
    "    \n",
    "    ## concat\n",
    "    fin_dat = pd.concat([fin_dat, tmp_dat], axis = 0, ignore_index = True)\n",
    "    \n",
    "#     fin_dat\n",
    "    \n",
    "#     break"
   ]
  },
  {
   "cell_type": "code",
   "execution_count": 147,
   "id": "d86bcbbe",
   "metadata": {},
   "outputs": [],
   "source": [
    "# fin_dat # shape = (70176, 67)"
   ]
  },
  {
   "cell_type": "code",
   "execution_count": 89,
   "id": "167d8f41",
   "metadata": {},
   "outputs": [
    {
     "data": {
      "text/plain": [
       "272.0"
      ]
     },
     "execution_count": 89,
     "metadata": {},
     "output_type": "execute_result"
    }
   ],
   "source": [
    "fin_dat.shape[0] / len(file_list) # file개수로 나누면 군구 개수 == 한 파일 당 군구 수"
   ]
  },
  {
   "cell_type": "markdown",
   "id": "826a7ec7",
   "metadata": {},
   "source": [
    "### 저장"
   ]
  },
  {
   "cell_type": "code",
   "execution_count": 78,
   "id": "334eca0c",
   "metadata": {},
   "outputs": [],
   "source": [
    "# fin_dat.to_csv('발생2001_01-2022_06.csv', index = False)"
   ]
  },
  {
   "cell_type": "code",
   "execution_count": 150,
   "id": "93f4c301",
   "metadata": {},
   "outputs": [
    {
     "data": {
      "text/plain": [
       "(70176, 67)"
      ]
     },
     "execution_count": 150,
     "metadata": {},
     "output_type": "execute_result"
    },
    {
     "data": {
      "text/html": [
       "<div>\n",
       "<style scoped>\n",
       "    .dataframe tbody tr th:only-of-type {\n",
       "        vertical-align: middle;\n",
       "    }\n",
       "\n",
       "    .dataframe tbody tr th {\n",
       "        vertical-align: top;\n",
       "    }\n",
       "\n",
       "    .dataframe thead th {\n",
       "        text-align: right;\n",
       "    }\n",
       "</style>\n",
       "<table border=\"1\" class=\"dataframe\">\n",
       "  <thead>\n",
       "    <tr style=\"text-align: right;\">\n",
       "      <th></th>\n",
       "      <th>시도</th>\n",
       "      <th>군구</th>\n",
       "      <th>에볼라바이러스병</th>\n",
       "      <th>마버그열</th>\n",
       "      <th>라싸열</th>\n",
       "      <th>크리미안콩고출혈열</th>\n",
       "      <th>남아메리카출혈열</th>\n",
       "      <th>리프트밸리열</th>\n",
       "      <th>두창</th>\n",
       "      <th>페스트</th>\n",
       "      <th>...</th>\n",
       "      <th>큐열</th>\n",
       "      <th>웨스트나일열</th>\n",
       "      <th>라임병</th>\n",
       "      <th>진드기매개뇌염</th>\n",
       "      <th>유비저</th>\n",
       "      <th>치쿤구니야열</th>\n",
       "      <th>중증열성혈소판감소증후군(SFTS)</th>\n",
       "      <th>지카바이러스감염증</th>\n",
       "      <th>연도</th>\n",
       "      <th>월</th>\n",
       "    </tr>\n",
       "  </thead>\n",
       "  <tbody>\n",
       "    <tr>\n",
       "      <th>0</th>\n",
       "      <td>서울</td>\n",
       "      <td>강남구</td>\n",
       "      <td>0</td>\n",
       "      <td>0</td>\n",
       "      <td>0</td>\n",
       "      <td>0</td>\n",
       "      <td>0</td>\n",
       "      <td>0</td>\n",
       "      <td>0</td>\n",
       "      <td>0</td>\n",
       "      <td>...</td>\n",
       "      <td>0</td>\n",
       "      <td>0</td>\n",
       "      <td>0</td>\n",
       "      <td>0</td>\n",
       "      <td>0</td>\n",
       "      <td>0</td>\n",
       "      <td>0</td>\n",
       "      <td>0</td>\n",
       "      <td>2001</td>\n",
       "      <td>1</td>\n",
       "    </tr>\n",
       "    <tr>\n",
       "      <th>1</th>\n",
       "      <td>서울</td>\n",
       "      <td>강동구</td>\n",
       "      <td>0</td>\n",
       "      <td>0</td>\n",
       "      <td>0</td>\n",
       "      <td>0</td>\n",
       "      <td>0</td>\n",
       "      <td>0</td>\n",
       "      <td>0</td>\n",
       "      <td>0</td>\n",
       "      <td>...</td>\n",
       "      <td>0</td>\n",
       "      <td>0</td>\n",
       "      <td>0</td>\n",
       "      <td>0</td>\n",
       "      <td>0</td>\n",
       "      <td>0</td>\n",
       "      <td>0</td>\n",
       "      <td>0</td>\n",
       "      <td>2001</td>\n",
       "      <td>1</td>\n",
       "    </tr>\n",
       "    <tr>\n",
       "      <th>2</th>\n",
       "      <td>서울</td>\n",
       "      <td>강북구</td>\n",
       "      <td>0</td>\n",
       "      <td>0</td>\n",
       "      <td>0</td>\n",
       "      <td>0</td>\n",
       "      <td>0</td>\n",
       "      <td>0</td>\n",
       "      <td>0</td>\n",
       "      <td>0</td>\n",
       "      <td>...</td>\n",
       "      <td>0</td>\n",
       "      <td>0</td>\n",
       "      <td>0</td>\n",
       "      <td>0</td>\n",
       "      <td>0</td>\n",
       "      <td>0</td>\n",
       "      <td>0</td>\n",
       "      <td>0</td>\n",
       "      <td>2001</td>\n",
       "      <td>1</td>\n",
       "    </tr>\n",
       "    <tr>\n",
       "      <th>3</th>\n",
       "      <td>서울</td>\n",
       "      <td>강서구</td>\n",
       "      <td>0</td>\n",
       "      <td>0</td>\n",
       "      <td>0</td>\n",
       "      <td>0</td>\n",
       "      <td>0</td>\n",
       "      <td>0</td>\n",
       "      <td>0</td>\n",
       "      <td>0</td>\n",
       "      <td>...</td>\n",
       "      <td>0</td>\n",
       "      <td>0</td>\n",
       "      <td>0</td>\n",
       "      <td>0</td>\n",
       "      <td>0</td>\n",
       "      <td>0</td>\n",
       "      <td>0</td>\n",
       "      <td>0</td>\n",
       "      <td>2001</td>\n",
       "      <td>1</td>\n",
       "    </tr>\n",
       "    <tr>\n",
       "      <th>4</th>\n",
       "      <td>서울</td>\n",
       "      <td>관악구</td>\n",
       "      <td>0</td>\n",
       "      <td>0</td>\n",
       "      <td>0</td>\n",
       "      <td>0</td>\n",
       "      <td>0</td>\n",
       "      <td>0</td>\n",
       "      <td>0</td>\n",
       "      <td>0</td>\n",
       "      <td>...</td>\n",
       "      <td>0</td>\n",
       "      <td>0</td>\n",
       "      <td>0</td>\n",
       "      <td>0</td>\n",
       "      <td>0</td>\n",
       "      <td>0</td>\n",
       "      <td>0</td>\n",
       "      <td>0</td>\n",
       "      <td>2001</td>\n",
       "      <td>1</td>\n",
       "    </tr>\n",
       "  </tbody>\n",
       "</table>\n",
       "<p>5 rows × 67 columns</p>\n",
       "</div>"
      ],
      "text/plain": [
       "   시도   군구  에볼라바이러스병  마버그열  라싸열  크리미안콩고출혈열  남아메리카출혈열  리프트밸리열  두창  페스트  ...  \\\n",
       "0  서울  강남구         0     0    0          0         0       0   0    0  ...   \n",
       "1  서울  강동구         0     0    0          0         0       0   0    0  ...   \n",
       "2  서울  강북구         0     0    0          0         0       0   0    0  ...   \n",
       "3  서울  강서구         0     0    0          0         0       0   0    0  ...   \n",
       "4  서울  관악구         0     0    0          0         0       0   0    0  ...   \n",
       "\n",
       "   큐열  웨스트나일열  라임병  진드기매개뇌염  유비저  치쿤구니야열  중증열성혈소판감소증후군(SFTS)  지카바이러스감염증    연도  \\\n",
       "0   0       0    0        0    0       0                   0          0  2001   \n",
       "1   0       0    0        0    0       0                   0          0  2001   \n",
       "2   0       0    0        0    0       0                   0          0  2001   \n",
       "3   0       0    0        0    0       0                   0          0  2001   \n",
       "4   0       0    0        0    0       0                   0          0  2001   \n",
       "\n",
       "   월  \n",
       "0  1  \n",
       "1  1  \n",
       "2  1  \n",
       "3  1  \n",
       "4  1  \n",
       "\n",
       "[5 rows x 67 columns]"
      ]
     },
     "execution_count": 150,
     "metadata": {},
     "output_type": "execute_result"
    }
   ],
   "source": [
    "확인 = pd.read_csv('발생2001_01-2022_06.csv')\n",
    "확인.shape # (70176, 67)\n",
    "확인.head()"
   ]
  },
  {
   "cell_type": "markdown",
   "id": "4039f61a",
   "metadata": {},
   "source": [
    "## 사망"
   ]
  },
  {
   "cell_type": "code",
   "execution_count": 94,
   "id": "014a715b",
   "metadata": {},
   "outputs": [
    {
     "data": {
      "text/plain": [
       "357"
      ]
     },
     "execution_count": 94,
     "metadata": {},
     "output_type": "execute_result"
    },
    {
     "data": {
      "text/plain": [
       "16"
      ]
     },
     "execution_count": 94,
     "metadata": {},
     "output_type": "execute_result"
    },
    {
     "data": {
      "text/html": [
       "<div>\n",
       "<style scoped>\n",
       "    .dataframe tbody tr th:only-of-type {\n",
       "        vertical-align: middle;\n",
       "    }\n",
       "\n",
       "    .dataframe tbody tr th {\n",
       "        vertical-align: top;\n",
       "    }\n",
       "\n",
       "    .dataframe thead th {\n",
       "        text-align: right;\n",
       "    }\n",
       "</style>\n",
       "<table border=\"1\" class=\"dataframe\">\n",
       "  <thead>\n",
       "    <tr style=\"text-align: right;\">\n",
       "      <th></th>\n",
       "      <th>급수</th>\n",
       "      <th>병</th>\n",
       "      <th>1월</th>\n",
       "      <th>2월</th>\n",
       "      <th>3월</th>\n",
       "      <th>4월</th>\n",
       "      <th>5월</th>\n",
       "      <th>6월</th>\n",
       "      <th>7월</th>\n",
       "      <th>8월</th>\n",
       "      <th>9월</th>\n",
       "      <th>10월</th>\n",
       "      <th>11월</th>\n",
       "      <th>12월</th>\n",
       "      <th>연도</th>\n",
       "      <th>군구</th>\n",
       "    </tr>\n",
       "  </thead>\n",
       "  <tbody>\n",
       "  </tbody>\n",
       "</table>\n",
       "</div>"
      ],
      "text/plain": [
       "Empty DataFrame\n",
       "Columns: [급수, 병, 1월, 2월, 3월, 4월, 5월, 6월, 7월, 8월, 9월, 10월, 11월, 12월, 연도, 군구]\n",
       "Index: []"
      ]
     },
     "execution_count": 94,
     "metadata": {},
     "output_type": "execute_result"
    }
   ],
   "source": [
    "## 공통\n",
    "file_list = glob(main_path+사망+'*')\n",
    "len(file_list) # 357\n",
    "file_list = sorted(file_list) # default가 오름차순 정렬이긴 하지만...\n",
    "\n",
    "\n",
    "########################################################################## 바뀜\n",
    "## 사망 columns\n",
    "월 = [f'{i}월' for i in range(1, 13)]\n",
    "사망cols = ['급수', '병'] + 월 + ['연도', '군구']\n",
    "len(사망cols)\n",
    "\n",
    "## df 틀\n",
    "fin_dat = pd.DataFrame(columns = 사망cols)\n",
    "fin_dat"
   ]
  },
  {
   "cell_type": "code",
   "execution_count": 95,
   "id": "353abd36",
   "metadata": {
    "scrolled": false
   },
   "outputs": [
    {
     "name": "stderr",
     "output_type": "stream",
     "text": [
      "100%|███████████████████████████████████████████████████████████████████████████████| 357/357 [00:01<00:00, 320.95it/s]\n"
     ]
    }
   ],
   "source": [
    "for i in tqdm(file_list):\n",
    "    \n",
    "    ## Data Load\n",
    "    tmp_dat = pd.read_csv(i, encoding = 'cp949', header = None)\n",
    "    \n",
    "    ######################################################################### 바뀜\n",
    "    ## drop 계, NaN\n",
    "    tmp_dat.drop(tmp_dat.columns[2], axis = 1, inplace = True)\n",
    "    tmp_dat = tmp_dat.iloc[:, :-1]\n",
    "    \n",
    "    ######################################################################### 바뀜\n",
    "    ## 식별열\n",
    "    YY = i.split('_')[-1].split('-')[0]\n",
    "    군구nm = i.split('_')[-1].split('-')[-1].split('.')[0]\n",
    "#     YY, 군구nm\n",
    "    tmp_dat['연도'] = YY\n",
    "    tmp_dat['군구'] = 군구nm\n",
    "    \n",
    "    ######################################################################### 바뀜\n",
    "    ## col name chng\n",
    "    tmp_dat.columns = 사망cols\n",
    "    \n",
    "    ## concat\n",
    "    fin_dat = pd.concat([fin_dat, tmp_dat], axis = 0, ignore_index = True)\n",
    "    \n",
    "#     if tmp_dat.shape[0] != 63:\n",
    "#         print(i)\n",
    "    \n",
    "#     break"
   ]
  },
  {
   "cell_type": "code",
   "execution_count": 148,
   "id": "0121d89e",
   "metadata": {
    "scrolled": false
   },
   "outputs": [],
   "source": [
    "# fin_dat # shape = (22491, 16)"
   ]
  },
  {
   "cell_type": "code",
   "execution_count": 98,
   "id": "d4e4e110",
   "metadata": {},
   "outputs": [
    {
     "data": {
      "text/plain": [
       "63.0"
      ]
     },
     "execution_count": 98,
     "metadata": {},
     "output_type": "execute_result"
    }
   ],
   "source": [
    "fin_dat.shape[0] / len(file_list) # 파일 개수(357)로 나눴는데 나누어 안떨어짐(질병개수 63이 안뜸.)...;;; -> 알고보니 fin_dat을 리셋 안해주고 진행해서 그랬던 것이었음."
   ]
  },
  {
   "cell_type": "markdown",
   "id": "37e60e2b",
   "metadata": {},
   "source": [
    "### 저장"
   ]
  },
  {
   "cell_type": "code",
   "execution_count": 101,
   "id": "7ce42751",
   "metadata": {},
   "outputs": [],
   "source": [
    "# fin_dat.to_csv('사망2001-2021.csv', index = False)"
   ]
  },
  {
   "cell_type": "code",
   "execution_count": 103,
   "id": "7893c753",
   "metadata": {},
   "outputs": [
    {
     "data": {
      "text/plain": [
       "(22491, 16)"
      ]
     },
     "execution_count": 103,
     "metadata": {},
     "output_type": "execute_result"
    },
    {
     "data": {
      "text/html": [
       "<div>\n",
       "<style scoped>\n",
       "    .dataframe tbody tr th:only-of-type {\n",
       "        vertical-align: middle;\n",
       "    }\n",
       "\n",
       "    .dataframe tbody tr th {\n",
       "        vertical-align: top;\n",
       "    }\n",
       "\n",
       "    .dataframe thead th {\n",
       "        text-align: right;\n",
       "    }\n",
       "</style>\n",
       "<table border=\"1\" class=\"dataframe\">\n",
       "  <thead>\n",
       "    <tr style=\"text-align: right;\">\n",
       "      <th></th>\n",
       "      <th>급수</th>\n",
       "      <th>병</th>\n",
       "      <th>1월</th>\n",
       "      <th>2월</th>\n",
       "      <th>3월</th>\n",
       "      <th>4월</th>\n",
       "      <th>5월</th>\n",
       "      <th>6월</th>\n",
       "      <th>7월</th>\n",
       "      <th>8월</th>\n",
       "      <th>9월</th>\n",
       "      <th>10월</th>\n",
       "      <th>11월</th>\n",
       "      <th>12월</th>\n",
       "      <th>연도</th>\n",
       "      <th>군구</th>\n",
       "    </tr>\n",
       "  </thead>\n",
       "  <tbody>\n",
       "    <tr>\n",
       "      <th>0</th>\n",
       "      <td>1급</td>\n",
       "      <td>에볼라바이러스병</td>\n",
       "      <td>-</td>\n",
       "      <td>-</td>\n",
       "      <td>-</td>\n",
       "      <td>-</td>\n",
       "      <td>-</td>\n",
       "      <td>-</td>\n",
       "      <td>-</td>\n",
       "      <td>-</td>\n",
       "      <td>-</td>\n",
       "      <td>-</td>\n",
       "      <td>-</td>\n",
       "      <td>-</td>\n",
       "      <td>2001</td>\n",
       "      <td>강원</td>\n",
       "    </tr>\n",
       "    <tr>\n",
       "      <th>1</th>\n",
       "      <td>1급</td>\n",
       "      <td>마버그열</td>\n",
       "      <td>-</td>\n",
       "      <td>-</td>\n",
       "      <td>-</td>\n",
       "      <td>-</td>\n",
       "      <td>-</td>\n",
       "      <td>-</td>\n",
       "      <td>-</td>\n",
       "      <td>-</td>\n",
       "      <td>-</td>\n",
       "      <td>-</td>\n",
       "      <td>-</td>\n",
       "      <td>-</td>\n",
       "      <td>2001</td>\n",
       "      <td>강원</td>\n",
       "    </tr>\n",
       "    <tr>\n",
       "      <th>2</th>\n",
       "      <td>1급</td>\n",
       "      <td>라싸열</td>\n",
       "      <td>-</td>\n",
       "      <td>-</td>\n",
       "      <td>-</td>\n",
       "      <td>-</td>\n",
       "      <td>-</td>\n",
       "      <td>-</td>\n",
       "      <td>-</td>\n",
       "      <td>-</td>\n",
       "      <td>-</td>\n",
       "      <td>-</td>\n",
       "      <td>-</td>\n",
       "      <td>-</td>\n",
       "      <td>2001</td>\n",
       "      <td>강원</td>\n",
       "    </tr>\n",
       "    <tr>\n",
       "      <th>3</th>\n",
       "      <td>1급</td>\n",
       "      <td>크리미안콩고출혈열</td>\n",
       "      <td>-</td>\n",
       "      <td>-</td>\n",
       "      <td>-</td>\n",
       "      <td>-</td>\n",
       "      <td>-</td>\n",
       "      <td>-</td>\n",
       "      <td>-</td>\n",
       "      <td>-</td>\n",
       "      <td>-</td>\n",
       "      <td>-</td>\n",
       "      <td>-</td>\n",
       "      <td>-</td>\n",
       "      <td>2001</td>\n",
       "      <td>강원</td>\n",
       "    </tr>\n",
       "    <tr>\n",
       "      <th>4</th>\n",
       "      <td>1급</td>\n",
       "      <td>남아메리카출혈열</td>\n",
       "      <td>-</td>\n",
       "      <td>-</td>\n",
       "      <td>-</td>\n",
       "      <td>-</td>\n",
       "      <td>-</td>\n",
       "      <td>-</td>\n",
       "      <td>-</td>\n",
       "      <td>-</td>\n",
       "      <td>-</td>\n",
       "      <td>-</td>\n",
       "      <td>-</td>\n",
       "      <td>-</td>\n",
       "      <td>2001</td>\n",
       "      <td>강원</td>\n",
       "    </tr>\n",
       "  </tbody>\n",
       "</table>\n",
       "</div>"
      ],
      "text/plain": [
       "   급수          병 1월 2월 3월 4월 5월 6월 7월 8월 9월 10월 11월 12월    연도  군구\n",
       "0  1급   에볼라바이러스병  -  -  -  -  -  -  -  -  -   -   -   -  2001  강원\n",
       "1  1급       마버그열  -  -  -  -  -  -  -  -  -   -   -   -  2001  강원\n",
       "2  1급        라싸열  -  -  -  -  -  -  -  -  -   -   -   -  2001  강원\n",
       "3  1급  크리미안콩고출혈열  -  -  -  -  -  -  -  -  -   -   -   -  2001  강원\n",
       "4  1급   남아메리카출혈열  -  -  -  -  -  -  -  -  -   -   -   -  2001  강원"
      ]
     },
     "execution_count": 103,
     "metadata": {},
     "output_type": "execute_result"
    }
   ],
   "source": [
    "확인 = pd.read_csv('사망2001-2021.csv')\n",
    "확인.shape # (22491, 16)\n",
    "확인.head()"
   ]
  },
  {
   "cell_type": "markdown",
   "id": "b4b8349c",
   "metadata": {},
   "source": [
    "## 성별\n",
    "- 병 급수, 군구 명 다 나중에 mapping 해주기로"
   ]
  },
  {
   "cell_type": "code",
   "execution_count": 139,
   "id": "b0a3eaea",
   "metadata": {
    "scrolled": false
   },
   "outputs": [
    {
     "data": {
      "text/plain": [
       "63"
      ]
     },
     "execution_count": 139,
     "metadata": {},
     "output_type": "execute_result"
    },
    {
     "data": {
      "text/plain": [
       "25"
      ]
     },
     "execution_count": 139,
     "metadata": {},
     "output_type": "execute_result"
    },
    {
     "data": {
      "text/html": [
       "<div>\n",
       "<style scoped>\n",
       "    .dataframe tbody tr th:only-of-type {\n",
       "        vertical-align: middle;\n",
       "    }\n",
       "\n",
       "    .dataframe tbody tr th {\n",
       "        vertical-align: top;\n",
       "    }\n",
       "\n",
       "    .dataframe thead th {\n",
       "        text-align: right;\n",
       "    }\n",
       "</style>\n",
       "<table border=\"1\" class=\"dataframe\">\n",
       "  <thead>\n",
       "    <tr style=\"text-align: right;\">\n",
       "      <th></th>\n",
       "      <th>연령단위</th>\n",
       "      <th>성별</th>\n",
       "      <th>2001년</th>\n",
       "      <th>2002년</th>\n",
       "      <th>2003년</th>\n",
       "      <th>2004년</th>\n",
       "      <th>2005년</th>\n",
       "      <th>2006년</th>\n",
       "      <th>2007년</th>\n",
       "      <th>2008년</th>\n",
       "      <th>...</th>\n",
       "      <th>2014년</th>\n",
       "      <th>2015년</th>\n",
       "      <th>2016년</th>\n",
       "      <th>2017년</th>\n",
       "      <th>2018년</th>\n",
       "      <th>2019년</th>\n",
       "      <th>2020년</th>\n",
       "      <th>2021년</th>\n",
       "      <th>병</th>\n",
       "      <th>군구</th>\n",
       "    </tr>\n",
       "  </thead>\n",
       "  <tbody>\n",
       "  </tbody>\n",
       "</table>\n",
       "<p>0 rows × 25 columns</p>\n",
       "</div>"
      ],
      "text/plain": [
       "Empty DataFrame\n",
       "Columns: [연령단위, 성별, 2001년, 2002년, 2003년, 2004년, 2005년, 2006년, 2007년, 2008년, 2009년, 2010년, 2011년, 2012년, 2013년, 2014년, 2015년, 2016년, 2017년, 2018년, 2019년, 2020년, 2021년, 병, 군구]\n",
       "Index: []\n",
       "\n",
       "[0 rows x 25 columns]"
      ]
     },
     "execution_count": 139,
     "metadata": {},
     "output_type": "execute_result"
    },
    {
     "name": "stderr",
     "output_type": "stream",
     "text": [
      "100%|██████████████████████████████████████████████████████████████████████████████████| 63/63 [07:31<00:00,  7.16s/it]\n"
     ]
    }
   ],
   "source": [
    "dir_list = glob(main_path+성별+'*')\n",
    "len(dir_list) # 68 # 정렬 필요 없음.\n",
    "\n",
    "\n",
    "## 성별 columns\n",
    "연도 = [f'{i}년' for i in range(2001, 2022)]\n",
    "성별cols = ['연령단위', '성별'] + 연도 + ['병', '군구']\n",
    "len(성별cols)\n",
    "\n",
    "## df 틀\n",
    "fin_dat = pd.DataFrame(columns = 성별cols)\n",
    "fin_dat\n",
    "\n",
    "\n",
    "for dir_ in tqdm(dir_list):\n",
    "    file_list = glob(dir_+'/'+'*')\n",
    "#     len(file_list) # 272\n",
    "    file_list = sorted(file_list) # default가 오름차순 정렬이긴 하지만...\n",
    "    \n",
    "    for i in file_list:\n",
    "    \n",
    "        ## Data Load\n",
    "        tmp_dat = pd.read_csv(i, encoding = 'cp949', header = None)\n",
    "        \n",
    "        ########################################################################## 바뀜\n",
    "        ## drop 계, NaN\n",
    "        tmp_dat.drop(tmp_dat[(tmp_dat.iloc[:, 0]== '계') | (tmp_dat.iloc[:, 1]== '계')].index, inplace =  True)\n",
    "        tmp_dat = tmp_dat.iloc[:, :-1]\n",
    "        \n",
    "        \n",
    "        ########################################################################## 바뀜\n",
    "        ## 식별열\n",
    "        병nm = i.split('_')[-1].split(' ')[0]\n",
    "        군구nm = i.split('_')[-1].split(' ')[-1].split('.')[0][1:-1]\n",
    "#         병nm, 군구nm\n",
    "        tmp_dat['병'] = 병nm\n",
    "        tmp_dat['군구'] = 군구nm\n",
    "        \n",
    "        ########################################################################## 바뀜\n",
    "        # col name chng\n",
    "        tmp_dat.columns = 성별cols\n",
    "\n",
    "        ## concat\n",
    "        fin_dat = pd.concat([fin_dat, tmp_dat], axis = 0, ignore_index = True)\n",
    "        \n",
    "#         fin_dat\n",
    "#         break\n",
    "#     break\n",
    "\n",
    "\n",
    "########################################################################## 바뀜\n"
   ]
  },
  {
   "cell_type": "code",
   "execution_count": 149,
   "id": "f99d2e3a",
   "metadata": {
    "scrolled": false
   },
   "outputs": [],
   "source": [
    "# fin_dat # shape = (479808, 25)"
   ]
  },
  {
   "cell_type": "code",
   "execution_count": 142,
   "id": "d924926a",
   "metadata": {},
   "outputs": [
    {
     "data": {
      "text/plain": [
       "28.0"
      ]
     },
     "execution_count": 142,
     "metadata": {},
     "output_type": "execute_result"
    },
    {
     "data": {
      "text/plain": [
       "28.0"
      ]
     },
     "execution_count": 142,
     "metadata": {},
     "output_type": "execute_result"
    }
   ],
   "source": [
    "fin_dat.shape[0] / (len(dir_list) * len(file_list))\n",
    "479808 / (272*63) # 이러면 행 수 나옴"
   ]
  },
  {
   "cell_type": "code",
   "execution_count": 143,
   "id": "ab6eb1a1",
   "metadata": {},
   "outputs": [
    {
     "data": {
      "text/html": [
       "<div>\n",
       "<style scoped>\n",
       "    .dataframe tbody tr th:only-of-type {\n",
       "        vertical-align: middle;\n",
       "    }\n",
       "\n",
       "    .dataframe tbody tr th {\n",
       "        vertical-align: top;\n",
       "    }\n",
       "\n",
       "    .dataframe thead th {\n",
       "        text-align: right;\n",
       "    }\n",
       "</style>\n",
       "<table border=\"1\" class=\"dataframe\">\n",
       "  <thead>\n",
       "    <tr style=\"text-align: right;\">\n",
       "      <th></th>\n",
       "      <th>연령단위</th>\n",
       "      <th>성별</th>\n",
       "      <th>2001년</th>\n",
       "      <th>2002년</th>\n",
       "      <th>2003년</th>\n",
       "      <th>2004년</th>\n",
       "      <th>2005년</th>\n",
       "      <th>2006년</th>\n",
       "      <th>2007년</th>\n",
       "      <th>2008년</th>\n",
       "      <th>...</th>\n",
       "      <th>2014년</th>\n",
       "      <th>2015년</th>\n",
       "      <th>2016년</th>\n",
       "      <th>2017년</th>\n",
       "      <th>2018년</th>\n",
       "      <th>2019년</th>\n",
       "      <th>2020년</th>\n",
       "      <th>2021년</th>\n",
       "      <th>병</th>\n",
       "      <th>군구</th>\n",
       "    </tr>\n",
       "  </thead>\n",
       "  <tbody>\n",
       "    <tr>\n",
       "      <th>0</th>\n",
       "      <td>0~4세</td>\n",
       "      <td>남</td>\n",
       "      <td>-</td>\n",
       "      <td>-</td>\n",
       "      <td>-</td>\n",
       "      <td>-</td>\n",
       "      <td>-</td>\n",
       "      <td>-</td>\n",
       "      <td>-</td>\n",
       "      <td>-</td>\n",
       "      <td>...</td>\n",
       "      <td>0</td>\n",
       "      <td>0</td>\n",
       "      <td>0</td>\n",
       "      <td>0</td>\n",
       "      <td>0</td>\n",
       "      <td>0</td>\n",
       "      <td>0</td>\n",
       "      <td>0</td>\n",
       "      <td>에볼라바이러스병</td>\n",
       "      <td>001</td>\n",
       "    </tr>\n",
       "    <tr>\n",
       "      <th>1</th>\n",
       "      <td>0~4세</td>\n",
       "      <td>여</td>\n",
       "      <td>-</td>\n",
       "      <td>-</td>\n",
       "      <td>-</td>\n",
       "      <td>-</td>\n",
       "      <td>-</td>\n",
       "      <td>-</td>\n",
       "      <td>-</td>\n",
       "      <td>-</td>\n",
       "      <td>...</td>\n",
       "      <td>0</td>\n",
       "      <td>0</td>\n",
       "      <td>0</td>\n",
       "      <td>0</td>\n",
       "      <td>0</td>\n",
       "      <td>0</td>\n",
       "      <td>0</td>\n",
       "      <td>0</td>\n",
       "      <td>에볼라바이러스병</td>\n",
       "      <td>001</td>\n",
       "    </tr>\n",
       "    <tr>\n",
       "      <th>2</th>\n",
       "      <td>5~9세</td>\n",
       "      <td>남</td>\n",
       "      <td>-</td>\n",
       "      <td>-</td>\n",
       "      <td>-</td>\n",
       "      <td>-</td>\n",
       "      <td>-</td>\n",
       "      <td>-</td>\n",
       "      <td>-</td>\n",
       "      <td>-</td>\n",
       "      <td>...</td>\n",
       "      <td>0</td>\n",
       "      <td>0</td>\n",
       "      <td>0</td>\n",
       "      <td>0</td>\n",
       "      <td>0</td>\n",
       "      <td>0</td>\n",
       "      <td>0</td>\n",
       "      <td>0</td>\n",
       "      <td>에볼라바이러스병</td>\n",
       "      <td>001</td>\n",
       "    </tr>\n",
       "    <tr>\n",
       "      <th>3</th>\n",
       "      <td>5~9세</td>\n",
       "      <td>여</td>\n",
       "      <td>-</td>\n",
       "      <td>-</td>\n",
       "      <td>-</td>\n",
       "      <td>-</td>\n",
       "      <td>-</td>\n",
       "      <td>-</td>\n",
       "      <td>-</td>\n",
       "      <td>-</td>\n",
       "      <td>...</td>\n",
       "      <td>0</td>\n",
       "      <td>0</td>\n",
       "      <td>0</td>\n",
       "      <td>0</td>\n",
       "      <td>0</td>\n",
       "      <td>0</td>\n",
       "      <td>0</td>\n",
       "      <td>0</td>\n",
       "      <td>에볼라바이러스병</td>\n",
       "      <td>001</td>\n",
       "    </tr>\n",
       "    <tr>\n",
       "      <th>4</th>\n",
       "      <td>10~14세</td>\n",
       "      <td>남</td>\n",
       "      <td>-</td>\n",
       "      <td>-</td>\n",
       "      <td>-</td>\n",
       "      <td>-</td>\n",
       "      <td>-</td>\n",
       "      <td>-</td>\n",
       "      <td>-</td>\n",
       "      <td>-</td>\n",
       "      <td>...</td>\n",
       "      <td>0</td>\n",
       "      <td>0</td>\n",
       "      <td>0</td>\n",
       "      <td>0</td>\n",
       "      <td>0</td>\n",
       "      <td>0</td>\n",
       "      <td>0</td>\n",
       "      <td>0</td>\n",
       "      <td>에볼라바이러스병</td>\n",
       "      <td>001</td>\n",
       "    </tr>\n",
       "  </tbody>\n",
       "</table>\n",
       "<p>5 rows × 25 columns</p>\n",
       "</div>"
      ],
      "text/plain": [
       "     연령단위 성별 2001년 2002년 2003년 2004년 2005년 2006년 2007년 2008년  ... 2014년 2015년  \\\n",
       "0    0~4세  남     -     -     -     -     -     -     -     -  ...     0     0   \n",
       "1    0~4세  여     -     -     -     -     -     -     -     -  ...     0     0   \n",
       "2    5~9세  남     -     -     -     -     -     -     -     -  ...     0     0   \n",
       "3    5~9세  여     -     -     -     -     -     -     -     -  ...     0     0   \n",
       "4  10~14세  남     -     -     -     -     -     -     -     -  ...     0     0   \n",
       "\n",
       "  2016년 2017년 2018년 2019년 2020년 2021년         병   군구  \n",
       "0     0     0     0     0     0     0  에볼라바이러스병  001  \n",
       "1     0     0     0     0     0     0  에볼라바이러스병  001  \n",
       "2     0     0     0     0     0     0  에볼라바이러스병  001  \n",
       "3     0     0     0     0     0     0  에볼라바이러스병  001  \n",
       "4     0     0     0     0     0     0  에볼라바이러스병  001  \n",
       "\n",
       "[5 rows x 25 columns]"
      ]
     },
     "execution_count": 143,
     "metadata": {},
     "output_type": "execute_result"
    }
   ],
   "source": [
    "fin_dat.head()"
   ]
  },
  {
   "cell_type": "markdown",
   "id": "9bb0ddc6",
   "metadata": {},
   "source": [
    "### 저장"
   ]
  },
  {
   "cell_type": "code",
   "execution_count": 144,
   "id": "7877cc7b",
   "metadata": {},
   "outputs": [],
   "source": [
    "# fin_dat.to_csv('성별2001-2021.csv', index = False)"
   ]
  },
  {
   "cell_type": "code",
   "execution_count": 146,
   "id": "35dfdf1b",
   "metadata": {},
   "outputs": [
    {
     "name": "stderr",
     "output_type": "stream",
     "text": [
      "C:\\Users\\Admin\\AppData\\Local\\Temp\\ipykernel_3672\\3355547775.py:1: DtypeWarning: Columns (2,3,4,5,6,7,8,9,10,11,12,13,14,15,16,17,18,19,20) have mixed types. Specify dtype option on import or set low_memory=False.\n",
      "  확인 = pd.read_csv('성별2001-2021.csv')\n"
     ]
    },
    {
     "data": {
      "text/plain": [
       "(479808, 25)"
      ]
     },
     "execution_count": 146,
     "metadata": {},
     "output_type": "execute_result"
    },
    {
     "data": {
      "text/html": [
       "<div>\n",
       "<style scoped>\n",
       "    .dataframe tbody tr th:only-of-type {\n",
       "        vertical-align: middle;\n",
       "    }\n",
       "\n",
       "    .dataframe tbody tr th {\n",
       "        vertical-align: top;\n",
       "    }\n",
       "\n",
       "    .dataframe thead th {\n",
       "        text-align: right;\n",
       "    }\n",
       "</style>\n",
       "<table border=\"1\" class=\"dataframe\">\n",
       "  <thead>\n",
       "    <tr style=\"text-align: right;\">\n",
       "      <th></th>\n",
       "      <th>연령단위</th>\n",
       "      <th>성별</th>\n",
       "      <th>2001년</th>\n",
       "      <th>2002년</th>\n",
       "      <th>2003년</th>\n",
       "      <th>2004년</th>\n",
       "      <th>2005년</th>\n",
       "      <th>2006년</th>\n",
       "      <th>2007년</th>\n",
       "      <th>2008년</th>\n",
       "      <th>...</th>\n",
       "      <th>2014년</th>\n",
       "      <th>2015년</th>\n",
       "      <th>2016년</th>\n",
       "      <th>2017년</th>\n",
       "      <th>2018년</th>\n",
       "      <th>2019년</th>\n",
       "      <th>2020년</th>\n",
       "      <th>2021년</th>\n",
       "      <th>병</th>\n",
       "      <th>군구</th>\n",
       "    </tr>\n",
       "  </thead>\n",
       "  <tbody>\n",
       "    <tr>\n",
       "      <th>0</th>\n",
       "      <td>0~4세</td>\n",
       "      <td>남</td>\n",
       "      <td>-</td>\n",
       "      <td>-</td>\n",
       "      <td>-</td>\n",
       "      <td>-</td>\n",
       "      <td>-</td>\n",
       "      <td>-</td>\n",
       "      <td>-</td>\n",
       "      <td>-</td>\n",
       "      <td>...</td>\n",
       "      <td>0</td>\n",
       "      <td>0</td>\n",
       "      <td>0</td>\n",
       "      <td>0</td>\n",
       "      <td>0</td>\n",
       "      <td>0</td>\n",
       "      <td>0</td>\n",
       "      <td>0</td>\n",
       "      <td>에볼라바이러스병</td>\n",
       "      <td>1</td>\n",
       "    </tr>\n",
       "    <tr>\n",
       "      <th>1</th>\n",
       "      <td>0~4세</td>\n",
       "      <td>여</td>\n",
       "      <td>-</td>\n",
       "      <td>-</td>\n",
       "      <td>-</td>\n",
       "      <td>-</td>\n",
       "      <td>-</td>\n",
       "      <td>-</td>\n",
       "      <td>-</td>\n",
       "      <td>-</td>\n",
       "      <td>...</td>\n",
       "      <td>0</td>\n",
       "      <td>0</td>\n",
       "      <td>0</td>\n",
       "      <td>0</td>\n",
       "      <td>0</td>\n",
       "      <td>0</td>\n",
       "      <td>0</td>\n",
       "      <td>0</td>\n",
       "      <td>에볼라바이러스병</td>\n",
       "      <td>1</td>\n",
       "    </tr>\n",
       "    <tr>\n",
       "      <th>2</th>\n",
       "      <td>5~9세</td>\n",
       "      <td>남</td>\n",
       "      <td>-</td>\n",
       "      <td>-</td>\n",
       "      <td>-</td>\n",
       "      <td>-</td>\n",
       "      <td>-</td>\n",
       "      <td>-</td>\n",
       "      <td>-</td>\n",
       "      <td>-</td>\n",
       "      <td>...</td>\n",
       "      <td>0</td>\n",
       "      <td>0</td>\n",
       "      <td>0</td>\n",
       "      <td>0</td>\n",
       "      <td>0</td>\n",
       "      <td>0</td>\n",
       "      <td>0</td>\n",
       "      <td>0</td>\n",
       "      <td>에볼라바이러스병</td>\n",
       "      <td>1</td>\n",
       "    </tr>\n",
       "    <tr>\n",
       "      <th>3</th>\n",
       "      <td>5~9세</td>\n",
       "      <td>여</td>\n",
       "      <td>-</td>\n",
       "      <td>-</td>\n",
       "      <td>-</td>\n",
       "      <td>-</td>\n",
       "      <td>-</td>\n",
       "      <td>-</td>\n",
       "      <td>-</td>\n",
       "      <td>-</td>\n",
       "      <td>...</td>\n",
       "      <td>0</td>\n",
       "      <td>0</td>\n",
       "      <td>0</td>\n",
       "      <td>0</td>\n",
       "      <td>0</td>\n",
       "      <td>0</td>\n",
       "      <td>0</td>\n",
       "      <td>0</td>\n",
       "      <td>에볼라바이러스병</td>\n",
       "      <td>1</td>\n",
       "    </tr>\n",
       "    <tr>\n",
       "      <th>4</th>\n",
       "      <td>10~14세</td>\n",
       "      <td>남</td>\n",
       "      <td>-</td>\n",
       "      <td>-</td>\n",
       "      <td>-</td>\n",
       "      <td>-</td>\n",
       "      <td>-</td>\n",
       "      <td>-</td>\n",
       "      <td>-</td>\n",
       "      <td>-</td>\n",
       "      <td>...</td>\n",
       "      <td>0</td>\n",
       "      <td>0</td>\n",
       "      <td>0</td>\n",
       "      <td>0</td>\n",
       "      <td>0</td>\n",
       "      <td>0</td>\n",
       "      <td>0</td>\n",
       "      <td>0</td>\n",
       "      <td>에볼라바이러스병</td>\n",
       "      <td>1</td>\n",
       "    </tr>\n",
       "  </tbody>\n",
       "</table>\n",
       "<p>5 rows × 25 columns</p>\n",
       "</div>"
      ],
      "text/plain": [
       "     연령단위 성별 2001년 2002년 2003년 2004년 2005년 2006년 2007년 2008년  ... 2014년 2015년  \\\n",
       "0    0~4세  남     -     -     -     -     -     -     -     -  ...     0     0   \n",
       "1    0~4세  여     -     -     -     -     -     -     -     -  ...     0     0   \n",
       "2    5~9세  남     -     -     -     -     -     -     -     -  ...     0     0   \n",
       "3    5~9세  여     -     -     -     -     -     -     -     -  ...     0     0   \n",
       "4  10~14세  남     -     -     -     -     -     -     -     -  ...     0     0   \n",
       "\n",
       "  2016년 2017년 2018년 2019년 2020년 2021년         병 군구  \n",
       "0     0     0     0     0     0     0  에볼라바이러스병  1  \n",
       "1     0     0     0     0     0     0  에볼라바이러스병  1  \n",
       "2     0     0     0     0     0     0  에볼라바이러스병  1  \n",
       "3     0     0     0     0     0     0  에볼라바이러스병  1  \n",
       "4     0     0     0     0     0     0  에볼라바이러스병  1  \n",
       "\n",
       "[5 rows x 25 columns]"
      ]
     },
     "execution_count": 146,
     "metadata": {},
     "output_type": "execute_result"
    }
   ],
   "source": [
    "확인 = pd.read_csv('성별2001-2021.csv')\n",
    "확인.shape # (479808, 25)\n",
    "확인.head()"
   ]
  },
  {
   "cell_type": "code",
   "execution_count": null,
   "id": "208d28ff",
   "metadata": {},
   "outputs": [],
   "source": []
  }
 ],
 "metadata": {
  "kernelspec": {
   "display_name": "Python 3.10.3 64-bit",
   "language": "python",
   "name": "python3"
  },
  "language_info": {
   "codemirror_mode": {
    "name": "ipython",
    "version": 3
   },
   "file_extension": ".py",
   "mimetype": "text/x-python",
   "name": "python",
   "nbconvert_exporter": "python",
   "pygments_lexer": "ipython3",
   "version": "3.10.3"
  },
  "latex_envs": {
   "LaTeX_envs_menu_present": true,
   "autoclose": false,
   "autocomplete": true,
   "bibliofile": "biblio.bib",
   "cite_by": "apalike",
   "current_citInitial": 1,
   "eqLabelWithNumbers": true,
   "eqNumInitial": 1,
   "hotkeys": {
    "equation": "Ctrl-E",
    "itemize": "Ctrl-I"
   },
   "labels_anchors": false,
   "latex_user_defs": false,
   "report_style_numbering": false,
   "user_envs_cfg": false
  },
  "toc": {
   "base_numbering": 1,
   "nav_menu": {},
   "number_sections": true,
   "sideBar": true,
   "skip_h1_title": false,
   "title_cell": "Table of Contents",
   "title_sidebar": "Contents",
   "toc_cell": false,
   "toc_position": {},
   "toc_section_display": true,
   "toc_window_display": false
  },
  "vscode": {
   "interpreter": {
    "hash": "6de9cc75f9ee67ec1b5b535deb0e285a51ecb5d2bba828a4a3451b05a2c1454b"
   }
  }
 },
 "nbformat": 4,
 "nbformat_minor": 5
}
