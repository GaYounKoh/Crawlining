{
 "cells": [
  {
   "cell_type": "markdown",
   "id": "bf0ffca0",
   "metadata": {},
   "source": [
    "# 크롤링을 하려면 selenium, chromedriver, urllib이 필수적으로 필요하다.\n",
    "\n",
    "chromedriver의 경우 Only local connections are allowed. 라는 이슈가 있기에, 서버에서는 사용 불가능하다. <br>\n",
    "그리고 일반 크롬과 버전이 맞아야 사용 가능하므로, 사용전에 버전 확인을 하는 것이 좋다. <br>\n",
    "따로 버전 확인을 하지 않더라도 에러가 다 알려주니 크게 신경쓰지 않아도 됨. <br>\n",
    "\n",
    "[chromedriver.exe 다운받는 경로](https://chromedriver.chromium.org/downloads) <br>\n",
    "\n",
    "(현재 주피터를 실행하는 경로에) 현재 내 pc의 chrome과 버전이 동일한 chromedriver.exe가 깔려만 있으면 잘 실행됨."
   ]
  },
  {
   "cell_type": "code",
   "execution_count": 4,
   "id": "469d368d",
   "metadata": {},
   "outputs": [
    {
     "name": "stdout",
     "output_type": "stream",
     "text": [
      "Note: you may need to restart the kernel to use updated packages.\n"
     ]
    },
    {
     "name": "stderr",
     "output_type": "stream",
     "text": [
      "ERROR: Invalid requirement: '[selenium]'\n",
      "WARNING: You are using pip version 21.3.1; however, version 22.1.2 is available.\n",
      "You should consider upgrading via the 'C:\\Users\\kelly\\anaconda3\\python.exe -m pip install --upgrade pip' command.\n"
     ]
    }
   ],
   "source": [
    "# pip install --upgrade [selenium]"
   ]
  },
  {
   "cell_type": "code",
   "execution_count": null,
   "id": "c3146c4f",
   "metadata": {},
   "outputs": [],
   "source": []
  },
  {
   "cell_type": "code",
   "execution_count": 11,
   "id": "2a290b2f",
   "metadata": {},
   "outputs": [],
   "source": [
    "import sys, os\n",
    "import requests #(네이버) api 이용할 때 쓰는 패키지\n",
    "import selenium #크롤링 패키지\n",
    "\n",
    "# selenium의 webdriver를 사용하기 위한 import\n",
    "from selenium import webdriver\n",
    "\n",
    "# selenium으로 무엇인가 입력하기 위한 import\n",
    "from selenium.webdriver.common.keys import Keys\n",
    "#\n",
    "\n",
    "from pandas import DataFrame\n",
    "from bs4 import BeautifulSoup #크롤링 패키지\n",
    "import re #정규식 표현 모듈\n",
    "from datetime import datetime\n",
    "import pickle, progressbar, json, glob, time #pickle: 객체를 파일로 저장해주는 모듈, progressbar: 진행표시 바, json: 네이버 api, glob: 파일들 리스트 뽑을 때 사용\n",
    "# https://wikidocs.net/83\n",
    "from tqdm import tqdm #진행표시바\n",
    "#\n",
    "\n",
    "from selenium.webdriver.support import expected_conditions as EC\n",
    "from selenium.webdriver.common.by import By\n",
    "from selenium.webdriver.support.ui import WebDriverWait\n",
    "from selenium.webdriver.common.action_chains import ActionChains\n",
    "\n",
    "import numpy as np\n",
    "\n",
    "import urllib.request #파싱을 위한 모듈"
   ]
  },
  {
   "cell_type": "markdown",
   "id": "70b7d978",
   "metadata": {},
   "source": [
    "# 크롬창 열기"
   ]
  },
  {
   "cell_type": "code",
   "execution_count": 7,
   "id": "ffeedd6f",
   "metadata": {},
   "outputs": [
    {
     "name": "stdout",
     "output_type": "stream",
     "text": [
      "브라우저를 실행시킵니다(자동 제어)\n",
      "\n"
     ]
    }
   ],
   "source": [
    "print('브라우저를 실행시킵니다(자동 제어)\\n')\n",
    "browser = webdriver.Chrome('chromedriver') #크롬창열기 # (현재 주피터를 실행하는 경로에) 현재 내 크롬 버전과 동일한 chromedriver.exe가 있으면 실행됨.\n",
    "# https://beomi.github.io/2017/09/28/HowToMakeWebCrawler-Headless-Chrome/\n",
    "\n",
    "news_url = 'https://www.kdca.go.kr/npt/biz/npp/ist/bass/bassSexdstnAgeStatsMain.do'\n",
    "\n",
    "browser.get(news_url) #url 오픈\n",
    "time.sleep(2)\n",
    "\n",
    "# version issue\n",
    "# SessionNotCreatedException: Message: session not created: This version of ChromeDriver only supports Chrome version 87\n",
    "# Current browser version is 103.0.5060.114 with binary path C:\\Program Files (x86)\\Google\\Chrome\\Application\\chrome.exe\n",
    "\n",
    "# solution\n",
    "# https://codechacha.com/ko/selenium-chromedriver-version-error/"
   ]
  },
  {
   "cell_type": "markdown",
   "id": "e98840ba",
   "metadata": {},
   "source": [
    "# 옵션버튼 클릭"
   ]
  },
  {
   "cell_type": "code",
   "execution_count": 15,
   "id": "ff8d19aa",
   "metadata": {},
   "outputs": [],
   "source": [
    "search_opt_box = browser.find_element_by_xpath('//*[@id=\"ui-id-3\"]')\n",
    "# 검색 옵션 버튼\n",
    "search_opt_box.click() #버튼 클릭\n",
    "time.sleep(0.02)\n",
    "\n",
    "# 기간 선택\n",
    "search_box = browser.find_element_by_xpath('//*[@id=\"sexdstnAgeAgeSexdstnFrmStartDt\"]')\n",
    "search_box.send_keys('2001-01-01')\n",
    "search_box.send_keys(Keys.RETURN)\n",
    "time.sleep(0.02)\n",
    "\n",
    "search_box = browser.find_element_by_xpath('//*[@id=\"sexdstnAgeAgeSexdstnFrmEndDt\"]')\n",
    "search_box.send_keys('2001-01-31')\n",
    "search_box.send_keys(Keys.RETURN)\n",
    "time.sleep(0.02)\n",
    "\n",
    "## 공통\n",
    "# 감염병 명 선택\n",
    "browser.find_element_by_xpath('//*[@id=\"sexdstnAgeAgeSexdstnFrm\"]/div/ul[2]/li[2]/div[1]/div/button/div').click()\n",
    "browser.find_element_by_xpath('//*[@id=\"sexdstnAgeAgeSexdstnFrm\"]/div/ul[2]/li[2]/div[1]/div/div/ul/li[1]/label/input').click()\n",
    "browser.find_element_by_xpath('//*[@id=\"sexdstnAgeAgeSexdstnFrm\"]/div/ul[2]/li[2]/div[2]/div/button/div').click()\n",
    "browser.find_element_by_xpath('//*[@id=\"sexdstnAgeAgeSexdstnFrm\"]/div/ul[2]/li[2]/div[2]/div/div/ul/li[1]/label/input').click()\n",
    "time.sleep(0.02)\n",
    "\n",
    "# 연령 선택\n",
    "browser.find_element_by_xpath('//*[@id=\"sexdstnAgeAgeSexdstnFrm_ageType2\"]')\n",
    "\n",
    "\n",
    "# 지역 설정, 하나하나 클릭해야 하므로 Xpath의 패턴을 찾아서 for loop을 돌릴 수 있도록 한다.\n",
    "## 시도\n",
    "for 시도 in range(18):\n",
    "    browser.find_element_by_xpath('//*[@id=\"sexdstnAgeAgeSexdstnFrmAreaCtprvnCd\"]').click()\n",
    "    browser.find_element_by_xpath(f'//*[@id=\"sexdstnAgeAgeSexdstnFrmAreaCtprvnCd\"]/option[{시도+2}]').click()\n",
    "\n",
    "    ## 군구\n",
    "    if 시도[시도] == '경기':\n",
    "        for 군구 in range(52): # 52\n",
    "            browser.find_element_by_xpath(f'//*[@id=\"sexdstnAgeAgeSexdstnFrmAreaSignguCd\"]/option[{군구+2}]').click()\n",
    "            \n",
    "            ## 통계작성버튼 클릭\n",
    "            browser.find_element_by_xpath('//*[@id=\"sexdstnAgeAgeSexdstnFrm\"]/input[2]').click()\n",
    "            \n",
    "            \n",
    "            \n",
    "    elif 시도[시도] == '서울' or 시도[시도] == '경북' or 시도[시도] == '경남':\n",
    "        for 군구 in range(25): # 25\n",
    "            browser.find_element_by_xpath(f'//*[@id=\"sexdstnAgeAgeSexdstnFrmAreaSignguCd\"]/option[{군구+2}]').click()\n",
    "            browser.find_element_by_xpath('').click()\n",
    "            \n",
    "    elif 시도[시도] == '전남':\n",
    "        for 군구 in range(22): # 22\n",
    "            browser.find_element_by_xpath(f'//*[@id=\"sexdstnAgeAgeSexdstnFrmAreaSignguCd\"]/option[{군구+2}]').click()\n",
    "            browser.find_element_by_xpath('').click()\n",
    "\n",
    "    elif 시도[시도] == '강원' or 시도[시도] == '충남':\n",
    "        for 군구 in range(18): # 18\n",
    "            browser.find_element_by_xpath(f'//*[@id=\"sexdstnAgeAgeSexdstnFrmAreaSignguCd\"]/option[{군구+2}]').click()\n",
    "            browser.find_element_by_xpath('').click()\n",
    "\n",
    "    elif 시도[시도] == '충북':\n",
    "        for 군구 in range(17): # 17\n",
    "            browser.find_element_by_xpath(f'//*[@id=\"sexdstnAgeAgeSexdstnFrmAreaSignguCd\"]/option[{군구+2}]').click()\n",
    "            browser.find_element_by_xpath('').click()\n",
    "            \n",
    "    elif 시도[시도] == '부산' or 시도[시도] == '전북':\n",
    "        for 군구 in range(16): # 16\n",
    "            browser.find_element_by_xpath(f'//*[@id=\"sexdstnAgeAgeSexdstnFrmAreaSignguCd\"]/option[{군구+2}]').click()\n",
    "            browser.find_element_by_xpath('').click()\n",
    "    \n",
    "    elif 시도[시도] == '인천':\n",
    "        for 군구 in range(10): # 10\n",
    "            browser.find_element_by_xpath(f'//*[@id=\"sexdstnAgeAgeSexdstnFrmAreaSignguCd\"]/option[{군구+2}]').click()\n",
    "            browser.find_element_by_xpath('').click()\n",
    "    \n",
    "    elif 시도[시도] == '대구':\n",
    "        for 군구 in range(8): # 8\n",
    "            browser.find_element_by_xpath(f'//*[@id=\"sexdstnAgeAgeSexdstnFrmAreaSignguCd\"]/option[{군구+2}]').click()\n",
    "            browser.find_element_by_xpath('').click()\n",
    "    \n",
    "    elif 시도[시도] == '광주' or 시도[시도] == '대전' or 시도[시도] == '울산':\n",
    "        for 군구 in range(5): # 5\n",
    "            browser.find_element_by_xpath(f'//*[@id=\"sexdstnAgeAgeSexdstnFrmAreaSignguCd\"]/option[{군구+2}]').click()\n",
    "            browser.find_element_by_xpath('').click()\n",
    "            \n",
    "    elif 시도[시도] == '제주':\n",
    "        for 군구 in range(4): # 4\n",
    "            browser.find_element_by_xpath(f'//*[@id=\"sexdstnAgeAgeSexdstnFrmAreaSignguCd\"]/option[{군구+2}]').click()\n",
    "            browser.find_element_by_xpath('').click()\n",
    "            \n",
    "    elif 시도[시도] == '세종':\n",
    "        for 군구 in range(1): # 1\n",
    "            browser.find_element_by_xpath(f'//*[@id=\"sexdstnAgeAgeSexdstnFrmAreaSignguCd\"]/option[{군구+2}]').click()\n",
    "            browser.find_element_by_xpath('').click()"
   ]
  },
  {
   "cell_type": "code",
   "execution_count": null,
   "id": "340add1a",
   "metadata": {},
   "outputs": [],
   "source": [
    "//*[@id=\"sexdstnAgeAgeSexdstnFrmAreaSignguCd\"]/option[2]"
   ]
  },
  {
   "cell_type": "code",
   "execution_count": null,
   "id": "126cb006",
   "metadata": {},
   "outputs": [],
   "source": [
    "시도 = ['서울', '부산', '대구', '인천',\n",
    "      '광주', '대전', '울산', '경기', '강원', \n",
    "      '충북', '충남', '전북', '전남', '경북',\n",
    "      '경남', '제주', '세종']\n",
    "len(시도) # 17"
   ]
  },
  {
   "cell_type": "code",
   "execution_count": 30,
   "id": "aae1abaa",
   "metadata": {},
   "outputs": [
    {
     "data": {
      "text/plain": [
       "52"
      ]
     },
     "execution_count": 30,
     "metadata": {},
     "output_type": "execute_result"
    }
   ],
   "source": [
    "53-2+1"
   ]
  },
  {
   "cell_type": "markdown",
   "id": "be6b71e1",
   "metadata": {},
   "source": [
    "<각 지역 군구>\n",
    "~~서울 : 1~25 ==> 25~~\n",
    "~~부산 : 26~41 ==> 16~~\n",
    "~~대구 : 42~49 ==> 8~~\n",
    "~~인천 : 50~59 ==> 10~~\n",
    "\n",
    "광주 : 60~64 ==> 5\n",
    "대전 : 65~69 ==> 5\n",
    "울산 : 70~74 ==> 5\n",
    "\n",
    "//*[@id=\"sexdstnAgeAgeSexdstnFrmAreaSignguCd\"]/option[2]\n",
    "//*[@id=\"sexdstnAgeAgeSexdstnFrmAreaSignguCd\"]/option[47]\n",
    "//*[@id=\"sexdstnAgeAgeSexdstnFrmAreaSignguCd\"]/option[48]\n",
    "//*[@id=\"sexdstnAgeAgeSexdstnFrmAreaSignguCd\"]/option[53]\n",
    "~~경기 : 75~120, 120(이게 2개임) 122, 123, 124, 125, 130 ==> 52 (2로 시작, 53으로 끝)~~\n",
    "\n",
    "//*[@id=\"sexdstnAgeAgeSexdstnFrmAreaSignguCd\"]/option[2]\n",
    "//*[@id=\"sexdstnAgeAgeSexdstnFrmAreaSignguCd\"]/option[19]\n",
    "~~강원 : 360~377 ==> 18 (2로 시작, 19로 끝)~~\n",
    "\n",
    "~~충북 : 400~416 ==> 17~~\n",
    "\n",
    "//*[@id=\"sexdstnAgeAgeSexdstnFrmAreaSignguCd\"]/option[2]\n",
    "//*[@id=\"sexdstnAgeAgeSexdstnFrmAreaSignguCd\"]/option[19]\n",
    "~~충남 : 420~435 + 704, 705 ==> 18~~\n",
    "\n",
    "//*[@id=\"sexdstnAgeAgeSexdstnFrmAreaSignguCd\"]/option[2]\n",
    "//*[@id=\"sexdstnAgeAgeSexdstnFrmAreaSignguCd\"]/option[17]\n",
    "~~전북 : 550~565 ==> 16~~\n",
    "\n",
    "~~전남 : 570~591 ==> 22~~\n",
    "\n",
    "//*[@id=\"sexdstnAgeAgeSexdstnFrmAreaSignguCd\"]/option[26]\n",
    "~~경북 : 600~624 ==> 25~~\n",
    "\n",
    "//*[@id=\"sexdstnAgeAgeSexdstnFrmAreaSignguCd\"]/option[26]\n",
    "~~경남 : 650~669, 706~710 ==>25~~\n",
    "\n",
    "~~제주 : 700~703 ==> 4~~\n",
    "~~세종 : 711 ==> 1~~"
   ]
  },
  {
   "cell_type": "code",
   "execution_count": 32,
   "id": "3b567247",
   "metadata": {},
   "outputs": [
    {
     "name": "stdout",
     "output_type": "stream",
     "text": [
      "0\n"
     ]
    }
   ],
   "source": [
    "for 군구 in range(1): # 1\n",
    "    print(군구)"
   ]
  }
 ],
 "metadata": {
  "kernelspec": {
   "display_name": "Python 3.7.8 64-bit",
   "language": "python",
   "name": "python3"
  },
  "language_info": {
   "codemirror_mode": {
    "name": "ipython",
    "version": 3
   },
   "file_extension": ".py",
   "mimetype": "text/x-python",
   "name": "python",
   "nbconvert_exporter": "python",
   "pygments_lexer": "ipython3",
   "version": "3.7.8"
  },
  "toc": {
   "base_numbering": 1,
   "nav_menu": {},
   "number_sections": true,
   "sideBar": true,
   "skip_h1_title": false,
   "title_cell": "Table of Contents",
   "title_sidebar": "Contents",
   "toc_cell": false,
   "toc_position": {},
   "toc_section_display": true,
   "toc_window_display": false
  },
  "vscode": {
   "interpreter": {
    "hash": "0a54084e6b208ee8d1ce3989ffc20924477a5f55f5a43e22e699a6741623861e"
   }
  }
 },
 "nbformat": 4,
 "nbformat_minor": 5
}
