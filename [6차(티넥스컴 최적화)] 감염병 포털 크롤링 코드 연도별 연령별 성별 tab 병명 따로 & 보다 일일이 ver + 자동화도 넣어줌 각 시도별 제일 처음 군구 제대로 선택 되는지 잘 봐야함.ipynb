{
 "cells": [
  {
   "cell_type": "markdown",
   "id": "89023319",
   "metadata": {},
   "source": [
    "# 다음지역으로 안넘어가는 문제가 있음.\n",
    "==> 해결함"
   ]
  },
  {
   "cell_type": "code",
   "execution_count": 1,
   "id": "1b2b4425",
   "metadata": {},
   "outputs": [],
   "source": [
    "# 열린 크롬창 내에 csv 버튼까지 보이게끔 해둬야 코드가 실행됨.\n",
    "\n",
    "# 밑에 다운로드 한 이력이 있으면 안돌아감.\n",
    "\n",
    "# 화면 크기 100%에서 줄이지 말기..."
   ]
  },
  {
   "cell_type": "markdown",
   "id": "bf0ffca0",
   "metadata": {},
   "source": [
    "# 크롤링을 하려면 selenium, chromedriver, urllib이 필수적으로 필요하다.\n",
    "\n",
    "chromedriver의 경우 Only local connections are allowed. 라는 이슈가 있기에, 서버에서는 사용 불가능하다. <br>\n",
    "그리고 일반 크롬과 버전이 맞아야 사용 가능하므로, 사용전에 버전 확인을 하는 것이 좋다. <br>\n",
    "따로 버전 확인을 하지 않더라도 에러가 다 알려주니 크게 신경쓰지 않아도 됨. <br>\n",
    "\n",
    "[chromedriver.exe 다운받는 경로](https://chromedriver.chromium.org/downloads) <br>\n",
    "\n",
    "(현재 주피터를 실행하는 경로에) 현재 내 pc의 chrome과 버전이 동일한 chromedriver.exe가 깔려만 있으면 잘 실행됨."
   ]
  },
  {
   "cell_type": "code",
   "execution_count": 1,
   "id": "23cf4d0f",
   "metadata": {},
   "outputs": [],
   "source": [
    "# pip install selenium\n",
    "# !pip install requests\n",
    "# pip install bs4\n",
    "# pip install tqdm\n",
    "# !pip install pandas\n",
    "# !pip install progressbar"
   ]
  },
  {
   "cell_type": "code",
   "execution_count": 2,
   "id": "cf45ea49",
   "metadata": {},
   "outputs": [],
   "source": [
    "# # NBextensions 설치 코드\n",
    "# ! pip install jupyter_nbextensions_configurator jupyter_contrib_nbextensions\n",
    "# ! jupyter contrib nbextension install --user\n",
    "# ! jupyter nbextensions_configurator enable --user\n",
    "\n",
    "# ## 설치 이후 jupyter notebook 종료 & 재실행, 상단에 Nbextension tab에서 설정"
   ]
  },
  {
   "cell_type": "code",
   "execution_count": 92,
   "id": "2a290b2f",
   "metadata": {},
   "outputs": [],
   "source": [
    "import sys, os\n",
    "import requests #(네이버) api 이용할 때 쓰는 패키지\n",
    "import selenium #크롤링 패키지\n",
    "\n",
    "# selenium의 webdriver를 사용하기 위한 import\n",
    "from selenium import webdriver\n",
    "\n",
    "# selenium으로 무엇인가 입력하기 위한 import\n",
    "from selenium.webdriver.common.keys import Keys\n",
    "#\n",
    "\n",
    "from pandas import DataFrame\n",
    "from bs4 import BeautifulSoup #크롤링 패키지\n",
    "import re #정규식 표현 모듈\n",
    "from datetime import datetime\n",
    "import pickle, progressbar, json, glob, time #pickle: 객체를 파일로 저장해주는 모듈, progressbar: 진행표시 바, json: 네이버 api, glob: 파일들 리스트 뽑을 때 사용\n",
    "# https://wikidocs.net/83\n",
    "from tqdm import tqdm #진행표시바\n",
    "#\n",
    "\n",
    "from selenium.webdriver.support import expected_conditions as EC\n",
    "from selenium.webdriver.common.by import By\n",
    "from selenium.webdriver.support.ui import WebDriverWait\n",
    "from selenium.webdriver.common.action_chains import ActionChains\n",
    "\n",
    "import numpy as np\n",
    "\n",
    "import urllib.request #파싱을 위한 모듈\n",
    "\n",
    "from IPython.core.interactiveshell import InteractiveShell\n",
    "InteractiveShell.ast_node_interactivity = \"all\"\n",
    "\n",
    "\n",
    "from glob import glob"
   ]
  },
  {
   "cell_type": "markdown",
   "id": "70b7d978",
   "metadata": {},
   "source": [
    "# 크롬창 열기"
   ]
  },
  {
   "cell_type": "code",
   "execution_count": 2,
   "id": "ffeedd6f",
   "metadata": {},
   "outputs": [
    {
     "name": "stdout",
     "output_type": "stream",
     "text": [
      "브라우저를 실행시킵니다(자동 제어)\n",
      "\n"
     ]
    },
    {
     "name": "stderr",
     "output_type": "stream",
     "text": [
      "C:\\Users\\Admin\\AppData\\Local\\Temp\\ipykernel_7172\\320538248.py:5: DeprecationWarning: executable_path has been deprecated, please pass in a Service object\n",
      "  browser = webdriver.Chrome(path + 'chromedriver' + 확장자) #크롬창열기 # (현재 주피터를 실행하는 경로에) 현재 내 크롬 버전과 동일한 chromedriver.exe가 있으면 실행됨.\n"
     ]
    }
   ],
   "source": [
    "print('브라우저를 실행시킵니다(자동 제어)\\n')\n",
    "\n",
    "path = 'C:/Users/Admin/바탕 화면/다운로드/'\n",
    "확장자 = '.exe'\n",
    "browser = webdriver.Chrome(path + 'chromedriver' + 확장자) #크롬창열기 # (현재 주피터를 실행하는 경로에) 현재 내 크롬 버전과 동일한 chromedriver.exe가 있으면 실행됨.\n",
    "# https://beomi.github.io/2017/09/28/HowToMakeWebCrawler-Headless-Chrome/\n",
    "\n",
    "news_url = 'https://www.kdca.go.kr/npt/biz/npp/ist/bass/bassSexdstnAgeStatsMain.do'\n",
    "\n",
    "browser.get(news_url) #url 오픈\n",
    "time.sleep(2)\n",
    "\n",
    "# version issue\n",
    "# SessionNotCreatedException: Message: session not created: This version of ChromeDriver only supports Chrome version 87\n",
    "# Current browser version is 103.0.5060.114 with binary path C:\\Program Files (x86)\\Google\\Chrome\\Application\\chrome.exe\n",
    "\n",
    "# solution\n",
    "# https://codechacha.com/ko/selenium-chromedriver-version-error/"
   ]
  },
  {
   "cell_type": "markdown",
   "id": "f1cacf85",
   "metadata": {},
   "source": [
    "# labeling을 위한 작업"
   ]
  },
  {
   "cell_type": "markdown",
   "id": "c7579f98",
   "metadata": {},
   "source": [
    "## 시도lst"
   ]
  },
  {
   "cell_type": "code",
   "execution_count": 3,
   "id": "c5779475",
   "metadata": {},
   "outputs": [
    {
     "data": {
      "text/plain": [
       "17"
      ]
     },
     "execution_count": 3,
     "metadata": {},
     "output_type": "execute_result"
    }
   ],
   "source": [
    "시도lst = ['서울', '부산', '대구', '인천',\n",
    "      '광주', '대전', '울산', '경기', '강원', \n",
    "      '충북', '충남', '전북', '전남', '경북',\n",
    "      '경남', '제주', '세종']\n",
    "len(시도lst) # 17"
   ]
  },
  {
   "cell_type": "markdown",
   "id": "e2d118b9",
   "metadata": {},
   "source": [
    "## name2병id (len 63)"
   ]
  },
  {
   "cell_type": "code",
   "execution_count": 4,
   "id": "4a3b8b99",
   "metadata": {},
   "outputs": [
    {
     "data": {
      "text/plain": [
       "63"
      ]
     },
     "execution_count": 4,
     "metadata": {},
     "output_type": "execute_result"
    }
   ],
   "source": [
    "급1병_lst = ['에볼라바이러스병', '마버그열', '라싸열', '크리미안콩고출혈열', '남아메리카출혈열', '리프트밸리열', '두창', '페스트',\n",
    "            '탄저', '보툴리눔독소증', '야토병', '중증급성호흡기증후군(SARS)', '중동호흡기증후군(MERS)', '동물인플루엔자 인체감염증',\n",
    "            '신종인플루엔자', '디프테리아']\n",
    "\n",
    "급2병_lst = ['수두', '홍역', '콜레라', '장티푸스', '파라티푸스', '세균성이질', '장출혈성대장균감염증', 'A형간염', '백일해',\n",
    "            '유행성이하선염', '풍진(2018년이전)', '풍진(선천성)', '풍진(후천성)', '폴리오', '수막구균 감염증',\n",
    "            'b형헤모필루스인플루엔자', '폐렴구균 감염증', '한센병', '성홍열', '반코마이신내성황색포도알균(VRSA) 감염증',\n",
    "            '카바페넴내성장내세균속균종(CRE) 감염증', 'E형간염']\n",
    "\n",
    "급3병_lst = ['파상풍', 'B형간염', '일본뇌염', 'C형간염', '말라리아', '레지오넬라증', '비브리오패혈증', '발진티푸스', '발진열',\n",
    "             '쯔쯔가무시증', '렙토스피라증', '브루셀라증', '공수병', '신증후군출혈열',\n",
    "             '크로이츠펠트-야콥병(CDJ) 및 변종크로이츠펠트-야콥병(vCJD)', '황열', '뎅기열', '큐열', '웨스트나일열', '라임병',\n",
    "             '진드기매개뇌염', '유비저', '치쿤구니야열', '중증열성혈소판감소증후군(SFTS)', '지카바이러스감염증']\n",
    "\n",
    "병name_lst = 급1병_lst + 급2병_lst + 급3병_lst\n",
    "len(병name_lst)"
   ]
  },
  {
   "cell_type": "code",
   "execution_count": 5,
   "id": "4d364a34",
   "metadata": {},
   "outputs": [
    {
     "data": {
      "text/plain": [
       "63"
      ]
     },
     "execution_count": 5,
     "metadata": {},
     "output_type": "execute_result"
    }
   ],
   "source": [
    "병id_lst = [i+2 for i in range(len(병name_lst))]\n",
    "\n",
    "name2병id = {병name_lst[i] : 병id_lst[i] for i in range(len(병id_lst))}\n",
    "len(name2병id)"
   ]
  },
  {
   "cell_type": "code",
   "execution_count": 6,
   "id": "b357c4c3",
   "metadata": {},
   "outputs": [],
   "source": [
    "급id_match_lst = [1+1]*len(급1병_lst) + [2+1]*len(급2병_lst) + [3+1]*len(급3병_lst)\n",
    "병id2급id = {name2병id[병name_lst[i]] : 급id_match_lst[i] for i in range(len(병id_lst))}"
   ]
  },
  {
   "cell_type": "markdown",
   "id": "46dff595",
   "metadata": {},
   "source": [
    "## 지역 (len 272)"
   ]
  },
  {
   "cell_type": "code",
   "execution_count": 7,
   "id": "80ca50b6",
   "metadata": {},
   "outputs": [],
   "source": [
    "군구서울 = ['강남구', '강동구', '강북구', '강서구', '관악구', '광진구', '구로구', '금천구', '노원구', '도봉구', '동대문구', '동작구', '마포구', '서대문구', '서초구', '성동구', '성북구', '송파구', '양천구', '영등포구', '용산구', '은평구',\n",
    "           '종로구', '중구', '중랑구']\n",
    "\n",
    "군구부산 = ['강서구', '금정구', '기장군', '남구', '동구', '동래구', '부산진구', '북구', '사상구', '사하구', '서구', '수영구', '연제구', '영도구', '중구', '해운대구']\n",
    "\n",
    "군구대구 = ['남구', '달서구', '달성군', '동구', '북구', '서구', '수성구', '중구']\n",
    "\n",
    "군구인천 = ['강화군', '계양구', '미추홀구', '남동구', '동구', '부평구', '서구', '연수구', '옹진군', '중구']\n",
    "\n",
    "군구광주 = ['광산구', '남구', '동구', '북구', '서구']\n",
    "\n",
    "군구대전 = ['대덕구', '동구', '서구', '유성구', '중구']\n",
    "\n",
    "군구울산 = ['남구', '동구', '북구', '울주군', '중구']\n",
    "\n",
    "군구경기 = ['가평군', '고양시 덕양구', '고양시 일산동구', '고양시 일산서구', '과천시', '광명시', '광주시', '구리시', '군포시', '김포시', '남양주시', '동두천시', '부천시 소사구', '부천시 오정구', '부천시 원미구', '성남시 분당구', '성남시 수정구',\n",
    "           '성남시 중원구', '수원시 권선구', '수원시 영통구', '수원시 장안구', '수원시 팔달구', '시흥시', '안산시 단원구', '안산시 상록구', '안성시', '안양시 동안구', '안양시 만안구', '양주시', '양평군', '여주시', '연천군', '오산시', '용인시 기흥구', '용인시 수지구',\n",
    "           '용인시 처인구', '의왕시', '의정부시', '이천시', '파주시', '평택시', '포천시', '하남시', '화성시', '양주군', '고양시 일산구', '포천군', '용인시', '남양주', '고양시 일산동', '안산시', '부천시']\n",
    "\n",
    "군구강원 = ['강릉시', '고성군', '동해시', '삼척시', '속초시', '양구군', '양양군', '영월군', '원주시', '인제군', '정선군', '철원군', '춘천시', '태백시', '평창군', '홍천군', '화천군', '횡성군']\n",
    "\n",
    "군구충북 = ['괴산군', '단양군', '보은군', '영동군', '옥천군', '음성군', '제천시',' 증평군', '진천군', '청원군', '(구)청주시 상당구', '(구)청주시 흥덕구', '충주시', '청주시 상당구', '청주시 흥덕구', '청주시 서원구', '청주시 청원구']\n",
    "\n",
    "군구충남 = ['계룡시', '공주시', '금산군', '논산시', '당진시', '보령시', '부여군', '서산시', '서천군', '아산시', '연기군', '예산군', '천안시', '청양군', '태안군', '홍성군', '천안시 동남구', '천안시 서북구']\n",
    "\n",
    "군구전북 = ['고창군', '군산시' ,'김제시', '남원시', '무주군', '부안군', '순창군', '완주군', '익산시', '임실군', '장수군', '전주시 덕진구', '전주시 완산구', '정읍시', '진안군', '전주시']\n",
    "\n",
    "군구전남 = ['강진군', '고흥군', '곡성군', '광양시', '구례군', '나주시', '담양군', '목포시', '무안군', '보성군', '순천시', '신안군', '여수시', '영광군', '영암군', '완도군', '장성군', '장흥군', '진도군', '함평군', '해남군', '화순군']\n",
    "\n",
    "군구경북 = ['경산시', '경주시', '고령군', '구미시', '군위군', '김천시', '문경시', '봉화군', '상주시', '성주군', '안동시', '영덕군', '영양군', '영주시', '영천시', '예천군', '울릉군', '울진군', '의성군', '청도군', '청송군', '칠곡군',\n",
    "           '포항시 남구', '포항시 북구', '포항시']\n",
    "\n",
    "군구경남 = ['거제시', '거창군', '고성군', '김해시', '남해군', '마산시', '밀양시', '사천시', '산청군', '양산시', '의령군', '진주시', '진해시', '창녕군', '창원시', '통영시', '하동군', '함안군', '함양군', '합천군', '창원시 마산합포구', '창원시 마산회원구',\n",
    "           '창원시 성산구', '창원시 의창구', '창원시 진해구']\n",
    "\n",
    "군구제주 = ['서귀포시', '제주시', '남제주군', '북제주군']\n",
    "\n",
    "군구세종 = ['세종시']"
   ]
  },
  {
   "cell_type": "markdown",
   "id": "d7101808",
   "metadata": {},
   "source": [
    "### 각 시도별 군구 길이"
   ]
  },
  {
   "cell_type": "code",
   "execution_count": 8,
   "id": "57aca153",
   "metadata": {},
   "outputs": [
    {
     "data": {
      "text/plain": [
       "('서울', 25)"
      ]
     },
     "execution_count": 8,
     "metadata": {},
     "output_type": "execute_result"
    },
    {
     "data": {
      "text/plain": [
       "('부산', 16)"
      ]
     },
     "execution_count": 8,
     "metadata": {},
     "output_type": "execute_result"
    },
    {
     "data": {
      "text/plain": [
       "('대구', 8)"
      ]
     },
     "execution_count": 8,
     "metadata": {},
     "output_type": "execute_result"
    },
    {
     "data": {
      "text/plain": [
       "('인천', 10)"
      ]
     },
     "execution_count": 8,
     "metadata": {},
     "output_type": "execute_result"
    },
    {
     "data": {
      "text/plain": [
       "('광주', 5)"
      ]
     },
     "execution_count": 8,
     "metadata": {},
     "output_type": "execute_result"
    },
    {
     "data": {
      "text/plain": [
       "('대전', 5)"
      ]
     },
     "execution_count": 8,
     "metadata": {},
     "output_type": "execute_result"
    },
    {
     "data": {
      "text/plain": [
       "('울산', 5)"
      ]
     },
     "execution_count": 8,
     "metadata": {},
     "output_type": "execute_result"
    },
    {
     "data": {
      "text/plain": [
       "('경기', 52)"
      ]
     },
     "execution_count": 8,
     "metadata": {},
     "output_type": "execute_result"
    },
    {
     "data": {
      "text/plain": [
       "('강원', 18)"
      ]
     },
     "execution_count": 8,
     "metadata": {},
     "output_type": "execute_result"
    },
    {
     "data": {
      "text/plain": [
       "('충북', 17)"
      ]
     },
     "execution_count": 8,
     "metadata": {},
     "output_type": "execute_result"
    },
    {
     "data": {
      "text/plain": [
       "('충남', 18)"
      ]
     },
     "execution_count": 8,
     "metadata": {},
     "output_type": "execute_result"
    },
    {
     "data": {
      "text/plain": [
       "('전북', 16)"
      ]
     },
     "execution_count": 8,
     "metadata": {},
     "output_type": "execute_result"
    },
    {
     "data": {
      "text/plain": [
       "('전남', 22)"
      ]
     },
     "execution_count": 8,
     "metadata": {},
     "output_type": "execute_result"
    },
    {
     "data": {
      "text/plain": [
       "('경북', 25)"
      ]
     },
     "execution_count": 8,
     "metadata": {},
     "output_type": "execute_result"
    },
    {
     "data": {
      "text/plain": [
       "('경남', 25)"
      ]
     },
     "execution_count": 8,
     "metadata": {},
     "output_type": "execute_result"
    },
    {
     "data": {
      "text/plain": [
       "('제주', 4)"
      ]
     },
     "execution_count": 8,
     "metadata": {},
     "output_type": "execute_result"
    },
    {
     "data": {
      "text/plain": [
       "('세종', 1)"
      ]
     },
     "execution_count": 8,
     "metadata": {},
     "output_type": "execute_result"
    }
   ],
   "source": [
    "for i in 시도lst:\n",
    "    i, len(globals()[f'군구{i}'])"
   ]
  },
  {
   "cell_type": "markdown",
   "id": "f9b6bb58",
   "metadata": {},
   "source": [
    "### 모든 시도의 모든 군구의 수"
   ]
  },
  {
   "cell_type": "code",
   "execution_count": 9,
   "id": "6ece46a1",
   "metadata": {},
   "outputs": [
    {
     "data": {
      "text/plain": [
       "272"
      ]
     },
     "execution_count": 9,
     "metadata": {},
     "output_type": "execute_result"
    }
   ],
   "source": [
    "군구all = 군구서울 + 군구부산 + 군구대구 + 군구인천 + 군구광주 + 군구대전 + 군구울산 + 군구경기 + 군구강원 + 군구충북 + 군구충남 + 군구전북 + 군구전남 + 군구경북 + 군구경남 + 군구제주 + 군구세종\n",
    "len(군구all)"
   ]
  },
  {
   "cell_type": "markdown",
   "id": "e98840ba",
   "metadata": {},
   "source": [
    "# 옵션버튼 클릭"
   ]
  },
  {
   "cell_type": "code",
   "execution_count": 123,
   "id": "eac2e762",
   "metadata": {},
   "outputs": [],
   "source": [
    "# 병은 idx + 2\n",
    "\n",
    "\n",
    "# 통계작성_다운로드, 매 loop마다 쓰이므로 함수로 작성해서 집어넣도록 하겠습니다.\n",
    "def 통계작성_다운로드():\n",
    "    ## 통계작성버튼 클릭\n",
    "    browser.find_element(By.XPATH, '//*[@id=\"sexdstnAgeYearAgeSexdstnFrm\"]/input[2]').click()\n",
    "    time.sleep(0.5)\n",
    "    browser.find_element(By.XPATH, '//*[@id=\"sexdstnAgeYearAgeSexdstnFrm\"]/input[2]').click()\n",
    "    time.sleep(4)\n",
    "\n",
    "    ## csv 다운로드 클릭\n",
    "    browser.find_element(By.XPATH, '//*[@id=\"csvDownBtn\"]').click()\n",
    "    time.sleep(4)\n",
    "\n",
    "\n",
    "def 공통(병명_):\n",
    "    ## 연령별 성별 탭 클릭\n",
    "    search_opt_box = browser.find_element(By.XPATH, '//*[@id=\"ui-id-4\"]')\n",
    "    search_opt_box.click() #버튼 클릭\n",
    "    browser.implicitly_wait(0.02)\n",
    "    \n",
    "    # 병 급 선택\n",
    "#     browser.find_element(By.XPATH, '//*[@id=\"sexdstnAgeYearAgeSexdstnFrmIcdgrpCd\"]').click()\n",
    "    browser.find_element(By.XPATH, f'//*[@id=\"sexdstnAgeYearAgeSexdstnFrmIcdgrpCd\"]/option[{병id2급id[병명_]}]').click() # 병명으로 급 찾기\n",
    "    browser.implicitly_wait(0.02)\n",
    "    time.sleep(0.5)\n",
    "    \n",
    "    # 병 선택\n",
    "    browser.find_element(By.XPATH, f'//*[@id=\"sexdstnAgeYearAgeSexdstnFrmIcdCd\"]/option[{병명_}]').click()\n",
    "    \n",
    "    # 연령 선택\n",
    "    browser.find_element(By.XPATH, '//*[@id=\"sexdstnAgeYearAgeSexdstnFrm_ageType2\"]').click()\n",
    "    \n",
    "    \n",
    "    # 기간 선택 고정\n",
    "    ## 시작 년도\n",
    "    search_box = browser.find_element(By.XPATH, '//*[@id=\"sexdstnAgeYearAgeSexdstnFrmStartDt\"]/option[1]').click()\n",
    "    browser.implicitly_wait(0.1)\n",
    "\n",
    "    ## 끝 년도\n",
    "    search_box = browser.find_element(By.XPATH, '//*[@id=\"sexdstnAgeYearAgeSexdstnFrmEndDt\"]/option[21]').click()\n",
    "    browser.implicitly_wait(0.1)\n",
    "\n",
    "\n",
    "\n",
    "## 창 새로 열기 전에 하던 시도군구부터 다시 시작해야하므로 공통에 작성하지 않고 따로 작성한다.\n",
    "def 시도군구(시도_, 군구_):\n",
    "    ## 시도\n",
    "#     browser.find_element(By.XPATH, '//*[@id=\"sexdstnAgeYearAgeSexdstnFrmAreaCtprvnCd\"]').click()\n",
    "    browser.find_element(By.XPATH, f'//*[@id=\"sexdstnAgeYearAgeSexdstnFrmAreaCtprvnCd\"]/option[{시도_+2}]').click()\n",
    "    browser.implicitly_wait(0.1)\n",
    "\n",
    "    ## 군구\n",
    "    browser.find_element(By.XPATH, f'//*[@id=\"sexdstnAgeYearAgeSexdstnFrmAreaSignguCd\"]/option[{군구_+2}]').click()\n",
    "    \n",
    "    ## 에러나니까 두번 눌러주기로 한다.\n",
    "    time.sleep(0.1)\n",
    "    browser.find_element(By.XPATH, f'//*[@id=\"sexdstnAgeYearAgeSexdstnFrmAreaSignguCd\"]/option[{군구_+2}]').click()\n",
    "    browser.implicitly_wait(0.1)"
   ]
  },
  {
   "cell_type": "markdown",
   "id": "098dcbc6",
   "metadata": {},
   "source": [
    "```\n",
    "browser.find_element_by_xpath('//*[@id=\"sexdstnAgeAgeSexdstnFrm\"]/div/ul[2]/li[2]/div[2]/div/div/ul/li[1]/label/input') # 전체 (병 선택하기 전에 두 번 클릭해서 체크박스 리셋)\n",
    "browser.find_element_by_xpath('//*[@id=\"sexdstnAgeAgeSexdstnFrm\"]/div/ul[2]/li[2]/div[2]/div/div/ul/li[2]/label/input') # 1급\n",
    "browser.find_element_by_xpath('//*[@id=\"sexdstnAgeAgeSexdstnFrm\"]/div/ul[2]/li[2]/div[2]/div/div/ul/li[3]/label/input').click() # 에볼라\n",
    "browser.find_element_by_xpath('//*[@id=\"sexdstnAgeAgeSexdstnFrm\"]/div/ul[2]/li[2]/div[2]/div/div/ul/li[4]/label/input') # 마버그\n",
    "browser.find_element_by_xpath('//*[@id=\"sexdstnAgeAgeSexdstnFrm\"]/div/ul[2]/li[2]/div[2]/div/div/ul/li[19]/label/input') # 2급\n",
    "browser.find_element_by_xpath('//*[@id=\"sexdstnAgeAgeSexdstnFrm\"]/div/ul[2]/li[2]/div[2]/div/div/ul/li[20]/label/input') # 수두\n",
    "browser.find_element_by_xpath('//*[@id=\"sexdstnAgeAgeSexdstnFrm\"]/div/ul[2]/li[2]/div[2]/div/div/ul/li[42]/label/input') # 3급\n",
    "browser.find_element_by_xpath('//*[@id=\"sexdstnAgeAgeSexdstnFrm\"]/div/ul[2]/li[2]/div[2]/div/div/ul/li[67]/label/input') # 마지막 병\n",
    "```"
   ]
  },
  {
   "cell_type": "markdown",
   "id": "daf0bb21",
   "metadata": {},
   "source": [
    "# 다시 작성\n",
    "어차피 자동화 안될거 그냥 하나하나 하기로...\n",
    "### 구 싹 돌고난 다음에야 그 다음 병으로 넘어가는 식으로..."
   ]
  },
  {
   "cell_type": "code",
   "execution_count": 11,
   "id": "aa2fa719",
   "metadata": {},
   "outputs": [
    {
     "data": {
      "text/plain": [
       "['서울',\n",
       " '부산',\n",
       " '대구',\n",
       " '인천',\n",
       " '광주',\n",
       " '대전',\n",
       " '울산',\n",
       " '경기',\n",
       " '강원',\n",
       " '충북',\n",
       " '충남',\n",
       " '전북',\n",
       " '전남',\n",
       " '경북',\n",
       " '경남',\n",
       " '제주',\n",
       " '세종']"
      ]
     },
     "execution_count": 11,
     "metadata": {},
     "output_type": "execute_result"
    }
   ],
   "source": [
    "시도lst"
   ]
  },
  {
   "cell_type": "code",
   "execution_count": 12,
   "id": "a0df2ec9",
   "metadata": {},
   "outputs": [],
   "source": [
    "browser.refresh() # 새로고침"
   ]
  },
  {
   "cell_type": "code",
   "execution_count": 13,
   "id": "860cace1",
   "metadata": {},
   "outputs": [
    {
     "data": {
      "text/plain": [
       "'마버그열'"
      ]
     },
     "execution_count": 13,
     "metadata": {},
     "output_type": "execute_result"
    }
   ],
   "source": [
    "병name_lst[1]"
   ]
  },
  {
   "cell_type": "code",
   "execution_count": 14,
   "id": "410d9e1f",
   "metadata": {},
   "outputs": [
    {
     "data": {
      "text/plain": [
       "2"
      ]
     },
     "execution_count": 14,
     "metadata": {},
     "output_type": "execute_result"
    },
    {
     "data": {
      "text/plain": [
       "2"
      ]
     },
     "execution_count": 14,
     "metadata": {},
     "output_type": "execute_result"
    }
   ],
   "source": [
    "name2병id[병name_lst[0]]\n",
    "병id2급id[name2병id[병name_lst[0]]]"
   ]
  },
  {
   "cell_type": "code",
   "execution_count": 22,
   "id": "7630a5d3",
   "metadata": {},
   "outputs": [
    {
     "data": {
      "text/plain": [
       "range(25, 272)"
      ]
     },
     "execution_count": 22,
     "metadata": {},
     "output_type": "execute_result"
    }
   ],
   "source": [
    "range(len(군구all))[len(군구서울):]\n",
    "'//*[@id=\"sexdstnAgeYearAgeSexdstnFrmAreaSignguCd\"]/option[2]' # 부산 군구임;;;\n",
    "'//*[@id=\"sexdstnAgeYearAgeSexdstnFrmAreaSignguCd\"]/option[3]' # 부산 군구임;;;\n",
    "# 각 시도별로 군구 idx가 reset되는게 문제임..\n",
    "\n",
    "\n",
    "'//*[@id=\"sexdstnAgeYearAgeSexdstnFrmAreaSignguCd\"]/option[2]'"
   ]
  },
  {
   "cell_type": "code",
   "execution_count": 126,
   "id": "db24155e",
   "metadata": {},
   "outputs": [
    {
     "data": {
      "text/plain": [
       "['세종시']"
      ]
     },
     "execution_count": 126,
     "metadata": {},
     "output_type": "execute_result"
    }
   ],
   "source": [
    "군구세종"
   ]
  },
  {
   "cell_type": "markdown",
   "id": "16ba1a68",
   "metadata": {},
   "source": [
    "# main code!@"
   ]
  },
  {
   "cell_type": "code",
   "execution_count": 124,
   "id": "9fb6fefc",
   "metadata": {},
   "outputs": [],
   "source": [
    "# ### 바꿔줘야 합니다. 잘 짜여졌습니다. 병 각각, 군구 각각 # 220630 되면 알아서 멈춥니다. 갓벽>__<\n",
    "병명 = name2병id[병name_lst[0]] # 에볼라 병\n",
    "# sido = 시도lst[0] # 시도 끝나면 하나씩 올려주세요\n",
    "# 시도 = 시도lst.index(sido)\n",
    "# 현재시도 = globals()[f'군구{sido}']"
   ]
  },
  {
   "cell_type": "code",
   "execution_count": 125,
   "id": "54229e50",
   "metadata": {
    "scrolled": true
   },
   "outputs": [
    {
     "name": "stdout",
     "output_type": "stream",
     "text": [
      "시도 서울의 군구 0, 강남구를(을) 돌리고 있습니다. 21:47:45\n",
      "시도 서울의 군구 1, 강동구를(을) 돌리고 있습니다. 21:47:54\n",
      "시도 서울의 군구 2, 강북구를(을) 돌리고 있습니다. 21:48:03\n",
      "시도 서울의 군구 3, 강서구를(을) 돌리고 있습니다. 21:48:12\n",
      "시도 서울의 군구 4, 관악구를(을) 돌리고 있습니다. 21:48:21\n",
      "시도 서울의 군구 5, 광진구를(을) 돌리고 있습니다. 21:48:30\n",
      "시도 서울의 군구 6, 구로구를(을) 돌리고 있습니다. 21:48:39\n",
      "시도 서울의 군구 7, 금천구를(을) 돌리고 있습니다. 21:48:48\n",
      "시도 서울의 군구 8, 노원구를(을) 돌리고 있습니다. 21:48:57\n",
      "시도 서울의 군구 9, 도봉구를(을) 돌리고 있습니다. 21:49:06\n",
      "시도 서울의 군구 10, 동대문구를(을) 돌리고 있습니다. 21:49:15\n",
      "시도 서울의 군구 11, 동작구를(을) 돌리고 있습니다. 21:49:25\n",
      "시도 서울의 군구 12, 마포구를(을) 돌리고 있습니다. 21:49:34\n",
      "시도 서울의 군구 13, 서대문구를(을) 돌리고 있습니다. 21:49:46\n",
      "시도 서울의 군구 14, 서초구를(을) 돌리고 있습니다. 21:49:55\n",
      "시도 서울의 군구 15, 성동구를(을) 돌리고 있습니다. 21:50:04\n",
      "시도 서울의 군구 16, 성북구를(을) 돌리고 있습니다. 21:50:13\n",
      "시도 서울의 군구 17, 송파구를(을) 돌리고 있습니다. 21:50:22\n",
      "시도 서울의 군구 18, 양천구를(을) 돌리고 있습니다. 21:50:31\n",
      "시도 서울의 군구 19, 영등포구를(을) 돌리고 있습니다. 21:50:40\n",
      "시도 서울의 군구 20, 용산구를(을) 돌리고 있습니다. 21:50:49\n",
      "시도 서울의 군구 21, 은평구를(을) 돌리고 있습니다. 21:50:58\n",
      "시도 서울의 군구 22, 종로구를(을) 돌리고 있습니다. 21:51:07\n",
      "시도 서울의 군구 23, 중구를(을) 돌리고 있습니다. 21:51:16\n",
      "시도 서울의 군구 24, 중랑구를(을) 돌리고 있습니다. 21:51:25\n",
      "시도 부산의 군구 0, 강서구를(을) 돌리고 있습니다. 21:51:36\n"
     ]
    },
    {
     "ename": "StaleElementReferenceException",
     "evalue": "Message: stale element reference: element is not attached to the page document\n  (Session info: chrome=103.0.5060.134)\nStacktrace:\nBacktrace:\n\tOrdinal0 [0x00BB5FD3+2187219]\n\tOrdinal0 [0x00B4E6D1+1763025]\n\tOrdinal0 [0x00A63E78+802424]\n\tOrdinal0 [0x00A66854+813140]\n\tOrdinal0 [0x00A66712+812818]\n\tOrdinal0 [0x00A669A0+813472]\n\tOrdinal0 [0x00A935E9+996841]\n\tOrdinal0 [0x00A888D6+952534]\n\tOrdinal0 [0x00AACB8C+1100684]\n\tOrdinal0 [0x00A88394+951188]\n\tOrdinal0 [0x00AACDA4+1101220]\n\tOrdinal0 [0x00ABCFC2+1167298]\n\tOrdinal0 [0x00AAC9A6+1100198]\n\tOrdinal0 [0x00A86F80+946048]\n\tOrdinal0 [0x00A87E76+949878]\n\tGetHandleVerifier [0x00E590C2+2721218]\n\tGetHandleVerifier [0x00E4AAF0+2662384]\n\tGetHandleVerifier [0x00C4137A+526458]\n\tGetHandleVerifier [0x00C40416+522518]\n\tOrdinal0 [0x00B54EAB+1789611]\n\tOrdinal0 [0x00B597A8+1808296]\n\tOrdinal0 [0x00B59895+1808533]\n\tOrdinal0 [0x00B626C1+1844929]\n\tBaseThreadInitThunk [0x75BEFA29+25]\n\tRtlGetAppContainerNamedObjectPath [0x77067A9E+286]\n\tRtlGetAppContainerNamedObjectPath [0x77067A6E+238]\n",
     "output_type": "error",
     "traceback": [
      "\u001b[1;31m---------------------------------------------------------------------------\u001b[0m",
      "\u001b[1;31mStaleElementReferenceException\u001b[0m            Traceback (most recent call last)",
      "Input \u001b[1;32mIn [125]\u001b[0m, in \u001b[0;36m<cell line: 27>\u001b[1;34m()\u001b[0m\n\u001b[0;32m     30\u001b[0m \u001b[38;5;28;01mfor\u001b[39;00m idx, 군구 \u001b[38;5;129;01min\u001b[39;00m \u001b[38;5;28menumerate\u001b[39m(\u001b[38;5;28mrange\u001b[39m(\u001b[38;5;28mlen\u001b[39m(현재시도))[:]):\n\u001b[0;32m     31\u001b[0m \n\u001b[0;32m     32\u001b[0m     \u001b[38;5;66;03m## 시도 군구 안내\u001b[39;00m\n\u001b[0;32m     33\u001b[0m     \u001b[38;5;28mprint\u001b[39m(\u001b[38;5;124mf\u001b[39m\u001b[38;5;124m'\u001b[39m\u001b[38;5;124m시도 \u001b[39m\u001b[38;5;132;01m{\u001b[39;00m시도lst[시도]\u001b[38;5;132;01m}\u001b[39;00m\u001b[38;5;124m의 군구 \u001b[39m\u001b[38;5;132;01m{\u001b[39;00m군구\u001b[38;5;132;01m}\u001b[39;00m\u001b[38;5;124m, \u001b[39m\u001b[38;5;132;01m{\u001b[39;00m현재시도[군구]\u001b[38;5;132;01m}\u001b[39;00m\u001b[38;5;124m를(을) 돌리고 있습니다.\u001b[39m\u001b[38;5;124m'\u001b[39m, datetime\u001b[38;5;241m.\u001b[39mtoday()\u001b[38;5;241m.\u001b[39mtime()\u001b[38;5;241m.\u001b[39mstrftime(\u001b[38;5;124m'\u001b[39m\u001b[38;5;124m%\u001b[39m\u001b[38;5;124mH:\u001b[39m\u001b[38;5;124m%\u001b[39m\u001b[38;5;124mM:\u001b[39m\u001b[38;5;124m%\u001b[39m\u001b[38;5;124mS\u001b[39m\u001b[38;5;124m'\u001b[39m))\n\u001b[1;32m---> 34\u001b[0m     \u001b[43m시도군구\u001b[49m\u001b[43m(\u001b[49m\u001b[43m시도\u001b[49m\u001b[43m,\u001b[49m\u001b[43m \u001b[49m\u001b[43m군구\u001b[49m\u001b[43m)\u001b[49m\n\u001b[0;32m     37\u001b[0m     \u001b[38;5;66;03m# 12term이 지나면 창 다시 실행.\u001b[39;00m\n\u001b[0;32m     38\u001b[0m     \u001b[38;5;28;01mif\u001b[39;00m idx \u001b[38;5;241m!=\u001b[39m \u001b[38;5;241m0\u001b[39m \u001b[38;5;129;01mand\u001b[39;00m idx\u001b[38;5;241m%\u001b[39m\u001b[38;5;241m12\u001b[39m \u001b[38;5;241m==\u001b[39m \u001b[38;5;241m0\u001b[39m: \u001b[38;5;66;03m# 이것도 에러 잡은 성공 요인.\u001b[39;00m\n\u001b[0;32m     39\u001b[0m         \u001b[38;5;66;03m# 다시실행()\u001b[39;00m\n",
      "Input \u001b[1;32mIn [123]\u001b[0m, in \u001b[0;36m시도군구\u001b[1;34m(시도_, 군구_)\u001b[0m\n\u001b[0;32m     51\u001b[0m browser\u001b[38;5;241m.\u001b[39mfind_element(By\u001b[38;5;241m.\u001b[39mXPATH, \u001b[38;5;124mf\u001b[39m\u001b[38;5;124m'\u001b[39m\u001b[38;5;124m//*[@id=\u001b[39m\u001b[38;5;124m\"\u001b[39m\u001b[38;5;124msexdstnAgeYearAgeSexdstnFrmAreaCtprvnCd\u001b[39m\u001b[38;5;124m\"\u001b[39m\u001b[38;5;124m]/option[\u001b[39m\u001b[38;5;132;01m{\u001b[39;00m시도_\u001b[38;5;241m+\u001b[39m\u001b[38;5;241m2\u001b[39m\u001b[38;5;132;01m}\u001b[39;00m\u001b[38;5;124m]\u001b[39m\u001b[38;5;124m'\u001b[39m)\u001b[38;5;241m.\u001b[39mclick()\n\u001b[0;32m     52\u001b[0m \u001b[38;5;66;03m## 군구\u001b[39;00m\n\u001b[1;32m---> 53\u001b[0m \u001b[43mbrowser\u001b[49m\u001b[38;5;241;43m.\u001b[39;49m\u001b[43mfind_element\u001b[49m\u001b[43m(\u001b[49m\u001b[43mBy\u001b[49m\u001b[38;5;241;43m.\u001b[39;49m\u001b[43mXPATH\u001b[49m\u001b[43m,\u001b[49m\u001b[43m \u001b[49m\u001b[38;5;124;43mf\u001b[39;49m\u001b[38;5;124;43m'\u001b[39;49m\u001b[38;5;124;43m//*[@id=\u001b[39;49m\u001b[38;5;124;43m\"\u001b[39;49m\u001b[38;5;124;43msexdstnAgeYearAgeSexdstnFrmAreaSignguCd\u001b[39;49m\u001b[38;5;124;43m\"\u001b[39;49m\u001b[38;5;124;43m]/option[\u001b[39;49m\u001b[38;5;132;43;01m{\u001b[39;49;00m\u001b[43m군구_\u001b[49m\u001b[38;5;241;43m+\u001b[39;49m\u001b[38;5;241;43m2\u001b[39;49m\u001b[38;5;132;43;01m}\u001b[39;49;00m\u001b[38;5;124;43m]\u001b[39;49m\u001b[38;5;124;43m'\u001b[39;49m\u001b[43m)\u001b[49m\u001b[38;5;241;43m.\u001b[39;49m\u001b[43mclick\u001b[49m\u001b[43m(\u001b[49m\u001b[43m)\u001b[49m\n\u001b[0;32m     55\u001b[0m \u001b[38;5;66;03m## 에러나니까 두번 눌러주기로 한다.\u001b[39;00m\n\u001b[0;32m     56\u001b[0m time\u001b[38;5;241m.\u001b[39msleep(\u001b[38;5;241m0.1\u001b[39m)\n",
      "File \u001b[1;32m~\\AppData\\Local\\Programs\\Python\\Python310\\lib\\site-packages\\selenium\\webdriver\\remote\\webelement.py:88\u001b[0m, in \u001b[0;36mWebElement.click\u001b[1;34m(self)\u001b[0m\n\u001b[0;32m     86\u001b[0m \u001b[38;5;28;01mdef\u001b[39;00m \u001b[38;5;21mclick\u001b[39m(\u001b[38;5;28mself\u001b[39m) \u001b[38;5;241m-\u001b[39m\u001b[38;5;241m>\u001b[39m \u001b[38;5;28;01mNone\u001b[39;00m:\n\u001b[0;32m     87\u001b[0m     \u001b[38;5;124;03m\"\"\"Clicks the element.\"\"\"\u001b[39;00m\n\u001b[1;32m---> 88\u001b[0m     \u001b[38;5;28;43mself\u001b[39;49m\u001b[38;5;241;43m.\u001b[39;49m\u001b[43m_execute\u001b[49m\u001b[43m(\u001b[49m\u001b[43mCommand\u001b[49m\u001b[38;5;241;43m.\u001b[39;49m\u001b[43mCLICK_ELEMENT\u001b[49m\u001b[43m)\u001b[49m\n",
      "File \u001b[1;32m~\\AppData\\Local\\Programs\\Python\\Python310\\lib\\site-packages\\selenium\\webdriver\\remote\\webelement.py:396\u001b[0m, in \u001b[0;36mWebElement._execute\u001b[1;34m(self, command, params)\u001b[0m\n\u001b[0;32m    394\u001b[0m     params \u001b[38;5;241m=\u001b[39m {}\n\u001b[0;32m    395\u001b[0m params[\u001b[38;5;124m'\u001b[39m\u001b[38;5;124mid\u001b[39m\u001b[38;5;124m'\u001b[39m] \u001b[38;5;241m=\u001b[39m \u001b[38;5;28mself\u001b[39m\u001b[38;5;241m.\u001b[39m_id\n\u001b[1;32m--> 396\u001b[0m \u001b[38;5;28;01mreturn\u001b[39;00m \u001b[38;5;28;43mself\u001b[39;49m\u001b[38;5;241;43m.\u001b[39;49m\u001b[43m_parent\u001b[49m\u001b[38;5;241;43m.\u001b[39;49m\u001b[43mexecute\u001b[49m\u001b[43m(\u001b[49m\u001b[43mcommand\u001b[49m\u001b[43m,\u001b[49m\u001b[43m \u001b[49m\u001b[43mparams\u001b[49m\u001b[43m)\u001b[49m\n",
      "File \u001b[1;32m~\\AppData\\Local\\Programs\\Python\\Python310\\lib\\site-packages\\selenium\\webdriver\\remote\\webdriver.py:435\u001b[0m, in \u001b[0;36mWebDriver.execute\u001b[1;34m(self, driver_command, params)\u001b[0m\n\u001b[0;32m    433\u001b[0m response \u001b[38;5;241m=\u001b[39m \u001b[38;5;28mself\u001b[39m\u001b[38;5;241m.\u001b[39mcommand_executor\u001b[38;5;241m.\u001b[39mexecute(driver_command, params)\n\u001b[0;32m    434\u001b[0m \u001b[38;5;28;01mif\u001b[39;00m response:\n\u001b[1;32m--> 435\u001b[0m     \u001b[38;5;28;43mself\u001b[39;49m\u001b[38;5;241;43m.\u001b[39;49m\u001b[43merror_handler\u001b[49m\u001b[38;5;241;43m.\u001b[39;49m\u001b[43mcheck_response\u001b[49m\u001b[43m(\u001b[49m\u001b[43mresponse\u001b[49m\u001b[43m)\u001b[49m\n\u001b[0;32m    436\u001b[0m     response[\u001b[38;5;124m'\u001b[39m\u001b[38;5;124mvalue\u001b[39m\u001b[38;5;124m'\u001b[39m] \u001b[38;5;241m=\u001b[39m \u001b[38;5;28mself\u001b[39m\u001b[38;5;241m.\u001b[39m_unwrap_value(\n\u001b[0;32m    437\u001b[0m         response\u001b[38;5;241m.\u001b[39mget(\u001b[38;5;124m'\u001b[39m\u001b[38;5;124mvalue\u001b[39m\u001b[38;5;124m'\u001b[39m, \u001b[38;5;28;01mNone\u001b[39;00m))\n\u001b[0;32m    438\u001b[0m     \u001b[38;5;28;01mreturn\u001b[39;00m response\n",
      "File \u001b[1;32m~\\AppData\\Local\\Programs\\Python\\Python310\\lib\\site-packages\\selenium\\webdriver\\remote\\errorhandler.py:247\u001b[0m, in \u001b[0;36mErrorHandler.check_response\u001b[1;34m(self, response)\u001b[0m\n\u001b[0;32m    245\u001b[0m         alert_text \u001b[38;5;241m=\u001b[39m value[\u001b[38;5;124m'\u001b[39m\u001b[38;5;124malert\u001b[39m\u001b[38;5;124m'\u001b[39m]\u001b[38;5;241m.\u001b[39mget(\u001b[38;5;124m'\u001b[39m\u001b[38;5;124mtext\u001b[39m\u001b[38;5;124m'\u001b[39m)\n\u001b[0;32m    246\u001b[0m     \u001b[38;5;28;01mraise\u001b[39;00m exception_class(message, screen, stacktrace, alert_text)  \u001b[38;5;66;03m# type: ignore[call-arg]  # mypy is not smart enough here\u001b[39;00m\n\u001b[1;32m--> 247\u001b[0m \u001b[38;5;28;01mraise\u001b[39;00m exception_class(message, screen, stacktrace)\n",
      "\u001b[1;31mStaleElementReferenceException\u001b[0m: Message: stale element reference: element is not attached to the page document\n  (Session info: chrome=103.0.5060.134)\nStacktrace:\nBacktrace:\n\tOrdinal0 [0x00BB5FD3+2187219]\n\tOrdinal0 [0x00B4E6D1+1763025]\n\tOrdinal0 [0x00A63E78+802424]\n\tOrdinal0 [0x00A66854+813140]\n\tOrdinal0 [0x00A66712+812818]\n\tOrdinal0 [0x00A669A0+813472]\n\tOrdinal0 [0x00A935E9+996841]\n\tOrdinal0 [0x00A888D6+952534]\n\tOrdinal0 [0x00AACB8C+1100684]\n\tOrdinal0 [0x00A88394+951188]\n\tOrdinal0 [0x00AACDA4+1101220]\n\tOrdinal0 [0x00ABCFC2+1167298]\n\tOrdinal0 [0x00AAC9A6+1100198]\n\tOrdinal0 [0x00A86F80+946048]\n\tOrdinal0 [0x00A87E76+949878]\n\tGetHandleVerifier [0x00E590C2+2721218]\n\tGetHandleVerifier [0x00E4AAF0+2662384]\n\tGetHandleVerifier [0x00C4137A+526458]\n\tGetHandleVerifier [0x00C40416+522518]\n\tOrdinal0 [0x00B54EAB+1789611]\n\tOrdinal0 [0x00B597A8+1808296]\n\tOrdinal0 [0x00B59895+1808533]\n\tOrdinal0 [0x00B626C1+1844929]\n\tBaseThreadInitThunk [0x75BEFA29+25]\n\tRtlGetAppContainerNamedObjectPath [0x77067A9E+286]\n\tRtlGetAppContainerNamedObjectPath [0x77067A6E+238]\n"
     ]
    }
   ],
   "source": [
    "공통(병명)\n",
    "\n",
    "# for idx, 군구 in enumerate(range(len(현재시도))[:]):\n",
    "\n",
    "#     ## 시도 군구 안내\n",
    "#     print(f'시도 {시도lst[시도]}의 군구 {군구}, {현재시도[군구]}를(을) 돌리고 있습니다.', datetime.today().time().strftime('%H:%M:%S'))\n",
    "#     시도군구(시도, 군구)\n",
    "\n",
    "    \n",
    "#     # 12term이 지나면 창 다시 실행.\n",
    "#     if idx != 0 and idx%12 == 0: # 이것도 에러 잡은 성공 요인.\n",
    "#         # 다시실행()\n",
    "#         browser.refresh()\n",
    "#         time.sleep(1)\n",
    "#         공통(병명)\n",
    "#         time.sleep(0.5)\n",
    "#         시도군구(시도,군구)\n",
    "\n",
    "# #     # 12term되기 전(11term째)의 정보 저장 # 없이도 다음 텀 변수 잘 저장돼서 잘 돌아가는 것 확인\n",
    "# #     if idx%11 == 0:\n",
    "# #         시도 = 시도\n",
    "# #         군구 = 군구\n",
    "\n",
    "#     통계작성_다운로드()\n",
    "\n",
    "\n",
    "for sido in 시도lst:\n",
    "    시도 = 시도lst.index(sido)\n",
    "    현재시도 = globals()[f'군구{sido}']\n",
    "    for idx, 군구 in enumerate(range(len(현재시도))[:]):\n",
    "\n",
    "        ## 시도 군구 안내\n",
    "        print(f'시도 {시도lst[시도]}의 군구 {군구}, {현재시도[군구]}를(을) 돌리고 있습니다.', datetime.today().time().strftime('%H:%M:%S'))\n",
    "        시도군구(시도, 군구)\n",
    "\n",
    "\n",
    "        # 12term이 지나면 창 다시 실행.\n",
    "        if idx != 0 and idx%12 == 0: # 이것도 에러 잡은 성공 요인.\n",
    "            # 다시실행()\n",
    "            browser.refresh()\n",
    "            time.sleep(1)\n",
    "            공통(병명)\n",
    "            time.sleep(0.5)\n",
    "            시도군구(시도,군구)\n",
    "\n",
    "        통계작성_다운로드()\n",
    "        \n",
    "## 세종시의 경우 다른게 아니라 한 개라서 option키 값이 다른거 아닐까?"
   ]
  },
  {
   "cell_type": "markdown",
   "id": "90b21d73",
   "metadata": {},
   "source": [
    "### 몇 개를 돌게 될 지 미리 파악합시다.\n",
    "- (tqdm 이 있었네...ㅎ; -> tqdm 돌리면 난리남. 이미 함수 내에 for문이 많아서) <br>\n",
    "+ 폴더 쳐다보지 않아도 glob을 쓰면 폴더에 파일 몇개 받아졌는지 확인 가능하지롱"
   ]
  },
  {
   "cell_type": "code",
   "execution_count": 119,
   "id": "0b087461",
   "metadata": {},
   "outputs": [
    {
     "name": "stdout",
     "output_type": "stream",
     "text": [
      "#----------------------------------------------------------------\n"
     ]
    },
    {
     "data": {
      "text/plain": [
       "'이전에 돌아간 시도: 제주'"
      ]
     },
     "execution_count": 119,
     "metadata": {},
     "output_type": "execute_result"
    },
    {
     "data": {
      "text/plain": [
       "'방금 돌아간 혹은 지금 돌리고 있는 혹은 앞으로 돌아갈 시도: !!!~~%~%세종%~%~~!!!'"
      ]
     },
     "execution_count": 119,
     "metadata": {},
     "output_type": "execute_result"
    },
    {
     "data": {
      "text/plain": [
       "'세종의 군구 길이 : 1'"
      ]
     },
     "execution_count": 119,
     "metadata": {},
     "output_type": "execute_result"
    },
    {
     "data": {
      "text/plain": [
       "'제대로 됐다면 현 질병의 현재까지의 총 파일 수: 272개 여야함.'"
      ]
     },
     "execution_count": 119,
     "metadata": {},
     "output_type": "execute_result"
    },
    {
     "data": {
      "text/plain": [
       "'현재 해당 파일 수: 272개'"
      ]
     },
     "execution_count": 119,
     "metadata": {},
     "output_type": "execute_result"
    }
   ],
   "source": [
    "cnt = 0\n",
    "for i in range(시도+1):\n",
    "    현재길이 = len(globals()[f'군구{시도lst[i]}'])\n",
    "#     print(f'{시도lst[i]}의 길이 : {현재길이}\\n{시도lst[i]}의 군구 : {globals()[f\"군구{시도lst[i]}\"]}')\n",
    "#     print('')\n",
    "    cnt+= 현재길이\n",
    "\n",
    "file_list = glob('기본통계_성별_연령별*.csv')\n",
    "\n",
    "print('#----------------------------------------------------------------')\n",
    "f'이전에 돌아간 시도: {시도lst[i-1]}'\n",
    "f'방금 돌아간 혹은 지금 돌리고 있는 혹은 앞으로 돌아갈 시도: !!!~~%~%{시도lst[i]}%~%~~!!!'\n",
    "f'{시도lst[i]}의 군구 길이 : {현재길이}'\n",
    "f'제대로 됐다면 현 질병의 현재까지의 총 파일 수: {cnt}개 여야함.'\n",
    "f'현재 해당 파일 수: {len(file_list)}개'"
   ]
  },
  {
   "cell_type": "code",
   "execution_count": null,
   "id": "f8cac983",
   "metadata": {},
   "outputs": [],
   "source": []
  },
  {
   "cell_type": "code",
   "execution_count": null,
   "id": "a7579fdf",
   "metadata": {},
   "outputs": [],
   "source": [
    "for 시도lst:\n",
    "    for 군구all:\n",
    "        glob써서 파일명 바꿔주세용ㅎ-ㅎ"
   ]
  },
  {
   "cell_type": "markdown",
   "id": "3324753a",
   "metadata": {},
   "source": [
    "[selenium 문법 바뀜](https://velog.io/@thovy/selenium-AttributeError-Webdriver-object-has-no-attribute-findelementbyid)"
   ]
  },
  {
   "cell_type": "markdown",
   "id": "7476c173",
   "metadata": {},
   "source": [
    "# 멈춘 부분 부터 다시 시작\n",
    "(옵션버튼 함수 다시 실행 안해줘도 됨.)"
   ]
  },
  {
   "cell_type": "markdown",
   "id": "a04469e5",
   "metadata": {},
   "source": [
    "## 크롬창 다시 열 때 멀리 안가기 위해 가져왔습니다."
   ]
  },
  {
   "cell_type": "code",
   "execution_count": 25,
   "id": "cd48704d",
   "metadata": {},
   "outputs": [
    {
     "name": "stdout",
     "output_type": "stream",
     "text": [
      "브라우저를 실행시킵니다(자동 제어)\n",
      "\n"
     ]
    },
    {
     "name": "stderr",
     "output_type": "stream",
     "text": [
      "C:\\Users\\Admin\\AppData\\Local\\Temp\\ipykernel_12456\\262489594.py:2: DeprecationWarning: executable_path has been deprecated, please pass in a Service object\n",
      "  browser = webdriver.Chrome(path + 'chromedriver' + 확장자) #크롬창열기\n"
     ]
    }
   ],
   "source": [
    "print('브라우저를 실행시킵니다(자동 제어)\\n')\n",
    "browser = webdriver.Chrome(path + 'chromedriver' + 확장자) #크롬창열기\n",
    "\n",
    "news_url = 'https://www.kdca.go.kr/npt/biz/npp/ist/bass/bassSexdstnAgeStatsMain.do'\n",
    "\n",
    "browser.get(news_url) #url 오픈\n",
    "time.sleep(2)"
   ]
  }
 ],
 "metadata": {
  "kernelspec": {
   "display_name": "Python 3 (ipykernel)",
   "language": "python",
   "name": "python3"
  },
  "language_info": {
   "codemirror_mode": {
    "name": "ipython",
    "version": 3
   },
   "file_extension": ".py",
   "mimetype": "text/x-python",
   "name": "python",
   "nbconvert_exporter": "python",
   "pygments_lexer": "ipython3",
   "version": "3.10.5"
  },
  "latex_envs": {
   "LaTeX_envs_menu_present": true,
   "autoclose": false,
   "autocomplete": true,
   "bibliofile": "biblio.bib",
   "cite_by": "apalike",
   "current_citInitial": 1,
   "eqLabelWithNumbers": true,
   "eqNumInitial": 1,
   "hotkeys": {
    "equation": "Ctrl-E",
    "itemize": "Ctrl-I"
   },
   "labels_anchors": false,
   "latex_user_defs": false,
   "report_style_numbering": false,
   "user_envs_cfg": false
  },
  "toc": {
   "base_numbering": 1,
   "nav_menu": {},
   "number_sections": true,
   "sideBar": true,
   "skip_h1_title": false,
   "title_cell": "Table of Contents",
   "title_sidebar": "Contents",
   "toc_cell": false,
   "toc_position": {},
   "toc_section_display": true,
   "toc_window_display": false
  }
 },
 "nbformat": 4,
 "nbformat_minor": 5
}
