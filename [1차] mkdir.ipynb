{
 "cells": [
  {
   "cell_type": "code",
   "execution_count": 8,
   "id": "7ed50d33",
   "metadata": {},
   "outputs": [],
   "source": [
    "군구서울 = ['강남구', '강동구', '강북구', '강서구', '관악구', '광진구', '구로구', '금천구', '노원구', '도봉구', '동대문구', '동작구', '마포구', '서대문구', '서초구', '성동구', '성북구', '송파구', '양천구', '영등포구', '용산구', '은평구',\n",
    "           '종로구', '중구', '중랑구']\n",
    "\n",
    "군구부산 = ['강서구', '금정구', '기장군', '남구', '동구', '동래구', '부산진구', '북구', '사상구', '사하구', '서구', '수영구', '연제구', '영도구', '중구', '해운대구']\n",
    "\n",
    "군구대구 = ['남구', '달서구', '달성군', '동구', '북구', '서구', '수성구', '중구']\n",
    "\n",
    "군구인천 = ['강화군', '계양구', '미추홀구', '남동구', '동구', '부평구', '서구', '연수구', '옹진군', '중구']\n",
    "\n",
    "군구광주 = ['광산구', '남구', '동구', '북구', '서구']\n",
    "\n",
    "군구대전 = ['대덕구', '동구', '서구', '유성구', '중구']\n",
    "\n",
    "군구울산 = ['남구', '동구', '북구', '울주군', '중구']\n",
    "\n",
    "군구경기 = ['가평군', '고양시 덕양구', '고양시 일산동구', '고양시 일산서구', '과천시', '광명시', '광주시', '구리시', '군포시', '김포시', '남양주시', '동두천시', '부천시 소사구', '부천시 오정구', '부천시 원미구', '성남시 분당구', '성남시 수정구',\n",
    "           '성남시 중원구', '수원시 권선구', '수원시 영통구', '수원시 장안구', '수원시 팔달구', '시흥시', '안산시 단원구', '안산시 상록구', '안성시', '안양시 동안구', '안양시 만안구', '양주시', '양평군', '여주시', '연천군', '오산시', '용인시 기흥구', '용인시 수지구',\n",
    "           '용인시 처인구', '의왕시', '의정부시', '이천시', '파주시', '평택시', '포천시', '하남시', '화성시', '양주군', '고양시 일산구', '포천군', '용인시', '남양주', '고양시 일산동', '안산시', '부천시']\n",
    "\n",
    "군구강원 = ['강릉시', '고성군', '동해시', '삼척시', '속초시', '양구군', '양양군', '영월군', '원주시', '인제군', '정선군', '철원군', '춘천시', '태백시', '평창군', '홍천군', '화천군', '횡성군']\n",
    "\n",
    "군구충북 = ['괴산군', '단양군', '보은군', '영동군', '옥천군', '음성군', '제천시',' 증평군', '진천군', '청원군', '(구)청주시 상당구', '(구)청주시 흥덕구', '충주시', '청주시 상당구', '청주시 흥덕구', '청주시 서원구', '청주시 청원구']\n",
    "\n",
    "군구충남 = ['계룡시', '공주시', '금산군', '논산시', '당진시', '보령시', '부여군', '서산시', '서천군', '아산시', '연기군', '예산군', '천안시', '청양군', '태안군', '홍성군', '천안시 동남구', '천안시 서북구']\n",
    "\n",
    "군구전북 = ['고창군', '군산시' ,'김제시', '남원시', '무주군', '부안군', '순창군', '완주군', '익산시', '임실군', '장수군', '전주시 덕진구', '전주시 완산구', '정읍시', '진안군', '전주시']\n",
    "\n",
    "군구전남 = ['강진군', '고흥군', '곡성군', '광양시', '구례군', '나주시', '담양군', '목포시', '무안군', '보성군', '순천시', '신안군', '여수시', '영광군', '영암군', '완도군', '장성군', '장흥군', '진도군', '함평군', '해남군', '화순군']\n",
    "\n",
    "군구경북 = ['경산시', '경주시', '고령군', '구미시', '군위군', '김천시', '문경시', '봉화군', '상주시', '성주군', '안동시', '영덕군', '영양군', '영주시', '영천시', '예천군', '울릉군', '울진군', '의성군', '청도군', '청송군', '칠곡군',\n",
    "           '포항시 남구', '포항시 북구', '포항시']\n",
    "\n",
    "군구경남 = ['거제시', '거창군', '고성군', '김해시', '남해군', '마산시', '밀양시', '사천시', '산청군', '양산시', '의령군', '진주시', '진해시', '창녕군', '창원시', '통영시', '하동군', '함안군', '함양군', '합천군', '창원시 마산합포구', '창원시 마산회원구',\n",
    "           '창원시 성산구', '창원시 의창구', '창원시 진해구']\n",
    "\n",
    "군구제주 = ['서귀포시', '제주시', '남제주군', '북제주군']\n",
    "\n",
    "군구세종 = ['세종시']"
   ]
  },
  {
   "cell_type": "code",
   "execution_count": 13,
   "id": "c31ea872",
   "metadata": {},
   "outputs": [
    {
     "data": {
      "text/plain": [
       "['동작구',\n",
       " '마포구',\n",
       " '서대문구',\n",
       " '서초구',\n",
       " '성동구',\n",
       " '성북구',\n",
       " '송파구',\n",
       " '양천구',\n",
       " '영등포구',\n",
       " '용산구',\n",
       " '은평구',\n",
       " '종로구',\n",
       " '중구',\n",
       " '중랑구']"
      ]
     },
     "execution_count": 13,
     "metadata": {},
     "output_type": "execute_result"
    }
   ],
   "source": [
    "군구서울[11:]"
   ]
  },
  {
   "cell_type": "code",
   "execution_count": 15,
   "id": "945e134a",
   "metadata": {},
   "outputs": [],
   "source": [
    "급1병_lst = ['에볼라바이러스병', '마버그열', '라싸열', '크리미안콩고출혈열', '남아메리카출혈열', '리프트밸리열', '두창', '페스트',\n",
    "            '탄저', '보툴리눔독소증', '야토병', '중증급성호흡기증후군(SARS)', '중동호흡기증후군(MERS)', '동물인플루엔자 인체감염증',\n",
    "            '신종인플루엔자', '디프테리아']\n",
    "\n",
    "급2병_lst = ['수두', '홍역', '콜레라', '장티푸스', '파라티푸스', '세균성이질', '장출혈성대장균감염증', 'A형간염', '백일해',\n",
    "            '유행성이하선염', '풍진(2018년이전)', '풍진(선천성)', '풍진(후천성)', '폴리오', '수막구균 감염증',\n",
    "            'b형헤모필루스인플루엔자', '폐렴구균 감염증', '한센병', '성홍열', '반코마이신내성황색포도알균(VRSA) 감염증',\n",
    "            '카바페넴내성장내세균속균종(CRE) 감염증', 'E형간염']\n",
    "\n",
    "급3병_lst = ['파상풍', 'B형간염', '일본뇌염', 'C형간염', '말라리아', '레지오넬라증', '비브리오패혈증', '발진티푸스', '발진열',\n",
    "             '쯔쯔가무시증', '렙토스피라증', '브루셀라증', '공수병', '신증후군출혈열',\n",
    "             '크로이츠펠트-야콥병(CDJ) 및 변종크로이츠펠트-야콥병(vCJD)', '황열', '뎅기열', '큐열', '웨스트나일열', '라임병',\n",
    "             '진드기매개뇌염', '유비저', '치쿤구니야열', '중증열성혈소판감소증후군(SFTS)', '지카바이러스감염증']\n",
    "\n",
    "병name_lst = 급1병_lst + 급2병_lst + 급3병_lst"
   ]
  },
  {
   "cell_type": "code",
   "execution_count": 17,
   "id": "f9c082d3",
   "metadata": {},
   "outputs": [
    {
     "name": "stdout",
     "output_type": "stream",
     "text": [
      "C:\\Users\\Admin\\바탕 화면\\다운로드\n"
     ]
    }
   ],
   "source": [
    "import os\n",
    "\n",
    "print(os.getcwd())  # 현재 경로 확인\n",
    "# os.makedirs(\"aaa/bbb/ccc/ddd\")  # 현재 위치에서 폴더 생성\n",
    "# os.makedirs(\"../Example2/aaa/bbb/ccc\")  # 하나 위에서 폴더 생성 (상대 위치)\n",
    "# os.makedirs(\"/Users/dev/BlockDMask/Example3/aaa/bbb/ccc\")  # 절대위치\n",
    "# os.makedirs(\"/Users/dev/BlockDMask/Example3/aaa/bbb/ccc/ddd\")  # 절대위치\n",
    "# os.makedirs(\"/Users/dev/BlockDMask/Example3/aaa/bbb/ccc/ddd\", exist_ok=True)  # 같은 폴더가 있어도 무시\n",
    "# # 출처: https://blockdmask.tistory.com/554 [개발자 지망생:티스토리]\n",
    "\n",
    "# 서울만 기존에 있으니까 이 코드로 진행\n",
    "for k, j in enumerate(병name_lst):\n",
    "    for enu,i in enumerate(군구서울[11:]):\n",
    "        enu = enu + 11\n",
    "        if len(str(enu)) == 1:\n",
    "            os.makedirs(f'yet_to_mk/{k}_00{enu} {j} {i}',exist_ok=True)\n",
    "        elif len(str(enu)) == 2:\n",
    "            os.makedirs(f'yet_to_mk/{k}_0{enu} {j} {i}',exist_ok=True)\n",
    "        elif len(str(enu)) == 3:\n",
    "            os.makedirs(f'yet_to_mk/{k}_{enu} {j} {i}',exist_ok=True)\n",
    "            \n",
    "        else:\n",
    "            os.makedirs(f'yet_to_mk/{k}_{enu} {j} {i}',exist_ok=True)"
   ]
  },
  {
   "cell_type": "code",
   "execution_count": null,
   "id": "3c4c60ba",
   "metadata": {},
   "outputs": [],
   "source": []
  }
 ],
 "metadata": {
  "kernelspec": {
   "display_name": "Python 3 (ipykernel)",
   "language": "python",
   "name": "python3"
  },
  "language_info": {
   "codemirror_mode": {
    "name": "ipython",
    "version": 3
   },
   "file_extension": ".py",
   "mimetype": "text/x-python",
   "name": "python",
   "nbconvert_exporter": "python",
   "pygments_lexer": "ipython3",
   "version": "3.10.5"
  },
  "latex_envs": {
   "LaTeX_envs_menu_present": true,
   "autoclose": false,
   "autocomplete": true,
   "bibliofile": "biblio.bib",
   "cite_by": "apalike",
   "current_citInitial": 1,
   "eqLabelWithNumbers": true,
   "eqNumInitial": 1,
   "hotkeys": {
    "equation": "Ctrl-E",
    "itemize": "Ctrl-I"
   },
   "labels_anchors": false,
   "latex_user_defs": false,
   "report_style_numbering": false,
   "user_envs_cfg": false
  },
  "toc": {
   "base_numbering": 1,
   "nav_menu": {},
   "number_sections": true,
   "sideBar": true,
   "skip_h1_title": false,
   "title_cell": "Table of Contents",
   "title_sidebar": "Contents",
   "toc_cell": false,
   "toc_position": {},
   "toc_section_display": true,
   "toc_window_display": false
  }
 },
 "nbformat": 4,
 "nbformat_minor": 5
}
