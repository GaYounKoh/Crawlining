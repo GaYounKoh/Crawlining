{
 "cells": [
  {
   "cell_type": "markdown",
   "id": "9af13176",
   "metadata": {},
   "source": [
    "# 제일 처음에 받은 파일명 뒤에 (0) 붙여줬습니까????\n",
    "두 번째 test에서는 잘 바뀜;;;\n",
    "\n",
    "100이 아니라 101부터 되는 이유가 뭘까요"
   ]
  },
  {
   "cell_type": "code",
   "execution_count": 1,
   "id": "2662ef7b",
   "metadata": {},
   "outputs": [],
   "source": [
    "from glob import glob\n",
    "from IPython.core.interactiveshell import InteractiveShell\n",
    "InteractiveShell.ast_node_interactivity = \"all\""
   ]
  },
  {
   "cell_type": "code",
   "execution_count": 4,
   "id": "1d628e14",
   "metadata": {},
   "outputs": [],
   "source": [
    "file_list = glob('기본통계_성별_연령별*.csv')"
   ]
  },
  {
   "cell_type": "code",
   "execution_count": 5,
   "id": "ce72511f",
   "metadata": {},
   "outputs": [
    {
     "data": {
      "text/plain": [
       "272"
      ]
     },
     "execution_count": 5,
     "metadata": {},
     "output_type": "execute_result"
    },
    {
     "data": {
      "text/plain": [
       "['기본통계_성별_연령별 (0).csv',\n",
       " '기본통계_성별_연령별 (1).csv',\n",
       " '기본통계_성별_연령별 (10).csv',\n",
       " '기본통계_성별_연령별 (100).csv',\n",
       " '기본통계_성별_연령별 (11).csv',\n",
       " '기본통계_성별_연령별 (12).csv',\n",
       " '기본통계_성별_연령별 (13).csv',\n",
       " '기본통계_성별_연령별 (14).csv',\n",
       " '기본통계_성별_연령별 (15).csv',\n",
       " '기본통계_성별_연령별 (16).csv',\n",
       " '기본통계_성별_연령별 (17).csv',\n",
       " '기본통계_성별_연령별 (18).csv',\n",
       " '기본통계_성별_연령별 (19).csv',\n",
       " '기본통계_성별_연령별 (2).csv',\n",
       " '기본통계_성별_연령별 (20).csv',\n",
       " '기본통계_성별_연령별 (21).csv',\n",
       " '기본통계_성별_연령별 (22).csv',\n",
       " '기본통계_성별_연령별 (23).csv',\n",
       " '기본통계_성별_연령별 (24).csv',\n",
       " '기본통계_성별_연령별 (25).csv',\n",
       " '기본통계_성별_연령별 (26).csv',\n",
       " '기본통계_성별_연령별 (27).csv',\n",
       " '기본통계_성별_연령별 (28).csv',\n",
       " '기본통계_성별_연령별 (29).csv',\n",
       " '기본통계_성별_연령별 (3).csv',\n",
       " '기본통계_성별_연령별 (30).csv',\n",
       " '기본통계_성별_연령별 (31).csv',\n",
       " '기본통계_성별_연령별 (32).csv',\n",
       " '기본통계_성별_연령별 (33).csv',\n",
       " '기본통계_성별_연령별 (34).csv',\n",
       " '기본통계_성별_연령별 (35).csv',\n",
       " '기본통계_성별_연령별 (36).csv',\n",
       " '기본통계_성별_연령별 (37).csv',\n",
       " '기본통계_성별_연령별 (38).csv',\n",
       " '기본통계_성별_연령별 (39).csv',\n",
       " '기본통계_성별_연령별 (4).csv',\n",
       " '기본통계_성별_연령별 (40).csv',\n",
       " '기본통계_성별_연령별 (41).csv',\n",
       " '기본통계_성별_연령별 (42).csv',\n",
       " '기본통계_성별_연령별 (43).csv',\n",
       " '기본통계_성별_연령별 (44).csv',\n",
       " '기본통계_성별_연령별 (45).csv',\n",
       " '기본통계_성별_연령별 (46).csv',\n",
       " '기본통계_성별_연령별 (47).csv',\n",
       " '기본통계_성별_연령별 (48).csv',\n",
       " '기본통계_성별_연령별 (49).csv',\n",
       " '기본통계_성별_연령별 (5).csv',\n",
       " '기본통계_성별_연령별 (50).csv',\n",
       " '기본통계_성별_연령별 (51).csv',\n",
       " '기본통계_성별_연령별 (52).csv',\n",
       " '기본통계_성별_연령별 (53).csv',\n",
       " '기본통계_성별_연령별 (54).csv',\n",
       " '기본통계_성별_연령별 (55).csv',\n",
       " '기본통계_성별_연령별 (56).csv',\n",
       " '기본통계_성별_연령별 (57).csv',\n",
       " '기본통계_성별_연령별 (58).csv',\n",
       " '기본통계_성별_연령별 (59).csv',\n",
       " '기본통계_성별_연령별 (6).csv',\n",
       " '기본통계_성별_연령별 (60).csv',\n",
       " '기본통계_성별_연령별 (61).csv',\n",
       " '기본통계_성별_연령별 (62).csv',\n",
       " '기본통계_성별_연령별 (63).csv',\n",
       " '기본통계_성별_연령별 (64).csv',\n",
       " '기본통계_성별_연령별 (65).csv',\n",
       " '기본통계_성별_연령별 (66).csv',\n",
       " '기본통계_성별_연령별 (67).csv',\n",
       " '기본통계_성별_연령별 (68).csv',\n",
       " '기본통계_성별_연령별 (69).csv',\n",
       " '기본통계_성별_연령별 (7).csv',\n",
       " '기본통계_성별_연령별 (70).csv',\n",
       " '기본통계_성별_연령별 (71).csv',\n",
       " '기본통계_성별_연령별 (72).csv',\n",
       " '기본통계_성별_연령별 (73).csv',\n",
       " '기본통계_성별_연령별 (74).csv',\n",
       " '기본통계_성별_연령별 (75).csv',\n",
       " '기본통계_성별_연령별 (76).csv',\n",
       " '기본통계_성별_연령별 (77).csv',\n",
       " '기본통계_성별_연령별 (78).csv',\n",
       " '기본통계_성별_연령별 (79).csv',\n",
       " '기본통계_성별_연령별 (8).csv',\n",
       " '기본통계_성별_연령별 (80).csv',\n",
       " '기본통계_성별_연령별 (81).csv',\n",
       " '기본통계_성별_연령별 (82).csv',\n",
       " '기본통계_성별_연령별 (83).csv',\n",
       " '기본통계_성별_연령별 (84).csv',\n",
       " '기본통계_성별_연령별 (85).csv',\n",
       " '기본통계_성별_연령별 (86).csv',\n",
       " '기본통계_성별_연령별 (87).csv',\n",
       " '기본통계_성별_연령별 (88).csv',\n",
       " '기본통계_성별_연령별 (89).csv',\n",
       " '기본통계_성별_연령별 (9).csv',\n",
       " '기본통계_성별_연령별 (90).csv',\n",
       " '기본통계_성별_연령별 (91).csv',\n",
       " '기본통계_성별_연령별 (92).csv',\n",
       " '기본통계_성별_연령별 (93).csv',\n",
       " '기본통계_성별_연령별 (94).csv',\n",
       " '기본통계_성별_연령별 (95).csv',\n",
       " '기본통계_성별_연령별 (96).csv',\n",
       " '기본통계_성별_연령별 (97).csv',\n",
       " '기본통계_성별_연령별 (98).csv',\n",
       " '기본통계_성별_연령별 (99).csv',\n",
       " '기본통계_성별_연령별 - 2022-08-05T191258.238.csv',\n",
       " '기본통계_성별_연령별 - 2022-08-05T191308.103.csv',\n",
       " '기본통계_성별_연령별 - 2022-08-05T191319.045.csv',\n",
       " '기본통계_성별_연령별 - 2022-08-05T191328.994.csv',\n",
       " '기본통계_성별_연령별 - 2022-08-05T191338.082.csv',\n",
       " '기본통계_성별_연령별 - 2022-08-05T191347.105.csv',\n",
       " '기본통계_성별_연령별 - 2022-08-05T191356.181.csv',\n",
       " '기본통계_성별_연령별 - 2022-08-05T191405.278.csv',\n",
       " '기본통계_성별_연령별 - 2022-08-05T191414.326.csv',\n",
       " '기본통계_성별_연령별 - 2022-08-05T191424.022.csv',\n",
       " '기본통계_성별_연령별 - 2022-08-05T191433.138.csv',\n",
       " '기본통계_성별_연령별 - 2022-08-05T191442.259.csv',\n",
       " '기본통계_성별_연령별 - 2022-08-05T191451.978.csv',\n",
       " '기본통계_성별_연령별 - 2022-08-05T191501.033.csv',\n",
       " '기본통계_성별_연령별 - 2022-08-05T191510.155.csv',\n",
       " '기본통계_성별_연령별 - 2022-08-05T191522.026.csv',\n",
       " '기본통계_성별_연령별 - 2022-08-05T191531.156.csv',\n",
       " '기본통계_성별_연령별 - 2022-08-05T191540.183.csv',\n",
       " '기본통계_성별_연령별 - 2022-08-05T191549.254.csv',\n",
       " '기본통계_성별_연령별 - 2022-08-05T191558.861.csv',\n",
       " '기본통계_성별_연령별 - 2022-08-05T191607.938.csv',\n",
       " '기본통계_성별_연령별 - 2022-08-05T191617.048.csv',\n",
       " '기본통계_성별_연령별 - 2022-08-05T191626.152.csv',\n",
       " '기본통계_성별_연령별 - 2022-08-05T191635.994.csv',\n",
       " '기본통계_성별_연령별 - 2022-08-05T191645.092.csv',\n",
       " '기본통계_성별_연령별 - 2022-08-05T192522.973.csv',\n",
       " '기본통계_성별_연령별 - 2022-08-05T192532.061.csv',\n",
       " '기본통계_성별_연령별 - 2022-08-05T192541.164.csv',\n",
       " '기본통계_성별_연령별 - 2022-08-05T192550.303.csv',\n",
       " '기본통계_성별_연령별 - 2022-08-05T192559.902.csv',\n",
       " '기본통계_성별_연령별 - 2022-08-05T192608.984.csv',\n",
       " '기본통계_성별_연령별 - 2022-08-05T192618.030.csv',\n",
       " '기본통계_성별_연령별 - 2022-08-05T192627.102.csv',\n",
       " '기본통계_성별_연령별 - 2022-08-05T192637.181.csv',\n",
       " '기본통계_성별_연령별 - 2022-08-05T192646.147.csv',\n",
       " '기본통계_성별_연령별 - 2022-08-05T192655.269.csv',\n",
       " '기본통계_성별_연령별 - 2022-08-05T192704.999.csv',\n",
       " '기본통계_성별_연령별 - 2022-08-05T192716.471.csv',\n",
       " '기본통계_성별_연령별 - 2022-08-05T192725.574.csv',\n",
       " '기본통계_성별_연령별 - 2022-08-05T192734.673.csv',\n",
       " '기본통계_성별_연령별 - 2022-08-05T192743.807.csv',\n",
       " '기본통계_성별_연령별 - 2022-08-05T192753.395.csv',\n",
       " '기본통계_성별_연령별 - 2022-08-05T192802.533.csv',\n",
       " '기본통계_성별_연령별 - 2022-08-05T192812.580.csv',\n",
       " '기본통계_성별_연령별 - 2022-08-05T192821.696.csv',\n",
       " '기본통계_성별_연령별 - 2022-08-05T192830.827.csv',\n",
       " '기본통계_성별_연령별 - 2022-08-05T192839.978.csv',\n",
       " '기본통계_성별_연령별 - 2022-08-05T192849.513.csv',\n",
       " '기본통계_성별_연령별 - 2022-08-05T192858.698.csv',\n",
       " '기본통계_성별_연령별 - 2022-08-05T192907.836.csv',\n",
       " '기본통계_성별_연령별 - 2022-08-05T192917.550.csv',\n",
       " '기본통계_성별_연령별 - 2022-08-05T192926.644.csv',\n",
       " '기본통계_성별_연령별 - 2022-08-05T192935.678.csv',\n",
       " '기본통계_성별_연령별 - 2022-08-05T192944.780.csv',\n",
       " '기본통계_성별_연령별 - 2022-08-05T193904.718.csv',\n",
       " '기본통계_성별_연령별 - 2022-08-05T193913.762.csv',\n",
       " '기본통계_성별_연령별 - 2022-08-05T193922.892.csv',\n",
       " '기본통계_성별_연령별 - 2022-08-05T193932.658.csv',\n",
       " '기본통계_성별_연령별 - 2022-08-05T193941.785.csv',\n",
       " '기본통계_성별_연령별 - 2022-08-05T193950.893.csv',\n",
       " '기본통계_성별_연령별 - 2022-08-05T194326.043.csv',\n",
       " '기본통계_성별_연령별 - 2022-08-05T194335.111.csv',\n",
       " '기본통계_성별_연령별 - 2022-08-05T194344.217.csv',\n",
       " '기본통계_성별_연령별 - 2022-08-05T194353.300.csv',\n",
       " '기본통계_성별_연령별 - 2022-08-05T194402.941.csv',\n",
       " '기본통계_성별_연령별 - 2022-08-05T194412.066.csv',\n",
       " '기본통계_성별_연령별 - 2022-08-05T194421.490.csv',\n",
       " '기본통계_성별_연령별 - 2022-08-05T194430.265.csv',\n",
       " '기본통계_성별_연령별 - 2022-08-05T194439.979.csv',\n",
       " '기본통계_성별_연령별 - 2022-08-05T194449.110.csv',\n",
       " '기본통계_성별_연령별 - 2022-08-05T194458.197.csv',\n",
       " '기본통계_성별_연령별 - 2022-08-05T194507.983.csv',\n",
       " '기본통계_성별_연령별 - 2022-08-05T194519.543.csv',\n",
       " '기본통계_성별_연령별 - 2022-08-05T194528.694.csv',\n",
       " '기본통계_성별_연령별 - 2022-08-05T194537.804.csv',\n",
       " '기본통계_성별_연령별 - 2022-08-05T194546.935.csv',\n",
       " '기본통계_성별_연령별 - 2022-08-05T194556.517.csv',\n",
       " '기본통계_성별_연령별 - 2022-08-05T194605.597.csv',\n",
       " '기본통계_성별_연령별 - 2022-08-05T194615.657.csv',\n",
       " '기본통계_성별_연령별 - 2022-08-05T194624.723.csv',\n",
       " '기본통계_성별_연령별 - 2022-08-05T194633.837.csv',\n",
       " '기본통계_성별_연령별 - 2022-08-05T194642.967.csv',\n",
       " '기본통계_성별_연령별 - 2022-08-05T194652.563.csv',\n",
       " '기본통계_성별_연령별 - 2022-08-05T194701.719.csv',\n",
       " '기본통계_성별_연령별 - 2022-08-05T194710.803.csv',\n",
       " '기본통계_성별_연령별 - 2022-08-05T194719.908.csv',\n",
       " '기본통계_성별_연령별 - 2022-08-05T194729.660.csv',\n",
       " '기본통계_성별_연령별 - 2022-08-05T194738.763.csv',\n",
       " '기본통계_성별_연령별 - 2022-08-05T194747.881.csv',\n",
       " '기본통계_성별_연령별 - 2022-08-05T194757.665.csv',\n",
       " '기본통계_성별_연령별 - 2022-08-05T194809.238.csv',\n",
       " '기본통계_성별_연령별 - 2022-08-05T194818.373.csv',\n",
       " '기본통계_성별_연령별 - 2022-08-05T194827.461.csv',\n",
       " '기본통계_성별_연령별 - 2022-08-05T194836.589.csv',\n",
       " '기본통계_성별_연령별 - 2022-08-05T194846.673.csv',\n",
       " '기본통계_성별_연령별 - 2022-08-05T194855.707.csv',\n",
       " '기본통계_성별_연령별 - 2022-08-05T194904.769.csv',\n",
       " '기본통계_성별_연령별 - 2022-08-05T194913.864.csv',\n",
       " '기본통계_성별_연령별 - 2022-08-05T194922.935.csv',\n",
       " '기본통계_성별_연령별 - 2022-08-05T194932.580.csv',\n",
       " '기본통계_성별_연령별 - 2022-08-05T194941.651.csv',\n",
       " '기본통계_성별_연령별 - 2022-08-05T194950.735.csv',\n",
       " '기본통계_성별_연령별 - 2022-08-05T194959.849.csv',\n",
       " '기본통계_성별_연령별 - 2022-08-05T195009.658.csv',\n",
       " '기본통계_성별_연령별 - 2022-08-05T195018.750.csv',\n",
       " '기본통계_성별_연령별 - 2022-08-05T195027.808.csv',\n",
       " '기본통계_성별_연령별 - 2022-08-05T195039.365.csv',\n",
       " '기본통계_성별_연령별 - 2022-08-05T195048.482.csv',\n",
       " '기본통계_성별_연령별 - 2022-08-05T195057.598.csv',\n",
       " '기본통계_성별_연령별 - 2022-08-05T195106.667.csv',\n",
       " '기본통계_성별_연령별 - 2022-08-05T195116.363.csv',\n",
       " '기본통계_성별_연령별 - 2022-08-05T195125.419.csv',\n",
       " '기본통계_성별_연령별 - 2022-08-05T195134.495.csv',\n",
       " '기본통계_성별_연령별 - 2022-08-05T195143.616.csv',\n",
       " '기본통계_성별_연령별 - 2022-08-05T195153.347.csv',\n",
       " '기본통계_성별_연령별 - 2022-08-05T195202.460.csv',\n",
       " '기본통계_성별_연령별 - 2022-08-05T195212.464.csv',\n",
       " '기본통계_성별_연령별 - 2022-08-05T195221.572.csv',\n",
       " '기본통계_성별_연령별 - 2022-08-05T195230.690.csv',\n",
       " '기본통계_성별_연령별 - 2022-08-05T195239.866.csv',\n",
       " '기본통계_성별_연령별 - 2022-08-05T195249.564.csv',\n",
       " '기본통계_성별_연령별 - 2022-08-05T195258.673.csv',\n",
       " '기본통계_성별_연령별 - 2022-08-05T195307.790.csv',\n",
       " '기본통계_성별_연령별 - 2022-08-05T195317.387.csv',\n",
       " '기본통계_성별_연령별 - 2022-08-05T195326.538.csv',\n",
       " '기본통계_성별_연령별 - 2022-08-05T195335.649.csv',\n",
       " '기본통계_성별_연령별 - 2022-08-05T195344.771.csv',\n",
       " '기본통계_성별_연령별 - 2022-08-05T195354.593.csv',\n",
       " '기본통계_성별_연령별 - 2022-08-05T195406.107.csv',\n",
       " '기본통계_성별_연령별 - 2022-08-05T195415.272.csv',\n",
       " '기본통계_성별_연령별 - 2022-08-05T195424.364.csv',\n",
       " '기본통계_성별_연령별 - 2022-08-05T195433.470.csv',\n",
       " '기본통계_성별_연령별 - 2022-08-05T195443.077.csv',\n",
       " '기본통계_성별_연령별 - 2022-08-05T195452.197.csv',\n",
       " '기본통계_성별_연령별 - 2022-08-05T195501.274.csv',\n",
       " '기본통계_성별_연령별 - 2022-08-05T195510.359.csv',\n",
       " '기본통계_성별_연령별 - 2022-08-05T195520.162.csv',\n",
       " '기본통계_성별_연령별 - 2022-08-05T195529.239.csv',\n",
       " '기본통계_성별_연령별 - 2022-08-05T195538.379.csv',\n",
       " '기본통계_성별_연령별 - 2022-08-05T195548.183.csv',\n",
       " '기본통계_성별_연령별 - 2022-08-05T195559.712.csv',\n",
       " '기본통계_성별_연령별 - 2022-08-05T195609.759.csv',\n",
       " '기본통계_성별_연령별 - 2022-08-05T195618.922.csv',\n",
       " '기본통계_성별_연령별 - 2022-08-05T195628.020.csv',\n",
       " '기본통계_성별_연령별 - 2022-08-05T195637.183.csv',\n",
       " '기본통계_성별_연령별 - 2022-08-05T195646.745.csv',\n",
       " '기본통계_성별_연령별 - 2022-08-05T195655.952.csv',\n",
       " '기본통계_성별_연령별 - 2022-08-05T195705.033.csv',\n",
       " '기본통계_성별_연령별 - 2022-08-05T195714.768.csv',\n",
       " '기본통계_성별_연령별 - 2022-08-05T195723.921.csv',\n",
       " '기본통계_성별_연령별 - 2022-08-05T195732.983.csv',\n",
       " '기본통계_성별_연령별 - 2022-08-05T195742.769.csv',\n",
       " '기본통계_성별_연령별 - 2022-08-05T195751.872.csv',\n",
       " '기본통계_성별_연령별 - 2022-08-05T195803.423.csv',\n",
       " '기본통계_성별_연령별 - 2022-08-05T195812.562.csv',\n",
       " '기본통계_성별_연령별 - 2022-08-05T195821.710.csv',\n",
       " '기본통계_성별_연령별 - 2022-08-05T195830.797.csv',\n",
       " '기본통계_성별_연령별 - 2022-08-05T195840.401.csv',\n",
       " '기본통계_성별_연령별 - 2022-08-05T195849.516.csv',\n",
       " '기본통계_성별_연령별 - 2022-08-05T195858.593.csv',\n",
       " '기본통계_성별_연령별 - 2022-08-05T195907.662.csv',\n",
       " '기본통계_성별_연령별 - 2022-08-05T195917.468.csv',\n",
       " '기본통계_성별_연령별 - 2022-08-05T195926.610.csv',\n",
       " '기본통계_성별_연령별 - 2022-08-05T195935.673.csv',\n",
       " '기본통계_성별_연령별 - 2022-08-05T195945.495.csv',\n",
       " '기본통계_성별_연령별 - 2022-08-05T195957.075.csv',\n",
       " '기본통계_성별_연령별 - 2022-08-05T200007.135.csv',\n",
       " '기본통계_성별_연령별 - 2022-08-05T200016.358.csv',\n",
       " '기본통계_성별_연령별 - 2022-08-05T200025.866.csv',\n",
       " '기본통계_성별_연령별 - 2022-08-05T200035.099.csv',\n",
       " '기본통계_성별_연령별 - 2022-08-05T200045.210.csv']"
      ]
     },
     "execution_count": 5,
     "metadata": {},
     "output_type": "execute_result"
    }
   ],
   "source": [
    "len(file_list)\n",
    "file_list"
   ]
  },
  {
   "cell_type": "code",
   "execution_count": 109,
   "id": "75c46e1a",
   "metadata": {},
   "outputs": [
    {
     "data": {
      "text/plain": [
       "[2, 1]"
      ]
     },
     "execution_count": 109,
     "metadata": {},
     "output_type": "execute_result"
    }
   ],
   "source": [
    "## test\n",
    "new = []\n",
    "new.insert(0, 1)\n",
    "new.insert(0, 2)\n",
    "new"
   ]
  },
  {
   "cell_type": "code",
   "execution_count": 110,
   "id": "1fea48f7",
   "metadata": {},
   "outputs": [
    {
     "name": "stdout",
     "output_type": "stream",
     "text": [
      "n\n"
     ]
    }
   ],
   "source": [
    "## test\n",
    "new=[]\n",
    "if new:\n",
    "    print('y')\n",
    "else:\n",
    "    print('n')"
   ]
  },
  {
   "cell_type": "code",
   "execution_count": 111,
   "id": "01cb0e3b",
   "metadata": {},
   "outputs": [
    {
     "data": {
      "text/plain": [
       "'본통계_성별_연령'"
      ]
     },
     "execution_count": 111,
     "metadata": {},
     "output_type": "execute_result"
    },
    {
     "data": {
      "text/plain": [
       "[]"
      ]
     },
     "execution_count": 111,
     "metadata": {},
     "output_type": "execute_result"
    }
   ],
   "source": [
    "pick[0][1:-1]\n",
    "pick[1:-1]"
   ]
  },
  {
   "cell_type": "code",
   "execution_count": 17,
   "id": "673ff1f0",
   "metadata": {},
   "outputs": [
    {
     "data": {
      "text/plain": [
       "'000'"
      ]
     },
     "execution_count": 17,
     "metadata": {},
     "output_type": "execute_result"
    },
    {
     "data": {
      "text/plain": [
       "'001'"
      ]
     },
     "execution_count": 17,
     "metadata": {},
     "output_type": "execute_result"
    },
    {
     "data": {
      "text/plain": [
       "'010'"
      ]
     },
     "execution_count": 17,
     "metadata": {},
     "output_type": "execute_result"
    },
    {
     "data": {
      "text/plain": [
       "'011'"
      ]
     },
     "execution_count": 17,
     "metadata": {},
     "output_type": "execute_result"
    },
    {
     "data": {
      "text/plain": [
       "'012'"
      ]
     },
     "execution_count": 17,
     "metadata": {},
     "output_type": "execute_result"
    },
    {
     "data": {
      "text/plain": [
       "'013'"
      ]
     },
     "execution_count": 17,
     "metadata": {},
     "output_type": "execute_result"
    },
    {
     "data": {
      "text/plain": [
       "'014'"
      ]
     },
     "execution_count": 17,
     "metadata": {},
     "output_type": "execute_result"
    },
    {
     "data": {
      "text/plain": [
       "'015'"
      ]
     },
     "execution_count": 17,
     "metadata": {},
     "output_type": "execute_result"
    },
    {
     "data": {
      "text/plain": [
       "'016'"
      ]
     },
     "execution_count": 17,
     "metadata": {},
     "output_type": "execute_result"
    },
    {
     "data": {
      "text/plain": [
       "'017'"
      ]
     },
     "execution_count": 17,
     "metadata": {},
     "output_type": "execute_result"
    },
    {
     "data": {
      "text/plain": [
       "'018'"
      ]
     },
     "execution_count": 17,
     "metadata": {},
     "output_type": "execute_result"
    },
    {
     "data": {
      "text/plain": [
       "'019'"
      ]
     },
     "execution_count": 17,
     "metadata": {},
     "output_type": "execute_result"
    },
    {
     "data": {
      "text/plain": [
       "'002'"
      ]
     },
     "execution_count": 17,
     "metadata": {},
     "output_type": "execute_result"
    },
    {
     "data": {
      "text/plain": [
       "'020'"
      ]
     },
     "execution_count": 17,
     "metadata": {},
     "output_type": "execute_result"
    },
    {
     "data": {
      "text/plain": [
       "'021'"
      ]
     },
     "execution_count": 17,
     "metadata": {},
     "output_type": "execute_result"
    },
    {
     "data": {
      "text/plain": [
       "'022'"
      ]
     },
     "execution_count": 17,
     "metadata": {},
     "output_type": "execute_result"
    },
    {
     "data": {
      "text/plain": [
       "'023'"
      ]
     },
     "execution_count": 17,
     "metadata": {},
     "output_type": "execute_result"
    },
    {
     "data": {
      "text/plain": [
       "'024'"
      ]
     },
     "execution_count": 17,
     "metadata": {},
     "output_type": "execute_result"
    },
    {
     "data": {
      "text/plain": [
       "'025'"
      ]
     },
     "execution_count": 17,
     "metadata": {},
     "output_type": "execute_result"
    },
    {
     "data": {
      "text/plain": [
       "'026'"
      ]
     },
     "execution_count": 17,
     "metadata": {},
     "output_type": "execute_result"
    },
    {
     "data": {
      "text/plain": [
       "'027'"
      ]
     },
     "execution_count": 17,
     "metadata": {},
     "output_type": "execute_result"
    },
    {
     "data": {
      "text/plain": [
       "'028'"
      ]
     },
     "execution_count": 17,
     "metadata": {},
     "output_type": "execute_result"
    },
    {
     "data": {
      "text/plain": [
       "'029'"
      ]
     },
     "execution_count": 17,
     "metadata": {},
     "output_type": "execute_result"
    },
    {
     "data": {
      "text/plain": [
       "'003'"
      ]
     },
     "execution_count": 17,
     "metadata": {},
     "output_type": "execute_result"
    },
    {
     "data": {
      "text/plain": [
       "'030'"
      ]
     },
     "execution_count": 17,
     "metadata": {},
     "output_type": "execute_result"
    },
    {
     "data": {
      "text/plain": [
       "'031'"
      ]
     },
     "execution_count": 17,
     "metadata": {},
     "output_type": "execute_result"
    },
    {
     "data": {
      "text/plain": [
       "'032'"
      ]
     },
     "execution_count": 17,
     "metadata": {},
     "output_type": "execute_result"
    },
    {
     "data": {
      "text/plain": [
       "'033'"
      ]
     },
     "execution_count": 17,
     "metadata": {},
     "output_type": "execute_result"
    },
    {
     "data": {
      "text/plain": [
       "'034'"
      ]
     },
     "execution_count": 17,
     "metadata": {},
     "output_type": "execute_result"
    },
    {
     "data": {
      "text/plain": [
       "'035'"
      ]
     },
     "execution_count": 17,
     "metadata": {},
     "output_type": "execute_result"
    },
    {
     "data": {
      "text/plain": [
       "'036'"
      ]
     },
     "execution_count": 17,
     "metadata": {},
     "output_type": "execute_result"
    },
    {
     "data": {
      "text/plain": [
       "'037'"
      ]
     },
     "execution_count": 17,
     "metadata": {},
     "output_type": "execute_result"
    },
    {
     "data": {
      "text/plain": [
       "'038'"
      ]
     },
     "execution_count": 17,
     "metadata": {},
     "output_type": "execute_result"
    },
    {
     "data": {
      "text/plain": [
       "'039'"
      ]
     },
     "execution_count": 17,
     "metadata": {},
     "output_type": "execute_result"
    },
    {
     "data": {
      "text/plain": [
       "'004'"
      ]
     },
     "execution_count": 17,
     "metadata": {},
     "output_type": "execute_result"
    },
    {
     "data": {
      "text/plain": [
       "'040'"
      ]
     },
     "execution_count": 17,
     "metadata": {},
     "output_type": "execute_result"
    },
    {
     "data": {
      "text/plain": [
       "'041'"
      ]
     },
     "execution_count": 17,
     "metadata": {},
     "output_type": "execute_result"
    },
    {
     "data": {
      "text/plain": [
       "'042'"
      ]
     },
     "execution_count": 17,
     "metadata": {},
     "output_type": "execute_result"
    },
    {
     "data": {
      "text/plain": [
       "'043'"
      ]
     },
     "execution_count": 17,
     "metadata": {},
     "output_type": "execute_result"
    },
    {
     "data": {
      "text/plain": [
       "'044'"
      ]
     },
     "execution_count": 17,
     "metadata": {},
     "output_type": "execute_result"
    },
    {
     "data": {
      "text/plain": [
       "'045'"
      ]
     },
     "execution_count": 17,
     "metadata": {},
     "output_type": "execute_result"
    },
    {
     "data": {
      "text/plain": [
       "'046'"
      ]
     },
     "execution_count": 17,
     "metadata": {},
     "output_type": "execute_result"
    },
    {
     "data": {
      "text/plain": [
       "'047'"
      ]
     },
     "execution_count": 17,
     "metadata": {},
     "output_type": "execute_result"
    },
    {
     "data": {
      "text/plain": [
       "'048'"
      ]
     },
     "execution_count": 17,
     "metadata": {},
     "output_type": "execute_result"
    },
    {
     "data": {
      "text/plain": [
       "'049'"
      ]
     },
     "execution_count": 17,
     "metadata": {},
     "output_type": "execute_result"
    },
    {
     "data": {
      "text/plain": [
       "'005'"
      ]
     },
     "execution_count": 17,
     "metadata": {},
     "output_type": "execute_result"
    },
    {
     "data": {
      "text/plain": [
       "'050'"
      ]
     },
     "execution_count": 17,
     "metadata": {},
     "output_type": "execute_result"
    },
    {
     "data": {
      "text/plain": [
       "'051'"
      ]
     },
     "execution_count": 17,
     "metadata": {},
     "output_type": "execute_result"
    },
    {
     "data": {
      "text/plain": [
       "'052'"
      ]
     },
     "execution_count": 17,
     "metadata": {},
     "output_type": "execute_result"
    },
    {
     "data": {
      "text/plain": [
       "'053'"
      ]
     },
     "execution_count": 17,
     "metadata": {},
     "output_type": "execute_result"
    },
    {
     "data": {
      "text/plain": [
       "'054'"
      ]
     },
     "execution_count": 17,
     "metadata": {},
     "output_type": "execute_result"
    },
    {
     "data": {
      "text/plain": [
       "'055'"
      ]
     },
     "execution_count": 17,
     "metadata": {},
     "output_type": "execute_result"
    },
    {
     "data": {
      "text/plain": [
       "'056'"
      ]
     },
     "execution_count": 17,
     "metadata": {},
     "output_type": "execute_result"
    },
    {
     "data": {
      "text/plain": [
       "'057'"
      ]
     },
     "execution_count": 17,
     "metadata": {},
     "output_type": "execute_result"
    },
    {
     "data": {
      "text/plain": [
       "'058'"
      ]
     },
     "execution_count": 17,
     "metadata": {},
     "output_type": "execute_result"
    },
    {
     "data": {
      "text/plain": [
       "'059'"
      ]
     },
     "execution_count": 17,
     "metadata": {},
     "output_type": "execute_result"
    },
    {
     "data": {
      "text/plain": [
       "'006'"
      ]
     },
     "execution_count": 17,
     "metadata": {},
     "output_type": "execute_result"
    },
    {
     "data": {
      "text/plain": [
       "'060'"
      ]
     },
     "execution_count": 17,
     "metadata": {},
     "output_type": "execute_result"
    },
    {
     "data": {
      "text/plain": [
       "'061'"
      ]
     },
     "execution_count": 17,
     "metadata": {},
     "output_type": "execute_result"
    },
    {
     "data": {
      "text/plain": [
       "'062'"
      ]
     },
     "execution_count": 17,
     "metadata": {},
     "output_type": "execute_result"
    },
    {
     "data": {
      "text/plain": [
       "'063'"
      ]
     },
     "execution_count": 17,
     "metadata": {},
     "output_type": "execute_result"
    },
    {
     "data": {
      "text/plain": [
       "'064'"
      ]
     },
     "execution_count": 17,
     "metadata": {},
     "output_type": "execute_result"
    },
    {
     "data": {
      "text/plain": [
       "'065'"
      ]
     },
     "execution_count": 17,
     "metadata": {},
     "output_type": "execute_result"
    },
    {
     "data": {
      "text/plain": [
       "'066'"
      ]
     },
     "execution_count": 17,
     "metadata": {},
     "output_type": "execute_result"
    },
    {
     "data": {
      "text/plain": [
       "'067'"
      ]
     },
     "execution_count": 17,
     "metadata": {},
     "output_type": "execute_result"
    },
    {
     "data": {
      "text/plain": [
       "'068'"
      ]
     },
     "execution_count": 17,
     "metadata": {},
     "output_type": "execute_result"
    },
    {
     "data": {
      "text/plain": [
       "'069'"
      ]
     },
     "execution_count": 17,
     "metadata": {},
     "output_type": "execute_result"
    },
    {
     "data": {
      "text/plain": [
       "'007'"
      ]
     },
     "execution_count": 17,
     "metadata": {},
     "output_type": "execute_result"
    },
    {
     "data": {
      "text/plain": [
       "'070'"
      ]
     },
     "execution_count": 17,
     "metadata": {},
     "output_type": "execute_result"
    },
    {
     "data": {
      "text/plain": [
       "'071'"
      ]
     },
     "execution_count": 17,
     "metadata": {},
     "output_type": "execute_result"
    },
    {
     "data": {
      "text/plain": [
       "'072'"
      ]
     },
     "execution_count": 17,
     "metadata": {},
     "output_type": "execute_result"
    },
    {
     "data": {
      "text/plain": [
       "'073'"
      ]
     },
     "execution_count": 17,
     "metadata": {},
     "output_type": "execute_result"
    },
    {
     "data": {
      "text/plain": [
       "'074'"
      ]
     },
     "execution_count": 17,
     "metadata": {},
     "output_type": "execute_result"
    },
    {
     "data": {
      "text/plain": [
       "'075'"
      ]
     },
     "execution_count": 17,
     "metadata": {},
     "output_type": "execute_result"
    },
    {
     "data": {
      "text/plain": [
       "'076'"
      ]
     },
     "execution_count": 17,
     "metadata": {},
     "output_type": "execute_result"
    },
    {
     "data": {
      "text/plain": [
       "'077'"
      ]
     },
     "execution_count": 17,
     "metadata": {},
     "output_type": "execute_result"
    },
    {
     "data": {
      "text/plain": [
       "'078'"
      ]
     },
     "execution_count": 17,
     "metadata": {},
     "output_type": "execute_result"
    },
    {
     "data": {
      "text/plain": [
       "'079'"
      ]
     },
     "execution_count": 17,
     "metadata": {},
     "output_type": "execute_result"
    },
    {
     "data": {
      "text/plain": [
       "'008'"
      ]
     },
     "execution_count": 17,
     "metadata": {},
     "output_type": "execute_result"
    },
    {
     "data": {
      "text/plain": [
       "'080'"
      ]
     },
     "execution_count": 17,
     "metadata": {},
     "output_type": "execute_result"
    },
    {
     "data": {
      "text/plain": [
       "'081'"
      ]
     },
     "execution_count": 17,
     "metadata": {},
     "output_type": "execute_result"
    },
    {
     "data": {
      "text/plain": [
       "'082'"
      ]
     },
     "execution_count": 17,
     "metadata": {},
     "output_type": "execute_result"
    },
    {
     "data": {
      "text/plain": [
       "'083'"
      ]
     },
     "execution_count": 17,
     "metadata": {},
     "output_type": "execute_result"
    },
    {
     "data": {
      "text/plain": [
       "'084'"
      ]
     },
     "execution_count": 17,
     "metadata": {},
     "output_type": "execute_result"
    },
    {
     "data": {
      "text/plain": [
       "'085'"
      ]
     },
     "execution_count": 17,
     "metadata": {},
     "output_type": "execute_result"
    },
    {
     "data": {
      "text/plain": [
       "'086'"
      ]
     },
     "execution_count": 17,
     "metadata": {},
     "output_type": "execute_result"
    },
    {
     "data": {
      "text/plain": [
       "'087'"
      ]
     },
     "execution_count": 17,
     "metadata": {},
     "output_type": "execute_result"
    },
    {
     "data": {
      "text/plain": [
       "'088'"
      ]
     },
     "execution_count": 17,
     "metadata": {},
     "output_type": "execute_result"
    },
    {
     "data": {
      "text/plain": [
       "'089'"
      ]
     },
     "execution_count": 17,
     "metadata": {},
     "output_type": "execute_result"
    },
    {
     "data": {
      "text/plain": [
       "'009'"
      ]
     },
     "execution_count": 17,
     "metadata": {},
     "output_type": "execute_result"
    },
    {
     "data": {
      "text/plain": [
       "'090'"
      ]
     },
     "execution_count": 17,
     "metadata": {},
     "output_type": "execute_result"
    },
    {
     "data": {
      "text/plain": [
       "'091'"
      ]
     },
     "execution_count": 17,
     "metadata": {},
     "output_type": "execute_result"
    },
    {
     "data": {
      "text/plain": [
       "'092'"
      ]
     },
     "execution_count": 17,
     "metadata": {},
     "output_type": "execute_result"
    },
    {
     "data": {
      "text/plain": [
       "'093'"
      ]
     },
     "execution_count": 17,
     "metadata": {},
     "output_type": "execute_result"
    },
    {
     "data": {
      "text/plain": [
       "'094'"
      ]
     },
     "execution_count": 17,
     "metadata": {},
     "output_type": "execute_result"
    },
    {
     "data": {
      "text/plain": [
       "'095'"
      ]
     },
     "execution_count": 17,
     "metadata": {},
     "output_type": "execute_result"
    },
    {
     "data": {
      "text/plain": [
       "'096'"
      ]
     },
     "execution_count": 17,
     "metadata": {},
     "output_type": "execute_result"
    },
    {
     "data": {
      "text/plain": [
       "'097'"
      ]
     },
     "execution_count": 17,
     "metadata": {},
     "output_type": "execute_result"
    },
    {
     "data": {
      "text/plain": [
       "'098'"
      ]
     },
     "execution_count": 17,
     "metadata": {},
     "output_type": "execute_result"
    },
    {
     "data": {
      "text/plain": [
       "'099'"
      ]
     },
     "execution_count": 17,
     "metadata": {},
     "output_type": "execute_result"
    },
    {
     "data": {
      "text/plain": [
       "101"
      ]
     },
     "execution_count": 17,
     "metadata": {},
     "output_type": "execute_result"
    },
    {
     "data": {
      "text/plain": [
       "102"
      ]
     },
     "execution_count": 17,
     "metadata": {},
     "output_type": "execute_result"
    },
    {
     "data": {
      "text/plain": [
       "103"
      ]
     },
     "execution_count": 17,
     "metadata": {},
     "output_type": "execute_result"
    },
    {
     "data": {
      "text/plain": [
       "104"
      ]
     },
     "execution_count": 17,
     "metadata": {},
     "output_type": "execute_result"
    },
    {
     "data": {
      "text/plain": [
       "105"
      ]
     },
     "execution_count": 17,
     "metadata": {},
     "output_type": "execute_result"
    },
    {
     "data": {
      "text/plain": [
       "106"
      ]
     },
     "execution_count": 17,
     "metadata": {},
     "output_type": "execute_result"
    },
    {
     "data": {
      "text/plain": [
       "107"
      ]
     },
     "execution_count": 17,
     "metadata": {},
     "output_type": "execute_result"
    },
    {
     "data": {
      "text/plain": [
       "108"
      ]
     },
     "execution_count": 17,
     "metadata": {},
     "output_type": "execute_result"
    },
    {
     "data": {
      "text/plain": [
       "109"
      ]
     },
     "execution_count": 17,
     "metadata": {},
     "output_type": "execute_result"
    },
    {
     "data": {
      "text/plain": [
       "110"
      ]
     },
     "execution_count": 17,
     "metadata": {},
     "output_type": "execute_result"
    },
    {
     "data": {
      "text/plain": [
       "111"
      ]
     },
     "execution_count": 17,
     "metadata": {},
     "output_type": "execute_result"
    },
    {
     "data": {
      "text/plain": [
       "112"
      ]
     },
     "execution_count": 17,
     "metadata": {},
     "output_type": "execute_result"
    },
    {
     "data": {
      "text/plain": [
       "113"
      ]
     },
     "execution_count": 17,
     "metadata": {},
     "output_type": "execute_result"
    },
    {
     "data": {
      "text/plain": [
       "114"
      ]
     },
     "execution_count": 17,
     "metadata": {},
     "output_type": "execute_result"
    },
    {
     "data": {
      "text/plain": [
       "115"
      ]
     },
     "execution_count": 17,
     "metadata": {},
     "output_type": "execute_result"
    },
    {
     "data": {
      "text/plain": [
       "116"
      ]
     },
     "execution_count": 17,
     "metadata": {},
     "output_type": "execute_result"
    },
    {
     "data": {
      "text/plain": [
       "117"
      ]
     },
     "execution_count": 17,
     "metadata": {},
     "output_type": "execute_result"
    },
    {
     "data": {
      "text/plain": [
       "118"
      ]
     },
     "execution_count": 17,
     "metadata": {},
     "output_type": "execute_result"
    },
    {
     "data": {
      "text/plain": [
       "119"
      ]
     },
     "execution_count": 17,
     "metadata": {},
     "output_type": "execute_result"
    },
    {
     "data": {
      "text/plain": [
       "120"
      ]
     },
     "execution_count": 17,
     "metadata": {},
     "output_type": "execute_result"
    },
    {
     "data": {
      "text/plain": [
       "121"
      ]
     },
     "execution_count": 17,
     "metadata": {},
     "output_type": "execute_result"
    },
    {
     "data": {
      "text/plain": [
       "122"
      ]
     },
     "execution_count": 17,
     "metadata": {},
     "output_type": "execute_result"
    },
    {
     "data": {
      "text/plain": [
       "123"
      ]
     },
     "execution_count": 17,
     "metadata": {},
     "output_type": "execute_result"
    },
    {
     "data": {
      "text/plain": [
       "124"
      ]
     },
     "execution_count": 17,
     "metadata": {},
     "output_type": "execute_result"
    },
    {
     "data": {
      "text/plain": [
       "125"
      ]
     },
     "execution_count": 17,
     "metadata": {},
     "output_type": "execute_result"
    },
    {
     "data": {
      "text/plain": [
       "126"
      ]
     },
     "execution_count": 17,
     "metadata": {},
     "output_type": "execute_result"
    },
    {
     "data": {
      "text/plain": [
       "127"
      ]
     },
     "execution_count": 17,
     "metadata": {},
     "output_type": "execute_result"
    },
    {
     "data": {
      "text/plain": [
       "128"
      ]
     },
     "execution_count": 17,
     "metadata": {},
     "output_type": "execute_result"
    },
    {
     "data": {
      "text/plain": [
       "129"
      ]
     },
     "execution_count": 17,
     "metadata": {},
     "output_type": "execute_result"
    },
    {
     "data": {
      "text/plain": [
       "130"
      ]
     },
     "execution_count": 17,
     "metadata": {},
     "output_type": "execute_result"
    },
    {
     "data": {
      "text/plain": [
       "131"
      ]
     },
     "execution_count": 17,
     "metadata": {},
     "output_type": "execute_result"
    },
    {
     "data": {
      "text/plain": [
       "132"
      ]
     },
     "execution_count": 17,
     "metadata": {},
     "output_type": "execute_result"
    },
    {
     "data": {
      "text/plain": [
       "133"
      ]
     },
     "execution_count": 17,
     "metadata": {},
     "output_type": "execute_result"
    },
    {
     "data": {
      "text/plain": [
       "134"
      ]
     },
     "execution_count": 17,
     "metadata": {},
     "output_type": "execute_result"
    },
    {
     "data": {
      "text/plain": [
       "135"
      ]
     },
     "execution_count": 17,
     "metadata": {},
     "output_type": "execute_result"
    },
    {
     "data": {
      "text/plain": [
       "136"
      ]
     },
     "execution_count": 17,
     "metadata": {},
     "output_type": "execute_result"
    },
    {
     "data": {
      "text/plain": [
       "137"
      ]
     },
     "execution_count": 17,
     "metadata": {},
     "output_type": "execute_result"
    },
    {
     "data": {
      "text/plain": [
       "138"
      ]
     },
     "execution_count": 17,
     "metadata": {},
     "output_type": "execute_result"
    },
    {
     "data": {
      "text/plain": [
       "139"
      ]
     },
     "execution_count": 17,
     "metadata": {},
     "output_type": "execute_result"
    },
    {
     "data": {
      "text/plain": [
       "140"
      ]
     },
     "execution_count": 17,
     "metadata": {},
     "output_type": "execute_result"
    },
    {
     "data": {
      "text/plain": [
       "141"
      ]
     },
     "execution_count": 17,
     "metadata": {},
     "output_type": "execute_result"
    },
    {
     "data": {
      "text/plain": [
       "142"
      ]
     },
     "execution_count": 17,
     "metadata": {},
     "output_type": "execute_result"
    },
    {
     "data": {
      "text/plain": [
       "143"
      ]
     },
     "execution_count": 17,
     "metadata": {},
     "output_type": "execute_result"
    },
    {
     "data": {
      "text/plain": [
       "144"
      ]
     },
     "execution_count": 17,
     "metadata": {},
     "output_type": "execute_result"
    },
    {
     "data": {
      "text/plain": [
       "145"
      ]
     },
     "execution_count": 17,
     "metadata": {},
     "output_type": "execute_result"
    },
    {
     "data": {
      "text/plain": [
       "146"
      ]
     },
     "execution_count": 17,
     "metadata": {},
     "output_type": "execute_result"
    },
    {
     "data": {
      "text/plain": [
       "147"
      ]
     },
     "execution_count": 17,
     "metadata": {},
     "output_type": "execute_result"
    },
    {
     "data": {
      "text/plain": [
       "148"
      ]
     },
     "execution_count": 17,
     "metadata": {},
     "output_type": "execute_result"
    },
    {
     "data": {
      "text/plain": [
       "149"
      ]
     },
     "execution_count": 17,
     "metadata": {},
     "output_type": "execute_result"
    },
    {
     "data": {
      "text/plain": [
       "150"
      ]
     },
     "execution_count": 17,
     "metadata": {},
     "output_type": "execute_result"
    },
    {
     "data": {
      "text/plain": [
       "151"
      ]
     },
     "execution_count": 17,
     "metadata": {},
     "output_type": "execute_result"
    },
    {
     "data": {
      "text/plain": [
       "152"
      ]
     },
     "execution_count": 17,
     "metadata": {},
     "output_type": "execute_result"
    },
    {
     "data": {
      "text/plain": [
       "153"
      ]
     },
     "execution_count": 17,
     "metadata": {},
     "output_type": "execute_result"
    },
    {
     "data": {
      "text/plain": [
       "154"
      ]
     },
     "execution_count": 17,
     "metadata": {},
     "output_type": "execute_result"
    },
    {
     "data": {
      "text/plain": [
       "155"
      ]
     },
     "execution_count": 17,
     "metadata": {},
     "output_type": "execute_result"
    },
    {
     "data": {
      "text/plain": [
       "156"
      ]
     },
     "execution_count": 17,
     "metadata": {},
     "output_type": "execute_result"
    },
    {
     "data": {
      "text/plain": [
       "157"
      ]
     },
     "execution_count": 17,
     "metadata": {},
     "output_type": "execute_result"
    },
    {
     "data": {
      "text/plain": [
       "158"
      ]
     },
     "execution_count": 17,
     "metadata": {},
     "output_type": "execute_result"
    },
    {
     "data": {
      "text/plain": [
       "159"
      ]
     },
     "execution_count": 17,
     "metadata": {},
     "output_type": "execute_result"
    },
    {
     "data": {
      "text/plain": [
       "160"
      ]
     },
     "execution_count": 17,
     "metadata": {},
     "output_type": "execute_result"
    },
    {
     "data": {
      "text/plain": [
       "161"
      ]
     },
     "execution_count": 17,
     "metadata": {},
     "output_type": "execute_result"
    },
    {
     "data": {
      "text/plain": [
       "162"
      ]
     },
     "execution_count": 17,
     "metadata": {},
     "output_type": "execute_result"
    },
    {
     "data": {
      "text/plain": [
       "163"
      ]
     },
     "execution_count": 17,
     "metadata": {},
     "output_type": "execute_result"
    },
    {
     "data": {
      "text/plain": [
       "164"
      ]
     },
     "execution_count": 17,
     "metadata": {},
     "output_type": "execute_result"
    },
    {
     "data": {
      "text/plain": [
       "165"
      ]
     },
     "execution_count": 17,
     "metadata": {},
     "output_type": "execute_result"
    },
    {
     "data": {
      "text/plain": [
       "166"
      ]
     },
     "execution_count": 17,
     "metadata": {},
     "output_type": "execute_result"
    },
    {
     "data": {
      "text/plain": [
       "167"
      ]
     },
     "execution_count": 17,
     "metadata": {},
     "output_type": "execute_result"
    },
    {
     "data": {
      "text/plain": [
       "168"
      ]
     },
     "execution_count": 17,
     "metadata": {},
     "output_type": "execute_result"
    },
    {
     "data": {
      "text/plain": [
       "169"
      ]
     },
     "execution_count": 17,
     "metadata": {},
     "output_type": "execute_result"
    },
    {
     "data": {
      "text/plain": [
       "170"
      ]
     },
     "execution_count": 17,
     "metadata": {},
     "output_type": "execute_result"
    },
    {
     "data": {
      "text/plain": [
       "171"
      ]
     },
     "execution_count": 17,
     "metadata": {},
     "output_type": "execute_result"
    },
    {
     "data": {
      "text/plain": [
       "172"
      ]
     },
     "execution_count": 17,
     "metadata": {},
     "output_type": "execute_result"
    },
    {
     "data": {
      "text/plain": [
       "173"
      ]
     },
     "execution_count": 17,
     "metadata": {},
     "output_type": "execute_result"
    },
    {
     "data": {
      "text/plain": [
       "174"
      ]
     },
     "execution_count": 17,
     "metadata": {},
     "output_type": "execute_result"
    },
    {
     "data": {
      "text/plain": [
       "175"
      ]
     },
     "execution_count": 17,
     "metadata": {},
     "output_type": "execute_result"
    },
    {
     "data": {
      "text/plain": [
       "176"
      ]
     },
     "execution_count": 17,
     "metadata": {},
     "output_type": "execute_result"
    },
    {
     "data": {
      "text/plain": [
       "177"
      ]
     },
     "execution_count": 17,
     "metadata": {},
     "output_type": "execute_result"
    },
    {
     "data": {
      "text/plain": [
       "178"
      ]
     },
     "execution_count": 17,
     "metadata": {},
     "output_type": "execute_result"
    },
    {
     "data": {
      "text/plain": [
       "179"
      ]
     },
     "execution_count": 17,
     "metadata": {},
     "output_type": "execute_result"
    },
    {
     "data": {
      "text/plain": [
       "180"
      ]
     },
     "execution_count": 17,
     "metadata": {},
     "output_type": "execute_result"
    },
    {
     "data": {
      "text/plain": [
       "181"
      ]
     },
     "execution_count": 17,
     "metadata": {},
     "output_type": "execute_result"
    },
    {
     "data": {
      "text/plain": [
       "182"
      ]
     },
     "execution_count": 17,
     "metadata": {},
     "output_type": "execute_result"
    },
    {
     "data": {
      "text/plain": [
       "183"
      ]
     },
     "execution_count": 17,
     "metadata": {},
     "output_type": "execute_result"
    },
    {
     "data": {
      "text/plain": [
       "184"
      ]
     },
     "execution_count": 17,
     "metadata": {},
     "output_type": "execute_result"
    },
    {
     "data": {
      "text/plain": [
       "185"
      ]
     },
     "execution_count": 17,
     "metadata": {},
     "output_type": "execute_result"
    },
    {
     "data": {
      "text/plain": [
       "186"
      ]
     },
     "execution_count": 17,
     "metadata": {},
     "output_type": "execute_result"
    },
    {
     "data": {
      "text/plain": [
       "187"
      ]
     },
     "execution_count": 17,
     "metadata": {},
     "output_type": "execute_result"
    },
    {
     "data": {
      "text/plain": [
       "188"
      ]
     },
     "execution_count": 17,
     "metadata": {},
     "output_type": "execute_result"
    },
    {
     "data": {
      "text/plain": [
       "189"
      ]
     },
     "execution_count": 17,
     "metadata": {},
     "output_type": "execute_result"
    },
    {
     "data": {
      "text/plain": [
       "190"
      ]
     },
     "execution_count": 17,
     "metadata": {},
     "output_type": "execute_result"
    },
    {
     "data": {
      "text/plain": [
       "191"
      ]
     },
     "execution_count": 17,
     "metadata": {},
     "output_type": "execute_result"
    },
    {
     "data": {
      "text/plain": [
       "192"
      ]
     },
     "execution_count": 17,
     "metadata": {},
     "output_type": "execute_result"
    },
    {
     "data": {
      "text/plain": [
       "193"
      ]
     },
     "execution_count": 17,
     "metadata": {},
     "output_type": "execute_result"
    },
    {
     "data": {
      "text/plain": [
       "194"
      ]
     },
     "execution_count": 17,
     "metadata": {},
     "output_type": "execute_result"
    },
    {
     "data": {
      "text/plain": [
       "195"
      ]
     },
     "execution_count": 17,
     "metadata": {},
     "output_type": "execute_result"
    },
    {
     "data": {
      "text/plain": [
       "196"
      ]
     },
     "execution_count": 17,
     "metadata": {},
     "output_type": "execute_result"
    },
    {
     "data": {
      "text/plain": [
       "197"
      ]
     },
     "execution_count": 17,
     "metadata": {},
     "output_type": "execute_result"
    },
    {
     "data": {
      "text/plain": [
       "198"
      ]
     },
     "execution_count": 17,
     "metadata": {},
     "output_type": "execute_result"
    },
    {
     "data": {
      "text/plain": [
       "199"
      ]
     },
     "execution_count": 17,
     "metadata": {},
     "output_type": "execute_result"
    },
    {
     "data": {
      "text/plain": [
       "200"
      ]
     },
     "execution_count": 17,
     "metadata": {},
     "output_type": "execute_result"
    },
    {
     "data": {
      "text/plain": [
       "201"
      ]
     },
     "execution_count": 17,
     "metadata": {},
     "output_type": "execute_result"
    },
    {
     "data": {
      "text/plain": [
       "202"
      ]
     },
     "execution_count": 17,
     "metadata": {},
     "output_type": "execute_result"
    },
    {
     "data": {
      "text/plain": [
       "203"
      ]
     },
     "execution_count": 17,
     "metadata": {},
     "output_type": "execute_result"
    },
    {
     "data": {
      "text/plain": [
       "204"
      ]
     },
     "execution_count": 17,
     "metadata": {},
     "output_type": "execute_result"
    },
    {
     "data": {
      "text/plain": [
       "205"
      ]
     },
     "execution_count": 17,
     "metadata": {},
     "output_type": "execute_result"
    },
    {
     "data": {
      "text/plain": [
       "206"
      ]
     },
     "execution_count": 17,
     "metadata": {},
     "output_type": "execute_result"
    },
    {
     "data": {
      "text/plain": [
       "207"
      ]
     },
     "execution_count": 17,
     "metadata": {},
     "output_type": "execute_result"
    },
    {
     "data": {
      "text/plain": [
       "208"
      ]
     },
     "execution_count": 17,
     "metadata": {},
     "output_type": "execute_result"
    },
    {
     "data": {
      "text/plain": [
       "209"
      ]
     },
     "execution_count": 17,
     "metadata": {},
     "output_type": "execute_result"
    },
    {
     "data": {
      "text/plain": [
       "210"
      ]
     },
     "execution_count": 17,
     "metadata": {},
     "output_type": "execute_result"
    },
    {
     "data": {
      "text/plain": [
       "211"
      ]
     },
     "execution_count": 17,
     "metadata": {},
     "output_type": "execute_result"
    },
    {
     "data": {
      "text/plain": [
       "212"
      ]
     },
     "execution_count": 17,
     "metadata": {},
     "output_type": "execute_result"
    },
    {
     "data": {
      "text/plain": [
       "213"
      ]
     },
     "execution_count": 17,
     "metadata": {},
     "output_type": "execute_result"
    },
    {
     "data": {
      "text/plain": [
       "214"
      ]
     },
     "execution_count": 17,
     "metadata": {},
     "output_type": "execute_result"
    },
    {
     "data": {
      "text/plain": [
       "215"
      ]
     },
     "execution_count": 17,
     "metadata": {},
     "output_type": "execute_result"
    },
    {
     "data": {
      "text/plain": [
       "216"
      ]
     },
     "execution_count": 17,
     "metadata": {},
     "output_type": "execute_result"
    },
    {
     "data": {
      "text/plain": [
       "217"
      ]
     },
     "execution_count": 17,
     "metadata": {},
     "output_type": "execute_result"
    },
    {
     "data": {
      "text/plain": [
       "218"
      ]
     },
     "execution_count": 17,
     "metadata": {},
     "output_type": "execute_result"
    },
    {
     "data": {
      "text/plain": [
       "219"
      ]
     },
     "execution_count": 17,
     "metadata": {},
     "output_type": "execute_result"
    },
    {
     "data": {
      "text/plain": [
       "220"
      ]
     },
     "execution_count": 17,
     "metadata": {},
     "output_type": "execute_result"
    },
    {
     "data": {
      "text/plain": [
       "221"
      ]
     },
     "execution_count": 17,
     "metadata": {},
     "output_type": "execute_result"
    },
    {
     "data": {
      "text/plain": [
       "222"
      ]
     },
     "execution_count": 17,
     "metadata": {},
     "output_type": "execute_result"
    },
    {
     "data": {
      "text/plain": [
       "223"
      ]
     },
     "execution_count": 17,
     "metadata": {},
     "output_type": "execute_result"
    },
    {
     "data": {
      "text/plain": [
       "224"
      ]
     },
     "execution_count": 17,
     "metadata": {},
     "output_type": "execute_result"
    },
    {
     "data": {
      "text/plain": [
       "225"
      ]
     },
     "execution_count": 17,
     "metadata": {},
     "output_type": "execute_result"
    },
    {
     "data": {
      "text/plain": [
       "226"
      ]
     },
     "execution_count": 17,
     "metadata": {},
     "output_type": "execute_result"
    },
    {
     "data": {
      "text/plain": [
       "227"
      ]
     },
     "execution_count": 17,
     "metadata": {},
     "output_type": "execute_result"
    },
    {
     "data": {
      "text/plain": [
       "228"
      ]
     },
     "execution_count": 17,
     "metadata": {},
     "output_type": "execute_result"
    },
    {
     "data": {
      "text/plain": [
       "229"
      ]
     },
     "execution_count": 17,
     "metadata": {},
     "output_type": "execute_result"
    },
    {
     "data": {
      "text/plain": [
       "230"
      ]
     },
     "execution_count": 17,
     "metadata": {},
     "output_type": "execute_result"
    },
    {
     "data": {
      "text/plain": [
       "231"
      ]
     },
     "execution_count": 17,
     "metadata": {},
     "output_type": "execute_result"
    },
    {
     "data": {
      "text/plain": [
       "232"
      ]
     },
     "execution_count": 17,
     "metadata": {},
     "output_type": "execute_result"
    },
    {
     "data": {
      "text/plain": [
       "233"
      ]
     },
     "execution_count": 17,
     "metadata": {},
     "output_type": "execute_result"
    },
    {
     "data": {
      "text/plain": [
       "234"
      ]
     },
     "execution_count": 17,
     "metadata": {},
     "output_type": "execute_result"
    },
    {
     "data": {
      "text/plain": [
       "235"
      ]
     },
     "execution_count": 17,
     "metadata": {},
     "output_type": "execute_result"
    },
    {
     "data": {
      "text/plain": [
       "236"
      ]
     },
     "execution_count": 17,
     "metadata": {},
     "output_type": "execute_result"
    },
    {
     "data": {
      "text/plain": [
       "237"
      ]
     },
     "execution_count": 17,
     "metadata": {},
     "output_type": "execute_result"
    },
    {
     "data": {
      "text/plain": [
       "238"
      ]
     },
     "execution_count": 17,
     "metadata": {},
     "output_type": "execute_result"
    },
    {
     "data": {
      "text/plain": [
       "239"
      ]
     },
     "execution_count": 17,
     "metadata": {},
     "output_type": "execute_result"
    },
    {
     "data": {
      "text/plain": [
       "240"
      ]
     },
     "execution_count": 17,
     "metadata": {},
     "output_type": "execute_result"
    },
    {
     "data": {
      "text/plain": [
       "241"
      ]
     },
     "execution_count": 17,
     "metadata": {},
     "output_type": "execute_result"
    },
    {
     "data": {
      "text/plain": [
       "242"
      ]
     },
     "execution_count": 17,
     "metadata": {},
     "output_type": "execute_result"
    },
    {
     "data": {
      "text/plain": [
       "243"
      ]
     },
     "execution_count": 17,
     "metadata": {},
     "output_type": "execute_result"
    },
    {
     "data": {
      "text/plain": [
       "244"
      ]
     },
     "execution_count": 17,
     "metadata": {},
     "output_type": "execute_result"
    },
    {
     "data": {
      "text/plain": [
       "245"
      ]
     },
     "execution_count": 17,
     "metadata": {},
     "output_type": "execute_result"
    },
    {
     "data": {
      "text/plain": [
       "246"
      ]
     },
     "execution_count": 17,
     "metadata": {},
     "output_type": "execute_result"
    },
    {
     "data": {
      "text/plain": [
       "247"
      ]
     },
     "execution_count": 17,
     "metadata": {},
     "output_type": "execute_result"
    },
    {
     "data": {
      "text/plain": [
       "248"
      ]
     },
     "execution_count": 17,
     "metadata": {},
     "output_type": "execute_result"
    },
    {
     "data": {
      "text/plain": [
       "249"
      ]
     },
     "execution_count": 17,
     "metadata": {},
     "output_type": "execute_result"
    },
    {
     "data": {
      "text/plain": [
       "250"
      ]
     },
     "execution_count": 17,
     "metadata": {},
     "output_type": "execute_result"
    },
    {
     "data": {
      "text/plain": [
       "251"
      ]
     },
     "execution_count": 17,
     "metadata": {},
     "output_type": "execute_result"
    },
    {
     "data": {
      "text/plain": [
       "252"
      ]
     },
     "execution_count": 17,
     "metadata": {},
     "output_type": "execute_result"
    },
    {
     "data": {
      "text/plain": [
       "253"
      ]
     },
     "execution_count": 17,
     "metadata": {},
     "output_type": "execute_result"
    },
    {
     "data": {
      "text/plain": [
       "254"
      ]
     },
     "execution_count": 17,
     "metadata": {},
     "output_type": "execute_result"
    },
    {
     "data": {
      "text/plain": [
       "255"
      ]
     },
     "execution_count": 17,
     "metadata": {},
     "output_type": "execute_result"
    },
    {
     "data": {
      "text/plain": [
       "256"
      ]
     },
     "execution_count": 17,
     "metadata": {},
     "output_type": "execute_result"
    },
    {
     "data": {
      "text/plain": [
       "257"
      ]
     },
     "execution_count": 17,
     "metadata": {},
     "output_type": "execute_result"
    },
    {
     "data": {
      "text/plain": [
       "258"
      ]
     },
     "execution_count": 17,
     "metadata": {},
     "output_type": "execute_result"
    },
    {
     "data": {
      "text/plain": [
       "259"
      ]
     },
     "execution_count": 17,
     "metadata": {},
     "output_type": "execute_result"
    },
    {
     "data": {
      "text/plain": [
       "260"
      ]
     },
     "execution_count": 17,
     "metadata": {},
     "output_type": "execute_result"
    },
    {
     "data": {
      "text/plain": [
       "261"
      ]
     },
     "execution_count": 17,
     "metadata": {},
     "output_type": "execute_result"
    },
    {
     "data": {
      "text/plain": [
       "262"
      ]
     },
     "execution_count": 17,
     "metadata": {},
     "output_type": "execute_result"
    },
    {
     "data": {
      "text/plain": [
       "263"
      ]
     },
     "execution_count": 17,
     "metadata": {},
     "output_type": "execute_result"
    },
    {
     "data": {
      "text/plain": [
       "264"
      ]
     },
     "execution_count": 17,
     "metadata": {},
     "output_type": "execute_result"
    },
    {
     "data": {
      "text/plain": [
       "265"
      ]
     },
     "execution_count": 17,
     "metadata": {},
     "output_type": "execute_result"
    },
    {
     "data": {
      "text/plain": [
       "266"
      ]
     },
     "execution_count": 17,
     "metadata": {},
     "output_type": "execute_result"
    },
    {
     "data": {
      "text/plain": [
       "267"
      ]
     },
     "execution_count": 17,
     "metadata": {},
     "output_type": "execute_result"
    },
    {
     "data": {
      "text/plain": [
       "268"
      ]
     },
     "execution_count": 17,
     "metadata": {},
     "output_type": "execute_result"
    },
    {
     "data": {
      "text/plain": [
       "269"
      ]
     },
     "execution_count": 17,
     "metadata": {},
     "output_type": "execute_result"
    },
    {
     "data": {
      "text/plain": [
       "270"
      ]
     },
     "execution_count": 17,
     "metadata": {},
     "output_type": "execute_result"
    },
    {
     "data": {
      "text/plain": [
       "271"
      ]
     },
     "execution_count": 17,
     "metadata": {},
     "output_type": "execute_result"
    },
    {
     "data": {
      "text/plain": [
       "[]"
      ]
     },
     "execution_count": 17,
     "metadata": {},
     "output_type": "execute_result"
    }
   ],
   "source": [
    "new = []\n",
    "for enu, i in enumerate(file_list):\n",
    "#     enu\n",
    "    pick = i.split(' ')[-1].split('.')[:-1] # blank로 split 했을 때 제일 뒤의 값에 대해 .으로 split해서 제일 뒤의 값 전까지\n",
    "                                            # 왜냐면 100개 넘을 때부터 파일명에 .이 2개 생겨서 곤란해지므로...\n",
    "#     pick[0][0]\n",
    "    if pick[0][0] == '(': # 괄호로 시작하면 그 사이 값만 꺼내 주세요.\n",
    "#         pick[0][1:-1] # 괄호의 사이에 있는 숫자 확인\n",
    "        if len(pick[0][1:-1]) < 3:\n",
    "            new_pick = f\"{'0'*(3-len(pick[0][1:-1]))}{pick[0][1:-1]}\"\n",
    "            new_pick\n",
    "#             new.append(f\"{i.split(' ')[0]} ({new_pick}).csv\")\n",
    "    else: # 괄호로 시작하지 않으면\n",
    "        enu\n",
    "#         new.append(f\"{i.split(' ')[0]} ({enu}).csv\")\n",
    "#     break\n",
    "new # 기존 파일 nm 순서대로 받았음.\n",
    "\n",
    "\n",
    "## else부분 추가 설명\n",
    "## 괄호숫자부분만 문제지 나머지(100개 넘을 때부터)는 받아온 시간 순으로 정렬돼서 나옴. 이름만 간결하게 바꾼 것 뿐임."
   ]
  },
  {
   "cell_type": "code",
   "execution_count": 113,
   "id": "c3631464",
   "metadata": {},
   "outputs": [
    {
     "data": {
      "text/plain": [
       "'00'"
      ]
     },
     "execution_count": 113,
     "metadata": {},
     "output_type": "execute_result"
    },
    {
     "data": {
      "text/plain": [
       "'009'"
      ]
     },
     "execution_count": 113,
     "metadata": {},
     "output_type": "execute_result"
    }
   ],
   "source": [
    "## test\n",
    "'0'*(3-len(pick[0][1:-1]))\n",
    "f\"{'0'*(3-len(pick[0][1:-1]))}{pick[0][1:-1]}\""
   ]
  },
  {
   "cell_type": "code",
   "execution_count": 114,
   "id": "3ef2ad64",
   "metadata": {},
   "outputs": [],
   "source": [
    "import os\n",
    "path = os.getcwd()"
   ]
  },
  {
   "cell_type": "markdown",
   "id": "620684d4",
   "metadata": {},
   "source": [
    "# rename"
   ]
  },
  {
   "cell_type": "code",
   "execution_count": 116,
   "id": "df166ed7",
   "metadata": {},
   "outputs": [],
   "source": [
    "for i in range(len(file_list)):\n",
    "#     file_list[i], new[i]\n",
    "#     break\n",
    "    ## file_list의 i번째를 new의 i번째로 rename\n",
    "    os.rename(file_list[i], os.path.join(path, new[i])) # rename의 뒤에는 꼭 path를 포함한 file의 이름이 (즉, 경로) 와야 함."
   ]
  },
  {
   "cell_type": "code",
   "execution_count": 101,
   "id": "fe6f271d",
   "metadata": {},
   "outputs": [
    {
     "data": {
      "text/plain": [
       "'기본통계_성별_연령별 (000).csv'"
      ]
     },
     "execution_count": 101,
     "metadata": {},
     "output_type": "execute_result"
    }
   ],
   "source": [
    "new[0]"
   ]
  },
  {
   "cell_type": "code",
   "execution_count": null,
   "id": "1f63766e",
   "metadata": {},
   "outputs": [],
   "source": []
  },
  {
   "cell_type": "code",
   "execution_count": 69,
   "id": "f7de2d06",
   "metadata": {},
   "outputs": [
    {
     "data": {
      "text/plain": [
       "('/', 'User')"
      ]
     },
     "execution_count": 69,
     "metadata": {},
     "output_type": "execute_result"
    }
   ],
   "source": [
    "# glob으로 이름바꾸기 # https://ponyozzang.tistory.com/541\n",
    "\n",
    "\n",
    "# os.path는 그냥 인자로 받는 애들 조작하는 모듈인 것.\n",
    "# https://docs.python.org/ko/3/library/os.path.html\n",
    "os.path.split('/User')\n",
    "\n",
    "\n",
    "# os.path.join\n",
    "# 경로와 피일명을 결합하거나 분할된 경로를 하나로 정리하거나하는 것이 가능\n",
    "# 출처: https://engineer-mole.tistory.com/188 [매일 꾸준히, 더 깊이:티스토리]\n",
    "\n",
    "### *은 애스터리스크라고 부름.\n",
    "# join()의 인수로 리스트를 전달하는 것도 가능하다.\n",
    "# 다만, 주의점은 리스트를 전개해서 넘겨야한다는 것이다.\n",
    "# 샘플 코드에서는 join()의 인수로써 전달된 list_path의 앞에 *(애스터리스크)를 붙여 리스트를 전개하고 있다.\n",
    "# 출처: https://engineer-mole.tistory.com/188 [매일 꾸준히, 더 깊이:티스토리]"
   ]
  },
  {
   "cell_type": "code",
   "execution_count": 89,
   "id": "447747db",
   "metadata": {},
   "outputs": [
    {
     "data": {
      "text/plain": [
       "'C:\\\\Users\\\\Admin\\\\바탕 화면\\\\다운로드'"
      ]
     },
     "execution_count": 89,
     "metadata": {},
     "output_type": "execute_result"
    }
   ],
   "source": [
    "# pwd\n",
    "os.getcwd()"
   ]
  },
  {
   "cell_type": "code",
   "execution_count": 91,
   "id": "070e48f5",
   "metadata": {},
   "outputs": [],
   "source": [
    "## os.rename test\n",
    "\n",
    "import os\n",
    "path = os.getcwd()\n",
    "file = glob('testfile*')\n",
    "os.rename(file[0], os.path.join(path, 'ttnew_'+os.path.basename(file[0])))\n",
    "## rename 해도 파일명 안바뀜"
   ]
  },
  {
   "cell_type": "code",
   "execution_count": 74,
   "id": "b717ff8f",
   "metadata": {},
   "outputs": [
    {
     "data": {
      "text/plain": [
       "'ttnew_testfile.txt'"
      ]
     },
     "execution_count": 74,
     "metadata": {},
     "output_type": "execute_result"
    }
   ],
   "source": [
    "os.path.join('ttnew_'+os.path.basename(file[0]))"
   ]
  }
 ],
 "metadata": {
  "kernelspec": {
   "display_name": "Python 3 (ipykernel)",
   "language": "python",
   "name": "python3"
  },
  "language_info": {
   "codemirror_mode": {
    "name": "ipython",
    "version": 3
   },
   "file_extension": ".py",
   "mimetype": "text/x-python",
   "name": "python",
   "nbconvert_exporter": "python",
   "pygments_lexer": "ipython3",
   "version": "3.10.5"
  },
  "latex_envs": {
   "LaTeX_envs_menu_present": true,
   "autoclose": false,
   "autocomplete": true,
   "bibliofile": "biblio.bib",
   "cite_by": "apalike",
   "current_citInitial": 1,
   "eqLabelWithNumbers": true,
   "eqNumInitial": 1,
   "hotkeys": {
    "equation": "Ctrl-E",
    "itemize": "Ctrl-I"
   },
   "labels_anchors": false,
   "latex_user_defs": false,
   "report_style_numbering": false,
   "user_envs_cfg": false
  },
  "toc": {
   "base_numbering": 1,
   "nav_menu": {},
   "number_sections": true,
   "sideBar": true,
   "skip_h1_title": false,
   "title_cell": "Table of Contents",
   "title_sidebar": "Contents",
   "toc_cell": false,
   "toc_position": {},
   "toc_section_display": true,
   "toc_window_display": false
  }
 },
 "nbformat": 4,
 "nbformat_minor": 5
}
