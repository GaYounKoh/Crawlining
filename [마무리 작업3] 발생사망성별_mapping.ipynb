{
 "cells": [
  {
   "cell_type": "code",
   "execution_count": 13,
   "id": "7840f83c",
   "metadata": {},
   "outputs": [],
   "source": [
    "import pandas as pd\n",
    "import numpy as np\n",
    "from IPython.core.interactiveshell import InteractiveShell\n",
    "InteractiveShell.ast_node_interactivity = \"all\"\n",
    "\n",
    "from tqdm import tqdm"
   ]
  },
  {
   "cell_type": "code",
   "execution_count": 2,
   "id": "2fe25081",
   "metadata": {},
   "outputs": [
    {
     "name": "stderr",
     "output_type": "stream",
     "text": [
      "C:\\Users\\kelly\\anaconda3\\lib\\site-packages\\IPython\\core\\interactiveshell.py:3165: DtypeWarning: Columns (5) have mixed types.Specify dtype option on import or set low_memory=False.\n",
      "  has_raised = await self.run_ast_nodes(code_ast.body, cell_name,\n",
      "C:\\Users\\kelly\\anaconda3\\lib\\site-packages\\IPython\\core\\interactiveshell.py:3165: DtypeWarning: Columns (3,4,5,6,7,8,9,10,11,12,13,14,15,16,17,18,19,20,21,22,23,24,25,26,27,28,29,30) have mixed types.Specify dtype option on import or set low_memory=False.\n",
      "  has_raised = await self.run_ast_nodes(code_ast.body, cell_name,\n"
     ]
    }
   ],
   "source": [
    "발생 = pd.read_csv('발생01062206_수정중_교수님틀.csv')\n",
    "사망 = pd.read_csv('사망0121_수정중_교수님틀.csv')\n",
    "성별 = pd.read_csv('성별0121_수정중_교수님틀.csv')"
   ]
  },
  {
   "cell_type": "code",
   "execution_count": 3,
   "id": "8f66b0ba",
   "metadata": {},
   "outputs": [],
   "source": [
    "# labeling\n",
    "\n",
    "## 시도lst\n",
    "\n",
    "시도lst = ['서울', '부산', '대구', '인천',\n",
    "      '광주', '대전', '울산', '경기', '강원', \n",
    "      '충북', '충남', '전북', '전남', '경북',\n",
    "      '경남', '제주', '세종']\n",
    "len(시도lst) # 17\n",
    "\n",
    "## name2병id (len 63)\n",
    "\n",
    "급1병_lst = ['에볼라바이러스병', '마버그열', '라싸열', '크리미안콩고출혈열', '남아메리카출혈열', '리프트밸리열', '두창', '페스트',\n",
    "            '탄저', '보툴리눔독소증', '야토병', '중증급성호흡기증후군(SARS)', '중동호흡기증후군(MERS)', '동물인플루엔자 인체감염증',\n",
    "            '신종인플루엔자', '디프테리아']\n",
    "\n",
    "급2병_lst = ['수두', '홍역', '콜레라', '장티푸스', '파라티푸스', '세균성이질', '장출혈성대장균감염증', 'A형간염', '백일해',\n",
    "            '유행성이하선염', '풍진(2018년이전)', '풍진(선천성)', '풍진(후천성)', '폴리오', '수막구균 감염증',\n",
    "            'b형헤모필루스인플루엔자', '폐렴구균 감염증', '한센병', '성홍열', '반코마이신내성황색포도알균(VRSA) 감염증',\n",
    "            '카바페넴내성장내세균속균종(CRE) 감염증', 'E형간염']\n",
    "\n",
    "급3병_lst = ['파상풍', 'B형간염', '일본뇌염', 'C형간염', '말라리아', '레지오넬라증', '비브리오패혈증', '발진티푸스', '발진열',\n",
    "             '쯔쯔가무시증', '렙토스피라증', '브루셀라증', '공수병', '신증후군출혈열',\n",
    "             '크로이츠펠트-야콥병(CDJ) 및 변종크로이츠펠트-야콥병(vCJD)', '황열', '뎅기열', '큐열', '웨스트나일열', '라임병',\n",
    "             '진드기매개뇌염', '유비저', '치쿤구니야열', '중증열성혈소판감소증후군(SFTS)', '지카바이러스감염증']\n",
    "\n",
    "병name_lst = 급1병_lst + 급2병_lst + 급3병_lst\n",
    "len(병name_lst) # 63\n",
    "\n",
    "병id_lst = [i for i in range(len(급1병_lst))] + [i for i in range(len(급2병_lst))] + [i for i in range(len(급3병_lst))]\n",
    "\n",
    "name2병id = {병name_lst[i] : 병id_lst[i] for i in range(len(병id_lst))}\n",
    "len(name2병id) # 63\n",
    "\n",
    "급id_match_lst = [1]*len(급1병_lst) + [2]*len(급2병_lst) + [3]*len(급3병_lst)"
   ]
  },
  {
   "cell_type": "code",
   "execution_count": 10,
   "id": "310090d2",
   "metadata": {},
   "outputs": [],
   "source": [
    "병name2급id = {병name_lst[i] : f'{급id_match_lst[i]}급' for i in range(len(병name_lst))}"
   ]
  },
  {
   "cell_type": "code",
   "execution_count": 12,
   "id": "d547d1cc",
   "metadata": {},
   "outputs": [],
   "source": [
    "# 병name2급id"
   ]
  },
  {
   "cell_type": "code",
   "execution_count": 15,
   "id": "dcb1ec9d",
   "metadata": {},
   "outputs": [
    {
     "data": {
      "text/plain": [
       "272"
      ]
     },
     "execution_count": 15,
     "metadata": {},
     "output_type": "execute_result"
    }
   ],
   "source": [
    "## 지역 (len 272)\n",
    "군구서울 = ['강남구', '강동구', '강북구', '강서구', '관악구', '광진구', '구로구', '금천구', '노원구', '도봉구', '동대문구', '동작구', '마포구', '서대문구', '서초구', '성동구', '성북구', '송파구', '양천구', '영등포구', '용산구', '은평구',\n",
    "           '종로구', '중구', '중랑구']\n",
    "\n",
    "군구부산 = ['강서구', '금정구', '기장군', '남구', '동구', '동래구', '부산진구', '북구', '사상구', '사하구', '서구', '수영구', '연제구', '영도구', '중구', '해운대구']\n",
    "\n",
    "군구대구 = ['남구', '달서구', '달성군', '동구', '북구', '서구', '수성구', '중구']\n",
    "\n",
    "군구인천 = ['강화군', '계양구', '미추홀구', '남동구', '동구', '부평구', '서구', '연수구', '옹진군', '중구']\n",
    "\n",
    "군구광주 = ['광산구', '남구', '동구', '북구', '서구']\n",
    "\n",
    "군구대전 = ['대덕구', '동구', '서구', '유성구', '중구']\n",
    "\n",
    "군구울산 = ['남구', '동구', '북구', '울주군', '중구']\n",
    "\n",
    "군구경기 = ['가평군', '고양시 덕양구', '고양시 일산동구', '고양시 일산서구', '과천시', '광명시', '광주시', '구리시', '군포시', '김포시', '남양주시', '동두천시', '부천시 소사구', '부천시 오정구', '부천시 원미구', '성남시 분당구', '성남시 수정구',\n",
    "           '성남시 중원구', '수원시 권선구', '수원시 영통구', '수원시 장안구', '수원시 팔달구', '시흥시', '안산시 단원구', '안산시 상록구', '안성시', '안양시 동안구', '안양시 만안구', '양주시', '양평군', '여주시', '연천군', '오산시', '용인시 기흥구', '용인시 수지구',\n",
    "           '용인시 처인구', '의왕시', '의정부시', '이천시', '파주시', '평택시', '포천시', '하남시', '화성시', '양주군', '고양시 일산구', '포천군', '용인시', '남양주', '고양시 일산동', '안산시', '부천시']\n",
    "\n",
    "군구강원 = ['강릉시', '고성군', '동해시', '삼척시', '속초시', '양구군', '양양군', '영월군', '원주시', '인제군', '정선군', '철원군', '춘천시', '태백시', '평창군', '홍천군', '화천군', '횡성군']\n",
    "\n",
    "군구충북 = ['괴산군', '단양군', '보은군', '영동군', '옥천군', '음성군', '제천시',' 증평군', '진천군', '청원군', '(구)청주시 상당구', '(구)청주시 흥덕구', '충주시', '청주시 상당구', '청주시 흥덕구', '청주시 서원구', '청주시 청원구']\n",
    "\n",
    "군구충남 = ['계룡시', '공주시', '금산군', '논산시', '당진시', '보령시', '부여군', '서산시', '서천군', '아산시', '연기군', '예산군', '천안시', '청양군', '태안군', '홍성군', '천안시 동남구', '천안시 서북구']\n",
    "\n",
    "군구전북 = ['고창군', '군산시' ,'김제시', '남원시', '무주군', '부안군', '순창군', '완주군', '익산시', '임실군', '장수군', '전주시 덕진구', '전주시 완산구', '정읍시', '진안군', '전주시']\n",
    "\n",
    "군구전남 = ['강진군', '고흥군', '곡성군', '광양시', '구례군', '나주시', '담양군', '목포시', '무안군', '보성군', '순천시', '신안군', '여수시', '영광군', '영암군', '완도군', '장성군', '장흥군', '진도군', '함평군', '해남군', '화순군']\n",
    "\n",
    "군구경북 = ['경산시', '경주시', '고령군', '구미시', '군위군', '김천시', '문경시', '봉화군', '상주시', '성주군', '안동시', '영덕군', '영양군', '영주시', '영천시', '예천군', '울릉군', '울진군', '의성군', '청도군', '청송군', '칠곡군',\n",
    "           '포항시 남구', '포항시 북구', '포항시']\n",
    "\n",
    "군구경남 = ['거제시', '거창군', '고성군', '김해시', '남해군', '마산시', '밀양시', '사천시', '산청군', '양산시', '의령군', '진주시', '진해시', '창녕군', '창원시', '통영시', '하동군', '함안군', '함양군', '합천군', '창원시 마산합포구', '창원시 마산회원구',\n",
    "           '창원시 성산구', '창원시 의창구', '창원시 진해구']\n",
    "\n",
    "군구제주 = ['서귀포시', '제주시', '남제주군', '북제주군']\n",
    "\n",
    "군구세종 = ['세종시']\n",
    "\n",
    "\n",
    "\n",
    "### 각 시도별 군구 길이\n",
    "# for i in 시도lst:\n",
    "#     i, len(globals()[f'군구{i}'])\n",
    "\n",
    "\n",
    "### 모든 시도의 모든 군구의 수\n",
    "군구all = 군구서울 + 군구부산 + 군구대구 + 군구인천 + 군구광주 + 군구대전 + 군구울산 + 군구경기 + 군구강원 + 군구충북 + 군구충남 + 군구전북 + 군구전남 + 군구경북 + 군구경남 + 군구제주 + 군구세종\n",
    "len(군구all) # 272"
   ]
  },
  {
   "cell_type": "code",
   "execution_count": null,
   "id": "7b34091a",
   "metadata": {},
   "outputs": [],
   "source": []
  },
  {
   "cell_type": "code",
   "execution_count": 25,
   "id": "f36a38a8",
   "metadata": {},
   "outputs": [
    {
     "data": {
      "text/plain": [
       "272"
      ]
     },
     "execution_count": 25,
     "metadata": {},
     "output_type": "execute_result"
    }
   ],
   "source": [
    "군구2시도lst = []\n",
    "for i in 시도lst:\n",
    "    군구2시도lst.extend([i]*len(eval(f'군구{i}')))\n",
    "    \n",
    "len(군구2시도lst)"
   ]
  },
  {
   "cell_type": "code",
   "execution_count": 26,
   "id": "1bf667ae",
   "metadata": {},
   "outputs": [],
   "source": [
    "군구2시도dic = {군구all[i]:군구2시도lst[i] for i in range(len(군구all))}"
   ]
  },
  {
   "cell_type": "code",
   "execution_count": 76,
   "id": "2ea15fe6",
   "metadata": {},
   "outputs": [],
   "source": [
    "군구id2군구dic = {i+1:군구all[i] for i in range(len(군구all))}"
   ]
  },
  {
   "cell_type": "code",
   "execution_count": null,
   "id": "c4b69008",
   "metadata": {},
   "outputs": [],
   "source": [
    "병name2급id\n",
    "군구2시도dic"
   ]
  },
  {
   "cell_type": "markdown",
   "id": "2b6c7f41",
   "metadata": {},
   "source": [
    "# 발생 결측에서의 특이점\n",
    "- 결측이 없음. 0으로 나타남."
   ]
  },
  {
   "cell_type": "code",
   "execution_count": 50,
   "id": "76f9ed99",
   "metadata": {},
   "outputs": [
    {
     "data": {
      "text/plain": [
       "0"
      ]
     },
     "execution_count": 50,
     "metadata": {},
     "output_type": "execute_result"
    }
   ],
   "source": [
    "발발 = pd.read_csv('발생2001_01-2022_06.csv')\n",
    "발발.head().isnull().sum().sum()"
   ]
  },
  {
   "cell_type": "markdown",
   "id": "733b25fe",
   "metadata": {},
   "source": [
    "# 발생에 급수 mapping"
   ]
  },
  {
   "cell_type": "code",
   "execution_count": 29,
   "id": "29f8a75c",
   "metadata": {},
   "outputs": [],
   "source": [
    "발생['급수'] = 발생.병.map(병name2급id)\n",
    "발생 = 발생[['연도', '월', '급수', '병', '시도', '군구', '발생수']]"
   ]
  },
  {
   "cell_type": "code",
   "execution_count": 47,
   "id": "9a2da77b",
   "metadata": {},
   "outputs": [
    {
     "data": {
      "text/html": [
       "<div>\n",
       "<style scoped>\n",
       "    .dataframe tbody tr th:only-of-type {\n",
       "        vertical-align: middle;\n",
       "    }\n",
       "\n",
       "    .dataframe tbody tr th {\n",
       "        vertical-align: top;\n",
       "    }\n",
       "\n",
       "    .dataframe thead th {\n",
       "        text-align: right;\n",
       "    }\n",
       "</style>\n",
       "<table border=\"1\" class=\"dataframe\">\n",
       "  <thead>\n",
       "    <tr style=\"text-align: right;\">\n",
       "      <th></th>\n",
       "      <th>연도</th>\n",
       "      <th>월</th>\n",
       "      <th>급수</th>\n",
       "      <th>병</th>\n",
       "      <th>시도</th>\n",
       "      <th>군구</th>\n",
       "      <th>발생수</th>\n",
       "    </tr>\n",
       "  </thead>\n",
       "  <tbody>\n",
       "    <tr>\n",
       "      <th>0</th>\n",
       "      <td>2001</td>\n",
       "      <td>1</td>\n",
       "      <td>1급</td>\n",
       "      <td>에볼라바이러스병</td>\n",
       "      <td>서울</td>\n",
       "      <td>강남구</td>\n",
       "      <td>0</td>\n",
       "    </tr>\n",
       "    <tr>\n",
       "      <th>1</th>\n",
       "      <td>2001</td>\n",
       "      <td>1</td>\n",
       "      <td>1급</td>\n",
       "      <td>마버그열</td>\n",
       "      <td>서울</td>\n",
       "      <td>강남구</td>\n",
       "      <td>0</td>\n",
       "    </tr>\n",
       "    <tr>\n",
       "      <th>2</th>\n",
       "      <td>2001</td>\n",
       "      <td>1</td>\n",
       "      <td>1급</td>\n",
       "      <td>라싸열</td>\n",
       "      <td>서울</td>\n",
       "      <td>강남구</td>\n",
       "      <td>0</td>\n",
       "    </tr>\n",
       "    <tr>\n",
       "      <th>3</th>\n",
       "      <td>2001</td>\n",
       "      <td>1</td>\n",
       "      <td>1급</td>\n",
       "      <td>크리미안콩고출혈열</td>\n",
       "      <td>서울</td>\n",
       "      <td>강남구</td>\n",
       "      <td>0</td>\n",
       "    </tr>\n",
       "    <tr>\n",
       "      <th>4</th>\n",
       "      <td>2001</td>\n",
       "      <td>1</td>\n",
       "      <td>1급</td>\n",
       "      <td>남아메리카출혈열</td>\n",
       "      <td>서울</td>\n",
       "      <td>강남구</td>\n",
       "      <td>0</td>\n",
       "    </tr>\n",
       "  </tbody>\n",
       "</table>\n",
       "</div>"
      ],
      "text/plain": [
       "     연도  월  급수          병  시도   군구  발생수\n",
       "0  2001  1  1급   에볼라바이러스병  서울  강남구    0\n",
       "1  2001  1  1급       마버그열  서울  강남구    0\n",
       "2  2001  1  1급        라싸열  서울  강남구    0\n",
       "3  2001  1  1급  크리미안콩고출혈열  서울  강남구    0\n",
       "4  2001  1  1급   남아메리카출혈열  서울  강남구    0"
      ]
     },
     "execution_count": 47,
     "metadata": {},
     "output_type": "execute_result"
    }
   ],
   "source": [
    "발생.head()"
   ]
  },
  {
   "cell_type": "markdown",
   "id": "04720c4a",
   "metadata": {},
   "source": [
    "# 사망에는 mapping할 거 없음."
   ]
  },
  {
   "cell_type": "code",
   "execution_count": 36,
   "id": "88935831",
   "metadata": {},
   "outputs": [],
   "source": [
    "사망 = 사망[['연도', '월', '급수', '병', '시도', '사망수']]"
   ]
  },
  {
   "cell_type": "code",
   "execution_count": 60,
   "id": "d8820e7a",
   "metadata": {},
   "outputs": [],
   "source": [
    "사망.사망수 = list(map(lambda x : np.NaN if x == '-' else int(x), 사망.사망수))"
   ]
  },
  {
   "cell_type": "code",
   "execution_count": 63,
   "id": "def790a0",
   "metadata": {},
   "outputs": [
    {
     "data": {
      "text/plain": [
       "125052"
      ]
     },
     "execution_count": 63,
     "metadata": {},
     "output_type": "execute_result"
    }
   ],
   "source": [
    "사망.사망수.isnull().sum()"
   ]
  },
  {
   "cell_type": "markdown",
   "id": "71428765",
   "metadata": {},
   "source": [
    "# 성별에 급수 mapping"
   ]
  },
  {
   "cell_type": "code",
   "execution_count": 69,
   "id": "c431c566",
   "metadata": {},
   "outputs": [],
   "source": [
    "성별['급수'] = 성별.병.map(병name2급id)"
   ]
  },
  {
   "cell_type": "code",
   "execution_count": 74,
   "id": "8249d258",
   "metadata": {},
   "outputs": [
    {
     "data": {
      "text/html": [
       "<div>\n",
       "<style scoped>\n",
       "    .dataframe tbody tr th:only-of-type {\n",
       "        vertical-align: middle;\n",
       "    }\n",
       "\n",
       "    .dataframe tbody tr th {\n",
       "        vertical-align: top;\n",
       "    }\n",
       "\n",
       "    .dataframe thead th {\n",
       "        text-align: right;\n",
       "    }\n",
       "</style>\n",
       "<table border=\"1\" class=\"dataframe\">\n",
       "  <thead>\n",
       "    <tr style=\"text-align: right;\">\n",
       "      <th></th>\n",
       "      <th>연도</th>\n",
       "      <th>병</th>\n",
       "      <th>군구</th>\n",
       "      <th>0~4세_남</th>\n",
       "      <th>0~4세_여</th>\n",
       "      <th>5~9세_남</th>\n",
       "      <th>5~9세_여</th>\n",
       "      <th>10~14세_남</th>\n",
       "      <th>10~14세_여</th>\n",
       "      <th>15~19세_남</th>\n",
       "      <th>...</th>\n",
       "      <th>45~49세_여</th>\n",
       "      <th>50~54세_남</th>\n",
       "      <th>50~54세_여</th>\n",
       "      <th>55~59세_남</th>\n",
       "      <th>55~59세_여</th>\n",
       "      <th>60~64세_남</th>\n",
       "      <th>60~64세_여</th>\n",
       "      <th>65세 이상_남</th>\n",
       "      <th>65세 이상_여</th>\n",
       "      <th>급수</th>\n",
       "    </tr>\n",
       "  </thead>\n",
       "  <tbody>\n",
       "    <tr>\n",
       "      <th>359851</th>\n",
       "      <td>2017년</td>\n",
       "      <td>지카바이러스감염증</td>\n",
       "      <td>272</td>\n",
       "      <td>0</td>\n",
       "      <td>0</td>\n",
       "      <td>0</td>\n",
       "      <td>0</td>\n",
       "      <td>0</td>\n",
       "      <td>0</td>\n",
       "      <td>0</td>\n",
       "      <td>...</td>\n",
       "      <td>0</td>\n",
       "      <td>0</td>\n",
       "      <td>0</td>\n",
       "      <td>0</td>\n",
       "      <td>0</td>\n",
       "      <td>0</td>\n",
       "      <td>0</td>\n",
       "      <td>0</td>\n",
       "      <td>0</td>\n",
       "      <td>3급</td>\n",
       "    </tr>\n",
       "    <tr>\n",
       "      <th>359852</th>\n",
       "      <td>2018년</td>\n",
       "      <td>지카바이러스감염증</td>\n",
       "      <td>272</td>\n",
       "      <td>0</td>\n",
       "      <td>0</td>\n",
       "      <td>0</td>\n",
       "      <td>0</td>\n",
       "      <td>0</td>\n",
       "      <td>0</td>\n",
       "      <td>0</td>\n",
       "      <td>...</td>\n",
       "      <td>0</td>\n",
       "      <td>0</td>\n",
       "      <td>0</td>\n",
       "      <td>0</td>\n",
       "      <td>0</td>\n",
       "      <td>0</td>\n",
       "      <td>0</td>\n",
       "      <td>0</td>\n",
       "      <td>0</td>\n",
       "      <td>3급</td>\n",
       "    </tr>\n",
       "    <tr>\n",
       "      <th>359853</th>\n",
       "      <td>2019년</td>\n",
       "      <td>지카바이러스감염증</td>\n",
       "      <td>272</td>\n",
       "      <td>0</td>\n",
       "      <td>0</td>\n",
       "      <td>0</td>\n",
       "      <td>0</td>\n",
       "      <td>0</td>\n",
       "      <td>0</td>\n",
       "      <td>0</td>\n",
       "      <td>...</td>\n",
       "      <td>0</td>\n",
       "      <td>0</td>\n",
       "      <td>0</td>\n",
       "      <td>0</td>\n",
       "      <td>0</td>\n",
       "      <td>0</td>\n",
       "      <td>0</td>\n",
       "      <td>0</td>\n",
       "      <td>0</td>\n",
       "      <td>3급</td>\n",
       "    </tr>\n",
       "    <tr>\n",
       "      <th>359854</th>\n",
       "      <td>2020년</td>\n",
       "      <td>지카바이러스감염증</td>\n",
       "      <td>272</td>\n",
       "      <td>0</td>\n",
       "      <td>0</td>\n",
       "      <td>0</td>\n",
       "      <td>0</td>\n",
       "      <td>0</td>\n",
       "      <td>0</td>\n",
       "      <td>0</td>\n",
       "      <td>...</td>\n",
       "      <td>0</td>\n",
       "      <td>0</td>\n",
       "      <td>0</td>\n",
       "      <td>0</td>\n",
       "      <td>0</td>\n",
       "      <td>0</td>\n",
       "      <td>0</td>\n",
       "      <td>0</td>\n",
       "      <td>0</td>\n",
       "      <td>3급</td>\n",
       "    </tr>\n",
       "    <tr>\n",
       "      <th>359855</th>\n",
       "      <td>2021년</td>\n",
       "      <td>지카바이러스감염증</td>\n",
       "      <td>272</td>\n",
       "      <td>0</td>\n",
       "      <td>0</td>\n",
       "      <td>0</td>\n",
       "      <td>0</td>\n",
       "      <td>0</td>\n",
       "      <td>0</td>\n",
       "      <td>0</td>\n",
       "      <td>...</td>\n",
       "      <td>0</td>\n",
       "      <td>0</td>\n",
       "      <td>0</td>\n",
       "      <td>0</td>\n",
       "      <td>0</td>\n",
       "      <td>0</td>\n",
       "      <td>0</td>\n",
       "      <td>0</td>\n",
       "      <td>0</td>\n",
       "      <td>3급</td>\n",
       "    </tr>\n",
       "  </tbody>\n",
       "</table>\n",
       "<p>5 rows × 32 columns</p>\n",
       "</div>"
      ],
      "text/plain": [
       "           연도          병   군구 0~4세_남 0~4세_여 5~9세_남 5~9세_여 10~14세_남 10~14세_여  \\\n",
       "359851  2017년  지카바이러스감염증  272      0      0      0      0        0        0   \n",
       "359852  2018년  지카바이러스감염증  272      0      0      0      0        0        0   \n",
       "359853  2019년  지카바이러스감염증  272      0      0      0      0        0        0   \n",
       "359854  2020년  지카바이러스감염증  272      0      0      0      0        0        0   \n",
       "359855  2021년  지카바이러스감염증  272      0      0      0      0        0        0   \n",
       "\n",
       "       15~19세_남  ... 45~49세_여 50~54세_남 50~54세_여 55~59세_남 55~59세_여 60~64세_남  \\\n",
       "359851        0  ...        0        0        0        0        0        0   \n",
       "359852        0  ...        0        0        0        0        0        0   \n",
       "359853        0  ...        0        0        0        0        0        0   \n",
       "359854        0  ...        0        0        0        0        0        0   \n",
       "359855        0  ...        0        0        0        0        0        0   \n",
       "\n",
       "       60~64세_여 65세 이상_남 65세 이상_여  급수  \n",
       "359851        0        0        0  3급  \n",
       "359852        0        0        0  3급  \n",
       "359853        0        0        0  3급  \n",
       "359854        0        0        0  3급  \n",
       "359855        0        0        0  3급  \n",
       "\n",
       "[5 rows x 32 columns]"
      ]
     },
     "execution_count": 74,
     "metadata": {},
     "output_type": "execute_result"
    }
   ],
   "source": [
    "# 성별.head()\n",
    "성별.tail()"
   ]
  },
  {
   "cell_type": "code",
   "execution_count": null,
   "id": "7ff68f15",
   "metadata": {},
   "outputs": [],
   "source": [
    "성별['군구'] = 성별.군구.map(군구id2군구dic)\n",
    "성별['시도'] = 성별.군구.map(군구2시도dic)"
   ]
  },
  {
   "cell_type": "code",
   "execution_count": 83,
   "id": "a277eec5",
   "metadata": {},
   "outputs": [],
   "source": [
    "성별 = 성별[['연도', '급수', '병', '시도', '군구', '0~4세_남', '0~4세_여', '5~9세_남', '5~9세_여', '10~14세_남',\n",
    "       '10~14세_여', '15~19세_남', '15~19세_여', '20~24세_남', '20~24세_여', '25~29세_남',\n",
    "       '25~29세_여', '30~34세_남', '30~34세_여', '35~39세_남', '35~39세_여', '40~44세_남',\n",
    "       '40~44세_여', '45~49세_남', '45~49세_여', '50~54세_남', '50~54세_여', '55~59세_남',\n",
    "       '55~59세_여', '60~64세_남', '60~64세_여', '65세 이상_남', '65세 이상_여']]"
   ]
  },
  {
   "cell_type": "code",
   "execution_count": 14,
   "id": "1ed4ca86",
   "metadata": {},
   "outputs": [
    {
     "name": "stderr",
     "output_type": "stream",
     "text": [
      "100%|██████████████████████████████████████████████████████████████████████████████████| 28/28 [00:12<00:00,  2.32it/s]\n"
     ]
    }
   ],
   "source": [
    "for i in tqdm(성별.columns[5:]):\n",
    "    성별[i] = list(map(lambda x : np.NaN if x == '-' else int(x), 성별[i]))"
   ]
  },
  {
   "cell_type": "code",
   "execution_count": 18,
   "id": "8d75fc81",
   "metadata": {
    "scrolled": true
   },
   "outputs": [
    {
     "data": {
      "text/plain": [
       "('0~4세_남', 86768)"
      ]
     },
     "execution_count": 18,
     "metadata": {},
     "output_type": "execute_result"
    },
    {
     "data": {
      "text/plain": [
       "('0~4세_여', 86768)"
      ]
     },
     "execution_count": 18,
     "metadata": {},
     "output_type": "execute_result"
    },
    {
     "data": {
      "text/plain": [
       "('5~9세_남', 86768)"
      ]
     },
     "execution_count": 18,
     "metadata": {},
     "output_type": "execute_result"
    },
    {
     "data": {
      "text/plain": [
       "('5~9세_여', 86768)"
      ]
     },
     "execution_count": 18,
     "metadata": {},
     "output_type": "execute_result"
    },
    {
     "data": {
      "text/plain": [
       "('10~14세_남', 86768)"
      ]
     },
     "execution_count": 18,
     "metadata": {},
     "output_type": "execute_result"
    },
    {
     "data": {
      "text/plain": [
       "('10~14세_여', 86768)"
      ]
     },
     "execution_count": 18,
     "metadata": {},
     "output_type": "execute_result"
    },
    {
     "data": {
      "text/plain": [
       "('15~19세_남', 86768)"
      ]
     },
     "execution_count": 18,
     "metadata": {},
     "output_type": "execute_result"
    },
    {
     "data": {
      "text/plain": [
       "('15~19세_여', 86768)"
      ]
     },
     "execution_count": 18,
     "metadata": {},
     "output_type": "execute_result"
    },
    {
     "data": {
      "text/plain": [
       "('20~24세_남', 86768)"
      ]
     },
     "execution_count": 18,
     "metadata": {},
     "output_type": "execute_result"
    },
    {
     "data": {
      "text/plain": [
       "('20~24세_여', 86768)"
      ]
     },
     "execution_count": 18,
     "metadata": {},
     "output_type": "execute_result"
    },
    {
     "data": {
      "text/plain": [
       "('25~29세_남', 86768)"
      ]
     },
     "execution_count": 18,
     "metadata": {},
     "output_type": "execute_result"
    },
    {
     "data": {
      "text/plain": [
       "('25~29세_여', 86768)"
      ]
     },
     "execution_count": 18,
     "metadata": {},
     "output_type": "execute_result"
    },
    {
     "data": {
      "text/plain": [
       "('30~34세_남', 86768)"
      ]
     },
     "execution_count": 18,
     "metadata": {},
     "output_type": "execute_result"
    },
    {
     "data": {
      "text/plain": [
       "('30~34세_여', 86768)"
      ]
     },
     "execution_count": 18,
     "metadata": {},
     "output_type": "execute_result"
    },
    {
     "data": {
      "text/plain": [
       "('35~39세_남', 86768)"
      ]
     },
     "execution_count": 18,
     "metadata": {},
     "output_type": "execute_result"
    },
    {
     "data": {
      "text/plain": [
       "('35~39세_여', 86768)"
      ]
     },
     "execution_count": 18,
     "metadata": {},
     "output_type": "execute_result"
    },
    {
     "data": {
      "text/plain": [
       "('40~44세_남', 86768)"
      ]
     },
     "execution_count": 18,
     "metadata": {},
     "output_type": "execute_result"
    },
    {
     "data": {
      "text/plain": [
       "('40~44세_여', 86768)"
      ]
     },
     "execution_count": 18,
     "metadata": {},
     "output_type": "execute_result"
    },
    {
     "data": {
      "text/plain": [
       "('45~49세_남', 86768)"
      ]
     },
     "execution_count": 18,
     "metadata": {},
     "output_type": "execute_result"
    },
    {
     "data": {
      "text/plain": [
       "('45~49세_여', 86768)"
      ]
     },
     "execution_count": 18,
     "metadata": {},
     "output_type": "execute_result"
    },
    {
     "data": {
      "text/plain": [
       "('50~54세_남', 86768)"
      ]
     },
     "execution_count": 18,
     "metadata": {},
     "output_type": "execute_result"
    },
    {
     "data": {
      "text/plain": [
       "('50~54세_여', 86768)"
      ]
     },
     "execution_count": 18,
     "metadata": {},
     "output_type": "execute_result"
    },
    {
     "data": {
      "text/plain": [
       "('55~59세_남', 86768)"
      ]
     },
     "execution_count": 18,
     "metadata": {},
     "output_type": "execute_result"
    },
    {
     "data": {
      "text/plain": [
       "('55~59세_여', 86768)"
      ]
     },
     "execution_count": 18,
     "metadata": {},
     "output_type": "execute_result"
    },
    {
     "data": {
      "text/plain": [
       "('60~64세_남', 86768)"
      ]
     },
     "execution_count": 18,
     "metadata": {},
     "output_type": "execute_result"
    },
    {
     "data": {
      "text/plain": [
       "('60~64세_여', 86768)"
      ]
     },
     "execution_count": 18,
     "metadata": {},
     "output_type": "execute_result"
    },
    {
     "data": {
      "text/plain": [
       "('65세 이상_남', 86768)"
      ]
     },
     "execution_count": 18,
     "metadata": {},
     "output_type": "execute_result"
    },
    {
     "data": {
      "text/plain": [
       "('65세 이상_여', 86768)"
      ]
     },
     "execution_count": 18,
     "metadata": {},
     "output_type": "execute_result"
    }
   ],
   "source": [
    "for i in 성별.columns[5:]:\n",
    "    i, 성별[i].isnull().sum().sum()"
   ]
  },
  {
   "cell_type": "code",
   "execution_count": null,
   "id": "20879158",
   "metadata": {},
   "outputs": [],
   "source": []
  },
  {
   "cell_type": "markdown",
   "id": "f2d5a4f4",
   "metadata": {},
   "source": [
    "# 저장"
   ]
  },
  {
   "cell_type": "code",
   "execution_count": 84,
   "id": "d771820c",
   "metadata": {},
   "outputs": [],
   "source": [
    "발생.to_csv('최종발생01012206.csv', index = False) # 발생에 NaN 정말 없는지 확인 필요함.\n",
    "사망.to_csv('최종사망0121.csv', index = False)\n",
    "성별.to_csv('최종성별0121.csv', index = False)"
   ]
  },
  {
   "cell_type": "code",
   "execution_count": null,
   "id": "86c11b76",
   "metadata": {},
   "outputs": [],
   "source": []
  },
  {
   "cell_type": "code",
   "execution_count": 2,
   "id": "3f1a9197",
   "metadata": {},
   "outputs": [
    {
     "name": "stderr",
     "output_type": "stream",
     "text": [
      "C:\\Users\\kelly\\anaconda3\\lib\\site-packages\\IPython\\core\\interactiveshell.py:3165: DtypeWarning: Columns (5,6,7,8,9,10,11,12,13,14,15,16,17,18,19,20,21,22,23,24,25,26,27,28,29,30,31,32) have mixed types.Specify dtype option on import or set low_memory=False.\n",
      "  has_raised = await self.run_ast_nodes(code_ast.body, cell_name,\n"
     ]
    }
   ],
   "source": [
    "발생 = pd.read_csv('최종발생01012206.csv')\n",
    "사망 = pd.read_csv('최종사망0121.csv')\n",
    "성별 = pd.read_csv('최종성별0121.csv')"
   ]
  },
  {
   "cell_type": "code",
   "execution_count": 87,
   "id": "57ca32b0",
   "metadata": {},
   "outputs": [
    {
     "data": {
      "text/plain": [
       "(4421088, 7)"
      ]
     },
     "execution_count": 87,
     "metadata": {},
     "output_type": "execute_result"
    },
    {
     "data": {
      "text/plain": [
       "(269892, 6)"
      ]
     },
     "execution_count": 87,
     "metadata": {},
     "output_type": "execute_result"
    },
    {
     "data": {
      "text/plain": [
       "(359856, 33)"
      ]
     },
     "execution_count": 87,
     "metadata": {},
     "output_type": "execute_result"
    }
   ],
   "source": [
    "발생.shape\n",
    "사망.shape\n",
    "성별.shape"
   ]
  },
  {
   "cell_type": "code",
   "execution_count": 21,
   "id": "a382b244",
   "metadata": {},
   "outputs": [
    {
     "data": {
      "text/plain": [
       "125052"
      ]
     },
     "execution_count": 21,
     "metadata": {},
     "output_type": "execute_result"
    }
   ],
   "source": [
    "사망.사망수.isnull().sum()"
   ]
  },
  {
   "cell_type": "code",
   "execution_count": 25,
   "id": "3d524779",
   "metadata": {},
   "outputs": [
    {
     "name": "stderr",
     "output_type": "stream",
     "text": [
      "C:\\Users\\kelly\\anaconda3\\lib\\site-packages\\IPython\\core\\interactiveshell.py:3165: DtypeWarning: Columns (2,3,4,5,6,7,8,9,10,11,12,13,14,15,16,17,18,19,20) have mixed types.Specify dtype option on import or set low_memory=False.\n",
      "  has_raised = await self.run_ast_nodes(code_ast.body, cell_name,\n"
     ]
    }
   ],
   "source": [
    "성성 = pd.read_csv('성별2001-2021.csv')"
   ]
  },
  {
   "cell_type": "code",
   "execution_count": 27,
   "id": "125db431",
   "metadata": {},
   "outputs": [
    {
     "data": {
      "text/html": [
       "<div>\n",
       "<style scoped>\n",
       "    .dataframe tbody tr th:only-of-type {\n",
       "        vertical-align: middle;\n",
       "    }\n",
       "\n",
       "    .dataframe tbody tr th {\n",
       "        vertical-align: top;\n",
       "    }\n",
       "\n",
       "    .dataframe thead th {\n",
       "        text-align: right;\n",
       "    }\n",
       "</style>\n",
       "<table border=\"1\" class=\"dataframe\">\n",
       "  <thead>\n",
       "    <tr style=\"text-align: right;\">\n",
       "      <th></th>\n",
       "      <th>연령단위</th>\n",
       "      <th>성별</th>\n",
       "      <th>2001년</th>\n",
       "      <th>2002년</th>\n",
       "      <th>2003년</th>\n",
       "      <th>2004년</th>\n",
       "      <th>2005년</th>\n",
       "      <th>2006년</th>\n",
       "      <th>2007년</th>\n",
       "      <th>2008년</th>\n",
       "      <th>...</th>\n",
       "      <th>2014년</th>\n",
       "      <th>2015년</th>\n",
       "      <th>2016년</th>\n",
       "      <th>2017년</th>\n",
       "      <th>2018년</th>\n",
       "      <th>2019년</th>\n",
       "      <th>2020년</th>\n",
       "      <th>2021년</th>\n",
       "      <th>병</th>\n",
       "      <th>군구</th>\n",
       "    </tr>\n",
       "  </thead>\n",
       "  <tbody>\n",
       "    <tr>\n",
       "      <th>0</th>\n",
       "      <td>0~4세</td>\n",
       "      <td>남</td>\n",
       "      <td>-</td>\n",
       "      <td>-</td>\n",
       "      <td>-</td>\n",
       "      <td>-</td>\n",
       "      <td>-</td>\n",
       "      <td>-</td>\n",
       "      <td>-</td>\n",
       "      <td>-</td>\n",
       "      <td>...</td>\n",
       "      <td>0</td>\n",
       "      <td>0</td>\n",
       "      <td>0</td>\n",
       "      <td>0</td>\n",
       "      <td>0</td>\n",
       "      <td>0</td>\n",
       "      <td>0</td>\n",
       "      <td>0</td>\n",
       "      <td>에볼라바이러스병</td>\n",
       "      <td>1</td>\n",
       "    </tr>\n",
       "    <tr>\n",
       "      <th>1</th>\n",
       "      <td>0~4세</td>\n",
       "      <td>여</td>\n",
       "      <td>-</td>\n",
       "      <td>-</td>\n",
       "      <td>-</td>\n",
       "      <td>-</td>\n",
       "      <td>-</td>\n",
       "      <td>-</td>\n",
       "      <td>-</td>\n",
       "      <td>-</td>\n",
       "      <td>...</td>\n",
       "      <td>0</td>\n",
       "      <td>0</td>\n",
       "      <td>0</td>\n",
       "      <td>0</td>\n",
       "      <td>0</td>\n",
       "      <td>0</td>\n",
       "      <td>0</td>\n",
       "      <td>0</td>\n",
       "      <td>에볼라바이러스병</td>\n",
       "      <td>1</td>\n",
       "    </tr>\n",
       "    <tr>\n",
       "      <th>2</th>\n",
       "      <td>5~9세</td>\n",
       "      <td>남</td>\n",
       "      <td>-</td>\n",
       "      <td>-</td>\n",
       "      <td>-</td>\n",
       "      <td>-</td>\n",
       "      <td>-</td>\n",
       "      <td>-</td>\n",
       "      <td>-</td>\n",
       "      <td>-</td>\n",
       "      <td>...</td>\n",
       "      <td>0</td>\n",
       "      <td>0</td>\n",
       "      <td>0</td>\n",
       "      <td>0</td>\n",
       "      <td>0</td>\n",
       "      <td>0</td>\n",
       "      <td>0</td>\n",
       "      <td>0</td>\n",
       "      <td>에볼라바이러스병</td>\n",
       "      <td>1</td>\n",
       "    </tr>\n",
       "    <tr>\n",
       "      <th>3</th>\n",
       "      <td>5~9세</td>\n",
       "      <td>여</td>\n",
       "      <td>-</td>\n",
       "      <td>-</td>\n",
       "      <td>-</td>\n",
       "      <td>-</td>\n",
       "      <td>-</td>\n",
       "      <td>-</td>\n",
       "      <td>-</td>\n",
       "      <td>-</td>\n",
       "      <td>...</td>\n",
       "      <td>0</td>\n",
       "      <td>0</td>\n",
       "      <td>0</td>\n",
       "      <td>0</td>\n",
       "      <td>0</td>\n",
       "      <td>0</td>\n",
       "      <td>0</td>\n",
       "      <td>0</td>\n",
       "      <td>에볼라바이러스병</td>\n",
       "      <td>1</td>\n",
       "    </tr>\n",
       "    <tr>\n",
       "      <th>4</th>\n",
       "      <td>10~14세</td>\n",
       "      <td>남</td>\n",
       "      <td>-</td>\n",
       "      <td>-</td>\n",
       "      <td>-</td>\n",
       "      <td>-</td>\n",
       "      <td>-</td>\n",
       "      <td>-</td>\n",
       "      <td>-</td>\n",
       "      <td>-</td>\n",
       "      <td>...</td>\n",
       "      <td>0</td>\n",
       "      <td>0</td>\n",
       "      <td>0</td>\n",
       "      <td>0</td>\n",
       "      <td>0</td>\n",
       "      <td>0</td>\n",
       "      <td>0</td>\n",
       "      <td>0</td>\n",
       "      <td>에볼라바이러스병</td>\n",
       "      <td>1</td>\n",
       "    </tr>\n",
       "  </tbody>\n",
       "</table>\n",
       "<p>5 rows × 25 columns</p>\n",
       "</div>"
      ],
      "text/plain": [
       "     연령단위 성별 2001년 2002년 2003년 2004년 2005년 2006년 2007년 2008년  ... 2014년 2015년  \\\n",
       "0    0~4세  남     -     -     -     -     -     -     -     -  ...     0     0   \n",
       "1    0~4세  여     -     -     -     -     -     -     -     -  ...     0     0   \n",
       "2    5~9세  남     -     -     -     -     -     -     -     -  ...     0     0   \n",
       "3    5~9세  여     -     -     -     -     -     -     -     -  ...     0     0   \n",
       "4  10~14세  남     -     -     -     -     -     -     -     -  ...     0     0   \n",
       "\n",
       "  2016년 2017년 2018년 2019년 2020년 2021년         병 군구  \n",
       "0     0     0     0     0     0     0  에볼라바이러스병  1  \n",
       "1     0     0     0     0     0     0  에볼라바이러스병  1  \n",
       "2     0     0     0     0     0     0  에볼라바이러스병  1  \n",
       "3     0     0     0     0     0     0  에볼라바이러스병  1  \n",
       "4     0     0     0     0     0     0  에볼라바이러스병  1  \n",
       "\n",
       "[5 rows x 25 columns]"
      ]
     },
     "execution_count": 27,
     "metadata": {},
     "output_type": "execute_result"
    }
   ],
   "source": [
    "성성.head()"
   ]
  },
  {
   "cell_type": "code",
   "execution_count": 39,
   "id": "e6273024",
   "metadata": {},
   "outputs": [],
   "source": [
    "성연도 = ['2001년', '2002년', '2003년', '2004년', '2005년', '2006년',\n",
    "         '2007년', '2008년', '2009년', '2010년', '2011년', '2012년', '2013년', '2014년',\n",
    "         '2015년', '2016년', '2017년', '2018년', '2019년', '2020년', '2021년']\n",
    "\n",
    "for i in 성연도:\n",
    "    성성[i] = list(map(lambda x : np.NaN if x == '-' else int(x), 성성[i]))"
   ]
  },
  {
   "cell_type": "code",
   "execution_count": 49,
   "id": "67fca708",
   "metadata": {},
   "outputs": [
    {
     "data": {
      "text/plain": [
       "연령단위          0\n",
       "성별            0\n",
       "2001년    243712\n",
       "2002년    228480\n",
       "2003년    228480\n",
       "2004년    228480\n",
       "2005년    220864\n",
       "2006년    190400\n",
       "2007년    190400\n",
       "2008년    190400\n",
       "2009년    190400\n",
       "2010년    190400\n",
       "2011년     68544\n",
       "2012년     68544\n",
       "2013년     53312\n",
       "2014년     45696\n",
       "2015년     38080\n",
       "2016년     30464\n",
       "2017년      7616\n",
       "2018년      7616\n",
       "2019년      7616\n",
       "2020년         0\n",
       "2021년         0\n",
       "병             0\n",
       "군구            0\n",
       "dtype: int64"
      ]
     },
     "execution_count": 49,
     "metadata": {},
     "output_type": "execute_result"
    }
   ],
   "source": [
    "# 성성.isnull().sum(axis = 1).sum()\n",
    "성성.isnull().sum(axis = 0)"
   ]
  },
  {
   "cell_type": "code",
   "execution_count": 59,
   "id": "f3fa7765",
   "metadata": {},
   "outputs": [],
   "source": [
    "gb = 성성.groupby(['연령단위']).count()"
   ]
  },
  {
   "cell_type": "code",
   "execution_count": null,
   "id": "845b582a",
   "metadata": {
    "scrolled": true
   },
   "outputs": [],
   "source": []
  },
  {
   "cell_type": "code",
   "execution_count": 70,
   "id": "1994bd26",
   "metadata": {},
   "outputs": [],
   "source": [
    "gb = gb[성연도]"
   ]
  },
  {
   "cell_type": "code",
   "execution_count": 72,
   "id": "19ffa8e6",
   "metadata": {},
   "outputs": [
    {
     "data": {
      "text/plain": [
       "719712"
      ]
     },
     "execution_count": 72,
     "metadata": {},
     "output_type": "execute_result"
    },
    {
     "data": {
      "text/plain": [
       "연령단위\n",
       "0~4세      546176\n",
       "10~14세    546176\n",
       "15~19세    546176\n",
       "20~24세    546176\n",
       "25~29세    546176\n",
       "30~34세    546176\n",
       "35~39세    546176\n",
       "40~44세    546176\n",
       "45~49세    546176\n",
       "50~54세    546176\n",
       "55~59세    546176\n",
       "5~9세      546176\n",
       "60~64세    546176\n",
       "65세 이상    546176\n",
       "dtype: int64"
      ]
     },
     "execution_count": 72,
     "metadata": {},
     "output_type": "execute_result"
    }
   ],
   "source": [
    "34272 * 21\n",
    "gb.sum(axis=1)"
   ]
  },
  {
   "cell_type": "code",
   "execution_count": 71,
   "id": "4afb814c",
   "metadata": {},
   "outputs": [
    {
     "data": {
      "text/plain": [
       "연령단위\n",
       "0~4세      173536\n",
       "10~14세    173536\n",
       "15~19세    173536\n",
       "20~24세    173536\n",
       "25~29세    173536\n",
       "30~34세    173536\n",
       "35~39세    173536\n",
       "40~44세    173536\n",
       "45~49세    173536\n",
       "50~54세    173536\n",
       "55~59세    173536\n",
       "5~9세      173536\n",
       "60~64세    173536\n",
       "65세 이상    173536\n",
       "dtype: int64"
      ]
     },
     "execution_count": 71,
     "metadata": {},
     "output_type": "execute_result"
    }
   ],
   "source": [
    "34272 * 21 - (gb.sum(axis=1))"
   ]
  },
  {
   "cell_type": "code",
   "execution_count": null,
   "id": "ce8cca98",
   "metadata": {},
   "outputs": [],
   "source": []
  },
  {
   "cell_type": "code",
   "execution_count": 44,
   "id": "f2bbfff1",
   "metadata": {},
   "outputs": [
    {
     "data": {
      "text/plain": [
       "(479808, 25)"
      ]
     },
     "execution_count": 44,
     "metadata": {},
     "output_type": "execute_result"
    }
   ],
   "source": [
    "성성.shape"
   ]
  },
  {
   "cell_type": "code",
   "execution_count": 46,
   "id": "92273bde",
   "metadata": {},
   "outputs": [
    {
     "data": {
      "text/plain": [
       "2429504"
      ]
     },
     "execution_count": 46,
     "metadata": {},
     "output_type": "execute_result"
    }
   ],
   "source": [
    "86768 * len(성별.columns[5:])"
   ]
  },
  {
   "cell_type": "markdown",
   "id": "8f4e4bd2",
   "metadata": {},
   "source": [
    "# 성별의 결측에서의 특이점\n",
    "- 모든 성별 연령에서 결측 수가 동일함."
   ]
  },
  {
   "cell_type": "code",
   "execution_count": 20,
   "id": "0fbb6971",
   "metadata": {
    "scrolled": false
   },
   "outputs": [
    {
     "data": {
      "text/plain": [
       "('0~4세_남', 86768)"
      ]
     },
     "execution_count": 20,
     "metadata": {},
     "output_type": "execute_result"
    },
    {
     "data": {
      "text/plain": [
       "('0~4세_여', 86768)"
      ]
     },
     "execution_count": 20,
     "metadata": {},
     "output_type": "execute_result"
    },
    {
     "data": {
      "text/plain": [
       "('5~9세_남', 86768)"
      ]
     },
     "execution_count": 20,
     "metadata": {},
     "output_type": "execute_result"
    },
    {
     "data": {
      "text/plain": [
       "('5~9세_여', 86768)"
      ]
     },
     "execution_count": 20,
     "metadata": {},
     "output_type": "execute_result"
    },
    {
     "data": {
      "text/plain": [
       "('10~14세_남', 86768)"
      ]
     },
     "execution_count": 20,
     "metadata": {},
     "output_type": "execute_result"
    },
    {
     "data": {
      "text/plain": [
       "('10~14세_여', 86768)"
      ]
     },
     "execution_count": 20,
     "metadata": {},
     "output_type": "execute_result"
    },
    {
     "data": {
      "text/plain": [
       "('15~19세_남', 86768)"
      ]
     },
     "execution_count": 20,
     "metadata": {},
     "output_type": "execute_result"
    },
    {
     "data": {
      "text/plain": [
       "('15~19세_여', 86768)"
      ]
     },
     "execution_count": 20,
     "metadata": {},
     "output_type": "execute_result"
    },
    {
     "data": {
      "text/plain": [
       "('20~24세_남', 86768)"
      ]
     },
     "execution_count": 20,
     "metadata": {},
     "output_type": "execute_result"
    },
    {
     "data": {
      "text/plain": [
       "('20~24세_여', 86768)"
      ]
     },
     "execution_count": 20,
     "metadata": {},
     "output_type": "execute_result"
    },
    {
     "data": {
      "text/plain": [
       "('25~29세_남', 86768)"
      ]
     },
     "execution_count": 20,
     "metadata": {},
     "output_type": "execute_result"
    },
    {
     "data": {
      "text/plain": [
       "('25~29세_여', 86768)"
      ]
     },
     "execution_count": 20,
     "metadata": {},
     "output_type": "execute_result"
    },
    {
     "data": {
      "text/plain": [
       "('30~34세_남', 86768)"
      ]
     },
     "execution_count": 20,
     "metadata": {},
     "output_type": "execute_result"
    },
    {
     "data": {
      "text/plain": [
       "('30~34세_여', 86768)"
      ]
     },
     "execution_count": 20,
     "metadata": {},
     "output_type": "execute_result"
    },
    {
     "data": {
      "text/plain": [
       "('35~39세_남', 86768)"
      ]
     },
     "execution_count": 20,
     "metadata": {},
     "output_type": "execute_result"
    },
    {
     "data": {
      "text/plain": [
       "('35~39세_여', 86768)"
      ]
     },
     "execution_count": 20,
     "metadata": {},
     "output_type": "execute_result"
    },
    {
     "data": {
      "text/plain": [
       "('40~44세_남', 86768)"
      ]
     },
     "execution_count": 20,
     "metadata": {},
     "output_type": "execute_result"
    },
    {
     "data": {
      "text/plain": [
       "('40~44세_여', 86768)"
      ]
     },
     "execution_count": 20,
     "metadata": {},
     "output_type": "execute_result"
    },
    {
     "data": {
      "text/plain": [
       "('45~49세_남', 86768)"
      ]
     },
     "execution_count": 20,
     "metadata": {},
     "output_type": "execute_result"
    },
    {
     "data": {
      "text/plain": [
       "('45~49세_여', 86768)"
      ]
     },
     "execution_count": 20,
     "metadata": {},
     "output_type": "execute_result"
    },
    {
     "data": {
      "text/plain": [
       "('50~54세_남', 86768)"
      ]
     },
     "execution_count": 20,
     "metadata": {},
     "output_type": "execute_result"
    },
    {
     "data": {
      "text/plain": [
       "('50~54세_여', 86768)"
      ]
     },
     "execution_count": 20,
     "metadata": {},
     "output_type": "execute_result"
    },
    {
     "data": {
      "text/plain": [
       "('55~59세_남', 86768)"
      ]
     },
     "execution_count": 20,
     "metadata": {},
     "output_type": "execute_result"
    },
    {
     "data": {
      "text/plain": [
       "('55~59세_여', 86768)"
      ]
     },
     "execution_count": 20,
     "metadata": {},
     "output_type": "execute_result"
    },
    {
     "data": {
      "text/plain": [
       "('60~64세_남', 86768)"
      ]
     },
     "execution_count": 20,
     "metadata": {},
     "output_type": "execute_result"
    },
    {
     "data": {
      "text/plain": [
       "('60~64세_여', 86768)"
      ]
     },
     "execution_count": 20,
     "metadata": {},
     "output_type": "execute_result"
    },
    {
     "data": {
      "text/plain": [
       "('65세 이상_남', 86768)"
      ]
     },
     "execution_count": 20,
     "metadata": {},
     "output_type": "execute_result"
    },
    {
     "data": {
      "text/plain": [
       "('65세 이상_여', 86768)"
      ]
     },
     "execution_count": 20,
     "metadata": {},
     "output_type": "execute_result"
    }
   ],
   "source": [
    "for i in 성별.columns[5:]:\n",
    "    i, 성별[i].isnull().sum()"
   ]
  },
  {
   "cell_type": "code",
   "execution_count": 22,
   "id": "f4e05f65",
   "metadata": {},
   "outputs": [
    {
     "data": {
      "text/plain": [
       "Index(['연도', '급수', '병', '시도', '군구', '0~4세_남', '0~4세_여', '5~9세_남', '5~9세_여',\n",
       "       '10~14세_남', '10~14세_여', '15~19세_남', '15~19세_여', '20~24세_남', '20~24세_여',\n",
       "       '25~29세_남', '25~29세_여', '30~34세_남', '30~34세_여', '35~39세_남', '35~39세_여',\n",
       "       '40~44세_남', '40~44세_여', '45~49세_남', '45~49세_여', '50~54세_남', '50~54세_여',\n",
       "       '55~59세_남', '55~59세_여', '60~64세_남', '60~64세_여', '65세 이상_남', '65세 이상_여'],\n",
       "      dtype='object')"
      ]
     },
     "execution_count": 22,
     "metadata": {},
     "output_type": "execute_result"
    }
   ],
   "source": [
    "성별.columns"
   ]
  },
  {
   "cell_type": "code",
   "execution_count": 24,
   "id": "01df1815",
   "metadata": {},
   "outputs": [
    {
     "data": {
      "text/html": [
       "<div>\n",
       "<style scoped>\n",
       "    .dataframe tbody tr th:only-of-type {\n",
       "        vertical-align: middle;\n",
       "    }\n",
       "\n",
       "    .dataframe tbody tr th {\n",
       "        vertical-align: top;\n",
       "    }\n",
       "\n",
       "    .dataframe thead th {\n",
       "        text-align: right;\n",
       "    }\n",
       "</style>\n",
       "<table border=\"1\" class=\"dataframe\">\n",
       "  <thead>\n",
       "    <tr style=\"text-align: right;\">\n",
       "      <th></th>\n",
       "      <th>연도</th>\n",
       "      <th>급수</th>\n",
       "      <th>병</th>\n",
       "      <th>시도</th>\n",
       "      <th>군구</th>\n",
       "      <th>0~4세_남</th>\n",
       "      <th>0~4세_여</th>\n",
       "      <th>5~9세_남</th>\n",
       "      <th>5~9세_여</th>\n",
       "      <th>10~14세_남</th>\n",
       "      <th>...</th>\n",
       "      <th>45~49세_남</th>\n",
       "      <th>45~49세_여</th>\n",
       "      <th>50~54세_남</th>\n",
       "      <th>50~54세_여</th>\n",
       "      <th>55~59세_남</th>\n",
       "      <th>55~59세_여</th>\n",
       "      <th>60~64세_남</th>\n",
       "      <th>60~64세_여</th>\n",
       "      <th>65세 이상_남</th>\n",
       "      <th>65세 이상_여</th>\n",
       "    </tr>\n",
       "  </thead>\n",
       "  <tbody>\n",
       "    <tr>\n",
       "      <th>0</th>\n",
       "      <td>2001년</td>\n",
       "      <td>1급</td>\n",
       "      <td>에볼라바이러스병</td>\n",
       "      <td>서울</td>\n",
       "      <td>강남구</td>\n",
       "      <td>NaN</td>\n",
       "      <td>NaN</td>\n",
       "      <td>NaN</td>\n",
       "      <td>NaN</td>\n",
       "      <td>NaN</td>\n",
       "      <td>...</td>\n",
       "      <td>NaN</td>\n",
       "      <td>NaN</td>\n",
       "      <td>NaN</td>\n",
       "      <td>NaN</td>\n",
       "      <td>NaN</td>\n",
       "      <td>NaN</td>\n",
       "      <td>NaN</td>\n",
       "      <td>NaN</td>\n",
       "      <td>NaN</td>\n",
       "      <td>NaN</td>\n",
       "    </tr>\n",
       "    <tr>\n",
       "      <th>1</th>\n",
       "      <td>2002년</td>\n",
       "      <td>1급</td>\n",
       "      <td>에볼라바이러스병</td>\n",
       "      <td>서울</td>\n",
       "      <td>강남구</td>\n",
       "      <td>NaN</td>\n",
       "      <td>NaN</td>\n",
       "      <td>NaN</td>\n",
       "      <td>NaN</td>\n",
       "      <td>NaN</td>\n",
       "      <td>...</td>\n",
       "      <td>NaN</td>\n",
       "      <td>NaN</td>\n",
       "      <td>NaN</td>\n",
       "      <td>NaN</td>\n",
       "      <td>NaN</td>\n",
       "      <td>NaN</td>\n",
       "      <td>NaN</td>\n",
       "      <td>NaN</td>\n",
       "      <td>NaN</td>\n",
       "      <td>NaN</td>\n",
       "    </tr>\n",
       "    <tr>\n",
       "      <th>2</th>\n",
       "      <td>2003년</td>\n",
       "      <td>1급</td>\n",
       "      <td>에볼라바이러스병</td>\n",
       "      <td>서울</td>\n",
       "      <td>강남구</td>\n",
       "      <td>NaN</td>\n",
       "      <td>NaN</td>\n",
       "      <td>NaN</td>\n",
       "      <td>NaN</td>\n",
       "      <td>NaN</td>\n",
       "      <td>...</td>\n",
       "      <td>NaN</td>\n",
       "      <td>NaN</td>\n",
       "      <td>NaN</td>\n",
       "      <td>NaN</td>\n",
       "      <td>NaN</td>\n",
       "      <td>NaN</td>\n",
       "      <td>NaN</td>\n",
       "      <td>NaN</td>\n",
       "      <td>NaN</td>\n",
       "      <td>NaN</td>\n",
       "    </tr>\n",
       "    <tr>\n",
       "      <th>3</th>\n",
       "      <td>2004년</td>\n",
       "      <td>1급</td>\n",
       "      <td>에볼라바이러스병</td>\n",
       "      <td>서울</td>\n",
       "      <td>강남구</td>\n",
       "      <td>NaN</td>\n",
       "      <td>NaN</td>\n",
       "      <td>NaN</td>\n",
       "      <td>NaN</td>\n",
       "      <td>NaN</td>\n",
       "      <td>...</td>\n",
       "      <td>NaN</td>\n",
       "      <td>NaN</td>\n",
       "      <td>NaN</td>\n",
       "      <td>NaN</td>\n",
       "      <td>NaN</td>\n",
       "      <td>NaN</td>\n",
       "      <td>NaN</td>\n",
       "      <td>NaN</td>\n",
       "      <td>NaN</td>\n",
       "      <td>NaN</td>\n",
       "    </tr>\n",
       "    <tr>\n",
       "      <th>4</th>\n",
       "      <td>2005년</td>\n",
       "      <td>1급</td>\n",
       "      <td>에볼라바이러스병</td>\n",
       "      <td>서울</td>\n",
       "      <td>강남구</td>\n",
       "      <td>NaN</td>\n",
       "      <td>NaN</td>\n",
       "      <td>NaN</td>\n",
       "      <td>NaN</td>\n",
       "      <td>NaN</td>\n",
       "      <td>...</td>\n",
       "      <td>NaN</td>\n",
       "      <td>NaN</td>\n",
       "      <td>NaN</td>\n",
       "      <td>NaN</td>\n",
       "      <td>NaN</td>\n",
       "      <td>NaN</td>\n",
       "      <td>NaN</td>\n",
       "      <td>NaN</td>\n",
       "      <td>NaN</td>\n",
       "      <td>NaN</td>\n",
       "    </tr>\n",
       "    <tr>\n",
       "      <th>...</th>\n",
       "      <td>...</td>\n",
       "      <td>...</td>\n",
       "      <td>...</td>\n",
       "      <td>...</td>\n",
       "      <td>...</td>\n",
       "      <td>...</td>\n",
       "      <td>...</td>\n",
       "      <td>...</td>\n",
       "      <td>...</td>\n",
       "      <td>...</td>\n",
       "      <td>...</td>\n",
       "      <td>...</td>\n",
       "      <td>...</td>\n",
       "      <td>...</td>\n",
       "      <td>...</td>\n",
       "      <td>...</td>\n",
       "      <td>...</td>\n",
       "      <td>...</td>\n",
       "      <td>...</td>\n",
       "      <td>...</td>\n",
       "      <td>...</td>\n",
       "    </tr>\n",
       "    <tr>\n",
       "      <th>359845</th>\n",
       "      <td>2011년</td>\n",
       "      <td>3급</td>\n",
       "      <td>지카바이러스감염증</td>\n",
       "      <td>세종</td>\n",
       "      <td>세종시</td>\n",
       "      <td>NaN</td>\n",
       "      <td>NaN</td>\n",
       "      <td>NaN</td>\n",
       "      <td>NaN</td>\n",
       "      <td>NaN</td>\n",
       "      <td>...</td>\n",
       "      <td>NaN</td>\n",
       "      <td>NaN</td>\n",
       "      <td>NaN</td>\n",
       "      <td>NaN</td>\n",
       "      <td>NaN</td>\n",
       "      <td>NaN</td>\n",
       "      <td>NaN</td>\n",
       "      <td>NaN</td>\n",
       "      <td>NaN</td>\n",
       "      <td>NaN</td>\n",
       "    </tr>\n",
       "    <tr>\n",
       "      <th>359846</th>\n",
       "      <td>2012년</td>\n",
       "      <td>3급</td>\n",
       "      <td>지카바이러스감염증</td>\n",
       "      <td>세종</td>\n",
       "      <td>세종시</td>\n",
       "      <td>NaN</td>\n",
       "      <td>NaN</td>\n",
       "      <td>NaN</td>\n",
       "      <td>NaN</td>\n",
       "      <td>NaN</td>\n",
       "      <td>...</td>\n",
       "      <td>NaN</td>\n",
       "      <td>NaN</td>\n",
       "      <td>NaN</td>\n",
       "      <td>NaN</td>\n",
       "      <td>NaN</td>\n",
       "      <td>NaN</td>\n",
       "      <td>NaN</td>\n",
       "      <td>NaN</td>\n",
       "      <td>NaN</td>\n",
       "      <td>NaN</td>\n",
       "    </tr>\n",
       "    <tr>\n",
       "      <th>359847</th>\n",
       "      <td>2013년</td>\n",
       "      <td>3급</td>\n",
       "      <td>지카바이러스감염증</td>\n",
       "      <td>세종</td>\n",
       "      <td>세종시</td>\n",
       "      <td>NaN</td>\n",
       "      <td>NaN</td>\n",
       "      <td>NaN</td>\n",
       "      <td>NaN</td>\n",
       "      <td>NaN</td>\n",
       "      <td>...</td>\n",
       "      <td>NaN</td>\n",
       "      <td>NaN</td>\n",
       "      <td>NaN</td>\n",
       "      <td>NaN</td>\n",
       "      <td>NaN</td>\n",
       "      <td>NaN</td>\n",
       "      <td>NaN</td>\n",
       "      <td>NaN</td>\n",
       "      <td>NaN</td>\n",
       "      <td>NaN</td>\n",
       "    </tr>\n",
       "    <tr>\n",
       "      <th>359848</th>\n",
       "      <td>2014년</td>\n",
       "      <td>3급</td>\n",
       "      <td>지카바이러스감염증</td>\n",
       "      <td>세종</td>\n",
       "      <td>세종시</td>\n",
       "      <td>NaN</td>\n",
       "      <td>NaN</td>\n",
       "      <td>NaN</td>\n",
       "      <td>NaN</td>\n",
       "      <td>NaN</td>\n",
       "      <td>...</td>\n",
       "      <td>NaN</td>\n",
       "      <td>NaN</td>\n",
       "      <td>NaN</td>\n",
       "      <td>NaN</td>\n",
       "      <td>NaN</td>\n",
       "      <td>NaN</td>\n",
       "      <td>NaN</td>\n",
       "      <td>NaN</td>\n",
       "      <td>NaN</td>\n",
       "      <td>NaN</td>\n",
       "    </tr>\n",
       "    <tr>\n",
       "      <th>359849</th>\n",
       "      <td>2015년</td>\n",
       "      <td>3급</td>\n",
       "      <td>지카바이러스감염증</td>\n",
       "      <td>세종</td>\n",
       "      <td>세종시</td>\n",
       "      <td>NaN</td>\n",
       "      <td>NaN</td>\n",
       "      <td>NaN</td>\n",
       "      <td>NaN</td>\n",
       "      <td>NaN</td>\n",
       "      <td>...</td>\n",
       "      <td>NaN</td>\n",
       "      <td>NaN</td>\n",
       "      <td>NaN</td>\n",
       "      <td>NaN</td>\n",
       "      <td>NaN</td>\n",
       "      <td>NaN</td>\n",
       "      <td>NaN</td>\n",
       "      <td>NaN</td>\n",
       "      <td>NaN</td>\n",
       "      <td>NaN</td>\n",
       "    </tr>\n",
       "  </tbody>\n",
       "</table>\n",
       "<p>86768 rows × 33 columns</p>\n",
       "</div>"
      ],
      "text/plain": [
       "           연도  급수          병  시도   군구  0~4세_남  0~4세_여  5~9세_남  5~9세_여  \\\n",
       "0       2001년  1급   에볼라바이러스병  서울  강남구     NaN     NaN     NaN     NaN   \n",
       "1       2002년  1급   에볼라바이러스병  서울  강남구     NaN     NaN     NaN     NaN   \n",
       "2       2003년  1급   에볼라바이러스병  서울  강남구     NaN     NaN     NaN     NaN   \n",
       "3       2004년  1급   에볼라바이러스병  서울  강남구     NaN     NaN     NaN     NaN   \n",
       "4       2005년  1급   에볼라바이러스병  서울  강남구     NaN     NaN     NaN     NaN   \n",
       "...       ...  ..        ...  ..  ...     ...     ...     ...     ...   \n",
       "359845  2011년  3급  지카바이러스감염증  세종  세종시     NaN     NaN     NaN     NaN   \n",
       "359846  2012년  3급  지카바이러스감염증  세종  세종시     NaN     NaN     NaN     NaN   \n",
       "359847  2013년  3급  지카바이러스감염증  세종  세종시     NaN     NaN     NaN     NaN   \n",
       "359848  2014년  3급  지카바이러스감염증  세종  세종시     NaN     NaN     NaN     NaN   \n",
       "359849  2015년  3급  지카바이러스감염증  세종  세종시     NaN     NaN     NaN     NaN   \n",
       "\n",
       "        10~14세_남  ...  45~49세_남  45~49세_여  50~54세_남  50~54세_여  55~59세_남  \\\n",
       "0            NaN  ...       NaN       NaN       NaN       NaN       NaN   \n",
       "1            NaN  ...       NaN       NaN       NaN       NaN       NaN   \n",
       "2            NaN  ...       NaN       NaN       NaN       NaN       NaN   \n",
       "3            NaN  ...       NaN       NaN       NaN       NaN       NaN   \n",
       "4            NaN  ...       NaN       NaN       NaN       NaN       NaN   \n",
       "...          ...  ...       ...       ...       ...       ...       ...   \n",
       "359845       NaN  ...       NaN       NaN       NaN       NaN       NaN   \n",
       "359846       NaN  ...       NaN       NaN       NaN       NaN       NaN   \n",
       "359847       NaN  ...       NaN       NaN       NaN       NaN       NaN   \n",
       "359848       NaN  ...       NaN       NaN       NaN       NaN       NaN   \n",
       "359849       NaN  ...       NaN       NaN       NaN       NaN       NaN   \n",
       "\n",
       "        55~59세_여  60~64세_남  60~64세_여  65세 이상_남  65세 이상_여  \n",
       "0            NaN       NaN       NaN       NaN       NaN  \n",
       "1            NaN       NaN       NaN       NaN       NaN  \n",
       "2            NaN       NaN       NaN       NaN       NaN  \n",
       "3            NaN       NaN       NaN       NaN       NaN  \n",
       "4            NaN       NaN       NaN       NaN       NaN  \n",
       "...          ...       ...       ...       ...       ...  \n",
       "359845       NaN       NaN       NaN       NaN       NaN  \n",
       "359846       NaN       NaN       NaN       NaN       NaN  \n",
       "359847       NaN       NaN       NaN       NaN       NaN  \n",
       "359848       NaN       NaN       NaN       NaN       NaN  \n",
       "359849       NaN       NaN       NaN       NaN       NaN  \n",
       "\n",
       "[86768 rows x 33 columns]"
      ]
     },
     "execution_count": 24,
     "metadata": {},
     "output_type": "execute_result"
    }
   ],
   "source": [
    "성별[성별['0~4세_남'].isnull()]"
   ]
  },
  {
   "cell_type": "code",
   "execution_count": null,
   "id": "bb02b1ef",
   "metadata": {},
   "outputs": [],
   "source": []
  }
 ],
 "metadata": {
  "kernelspec": {
   "display_name": "Python 3",
   "language": "python",
   "name": "python3"
  },
  "language_info": {
   "codemirror_mode": {
    "name": "ipython",
    "version": 3
   },
   "file_extension": ".py",
   "mimetype": "text/x-python",
   "name": "python",
   "nbconvert_exporter": "python",
   "pygments_lexer": "ipython3",
   "version": "3.8.8"
  },
  "toc": {
   "base_numbering": 1,
   "nav_menu": {},
   "number_sections": true,
   "sideBar": true,
   "skip_h1_title": false,
   "title_cell": "Table of Contents",
   "title_sidebar": "Contents",
   "toc_cell": false,
   "toc_position": {},
   "toc_section_display": true,
   "toc_window_display": false
  }
 },
 "nbformat": 4,
 "nbformat_minor": 5
}
